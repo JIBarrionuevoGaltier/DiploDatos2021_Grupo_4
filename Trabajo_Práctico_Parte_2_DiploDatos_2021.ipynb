{
  "nbformat": 4,
  "nbformat_minor": 0,
  "metadata": {
    "colab": {
      "name": "Trabajo Práctico - Parte 2 - DiploDatos 2021.ipynb",
      "provenance": [],
      "collapsed_sections": [],
      "toc_visible": true,
      "include_colab_link": true
    },
    "kernelspec": {
      "display_name": "Python 3",
      "language": "python",
      "name": "python3"
    },
    "language_info": {
      "codemirror_mode": {
        "name": "ipython",
        "version": 3
      },
      "file_extension": ".py",
      "mimetype": "text/x-python",
      "name": "python",
      "nbconvert_exporter": "python",
      "pygments_lexer": "ipython3",
      "version": "3.8.5"
    }
  },
  "cells": [
    {
      "cell_type": "markdown",
      "metadata": {
        "id": "view-in-github",
        "colab_type": "text"
      },
      "source": [
        "<a href=\"https://colab.research.google.com/github/JIBarrionuevoGaltier/DiploDatos2021_Grupo_4/blob/main/Trabajo_Pr%C3%A1ctico_Parte_2_DiploDatos_2021.ipynb\" target=\"_parent\"><img src=\"https://colab.research.google.com/assets/colab-badge.svg\" alt=\"Open In Colab\"/></a>"
      ]
    },
    {
      "cell_type": "markdown",
      "metadata": {
        "id": "LYvAOR2VzHmW"
      },
      "source": [
        "# TRABAJO PRÁCTICO ENTREGABLE - PARTE II\n",
        "\n",
        "# INTEGRANTES DEL GRUPO IV:\n",
        "*   María Belén Acotto\n",
        "*   Elías Ferreyra\n",
        "*   Juan Ignacio Barrionuevo Galtier\n",
        "*   Oscar Alejandro Oviedo\n",
        "*   Gonzalo Heredia Edelstein\n",
        "\n",
        "---\n",
        "\n",
        "# **Diplomatura en Ciencia de Datos, Aprendizaje Automático y sus Aplicaciones**\n",
        "## **Edición 2021**\n",
        "\n",
        "---\n",
        "\n",
        "# Trabajo práctico entregable - Parte 2"
      ]
    },
    {
      "cell_type": "code",
      "metadata": {
        "id": "Xwdfo7z20TUK",
        "colab": {
          "base_uri": "https://localhost:8080/"
        },
        "outputId": "65ced655-1136-48b6-9e6f-36372aa0328a"
      },
      "source": [
        "import io\n",
        "import matplotlib\n",
        "import matplotlib.pyplot as plt\n",
        "import numpy as np\n",
        "import pandas as pd\n",
        "import seaborn as sns\n",
        "import scipy.stats as st\n",
        "from statsmodels.stats.power import tt_ind_solve_power\n",
        "\n",
        "sns.set_context('talk')"
      ],
      "execution_count": 2,
      "outputs": [
        {
          "output_type": "stream",
          "text": [
            "/usr/local/lib/python3.7/dist-packages/statsmodels/tools/_testing.py:19: FutureWarning: pandas.util.testing is deprecated. Use the functions in the public API at pandas.testing instead.\n",
            "  import pandas.util.testing as tm\n"
          ],
          "name": "stderr"
        }
      ]
    },
    {
      "cell_type": "markdown",
      "metadata": {
        "id": "XY2Hl-Ma07Nn"
      },
      "source": [
        "## Lectura del dataset\n",
        "\n",
        "En la notebook 00 se explican los detalles de la siguiente sección."
      ]
    },
    {
      "cell_type": "code",
      "metadata": {
        "id": "Vviv_sqXdR5W"
      },
      "source": [
        "url = 'https://cs.famaf.unc.edu.ar/~mteruel/datasets/diplodatos/sysarmy_survey_2020_processed.csv'\n",
        "df = pd.read_csv(url)"
      ],
      "execution_count": 3,
      "outputs": []
    },
    {
      "cell_type": "code",
      "metadata": {
        "colab": {
          "base_uri": "https://localhost:8080/",
          "height": 298
        },
        "id": "gckNHXXLktJ4",
        "outputId": "b37ccb89-9ac7-42d2-e75a-2fb208dba8d9"
      },
      "source": [
        "df[:3]"
      ],
      "execution_count": 4,
      "outputs": [
        {
          "output_type": "execute_result",
          "data": {
            "text/html": [
              "<div>\n",
              "<style scoped>\n",
              "    .dataframe tbody tr th:only-of-type {\n",
              "        vertical-align: middle;\n",
              "    }\n",
              "\n",
              "    .dataframe tbody tr th {\n",
              "        vertical-align: top;\n",
              "    }\n",
              "\n",
              "    .dataframe thead th {\n",
              "        text-align: right;\n",
              "    }\n",
              "</style>\n",
              "<table border=\"1\" class=\"dataframe\">\n",
              "  <thead>\n",
              "    <tr style=\"text-align: right;\">\n",
              "      <th></th>\n",
              "      <th>profile_gender</th>\n",
              "      <th>profile_age</th>\n",
              "      <th>work_country</th>\n",
              "      <th>work_province</th>\n",
              "      <th>profile_years_experience</th>\n",
              "      <th>work_years_in_company</th>\n",
              "      <th>work_years_in_current_position</th>\n",
              "      <th>work_people_in_charge_of</th>\n",
              "      <th>profile_studies_level</th>\n",
              "      <th>profile_studies_level_state</th>\n",
              "      <th>profile_career</th>\n",
              "      <th>profile_university</th>\n",
              "      <th>profile_specialization_courses</th>\n",
              "      <th>profile_open_source_contributions</th>\n",
              "      <th>profile_programming_as_hobby</th>\n",
              "      <th>work_role</th>\n",
              "      <th>tools_platform</th>\n",
              "      <th>tools_programming_languages</th>\n",
              "      <th>tools_frameworks</th>\n",
              "      <th>tools_data_bases</th>\n",
              "      <th>tools_qa_testing</th>\n",
              "      <th>tools_IDEs</th>\n",
              "      <th>tools_work_pc_os</th>\n",
              "      <th>tools_cellphone_os</th>\n",
              "      <th>work_on_call_duty</th>\n",
              "      <th>salary_on_call_duty_charge</th>\n",
              "      <th>work_on_call_duty_charge_type</th>\n",
              "      <th>work_contract_type</th>\n",
              "      <th>salary_monthly_BRUTO</th>\n",
              "      <th>salary_monthly_NETO</th>\n",
              "      <th>salary_in_usd</th>\n",
              "      <th>salary_satisfaction</th>\n",
              "      <th>salary_comparison_last_semester</th>\n",
              "      <th>salary_has_bonus</th>\n",
              "      <th>salary_bonus_tied_to</th>\n",
              "      <th>salary_inflation_adjustment_2020</th>\n",
              "      <th>salary_percentage_inflation_adjustment_2020</th>\n",
              "      <th>salary_month_last_inflation_adjustment</th>\n",
              "      <th>work_has_violence_situations</th>\n",
              "      <th>profile_sexual_orientation</th>\n",
              "      <th>profile_has_disabilities</th>\n",
              "      <th>profile_has_disabilities_hiring_difficulties</th>\n",
              "      <th>company_employee_number</th>\n",
              "      <th>company_main_activity</th>\n",
              "      <th>company_recommended</th>\n",
              "      <th>company_diversity_policies</th>\n",
              "      <th>company_extra_benefits</th>\n",
              "      <th>company_best_companies_city</th>\n",
              "    </tr>\n",
              "  </thead>\n",
              "  <tbody>\n",
              "    <tr>\n",
              "      <th>0</th>\n",
              "      <td>Mujer</td>\n",
              "      <td>26</td>\n",
              "      <td>Argentina</td>\n",
              "      <td>Ciudad Autónoma de Buenos Aires</td>\n",
              "      <td>3.0</td>\n",
              "      <td>3.0</td>\n",
              "      <td>3.0</td>\n",
              "      <td>0</td>\n",
              "      <td>Universitario</td>\n",
              "      <td>En curso</td>\n",
              "      <td>Ingeniería en Sistemas de Información</td>\n",
              "      <td>UTN - Universidad Tecnológica Nacional</td>\n",
              "      <td>Sí, los pagó un empleador</td>\n",
              "      <td>No</td>\n",
              "      <td>Sí</td>\n",
              "      <td>Consultant</td>\n",
              "      <td>Ninguna</td>\n",
              "      <td>Ninguno</td>\n",
              "      <td>Ninguno</td>\n",
              "      <td>Ninguna</td>\n",
              "      <td>Ninguna</td>\n",
              "      <td>Ninguno</td>\n",
              "      <td>GNU/Linux</td>\n",
              "      <td>Android</td>\n",
              "      <td>No</td>\n",
              "      <td>0.0</td>\n",
              "      <td>Bruto</td>\n",
              "      <td>Full-Time</td>\n",
              "      <td>53000.0</td>\n",
              "      <td>43000.0</td>\n",
              "      <td>NaN</td>\n",
              "      <td>1</td>\n",
              "      <td>1</td>\n",
              "      <td>No</td>\n",
              "      <td>No recibo bono</td>\n",
              "      <td>No</td>\n",
              "      <td>0.0</td>\n",
              "      <td>0</td>\n",
              "      <td>En mi trabajo actual</td>\n",
              "      <td>Homosexual</td>\n",
              "      <td>NaN</td>\n",
              "      <td>NaN</td>\n",
              "      <td>501-1000</td>\n",
              "      <td>Servicios / Consultoría de Software / Digital</td>\n",
              "      <td>7</td>\n",
              "      <td>2</td>\n",
              "      <td>Capacitaciones y/o cursos, Comidas pagas / sub...</td>\n",
              "      <td>NaN</td>\n",
              "    </tr>\n",
              "    <tr>\n",
              "      <th>1</th>\n",
              "      <td>Hombre</td>\n",
              "      <td>29</td>\n",
              "      <td>Argentina</td>\n",
              "      <td>Corrientes</td>\n",
              "      <td>5.0</td>\n",
              "      <td>2.0</td>\n",
              "      <td>2.0</td>\n",
              "      <td>4</td>\n",
              "      <td>Universitario</td>\n",
              "      <td>En curso</td>\n",
              "      <td>Ingeniería en Sistemas de Información</td>\n",
              "      <td>UTN - Universidad Tecnológica Nacional</td>\n",
              "      <td>Sí, de forma particular, Sí, los pagó un emple...</td>\n",
              "      <td>No</td>\n",
              "      <td>Sí</td>\n",
              "      <td>Developer</td>\n",
              "      <td>Docker, Google Cloud Platform/App Engine</td>\n",
              "      <td>HTML, Javascript, Python</td>\n",
              "      <td>Django, jQuery</td>\n",
              "      <td>Informix, MySQL, PostgreSQL</td>\n",
              "      <td>Ninguna</td>\n",
              "      <td>IPython / Jupyter, Sublime Text, Visual Studio...</td>\n",
              "      <td>GNU/Linux</td>\n",
              "      <td>Android</td>\n",
              "      <td>No</td>\n",
              "      <td>0.0</td>\n",
              "      <td>Bruto</td>\n",
              "      <td>Full-Time</td>\n",
              "      <td>79000.0</td>\n",
              "      <td>63000.0</td>\n",
              "      <td>NaN</td>\n",
              "      <td>2</td>\n",
              "      <td>2</td>\n",
              "      <td>Menos de un sueldo</td>\n",
              "      <td>Performance de la compañía</td>\n",
              "      <td>Uno</td>\n",
              "      <td>10.0</td>\n",
              "      <td>1</td>\n",
              "      <td>Jamás</td>\n",
              "      <td>Heterosexual</td>\n",
              "      <td>Visual</td>\n",
              "      <td>No</td>\n",
              "      <td>201-500</td>\n",
              "      <td>Otras industrias</td>\n",
              "      <td>8</td>\n",
              "      <td>9</td>\n",
              "      <td>Horarios flexibles, Stock options / RSUs, Viát...</td>\n",
              "      <td>NaN</td>\n",
              "    </tr>\n",
              "    <tr>\n",
              "      <th>2</th>\n",
              "      <td>Mujer</td>\n",
              "      <td>22</td>\n",
              "      <td>Argentina</td>\n",
              "      <td>Ciudad Autónoma de Buenos Aires</td>\n",
              "      <td>2.0</td>\n",
              "      <td>0.0</td>\n",
              "      <td>0.0</td>\n",
              "      <td>0</td>\n",
              "      <td>Secundario</td>\n",
              "      <td>Completado</td>\n",
              "      <td>NaN</td>\n",
              "      <td>NaN</td>\n",
              "      <td>Sí, de forma particular, Sí, los pagó un emple...</td>\n",
              "      <td>No</td>\n",
              "      <td>Sí</td>\n",
              "      <td>Infosec</td>\n",
              "      <td>Linux, VMWare</td>\n",
              "      <td>Ninguno</td>\n",
              "      <td>Ninguno</td>\n",
              "      <td>Ninguna</td>\n",
              "      <td>Ninguna</td>\n",
              "      <td>Ninguno</td>\n",
              "      <td>Windows</td>\n",
              "      <td>iOS</td>\n",
              "      <td>No</td>\n",
              "      <td>0.0</td>\n",
              "      <td>Porcentaje de mi sueldo</td>\n",
              "      <td>Full-Time</td>\n",
              "      <td>160000.0</td>\n",
              "      <td>127000.0</td>\n",
              "      <td>NaN</td>\n",
              "      <td>3</td>\n",
              "      <td>3</td>\n",
              "      <td>Un sueldo</td>\n",
              "      <td>Performance individual</td>\n",
              "      <td>No</td>\n",
              "      <td>0.0</td>\n",
              "      <td>0</td>\n",
              "      <td>En un trabajo anterior</td>\n",
              "      <td>Bisexual o queer</td>\n",
              "      <td>NaN</td>\n",
              "      <td>No</td>\n",
              "      <td>2001-5000</td>\n",
              "      <td>Otras industrias</td>\n",
              "      <td>6</td>\n",
              "      <td>9</td>\n",
              "      <td>Clases de gimnasia online, Comidas pagas / sub...</td>\n",
              "      <td>NaN</td>\n",
              "    </tr>\n",
              "  </tbody>\n",
              "</table>\n",
              "</div>"
            ],
            "text/plain": [
              "  profile_gender  ...  company_best_companies_city\n",
              "0          Mujer  ...                          NaN\n",
              "1         Hombre  ...                          NaN\n",
              "2          Mujer  ...                          NaN\n",
              "\n",
              "[3 rows x 48 columns]"
            ]
          },
          "metadata": {
            "tags": []
          },
          "execution_count": 4
        }
      ]
    },
    {
      "cell_type": "code",
      "metadata": {
        "colab": {
          "base_uri": "https://localhost:8080/",
          "height": 204
        },
        "id": "2lzmzK1NuPNT",
        "outputId": "2e8a9847-931e-4a10-b67f-370f0da8be1d"
      },
      "source": [
        "df[['profile_gender', 'salary_monthly_NETO']].groupby('profile_gender').describe()"
      ],
      "execution_count": 5,
      "outputs": [
        {
          "output_type": "execute_result",
          "data": {
            "text/html": [
              "<div>\n",
              "<style scoped>\n",
              "    .dataframe tbody tr th:only-of-type {\n",
              "        vertical-align: middle;\n",
              "    }\n",
              "\n",
              "    .dataframe tbody tr th {\n",
              "        vertical-align: top;\n",
              "    }\n",
              "\n",
              "    .dataframe thead tr th {\n",
              "        text-align: left;\n",
              "    }\n",
              "\n",
              "    .dataframe thead tr:last-of-type th {\n",
              "        text-align: right;\n",
              "    }\n",
              "</style>\n",
              "<table border=\"1\" class=\"dataframe\">\n",
              "  <thead>\n",
              "    <tr>\n",
              "      <th></th>\n",
              "      <th colspan=\"8\" halign=\"left\">salary_monthly_NETO</th>\n",
              "    </tr>\n",
              "    <tr>\n",
              "      <th></th>\n",
              "      <th>count</th>\n",
              "      <th>mean</th>\n",
              "      <th>std</th>\n",
              "      <th>min</th>\n",
              "      <th>25%</th>\n",
              "      <th>50%</th>\n",
              "      <th>75%</th>\n",
              "      <th>max</th>\n",
              "    </tr>\n",
              "    <tr>\n",
              "      <th>profile_gender</th>\n",
              "      <th></th>\n",
              "      <th></th>\n",
              "      <th></th>\n",
              "      <th></th>\n",
              "      <th></th>\n",
              "      <th></th>\n",
              "      <th></th>\n",
              "      <th></th>\n",
              "    </tr>\n",
              "  </thead>\n",
              "  <tbody>\n",
              "    <tr>\n",
              "      <th>Hombre</th>\n",
              "      <td>4944.0</td>\n",
              "      <td>98836.063558</td>\n",
              "      <td>102159.664237</td>\n",
              "      <td>1.0</td>\n",
              "      <td>53285.0</td>\n",
              "      <td>80000.0</td>\n",
              "      <td>110000.0</td>\n",
              "      <td>2080000.0</td>\n",
              "    </tr>\n",
              "    <tr>\n",
              "      <th>Mujer</th>\n",
              "      <td>908.0</td>\n",
              "      <td>73501.414465</td>\n",
              "      <td>56256.880181</td>\n",
              "      <td>2.0</td>\n",
              "      <td>43818.0</td>\n",
              "      <td>65000.0</td>\n",
              "      <td>92000.0</td>\n",
              "      <td>800000.0</td>\n",
              "    </tr>\n",
              "    <tr>\n",
              "      <th>Otros</th>\n",
              "      <td>31.0</td>\n",
              "      <td>95441.354839</td>\n",
              "      <td>88635.674358</td>\n",
              "      <td>40.0</td>\n",
              "      <td>39500.0</td>\n",
              "      <td>74000.0</td>\n",
              "      <td>117500.0</td>\n",
              "      <td>380000.0</td>\n",
              "    </tr>\n",
              "  </tbody>\n",
              "</table>\n",
              "</div>"
            ],
            "text/plain": [
              "               salary_monthly_NETO                ...                     \n",
              "                             count          mean  ...       75%        max\n",
              "profile_gender                                    ...                     \n",
              "Hombre                      4944.0  98836.063558  ...  110000.0  2080000.0\n",
              "Mujer                        908.0  73501.414465  ...   92000.0   800000.0\n",
              "Otros                         31.0  95441.354839  ...  117500.0   380000.0\n",
              "\n",
              "[3 rows x 8 columns]"
            ]
          },
          "metadata": {
            "tags": []
          },
          "execution_count": 5
        }
      ]
    },
    {
      "cell_type": "code",
      "metadata": {
        "colab": {
          "base_uri": "https://localhost:8080/",
          "height": 204
        },
        "id": "pycKJ5jWkShW",
        "outputId": "234a6f4e-0b1c-4200-9b56-241a979df21d"
      },
      "source": [
        "df[df.salary_monthly_NETO > 1000]\\\n",
        "  [['profile_gender', 'salary_monthly_NETO']].groupby('profile_gender').describe()"
      ],
      "execution_count": 6,
      "outputs": [
        {
          "output_type": "execute_result",
          "data": {
            "text/html": [
              "<div>\n",
              "<style scoped>\n",
              "    .dataframe tbody tr th:only-of-type {\n",
              "        vertical-align: middle;\n",
              "    }\n",
              "\n",
              "    .dataframe tbody tr th {\n",
              "        vertical-align: top;\n",
              "    }\n",
              "\n",
              "    .dataframe thead tr th {\n",
              "        text-align: left;\n",
              "    }\n",
              "\n",
              "    .dataframe thead tr:last-of-type th {\n",
              "        text-align: right;\n",
              "    }\n",
              "</style>\n",
              "<table border=\"1\" class=\"dataframe\">\n",
              "  <thead>\n",
              "    <tr>\n",
              "      <th></th>\n",
              "      <th colspan=\"8\" halign=\"left\">salary_monthly_NETO</th>\n",
              "    </tr>\n",
              "    <tr>\n",
              "      <th></th>\n",
              "      <th>count</th>\n",
              "      <th>mean</th>\n",
              "      <th>std</th>\n",
              "      <th>min</th>\n",
              "      <th>25%</th>\n",
              "      <th>50%</th>\n",
              "      <th>75%</th>\n",
              "      <th>max</th>\n",
              "    </tr>\n",
              "    <tr>\n",
              "      <th>profile_gender</th>\n",
              "      <th></th>\n",
              "      <th></th>\n",
              "      <th></th>\n",
              "      <th></th>\n",
              "      <th></th>\n",
              "      <th></th>\n",
              "      <th></th>\n",
              "      <th></th>\n",
              "    </tr>\n",
              "  </thead>\n",
              "  <tbody>\n",
              "    <tr>\n",
              "      <th>Hombre</th>\n",
              "      <td>4815.0</td>\n",
              "      <td>101481.624343</td>\n",
              "      <td>102215.304684</td>\n",
              "      <td>1100.0</td>\n",
              "      <td>55000.0</td>\n",
              "      <td>80000.0</td>\n",
              "      <td>110000.0</td>\n",
              "      <td>2080000.0</td>\n",
              "    </tr>\n",
              "    <tr>\n",
              "      <th>Mujer</th>\n",
              "      <td>863.0</td>\n",
              "      <td>77328.913778</td>\n",
              "      <td>55082.760570</td>\n",
              "      <td>2000.0</td>\n",
              "      <td>47850.0</td>\n",
              "      <td>67200.0</td>\n",
              "      <td>93000.0</td>\n",
              "      <td>800000.0</td>\n",
              "    </tr>\n",
              "    <tr>\n",
              "      <th>Otros</th>\n",
              "      <td>28.0</td>\n",
              "      <td>105660.714286</td>\n",
              "      <td>87235.710235</td>\n",
              "      <td>34000.0</td>\n",
              "      <td>43750.0</td>\n",
              "      <td>78900.0</td>\n",
              "      <td>122750.0</td>\n",
              "      <td>380000.0</td>\n",
              "    </tr>\n",
              "  </tbody>\n",
              "</table>\n",
              "</div>"
            ],
            "text/plain": [
              "               salary_monthly_NETO                 ...                     \n",
              "                             count           mean  ...       75%        max\n",
              "profile_gender                                     ...                     \n",
              "Hombre                      4815.0  101481.624343  ...  110000.0  2080000.0\n",
              "Mujer                        863.0   77328.913778  ...   93000.0   800000.0\n",
              "Otros                         28.0  105660.714286  ...  122750.0   380000.0\n",
              "\n",
              "[3 rows x 8 columns]"
            ]
          },
          "metadata": {
            "tags": []
          },
          "execution_count": 6
        }
      ]
    },
    {
      "cell_type": "code",
      "metadata": {
        "id": "OfzFpDO-lYxk"
      },
      "source": [
        "is_man = df.profile_gender == 'Hombre'\n",
        "\n",
        "groupA = df[(df.salary_monthly_NETO > 1000) & is_man].salary_monthly_NETO\n",
        "groupB = df[(df.salary_monthly_NETO > 1000) & ~is_man].salary_monthly_NETO"
      ],
      "execution_count": 7,
      "outputs": []
    },
    {
      "cell_type": "code",
      "metadata": {
        "colab": {
          "base_uri": "https://localhost:8080/",
          "height": 204
        },
        "id": "n4g9omQx6smP",
        "outputId": "1bef16f0-b134-4d4b-9159-3527ded8c908"
      },
      "source": [
        "## Alternativamente slicing para > 1000\n",
        "df2 = df[df['salary_monthly_NETO'] > 1000]\n",
        "df2[['profile_gender', 'salary_monthly_NETO']].groupby('profile_gender').describe()"
      ],
      "execution_count": 8,
      "outputs": [
        {
          "output_type": "execute_result",
          "data": {
            "text/html": [
              "<div>\n",
              "<style scoped>\n",
              "    .dataframe tbody tr th:only-of-type {\n",
              "        vertical-align: middle;\n",
              "    }\n",
              "\n",
              "    .dataframe tbody tr th {\n",
              "        vertical-align: top;\n",
              "    }\n",
              "\n",
              "    .dataframe thead tr th {\n",
              "        text-align: left;\n",
              "    }\n",
              "\n",
              "    .dataframe thead tr:last-of-type th {\n",
              "        text-align: right;\n",
              "    }\n",
              "</style>\n",
              "<table border=\"1\" class=\"dataframe\">\n",
              "  <thead>\n",
              "    <tr>\n",
              "      <th></th>\n",
              "      <th colspan=\"8\" halign=\"left\">salary_monthly_NETO</th>\n",
              "    </tr>\n",
              "    <tr>\n",
              "      <th></th>\n",
              "      <th>count</th>\n",
              "      <th>mean</th>\n",
              "      <th>std</th>\n",
              "      <th>min</th>\n",
              "      <th>25%</th>\n",
              "      <th>50%</th>\n",
              "      <th>75%</th>\n",
              "      <th>max</th>\n",
              "    </tr>\n",
              "    <tr>\n",
              "      <th>profile_gender</th>\n",
              "      <th></th>\n",
              "      <th></th>\n",
              "      <th></th>\n",
              "      <th></th>\n",
              "      <th></th>\n",
              "      <th></th>\n",
              "      <th></th>\n",
              "      <th></th>\n",
              "    </tr>\n",
              "  </thead>\n",
              "  <tbody>\n",
              "    <tr>\n",
              "      <th>Hombre</th>\n",
              "      <td>4815.0</td>\n",
              "      <td>101481.624343</td>\n",
              "      <td>102215.304684</td>\n",
              "      <td>1100.0</td>\n",
              "      <td>55000.0</td>\n",
              "      <td>80000.0</td>\n",
              "      <td>110000.0</td>\n",
              "      <td>2080000.0</td>\n",
              "    </tr>\n",
              "    <tr>\n",
              "      <th>Mujer</th>\n",
              "      <td>863.0</td>\n",
              "      <td>77328.913778</td>\n",
              "      <td>55082.760570</td>\n",
              "      <td>2000.0</td>\n",
              "      <td>47850.0</td>\n",
              "      <td>67200.0</td>\n",
              "      <td>93000.0</td>\n",
              "      <td>800000.0</td>\n",
              "    </tr>\n",
              "    <tr>\n",
              "      <th>Otros</th>\n",
              "      <td>28.0</td>\n",
              "      <td>105660.714286</td>\n",
              "      <td>87235.710235</td>\n",
              "      <td>34000.0</td>\n",
              "      <td>43750.0</td>\n",
              "      <td>78900.0</td>\n",
              "      <td>122750.0</td>\n",
              "      <td>380000.0</td>\n",
              "    </tr>\n",
              "  </tbody>\n",
              "</table>\n",
              "</div>"
            ],
            "text/plain": [
              "               salary_monthly_NETO                 ...                     \n",
              "                             count           mean  ...       75%        max\n",
              "profile_gender                                     ...                     \n",
              "Hombre                      4815.0  101481.624343  ...  110000.0  2080000.0\n",
              "Mujer                        863.0   77328.913778  ...   93000.0   800000.0\n",
              "Otros                         28.0  105660.714286  ...  122750.0   380000.0\n",
              "\n",
              "[3 rows x 8 columns]"
            ]
          },
          "metadata": {
            "tags": []
          },
          "execution_count": 8
        }
      ]
    },
    {
      "cell_type": "code",
      "metadata": {
        "id": "gjuUVPWh7Gre"
      },
      "source": [
        "df2_hombre = df2[df2['profile_gender'] == 'Hombre']\n",
        "df2_otrosg = df2[df2['profile_gender'] != 'Hombre']"
      ],
      "execution_count": 9,
      "outputs": []
    },
    {
      "cell_type": "markdown",
      "metadata": {
        "id": "co_0M_ojtmUh"
      },
      "source": [
        "## Ejercicio 1: Estimación\n",
        "\n",
        "**Consigna:**  Calcular una estimación puntual y un intervalo de confianza de nivel (1-alpha) para la resta entre la media del salario Neto para Hombres menos la media del salario Neto para otros géneros (diferencia de las medias entre el grupoA y grupoB). \\\\\n",
        "¿Cómo se relaciona este intervalo de confianza con el test de hipótesis?"
      ]
    },
    {
      "cell_type": "markdown",
      "metadata": {
        "id": "o-8z-F9OBvOX"
      },
      "source": [
        "Dos videos rápidos: \\\\\n",
        "https://www.youtube.com/watch?v=6_V-bJlvR6Y&ab_channel=AlianzaEstadistica \n",
        "\n",
        "Intervalos de confianza \\\\\n",
        "https://www.youtube.com/watch?v=TOLkF2jIr08&ab_channel=AlianzaEstadistica \\\\\n",
        "Z-score\n",
        "\n",
        "http://www.z-table.com/ \\\\\n",
        "\n",
        "El intervalo de confianza para el valor de un estadístico para un determinado nivel de confianza, nos arroja los valores para los cuales una Hipótesis Nula que docime la posibildad de que el estadístico asuma alguno de los valores en cuestión no pueda ser rechazada."
      ]
    },
    {
      "cell_type": "markdown",
      "metadata": {
        "id": "4nA9cwdMCkLB"
      },
      "source": [
        "### Estimación Puntual e intervalo de confianza grupo Hombres"
      ]
    },
    {
      "cell_type": "markdown",
      "metadata": {
        "id": "qXW67kI7vlR3"
      },
      "source": [
        "Estimación puntual: Media del salario neto para el grupo Hombres \\\\\n",
        "$\\bar\\mu_{A} = \\frac{\\sum_{A} SalarioNeto}{n_{A}} $"
      ]
    },
    {
      "cell_type": "code",
      "metadata": {
        "id": "0fA1RQ0upe6N",
        "colab": {
          "base_uri": "https://localhost:8080/"
        },
        "outputId": "a332cca3-1bf7-44ad-8e76-6de50b1f45fc"
      },
      "source": [
        "# Calcular el estadístico media muestral del grupo hombres\n",
        "estadistico_media_hombres = df2_hombre['salary_monthly_NETO'].mean()\n",
        "estadistico_media_hombres"
      ],
      "execution_count": 10,
      "outputs": [
        {
          "output_type": "execute_result",
          "data": {
            "text/plain": [
              "101481.62434267918"
            ]
          },
          "metadata": {
            "tags": []
          },
          "execution_count": 10
        }
      ]
    },
    {
      "cell_type": "markdown",
      "metadata": {
        "id": "2uQ8Zr0zwTfl"
      },
      "source": [
        "Estimación puntual: Desviación estándar del salario neto del grupo Hombres \\\\\n",
        "$ \\sigma_{A} = \\frac{\\sqrt{\\sum_{A} |x - \\bar x |^{2}}}{(n_{A}-1)} $\n"
      ]
    },
    {
      "cell_type": "code",
      "metadata": {
        "colab": {
          "base_uri": "https://localhost:8080/"
        },
        "id": "o7G1IMn8CkLE",
        "outputId": "3b137fff-9596-4691-e6db-0eee9a4eb23c"
      },
      "source": [
        "# Calcular el estadístico desviación estándar del salario medio del grupo hombres\n",
        "estadistico_desv_s_hombres = df2_hombre['salary_monthly_NETO'].std()\n",
        "estadistico_desv_s_hombres"
      ],
      "execution_count": 11,
      "outputs": [
        {
          "output_type": "execute_result",
          "data": {
            "text/plain": [
              "102215.30468444877"
            ]
          },
          "metadata": {
            "tags": []
          },
          "execution_count": 11
        }
      ]
    },
    {
      "cell_type": "markdown",
      "metadata": {
        "id": "g6JG_ShGxerm"
      },
      "source": [
        "Intervalo de confianza para la media del salario neto del grupo Hombres \\\\\n",
        "$ \\langle \\mu_{A;1-\\alpha} \\rangle = \\bar x \\pm z_{\\frac{\\alpha}{2}} \\frac{\\sigma_{A}}{n_{A}}$"
      ]
    },
    {
      "cell_type": "markdown",
      "metadata": {
        "id": "yTzjD5z2-Y-t"
      },
      "source": [
        "$\\alpha = 0.05$"
      ]
    },
    {
      "cell_type": "code",
      "metadata": {
        "id": "uZ1GxkLylHx0"
      },
      "source": [
        "alpha = 0.05"
      ],
      "execution_count": 12,
      "outputs": []
    },
    {
      "cell_type": "markdown",
      "metadata": {
        "id": "w9Nhjezj-oBX"
      },
      "source": [
        "Como los tamaños muestrales para ambos grupos son los sufientemente grandes en este caso, pese a desconocer el valor real de la varianza poblacional, utilizamos el score Z y no el t de student, por aproximarse lo suficientemente bien.\n",
        "\n",
        "$z_{\\frac{\\alpha}{2}} = 1.96 $"
      ]
    },
    {
      "cell_type": "code",
      "metadata": {
        "id": "-eRcrLiQ-kJG"
      },
      "source": [
        "z_0975 = 1.96"
      ],
      "execution_count": 13,
      "outputs": []
    },
    {
      "cell_type": "markdown",
      "metadata": {
        "id": "g-14zNogBP21"
      },
      "source": [
        "$n_{A}$"
      ]
    },
    {
      "cell_type": "code",
      "metadata": {
        "colab": {
          "base_uri": "https://localhost:8080/"
        },
        "id": "tnfLXNrHynY9",
        "outputId": "dead9348-3b60-4de3-ee6a-89c4f3763e3d"
      },
      "source": [
        "nhombres = df2_hombre['salary_monthly_NETO'].count()\n",
        "print(nhombres)"
      ],
      "execution_count": 14,
      "outputs": [
        {
          "output_type": "stream",
          "text": [
            "4815\n"
          ],
          "name": "stdout"
        }
      ]
    },
    {
      "cell_type": "markdown",
      "metadata": {
        "id": "W_jpr3S4BVAs"
      },
      "source": [
        "Límite inferior del intervalo de confianza para la media del salario neto del grupo A"
      ]
    },
    {
      "cell_type": "code",
      "metadata": {
        "colab": {
          "base_uri": "https://localhost:8080/"
        },
        "id": "qPgK3dHPy9kp",
        "outputId": "9a566f5f-6949-4c69-a4ee-534499d8a907"
      },
      "source": [
        "estadistico_media_hombres_liminf = estadistico_media_hombres - z_0975 * (estadistico_desv_s_hombres / nhombres)\n",
        "estadistico_media_hombres_liminf"
      ],
      "execution_count": 15,
      "outputs": [
        {
          "output_type": "execute_result",
          "data": {
            "text/plain": [
              "101440.01645126038"
            ]
          },
          "metadata": {
            "tags": []
          },
          "execution_count": 15
        }
      ]
    },
    {
      "cell_type": "markdown",
      "metadata": {
        "id": "1fgjoVy7BaP4"
      },
      "source": [
        "Límite superior del intervalo de confianza para la media del salario neto del grupo A"
      ]
    },
    {
      "cell_type": "code",
      "metadata": {
        "colab": {
          "base_uri": "https://localhost:8080/"
        },
        "id": "VG-6sl6eBBJ5",
        "outputId": "93480988-1588-4556-bde8-866867a8ef3d"
      },
      "source": [
        "estadistico_media_hombres_limsup = estadistico_media_hombres + z_0975 * (estadistico_desv_s_hombres / nhombres)\n",
        "estadistico_media_hombres_limsup"
      ],
      "execution_count": 16,
      "outputs": [
        {
          "output_type": "execute_result",
          "data": {
            "text/plain": [
              "101523.23223409797"
            ]
          },
          "metadata": {
            "tags": []
          },
          "execution_count": 16
        }
      ]
    },
    {
      "cell_type": "markdown",
      "metadata": {
        "id": "KpRy-pr3Djyh"
      },
      "source": [
        "### Estimación Puntual e intervalo de confianza grupo Otros Géneros"
      ]
    },
    {
      "cell_type": "code",
      "metadata": {
        "colab": {
          "base_uri": "https://localhost:8080/"
        },
        "id": "tztiPrWxDkxv",
        "outputId": "daac8700-b59e-4f18-d9d6-7e0c17f1d8c9"
      },
      "source": [
        "# Calcular el estadístico media muestral del grupo B\n",
        "estadistico_media_otrosg = df2_otrosg['salary_monthly_NETO'].mean()\n",
        "estadistico_media_otrosg"
      ],
      "execution_count": 17,
      "outputs": [
        {
          "output_type": "execute_result",
          "data": {
            "text/plain": [
              "78219.25094276095"
            ]
          },
          "metadata": {
            "tags": []
          },
          "execution_count": 17
        }
      ]
    },
    {
      "cell_type": "code",
      "metadata": {
        "colab": {
          "base_uri": "https://localhost:8080/"
        },
        "id": "Zf7noiDBDy0Q",
        "outputId": "ecf74286-d0f0-4e9c-db49-2a99862ad433"
      },
      "source": [
        "estadistico_desv_s_otrosg = df2_otrosg['salary_monthly_NETO'].std()\n",
        "estadistico_desv_s_otrosg"
      ],
      "execution_count": 18,
      "outputs": [
        {
          "output_type": "execute_result",
          "data": {
            "text/plain": [
              "56515.32732350074"
            ]
          },
          "metadata": {
            "tags": []
          },
          "execution_count": 18
        }
      ]
    },
    {
      "cell_type": "code",
      "metadata": {
        "colab": {
          "base_uri": "https://localhost:8080/"
        },
        "id": "9HH9C4W3EkvW",
        "outputId": "ce39a26e-d10a-40e2-d74c-2c95c0ad891e"
      },
      "source": [
        "notrosg = df2_otrosg['salary_monthly_NETO'].count()\n",
        "print(notrosg)"
      ],
      "execution_count": 19,
      "outputs": [
        {
          "output_type": "stream",
          "text": [
            "891\n"
          ],
          "name": "stdout"
        }
      ]
    },
    {
      "cell_type": "code",
      "metadata": {
        "colab": {
          "base_uri": "https://localhost:8080/"
        },
        "id": "sD91rJXQEwvL",
        "outputId": "c41679f9-1ebb-490a-9014-ea724cc51c8d"
      },
      "source": [
        "estadistico_media_otrosg_liminf = estadistico_media_otrosg - z_0975 * (estadistico_desv_s_otrosg / notrosg)\n",
        "estadistico_media_otrosg_liminf"
      ],
      "execution_count": 20,
      "outputs": [
        {
          "output_type": "execute_result",
          "data": {
            "text/plain": [
              "78094.92990846907"
            ]
          },
          "metadata": {
            "tags": []
          },
          "execution_count": 20
        }
      ]
    },
    {
      "cell_type": "code",
      "metadata": {
        "colab": {
          "base_uri": "https://localhost:8080/"
        },
        "id": "A0rPSXJBFAFD",
        "outputId": "41d195ca-fee3-4439-df7e-f4fb25d58571"
      },
      "source": [
        "estadistico_media_otrosg_limsup = estadistico_media_otrosg + z_0975 * (estadistico_desv_s_otrosg / notrosg)\n",
        "estadistico_media_otrosg_limsup"
      ],
      "execution_count": 21,
      "outputs": [
        {
          "output_type": "execute_result",
          "data": {
            "text/plain": [
              "78343.57197705282"
            ]
          },
          "metadata": {
            "tags": []
          },
          "execution_count": 21
        }
      ]
    },
    {
      "cell_type": "markdown",
      "metadata": {
        "id": "3XoThyKKBkuu"
      },
      "source": [
        "### Estimación puntual e intervalo de confianza para la diferencia de medias de grupos"
      ]
    },
    {
      "cell_type": "markdown",
      "metadata": {
        "id": "3nVak3QgGhLM"
      },
      "source": [
        "INTERVALO DE CONFIANZA PARA LA DIFERENCIA DE MEDIAS\n",
        "\n",
        "Sean $x_{11}, x_{12},...,x_{1n1}$ una muestra aleatoria de $n_{1}$ observaciones tomadas de una primera población con valor esperado $\\mu_{1}$ y varianza $\\sigma_{1}^{2}$ \\\\\n",
        "Sean $x_{21}, x_{22},...,x_{2n2}$ una muestra aleatoria de $n_{2}$ observaciones tomadas de una primera población con valor esperado $\\mu_{2}$ y varianza $\\sigma_{2}^{2}$ \\\\\n",
        "Si $\\bar \\mu_{1}, \\bar \\mu_{2} $ son las medias muestrales, entonces $\\bar \\mu_{1} - \\bar \\mu_{2}$ es un estimador puntual de $\\mu_{1} - \\mu_{2}$, y tiene una distribución normal si las dos poblaciones son normales, o aproximadamente normal si cumple con las condiciones del teorema del limite central (tamaños de muestras relativamentegrandes).\n",
        "Por lo tanto,\n",
        "\n",
        "\n",
        "$ z = \\frac{\\bar \\mu_{1} - \\bar \\mu_{2} - (\\mu_{1}-\\mu_{2})}{\\sqrt{\\frac{\\sigma_{1}^{2}}{n_{1}}+\\frac{\\sigma_{2}^{2}}{n_{2}}}}  $\n",
        "\n",
        "Pese a desconocer las varianzas poblacionales se procede a la utilización del score Z y no t de student por tener un tamaño muestral que permite una aproximación bastante buena a la primera distribución. "
      ]
    },
    {
      "cell_type": "code",
      "metadata": {
        "colab": {
          "base_uri": "https://localhost:8080/"
        },
        "id": "bdt6Tx1sCkLE",
        "outputId": "55078eda-81b1-4d84-ce46-ea23be64756d"
      },
      "source": [
        "# Calcular la diferencia de medias entre grupos\n",
        "## La diferencia de dos variables aleatorias es también una variable aleatoria.\n",
        "dif_medias = estadistico_media_hombres - estadistico_media_otrosg\n",
        "dif_medias"
      ],
      "execution_count": 22,
      "outputs": [
        {
          "output_type": "execute_result",
          "data": {
            "text/plain": [
              "23262.37339991823"
            ]
          },
          "metadata": {
            "tags": []
          },
          "execution_count": 22
        }
      ]
    },
    {
      "cell_type": "markdown",
      "metadata": {
        "id": "Juw-9bukLM19"
      },
      "source": [
        "Esto nos dice que en promedio los \"HOMBRES\" cobran $23262.37 más que los demás géneros"
      ]
    },
    {
      "cell_type": "markdown",
      "metadata": {
        "id": "kIs94m8-L5VV"
      },
      "source": [
        "El intervalo de confianza del estadístico diferencia de medias entre grupos viene entonces dado por: \n",
        "\n",
        "$\\bar \\mu_{1} - \\bar \\mu_{2}- z \\sqrt{\\frac{\\sigma_{1}^{2}}{n_{1}}+\\frac{\\sigma_{2}^{2}}{n_{2}}} \\leq \\mu_{1}-\\mu_{2} \\leq \\bar \\mu_{1} - \\bar \\mu_{2}+ z \\sqrt{\\frac{\\sigma_{1}^{2}}{n_{1}}+\\frac{\\sigma_{2}^{2}}{n_{2}}} $"
      ]
    },
    {
      "cell_type": "markdown",
      "metadata": {
        "id": "hBccZtYlNpUb"
      },
      "source": [
        "Límite inferior para el intervalo de confianza del estadístico diferencia de medias:"
      ]
    },
    {
      "cell_type": "code",
      "metadata": {
        "id": "84lGUnBqCkLE",
        "colab": {
          "base_uri": "https://localhost:8080/"
        },
        "outputId": "9cab5573-81eb-481e-b14b-f48374aaa813"
      },
      "source": [
        "#Límite inferior para el intervalo de confianza del estadístico diferencia de medias:\n",
        "dif_medias_liminf = dif_medias - z_0975 * (((estadistico_desv_s_otrosg**2) / notrosg + (estadistico_desv_s_hombres**2) / nhombres)**(1/2))\n",
        "dif_medias_liminf"
      ],
      "execution_count": 23,
      "outputs": [
        {
          "output_type": "execute_result",
          "data": {
            "text/plain": [
              "18560.5807418027"
            ]
          },
          "metadata": {
            "tags": []
          },
          "execution_count": 23
        }
      ]
    },
    {
      "cell_type": "markdown",
      "metadata": {
        "id": "iaCog4iqNi6X"
      },
      "source": [
        "Límite superior para el intervalo de confianza del estadístico diferencia de medias:"
      ]
    },
    {
      "cell_type": "code",
      "metadata": {
        "colab": {
          "base_uri": "https://localhost:8080/"
        },
        "id": "9ofHzTqONiCJ",
        "outputId": "de9b65b1-60bc-4405-dce9-65abc83f91fd"
      },
      "source": [
        "#Límite inferior para el intervalo de confianza del estadístico diferencia de medias:\n",
        "dif_medias_limsup = dif_medias + z_0975 * ((estadistico_desv_s_otrosg**2 / notrosg + estadistico_desv_s_hombres**2 / nhombres)**(1/2))\n",
        "dif_medias_limsup"
      ],
      "execution_count": 24,
      "outputs": [
        {
          "output_type": "execute_result",
          "data": {
            "text/plain": [
              "27964.16605803376"
            ]
          },
          "metadata": {
            "tags": []
          },
          "execution_count": 24
        }
      ]
    },
    {
      "cell_type": "markdown",
      "metadata": {
        "id": "7vf4iQF5NyCf"
      },
      "source": [
        "El estadístico diferencia de medias de salario neto entre ambos grupos tiene una estimación puntual de $23262, y se encuentra con un 95% de confianza dentro del intervalo [18560; 27964]"
      ]
    },
    {
      "cell_type": "markdown",
      "metadata": {
        "id": "2lK-n5czmXpy"
      },
      "source": [
        "## Ejercicio 2 Test de hipótesis:\n",
        "\n",
        "**Consigna:**: Fomalización\n",
        "\n",
        "Describir formalmente los distintos componentes de un test de hipótesis para comprobar si la distribución de los salarios es distinta entre los grupos A y B."
      ]
    },
    {
      "cell_type": "markdown",
      "metadata": {
        "id": "Rzxe8UYU6EfJ"
      },
      "source": [
        "\n",
        "### 2.1 Formalización\n",
        "\n",
        "\n",
        "\n"
      ]
    },
    {
      "cell_type": "markdown",
      "metadata": {
        "id": "IWGO_JrLCoPO"
      },
      "source": [
        "Describir formalmente los distintos compenentes de un test de hipótesis para comprobar si la distribución de los salarios es distinta entre los grupos A y B.\n",
        "\n",
        "Comenzamos por describir formalmente los cuatro componentes principales de un test de hipótesis:\n",
        "\n",
        "- **Hipótesis Nula** denotada por $H_0$, es un valor o conjunto de valores que suponemos describen alguna característica de la distribución sobre la cual aplicaremos el test.\n",
        "\n",
        "- **Hipótesis Alternativa** denotada por $H_1$ se establece en base a la evidencia que tenemos cuestionando la suposición realizanda por $H_0$.\n",
        "\n",
        "- **Estadístico de prueba (pivote)**: es una variable aleatoria formada a partir de la información de la muestra. Compara la información de la muestra con la suposición de la hipótesis nula.\n",
        "\n",
        "- **Valor crítico**: es un punto en la distribución del test que estemos aplicando que define la zona de rechazo de la hipótesis nula y la zona de no rechazo de la hipótesis nula."
      ]
    },
    {
      "cell_type": "markdown",
      "metadata": {
        "id": "uTMZmPT8y9g9"
      },
      "source": [
        "Procedemos a comparar las distribuciones de SALARIO NETO en el grupo hombres contra el grupo otros géneros. \n",
        "\n",
        "http://homework.uoregon.edu/pub/class/es202/ztest.html\n",
        "\n",
        "Decidimos utlizar la prueba Z.\n",
        "\n",
        "Cuyo estadístico de prueba es:\n",
        "$Z = \\frac{\\bar X_1 - \\bar X_2}{\\sqrt{\\frac{\\sigma_1^2}{n_1} + \\frac{\\sigma_2^2}{n_2}}} $ "
      ]
    },
    {
      "cell_type": "code",
      "metadata": {
        "colab": {
          "base_uri": "https://localhost:8080/"
        },
        "id": "sDuyNNBT1E03",
        "outputId": "9c7f40cd-dcda-4ab6-fc8e-f846cfad77e2"
      },
      "source": [
        "difmed = (estadistico_media_hombres - estadistico_media_otrosg)\n",
        "denominador = (estadistico_desv_s_hombres**2/nhombres + estadistico_desv_s_otrosg**2/notrosg)**(0.5)\n",
        "Zobs = difmed/denominador\n",
        "print('Zobs =', Zobs) "
      ],
      "execution_count": 25,
      "outputs": [
        {
          "output_type": "stream",
          "text": [
            "Zobs = 9.697205976350695\n"
          ],
          "name": "stdout"
        }
      ]
    },
    {
      "cell_type": "markdown",
      "metadata": {
        "id": "3Ip_5YdenC8u"
      },
      "source": [
        "### 2.2 P-valor"
      ]
    },
    {
      "cell_type": "markdown",
      "metadata": {
        "id": "TUZo_5tgChCc"
      },
      "source": [
        "\n",
        "1. Calcule el p-valor y decida si rechazar o no la hipótesis nula.\n",
        "2. Interprete el resultado.\n",
        "3. Los dos grupos de nuestra muestra tienen tamaños muy distintos. ¿Esto afecta al tests?\n",
        "\n",
        "Links útiles:\n",
        "* [Test de hipótesis usando scipy](https://docs.scipy.org/doc/scipy/reference/generated/scipy.stats.ttest_ind.html)\n",
        "* [Test de Welch](http://daniellakens.blogspot.com/2015/01/always-use-welchs-t-test-instead-of.html)"
      ]
    },
    {
      "cell_type": "markdown",
      "metadata": {
        "id": "jHrX4Y-I521M"
      },
      "source": [
        "1. Por tratarse un estadístico Z observado mayor a cero, en nuestra prueba a dos colas estamos testeando la probabilidad de:\n",
        "\n",
        "$2 \\times P(Z \\geq Z_{obs}) = 2 \\times P(Z \\geq 9.6972)  = 8.88178e^{-16} $\n",
        "\n",
        "\n",
        "2. El valor del p-value encontrado es mucho menor que el del $\\alpha$ propuesto (0.05), y en general menor que cualqueir $\\alpha$ convencional para este tipo de tests. \n",
        "\n",
        "Significa que la probabilidad de que las medias muestrales (y por la tanto, las distribuciones muestrales) sean las mismas dada la información que tenemos es igual a $ 8.88178e^{-14} $%.\n",
        "\n",
        "Se rechaza la hipótesis nula. Encontramos suficiente evidencia estadística para considerar a las medias del grupo 1 y grupo 2 diferentes entre si. \n",
        "\n",
        "3. Sí, afecta al test. \n",
        "\n",
        "Varios son los parámetros que hay que tener en cuenta. ¿Conocemos o no la desviación estándar poblacional? ¿Las varianzas muestrales son iguales? ¿Los tamaños muestrales son iguales?\n",
        "\n",
        "Para cada caso la fórmula de cálculo del estadístico Z es distinta."
      ]
    },
    {
      "cell_type": "markdown",
      "metadata": {
        "id": "8VxiQr5YrQYR"
      },
      "source": [
        "### [Opcional] 2.3 Potencia del test\n"
      ]
    },
    {
      "cell_type": "markdown",
      "metadata": {
        "id": "o0ukVzPwCZuh"
      },
      "source": [
        "Nuestra muestra, ¿era lo suficientemente grande para detectar si existe o no una diferencia entre los grupos?\n",
        "\n",
        "1. Utilice la función `tt_ind_solve_power` para calcular el tamaño necesario de la muestra para un poder estadístico de 0.8, 0.9 y 0.95, asumiendo una significancia estadística de 0.05.\n",
        "2. ¿Cómo intepretan el poder estadístico de un test? Dado su conocimiento de dominio sobre los datos, ¿les parece que esta muestra es lo suficientemente grande para ser representativo de la tendencia general? ¿y para utilizarlo en un juicio penal contra una empresa XX por una causa de discriminación?\n",
        "\n",
        "[Documentación](https://www.statsmodels.org/stable/generated/statsmodels.stats.power.tt_ind_solve_power.html)\n",
        "\n",
        "NOTA: este análisis debería hacerse ANTES de recolectar los datos."
      ]
    },
    {
      "cell_type": "markdown",
      "metadata": {
        "id": "jzStk6vx-cgN"
      },
      "source": [
        "1. Utilizando la función statsmodels.stats.power.tt_ind_solve_power(effect_size=None, nobs1=None, alpha=None, power=None, ratio=1.0, alternative='two-sided')¶"
      ]
    },
    {
      "cell_type": "markdown",
      "metadata": {
        "id": "ZifkzABR-waV"
      },
      "source": [
        "effect_size - float \\\\\n",
        "standardized effect size, difference between the two means divided by the standard deviation. effect_size has to be positive."
      ]
    },
    {
      "cell_type": "code",
      "metadata": {
        "colab": {
          "base_uri": "https://localhost:8080/"
        },
        "id": "8pVNG4L3-8bA",
        "outputId": "2550bdd5-a839-4072-f948-579078ee8de6"
      },
      "source": [
        "effectsize = estadistico_media_otrosg/estadistico_desv_s_otrosg - estadistico_media_hombres/estadistico_desv_s_hombres\n",
        "effectsize"
      ],
      "execution_count": 26,
      "outputs": [
        {
          "output_type": "execute_result",
          "data": {
            "text/plain": [
              "0.3912138531465166"
            ]
          },
          "metadata": {
            "tags": []
          },
          "execution_count": 26
        }
      ]
    },
    {
      "cell_type": "markdown",
      "metadata": {
        "id": "2qGvQpsf_NXU"
      },
      "source": [
        "Dada la restricción de que el parámetro debe ser positivo invertimos el orden de la diferencia."
      ]
    },
    {
      "cell_type": "markdown",
      "metadata": {
        "id": "FwVkmIog_eOn"
      },
      "source": [
        "ratio - float \\\\\n",
        "ratio of the number of observations in sample 2 relative to sample 1. see description of nobs1 The default for ratio is 1; to solve for ratio given the other arguments it has to be explicitly set to None."
      ]
    },
    {
      "cell_type": "code",
      "metadata": {
        "colab": {
          "base_uri": "https://localhost:8080/"
        },
        "id": "XkdJArzX_kYd",
        "outputId": "08310aa1-0fba-4452-da2c-6dbb60a31833"
      },
      "source": [
        "ratio_hg = nhombres/notrosg\n",
        "ratio_hg"
      ],
      "execution_count": 27,
      "outputs": [
        {
          "output_type": "execute_result",
          "data": {
            "text/plain": [
              "5.404040404040404"
            ]
          },
          "metadata": {
            "tags": []
          },
          "execution_count": 27
        }
      ]
    },
    {
      "cell_type": "code",
      "metadata": {
        "colab": {
          "base_uri": "https://localhost:8080/"
        },
        "id": "GmmRev3L-hzX",
        "outputId": "97117a45-f3e9-49d6-b021-30f56f931d96"
      },
      "source": [
        "tt_ind_solve_power(effect_size=effectsize, nobs1=None, alpha=alpha, power=0.8, ratio = ratio_hg, alternative='two-sided')"
      ],
      "execution_count": 28,
      "outputs": [
        {
          "output_type": "execute_result",
          "data": {
            "text/plain": [
              "61.074790803477185"
            ]
          },
          "metadata": {
            "tags": []
          },
          "execution_count": 28
        }
      ]
    },
    {
      "cell_type": "code",
      "metadata": {
        "colab": {
          "base_uri": "https://localhost:8080/"
        },
        "id": "8_FxVAHrAtaq",
        "outputId": "d375fdaf-50cd-4901-db3a-2531ec4de18e"
      },
      "source": [
        "tt_ind_solve_power(effect_size=effectsize, nobs1=None, alpha=alpha, power=0.9, ratio = ratio_hg, alternative='two-sided')"
      ],
      "execution_count": 29,
      "outputs": [
        {
          "output_type": "execute_result",
          "data": {
            "text/plain": [
              "81.6596230102696"
            ]
          },
          "metadata": {
            "tags": []
          },
          "execution_count": 29
        }
      ]
    },
    {
      "cell_type": "code",
      "metadata": {
        "colab": {
          "base_uri": "https://localhost:8080/"
        },
        "id": "WRH3m8E9Av-K",
        "outputId": "f29befe8-2eab-4200-a239-f066b84929ec"
      },
      "source": [
        "tt_ind_solve_power(effect_size=effectsize, nobs1=None, alpha=alpha, power=0.95, ratio = ratio_hg, alternative='two-sided')"
      ],
      "execution_count": 30,
      "outputs": [
        {
          "output_type": "execute_result",
          "data": {
            "text/plain": [
              "100.91844178308361"
            ]
          },
          "metadata": {
            "tags": []
          },
          "execution_count": 30
        }
      ]
    },
    {
      "cell_type": "markdown",
      "metadata": {
        "id": "pnmslKaGZvQx"
      },
      "source": [
        "Con la cantidad de observaciones que tenemos la potencia del test es elevadísima."
      ]
    },
    {
      "cell_type": "code",
      "metadata": {
        "colab": {
          "base_uri": "https://localhost:8080/"
        },
        "id": "2qOt03mDZSnG",
        "outputId": "f2e255fe-387b-4782-eb7d-a60425f6bce2"
      },
      "source": [
        "tt_ind_solve_power(effect_size=effectsize, nobs1=notrosg, alpha=alpha, power=None, ratio = ratio_hg, alternative='two-sided')"
      ],
      "execution_count": 31,
      "outputs": [
        {
          "output_type": "execute_result",
          "data": {
            "text/plain": [
              "1.0"
            ]
          },
          "metadata": {
            "tags": []
          },
          "execution_count": 31
        }
      ]
    },
    {
      "cell_type": "markdown",
      "metadata": {
        "id": "w78w-c_tBw5g"
      },
      "source": [
        "3.2. De Wikipedia:La potencia de una prueba estadística o el poder estadístico es la probabilidad de que la hipótesis alternativa sea aceptada cuando la hipótesis alternativa es verdadera (es decir, la probabilidad de no cometer un error del tipo II).\n",
        "\n",
        "Para el ejercicio propuesto esto es: que la diferencia entre medias (y distribuciones) entre los grupos bajo análisis es diferente (aceptamos la hipótesis nula) y contamos con un test POTENTE (confiable) que respalda el resultado."
      ]
    },
    {
      "cell_type": "markdown",
      "metadata": {
        "id": "useKMdPyMod5"
      },
      "source": [
        "## Ejercicio 3: Comunicación y visualización\n",
        "\n",
        "\n"
      ]
    },
    {
      "cell_type": "markdown",
      "metadata": {
        "id": "lokO_nTlY0e4"
      },
      "source": [
        "**Consigna:** Seleccionen un resultado que les parezca relevante a partir de alguno de los ejercicios del entregable. Diseñe e implemente una comunicación en base a este mensaje, en un archivo PDF.\n",
        "\n",
        "Elija las palabras y visualización más adecuada para que la comunicación sea entendible, efectiva y se dapte a UNA de las siguientes situaciones:\n",
        "\n",
        "1. Una sección en un artículo de difusión a presentar como parte de una organización sin fines de lucro.\n",
        "No más de 1 página A4 (o dos si los gráficos son muy grandes).\n",
        "  1. Ejemplo: Alguna de las secciones [Los ecosistemas de emprendimiento de América Latina y el Caribe frente al COVID-19: Impactos, necesidades y recomendaciones](https://publications.iadb.org/es/los-ecosistemas-de-emprendimiento-de-america-latina-y-el-caribe-frente-al-covid-19-impactos-necesidades-y-recomendaciones), por ejemplo la sección *2.2. Reacciones de los emprendedores*.\n",
        "  2. Ejemplo: Alguna de las secciones de [The state of gender pay gap in 2021](https://www.payscale.com/data/gender-pay-gap?tk=carousel-ps-rc-job)\n",
        "  3. Puntos clave: \n",
        "    1. Simpleza de los gráficos.\n",
        "    2. Comunicación en lenguaje simple a personas que no son necesariamente expertos de dominio.\n",
        "    2. Selección de UNA oración sobre la que se hace énfasis.\n",
        "    3. No es necesario que mencionen objetivos ni descripciones del conjunto de datos, se supone que eso ya estaría explicado en otras secciones del informe.\n",
        "\n",
        "2. Una publicación científica o reporte técnico interno. No más de una página A4:\n",
        "  2. Ejemplo: La sección de resultados de [IZA DP No. 12914: The Impact of a Minimum Wage Change on the Distribution of Wages and Household Income](https://www.iza.org/publications/dp/12914/the-impact-of-a-minimum-wage-change-on-the-distribution-of-wages-and-household-income).\n",
        "  2. Ejemplo: Alguna de las secciones de [Temporary reduction in daily global CO2 emissions during the COVID-19 forced confinement](https://www.nature.com/articles/s41558-020-0797-x)\n",
        "  3. Puntos clave:\n",
        "    3. Nivel de detalle técnico requerido. Es necesario justificar la validez del análisis.\n",
        "    4. La idea presentada puede ser más compleja. Pueden asumir que la audiencia tiene conocimiento técnico y va a analizar las visualizaciones en detalle. \n",
        "    5. Pueden presentar más en detalle las limitaciones del análisis (significancia estadística, etc.)\n",
        "    2. No es necesario que mencionen objetivos ni descripciones del conjunto de datos, se supone que eso ya estaría explicado en otras secciones del informe.\n",
        "\n",
        "3. Un tweet (o post de LinkedIn) para la cuenta de su empresa consultora que hace análisis de datos. El objetivo es promocionar un análisis de datos abiertos que van a incluir en su portfolio:\n",
        "  1. Ejemplo: [Comparación vacunas covid](https://twitter.com/infobeautiful/status/1381577746527236098?s=20)\n",
        "  2. Ejemplo: [Tweet del BID](https://twitter.com/el_BID/status/1388508583944507396?s=20). Lo valioso de este tweet es que usaron un único número para transmitir un mensaje. Puede ser algo así, o con un gráfico muy simple.\n",
        "  3. Ejemplo: [Cambio climático](https://twitter.com/UNFCCC/status/1387732156190011394?s=20) Es un muy buen ejemplo, excepto que el gráfico no se lee nada y hay que entrar a la publicación original.\n",
        "  3. Ejemplo: [¿Cuánto están los programadores en las empresas?](https://www.linkedin.com/posts/denis-rothman-0b034043_tech-career-work-activity-6793861923269054464-gS6y) (No verificamos la veracidad o seriedad de la fuente).\n",
        "  4. Puntos clave:\n",
        "    1. Su audiencia no va a mirar la visualización por más de unos segundos, y no tiene conocimiento técnico.\n",
        "  3. Tienen que incluir además una *breve* descripción de cómo obtuvieron los datos que están presentando, que no entraría en el tweet."
      ]
    },
    {
      "cell_type": "code",
      "metadata": {
        "colab": {
          "base_uri": "https://localhost:8080/"
        },
        "id": "J74vN6U6c7pC",
        "outputId": "44b3cc4e-178e-4cd0-d135-35941891010f"
      },
      "source": [
        "#medians\n",
        "df2_hombre_median = df2_hombre[\"salary_monthly_NETO\"].median()\n",
        "df2_otrosg_median = df2_otrosg[\"salary_monthly_NETO\"].median()\n",
        "df2_hombre_median\n",
        "df2_otrosg_median"
      ],
      "execution_count": 32,
      "outputs": [
        {
          "output_type": "execute_result",
          "data": {
            "text/plain": [
              "67310.0"
            ]
          },
          "metadata": {
            "tags": []
          },
          "execution_count": 32
        }
      ]
    },
    {
      "cell_type": "code",
      "metadata": {
        "colab": {
          "base_uri": "https://localhost:8080/",
          "height": 761
        },
        "id": "CEYc_c82pszn",
        "outputId": "f7dd8662-3dce-4533-ff1d-11da3a84c4b4"
      },
      "source": [
        "# densidad de probabilidad normalizada\n",
        "max_SMB = 300000\n",
        "sub_dfh = df2_hombre[df2_hombre[\"salary_monthly_NETO\"] < max_SMB]\n",
        "sub_dfo = df2_otrosg[df2_otrosg[\"salary_monthly_NETO\"] < max_SMB]\n",
        "fig, axes = plt.subplots(1, 2,figsize=(24,11),gridspec_kw={'width_ratios': [3, 1]})\n",
        "gridspec_kw={'width_ratios': [3, 1]}\n",
        "sns.set_style('whitegrid')\n",
        "\n",
        "sns.histplot(data=sub_dfh, x=\"salary_monthly_NETO\", kde=True, bins=50, color='green', stat= 'probability', ax=axes[0])\n",
        "sns.histplot(data=sub_dfo, x=\"salary_monthly_NETO\", kde=True, bins=50, color='purple', stat= 'probability',ax=axes[0])\n",
        "plt.ylim(0, 0.12)\n",
        "axes[0].axvline(df2_otrosg_median, linestyle = '--', color = 'red', mew = 5)\n",
        "axes[0].text(df2_otrosg_median+2000, 0.073, 'Otros Géneros', rotation = 90, fontsize=12)\n",
        "axes[0].axvline(df2_hombre_median, linestyle = '--', color = 'blue', mew = 5)\n",
        "axes[0].text(df2_hombre_median+2000, 0.075, 'Hombres', rotation = 90, fontsize=12)\n",
        "axes[0].set(xlabel='Salario neto', ylabel='Distribución')\n",
        "axes[0].legend(loc=0, labels=df_gen['Perfiles'],bbox_to_anchor=(1,1))\n",
        "\n",
        "df_gen = df2.loc[:,'profile_gender'].to_frame()\n",
        "df_gen.loc[df_gen['profile_gender']!='Hombre', 'profile_gender'] = 'Mujeres y No Binarios'\n",
        "df_gen.loc[df_gen['profile_gender']=='Hombre', 'profile_gender'] = 'Hombres'\n",
        "df_gen = df_gen[['profile_gender']].groupby(['profile_gender']).size().to_frame()\n",
        "df_gen = df_gen.reset_index(level=['profile_gender'])\n",
        "df_gen = df_gen.rename(columns = {0:'Cantidad','profile_gender':'Perfiles'})\n",
        "\n",
        "df_gen.plot(kind='pie', y = 'Cantidad', ax=axes[1], autopct='%1.1f%%',  startangle=90, shadow=True, labels=None, explode=(0, 0.1), legend = True, fontsize=18, textprops = dict(color =\"white\"))\n",
        "axes[1].legend(loc=0, labels=df_gen['Perfiles'],bbox_to_anchor=(0.6,0.1))\n",
        "axes[1].set_title('Porcentaje de Participación', fontsize=15)\n",
        "axes[1].get_yaxis().set_visible(False)\n",
        "\n",
        "fig.suptitle('Salario Neto Declarado Argentina 2020 - Programación', fontsize=25,fontweight='bold')\n",
        "plt.show()"
      ],
      "execution_count": 80,
      "outputs": [
        {
          "output_type": "display_data",
          "data": {
            "image/png": "[encoded data removed]",
            "text/plain": [
              "<Figure size 1728x792 with 2 Axes>"
            ]
          },
          "metadata": {
            "tags": []
          }
        }
      ]
    },
    {
      "cell_type": "markdown",
      "metadata": {
        "id": "wZyRj-7Q_Jl5"
      },
      "source": [
        "**En programación, la brecha salarial entre hombres y otros géneros supera el 30%**\n",
        "\n",
        "Los hombres cobran un salario 30,7% mayor que otros géneros. El salario neto promedio de los hombres es de ARS 102.215, mientras que para el resto de los trabajadores es de ARS 78.219. El sector muestra una elebada concentración de hombres con un 84.4%, mientras que el resto de trabajadores representa el 16.6%.\n",
        "\n",
        "Publicación en LinkedIn: [Link de LinkedIn](https://www.linkedin.com/posts/juan-ignacio-barrionuevo-galtier_anaerlisis-diplomatura-diplomados-activity-6808746268534288384-o-oj)"
      ]
    },
    {
      "cell_type": "code",
      "metadata": {
        "id": "Cvx5RqJL_Xe6"
      },
      "source": [
        ""
      ],
      "execution_count": null,
      "outputs": []
    }
  ]
}