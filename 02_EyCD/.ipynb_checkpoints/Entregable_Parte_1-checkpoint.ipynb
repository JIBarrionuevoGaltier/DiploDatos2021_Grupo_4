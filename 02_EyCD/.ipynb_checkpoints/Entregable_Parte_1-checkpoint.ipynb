{
 "cells": [
  {
   "cell_type": "markdown",
   "metadata": {
    "id": "zO4bRoxr2Apy"
   },
   "source": [
    "**Diplomatura en Ciencia de Datos, Aprendizaje Automático y sus Aplicaciones**\n",
    "\n",
    "**Exploración y Curación de Datos**\n",
    "\n",
    "*Edición 2021*\n",
    "\n",
    "----\n",
    "\n",
    "# Trabajo práctico entregable - Parte 1\n",
    "\n",
    "En esta notebook, vamos a cargar el conjunto de datos de [la compentencia Kaggle](https://www.kaggle.com/dansbecker/melbourne-housing-snapshot) sobre estimación de precios de ventas de propiedades en Melbourne, Australia.\n",
    "\n",
    "Utilizaremos el conjunto de datos reducido producido por [DanB](https://www.kaggle.com/dansbecker). Hemos subido una copia a un servidor de la Universidad Nacional de Córdoba para facilitar su acceso remoto."
   ]
  },
  {
   "cell_type": "markdown",
   "metadata": {
    "id": "y8AzRN27GT9X"
   },
   "source": [
    "### Importación de librerías"
   ]
  },
  {
   "cell_type": "code",
   "execution_count": 1,
   "metadata": {
    "executionInfo": {
     "elapsed": 1185,
     "status": "ok",
     "timestamp": 1627584236813,
     "user": {
      "displayName": "María Belén Acotto",
      "photoUrl": "https://lh3.googleusercontent.com/a-/AOh14GgxTl0geb_R3SIr4AA6LSVxhUsOjZdbmESuiHF-wOs=s64",
      "userId": "02753886766132213766"
     },
     "user_tz": 180
    },
    "id": "4udjxjk1EtVU"
   },
   "outputs": [],
   "source": [
    "import matplotlib.pyplot as plt\n",
    "import numpy as np\n",
    "import pandas as pd\n",
    "import missingno as msno\n",
    "\n",
    "import seaborn as sns\n",
    "sns.set_context('talk')\n",
    "\n",
    "pd.set_option('display.max_columns', None)"
   ]
  },
  {
   "cell_type": "code",
   "execution_count": 2,
   "metadata": {
    "colab": {
     "base_uri": "https://localhost:8080/",
     "height": 35
    },
    "executionInfo": {
     "elapsed": 1575,
     "status": "ok",
     "timestamp": 1627584238379,
     "user": {
      "displayName": "María Belén Acotto",
      "photoUrl": "https://lh3.googleusercontent.com/a-/AOh14GgxTl0geb_R3SIr4AA6LSVxhUsOjZdbmESuiHF-wOs=s64",
      "userId": "02753886766132213766"
     },
     "user_tz": 180
    },
    "id": "3XdIsB8hISis",
    "outputId": "1e62c727-ccab-47fa-a61b-a0f06b613fd2"
   },
   "outputs": [
    {
     "data": {
      "text/plain": [
       "'4.14.3'"
      ]
     },
     "execution_count": 2,
     "metadata": {},
     "output_type": "execute_result"
    }
   ],
   "source": [
    "import plotly\n",
    "plotly.__version__\n",
    "# Make sure it's 4.14.3"
   ]
  },
  {
   "cell_type": "code",
   "execution_count": 3,
   "metadata": {
    "executionInfo": {
     "elapsed": 5,
     "status": "ok",
     "timestamp": 1627584238380,
     "user": {
      "displayName": "María Belén Acotto",
      "photoUrl": "https://lh3.googleusercontent.com/a-/AOh14GgxTl0geb_R3SIr4AA6LSVxhUsOjZdbmESuiHF-wOs=s64",
      "userId": "02753886766132213766"
     },
     "user_tz": 180
    },
    "id": "i2nqY0GGIVn2"
   },
   "outputs": [],
   "source": [
    "# To update plotly, uncomment and run the following line:\n",
    "# !pip install plotly --upgrade"
   ]
  },
  {
   "cell_type": "code",
   "execution_count": 4,
   "metadata": {
    "colab": {
     "base_uri": "https://localhost:8080/",
     "height": 227
    },
    "executionInfo": {
     "elapsed": 2210,
     "status": "ok",
     "timestamp": 1627584240586,
     "user": {
      "displayName": "María Belén Acotto",
      "photoUrl": "https://lh3.googleusercontent.com/a-/AOh14GgxTl0geb_R3SIr4AA6LSVxhUsOjZdbmESuiHF-wOs=s64",
      "userId": "02753886766132213766"
     },
     "user_tz": 180
    },
    "id": "_qeFN3GnEvMk",
    "outputId": "8f580d3f-bbd6-4bd2-80cf-2c78ef0d7b45"
   },
   "outputs": [
    {
     "data": {
      "text/html": [
       "<div>\n",
       "<style scoped>\n",
       "    .dataframe tbody tr th:only-of-type {\n",
       "        vertical-align: middle;\n",
       "    }\n",
       "\n",
       "    .dataframe tbody tr th {\n",
       "        vertical-align: top;\n",
       "    }\n",
       "\n",
       "    .dataframe thead th {\n",
       "        text-align: right;\n",
       "    }\n",
       "</style>\n",
       "<table border=\"1\" class=\"dataframe\">\n",
       "  <thead>\n",
       "    <tr style=\"text-align: right;\">\n",
       "      <th></th>\n",
       "      <th>Suburb</th>\n",
       "      <th>Address</th>\n",
       "      <th>Rooms</th>\n",
       "      <th>Type</th>\n",
       "      <th>Price</th>\n",
       "      <th>Method</th>\n",
       "      <th>SellerG</th>\n",
       "      <th>Date</th>\n",
       "      <th>Distance</th>\n",
       "      <th>Postcode</th>\n",
       "      <th>Bedroom2</th>\n",
       "      <th>Bathroom</th>\n",
       "      <th>Car</th>\n",
       "      <th>Landsize</th>\n",
       "      <th>BuildingArea</th>\n",
       "      <th>YearBuilt</th>\n",
       "      <th>CouncilArea</th>\n",
       "      <th>Lattitude</th>\n",
       "      <th>Longtitude</th>\n",
       "      <th>Regionname</th>\n",
       "      <th>Propertycount</th>\n",
       "    </tr>\n",
       "  </thead>\n",
       "  <tbody>\n",
       "    <tr>\n",
       "      <th>0</th>\n",
       "      <td>Abbotsford</td>\n",
       "      <td>85 Turner St</td>\n",
       "      <td>2</td>\n",
       "      <td>h</td>\n",
       "      <td>1480000.0</td>\n",
       "      <td>S</td>\n",
       "      <td>Biggin</td>\n",
       "      <td>3/12/2016</td>\n",
       "      <td>2.5</td>\n",
       "      <td>3067.0</td>\n",
       "      <td>2.0</td>\n",
       "      <td>1.0</td>\n",
       "      <td>1.0</td>\n",
       "      <td>202.0</td>\n",
       "      <td>NaN</td>\n",
       "      <td>NaN</td>\n",
       "      <td>Yarra</td>\n",
       "      <td>-37.7996</td>\n",
       "      <td>144.9984</td>\n",
       "      <td>Northern Metropolitan</td>\n",
       "      <td>4019.0</td>\n",
       "    </tr>\n",
       "    <tr>\n",
       "      <th>1</th>\n",
       "      <td>Abbotsford</td>\n",
       "      <td>25 Bloomburg St</td>\n",
       "      <td>2</td>\n",
       "      <td>h</td>\n",
       "      <td>1035000.0</td>\n",
       "      <td>S</td>\n",
       "      <td>Biggin</td>\n",
       "      <td>4/02/2016</td>\n",
       "      <td>2.5</td>\n",
       "      <td>3067.0</td>\n",
       "      <td>2.0</td>\n",
       "      <td>1.0</td>\n",
       "      <td>0.0</td>\n",
       "      <td>156.0</td>\n",
       "      <td>79.0</td>\n",
       "      <td>1900.0</td>\n",
       "      <td>Yarra</td>\n",
       "      <td>-37.8079</td>\n",
       "      <td>144.9934</td>\n",
       "      <td>Northern Metropolitan</td>\n",
       "      <td>4019.0</td>\n",
       "    </tr>\n",
       "    <tr>\n",
       "      <th>2</th>\n",
       "      <td>Abbotsford</td>\n",
       "      <td>5 Charles St</td>\n",
       "      <td>3</td>\n",
       "      <td>h</td>\n",
       "      <td>1465000.0</td>\n",
       "      <td>SP</td>\n",
       "      <td>Biggin</td>\n",
       "      <td>4/03/2017</td>\n",
       "      <td>2.5</td>\n",
       "      <td>3067.0</td>\n",
       "      <td>3.0</td>\n",
       "      <td>2.0</td>\n",
       "      <td>0.0</td>\n",
       "      <td>134.0</td>\n",
       "      <td>150.0</td>\n",
       "      <td>1900.0</td>\n",
       "      <td>Yarra</td>\n",
       "      <td>-37.8093</td>\n",
       "      <td>144.9944</td>\n",
       "      <td>Northern Metropolitan</td>\n",
       "      <td>4019.0</td>\n",
       "    </tr>\n",
       "  </tbody>\n",
       "</table>\n",
       "</div>"
      ],
      "text/plain": [
       "       Suburb          Address  Rooms Type      Price Method SellerG  \\\n",
       "0  Abbotsford     85 Turner St      2    h  1480000.0      S  Biggin   \n",
       "1  Abbotsford  25 Bloomburg St      2    h  1035000.0      S  Biggin   \n",
       "2  Abbotsford     5 Charles St      3    h  1465000.0     SP  Biggin   \n",
       "\n",
       "        Date  Distance  Postcode  Bedroom2  Bathroom  Car  Landsize  \\\n",
       "0  3/12/2016       2.5    3067.0       2.0       1.0  1.0     202.0   \n",
       "1  4/02/2016       2.5    3067.0       2.0       1.0  0.0     156.0   \n",
       "2  4/03/2017       2.5    3067.0       3.0       2.0  0.0     134.0   \n",
       "\n",
       "   BuildingArea  YearBuilt CouncilArea  Lattitude  Longtitude  \\\n",
       "0           NaN        NaN       Yarra   -37.7996    144.9984   \n",
       "1          79.0     1900.0       Yarra   -37.8079    144.9934   \n",
       "2         150.0     1900.0       Yarra   -37.8093    144.9944   \n",
       "\n",
       "              Regionname  Propertycount  \n",
       "0  Northern Metropolitan         4019.0  \n",
       "1  Northern Metropolitan         4019.0  \n",
       "2  Northern Metropolitan         4019.0  "
      ]
     },
     "execution_count": 4,
     "metadata": {},
     "output_type": "execute_result"
    }
   ],
   "source": [
    "melb_df = pd.read_csv('https://cs.famaf.unc.edu.ar/~mteruel/datasets/diplodatos/melb_data.csv')\n",
    "melb_df[:3]"
   ]
  },
  {
   "cell_type": "markdown",
   "metadata": {
    "id": "s-mixICN22kA"
   },
   "source": [
    "## Ejercicio 1: \n",
    "\n",
    "1. Eliminar los valores extremos que no sean relevantes para la predicción de valores de las propiedades.\n",
    "\n",
    "1. Investigar la distribución de las variables del conjunto de datos y seleccionar un subconjunto de columnas que les parezcan relevantes al problema de predicción del valor de la propiedad.\n",
    "  1. Justificar cada columna no seleccionada.\n",
    "  2. Para las variables categóricas seleccionadas, agrupe o combine las categorías poco frecuentes para asegurar que todos los grupos tengan un número mínimo de registros.\n",
    "\n",
    "2. Agregar información adicional respectiva al entorno de una propiedad a partir del [conjunto de datos de AirBnB](https://www.kaggle.com/tylerx/melbourne-airbnb-open-data?select=cleansed_listings_dec18.csv) utilizado en el práctico. \n",
    "  1. Seleccionar qué variables agregar y qué combinaciones aplicar a cada una. Por ejemplo, pueden utilizar solo la columna `price`, o aplicar múltiples transformaciones como la mediana o el mínimo.\n",
    "  1. Utilizar la variable zipcode para unir los conjuntos de datos. Sólo incluir los zipcodes que tengan una cantidad mínima de registros (a elección) como para que la información agregada sea relevante.\n",
    "  2. Investigar al menos otras 2 variables que puedan servir para combinar los datos, y justificar si serían adecuadas o no. Pueden asumir que cuentan con la ayuda de anotadores expertos para encontrar equivalencias entre barrios o direcciones, o que cuentan con algoritmos para encontrar las n ubicaciones más cercanas a una propiedad a partir de sus coordenadas geográficas. **NO** es necesario que realicen la implementación.\n",
    "\n",
    "Pueden leer otras columnas del conjunto de AirBnB además de las que están en `interesting_cols`, si les parecen relevantes.\n"
   ]
  },
  {
   "cell_type": "code",
   "execution_count": 5,
   "metadata": {
    "executionInfo": {
     "elapsed": 9360,
     "status": "ok",
     "timestamp": 1627584249938,
     "user": {
      "displayName": "María Belén Acotto",
      "photoUrl": "https://lh3.googleusercontent.com/a-/AOh14GgxTl0geb_R3SIr4AA6LSVxhUsOjZdbmESuiHF-wOs=s64",
      "userId": "02753886766132213766"
     },
     "user_tz": 180
    },
    "id": "k3Z2vxNHJfJK"
   },
   "outputs": [],
   "source": [
    "# data source:\n",
    "# https://www.kaggle.com/tylerx/melbourne-airbnb-open-data?select=cleansed_listings_dec18.csv\n",
    "interesting_cols = [\n",
    "  'description', 'neighborhood_overview',\n",
    "  'street', 'neighborhood', 'city', 'suburb', 'state', 'zipcode',\n",
    "  'price', 'weekly_price', 'monthly_price',\n",
    "  'latitude', 'longitude',\n",
    "]\n",
    "airbnb_df = pd.read_csv(\n",
    "    'https://cs.famaf.unc.edu.ar/~mteruel/datasets/diplodatos/cleansed_listings_dec18.csv',\n",
    "    usecols=interesting_cols,low_memory=False)"
   ]
  },
  {
   "cell_type": "code",
   "execution_count": 6,
   "metadata": {
    "colab": {
     "base_uri": "https://localhost:8080/",
     "height": 224
    },
    "executionInfo": {
     "elapsed": 36,
     "status": "ok",
     "timestamp": 1627584249943,
     "user": {
      "displayName": "María Belén Acotto",
      "photoUrl": "https://lh3.googleusercontent.com/a-/AOh14GgxTl0geb_R3SIr4AA6LSVxhUsOjZdbmESuiHF-wOs=s64",
      "userId": "02753886766132213766"
     },
     "user_tz": 180
    },
    "id": "bc55TFlhF6tP",
    "outputId": "8140c16d-5c50-4d2e-e854-573576119556"
   },
   "outputs": [
    {
     "data": {
      "text/html": [
       "<div>\n",
       "<style scoped>\n",
       "    .dataframe tbody tr th:only-of-type {\n",
       "        vertical-align: middle;\n",
       "    }\n",
       "\n",
       "    .dataframe tbody tr th {\n",
       "        vertical-align: top;\n",
       "    }\n",
       "\n",
       "    .dataframe thead th {\n",
       "        text-align: right;\n",
       "    }\n",
       "</style>\n",
       "<table border=\"1\" class=\"dataframe\">\n",
       "  <thead>\n",
       "    <tr style=\"text-align: right;\">\n",
       "      <th></th>\n",
       "      <th>description</th>\n",
       "      <th>neighborhood_overview</th>\n",
       "      <th>street</th>\n",
       "      <th>neighborhood</th>\n",
       "      <th>city</th>\n",
       "      <th>suburb</th>\n",
       "      <th>state</th>\n",
       "      <th>zipcode</th>\n",
       "      <th>latitude</th>\n",
       "      <th>longitude</th>\n",
       "      <th>price</th>\n",
       "      <th>weekly_price</th>\n",
       "      <th>monthly_price</th>\n",
       "    </tr>\n",
       "  </thead>\n",
       "  <tbody>\n",
       "    <tr>\n",
       "      <th>0</th>\n",
       "      <td>House: Clean, New, Modern, Quite, Safe. 10Km f...</td>\n",
       "      <td>Very safe! Family oriented. Older age group.</td>\n",
       "      <td>Bulleen, VIC, Australia</td>\n",
       "      <td>Balwyn North</td>\n",
       "      <td>Manningham</td>\n",
       "      <td>Bulleen</td>\n",
       "      <td>VIC</td>\n",
       "      <td>3105</td>\n",
       "      <td>-37.772684</td>\n",
       "      <td>145.092133</td>\n",
       "      <td>60</td>\n",
       "      <td>NaN</td>\n",
       "      <td>NaN</td>\n",
       "    </tr>\n",
       "    <tr>\n",
       "      <th>1</th>\n",
       "      <td>A large air conditioned room with queen spring...</td>\n",
       "      <td>This hip area is a crossroads between two grea...</td>\n",
       "      <td>Brunswick East, VIC, Australia</td>\n",
       "      <td>Brunswick</td>\n",
       "      <td>Moreland</td>\n",
       "      <td>Brunswick East</td>\n",
       "      <td>VIC</td>\n",
       "      <td>3057</td>\n",
       "      <td>-37.766505</td>\n",
       "      <td>144.980736</td>\n",
       "      <td>35</td>\n",
       "      <td>200.0</td>\n",
       "      <td>803.0</td>\n",
       "    </tr>\n",
       "    <tr>\n",
       "      <th>2</th>\n",
       "      <td>RIGHT IN THE HEART OF ST KILDA! It doesn't get...</td>\n",
       "      <td>A stay at our apartment means you can enjoy so...</td>\n",
       "      <td>St Kilda, VIC, Australia</td>\n",
       "      <td>St Kilda</td>\n",
       "      <td>Port Phillip</td>\n",
       "      <td>St Kilda</td>\n",
       "      <td>VIC</td>\n",
       "      <td>3182</td>\n",
       "      <td>-37.859755</td>\n",
       "      <td>144.977369</td>\n",
       "      <td>159</td>\n",
       "      <td>1253.0</td>\n",
       "      <td>4452.0</td>\n",
       "    </tr>\n",
       "  </tbody>\n",
       "</table>\n",
       "</div>"
      ],
      "text/plain": [
       "                                         description  \\\n",
       "0  House: Clean, New, Modern, Quite, Safe. 10Km f...   \n",
       "1  A large air conditioned room with queen spring...   \n",
       "2  RIGHT IN THE HEART OF ST KILDA! It doesn't get...   \n",
       "\n",
       "                               neighborhood_overview  \\\n",
       "0       Very safe! Family oriented. Older age group.   \n",
       "1  This hip area is a crossroads between two grea...   \n",
       "2  A stay at our apartment means you can enjoy so...   \n",
       "\n",
       "                           street  neighborhood          city          suburb  \\\n",
       "0         Bulleen, VIC, Australia  Balwyn North    Manningham         Bulleen   \n",
       "1  Brunswick East, VIC, Australia     Brunswick      Moreland  Brunswick East   \n",
       "2        St Kilda, VIC, Australia      St Kilda  Port Phillip        St Kilda   \n",
       "\n",
       "  state zipcode   latitude   longitude  price  weekly_price  monthly_price  \n",
       "0   VIC    3105 -37.772684  145.092133     60           NaN            NaN  \n",
       "1   VIC    3057 -37.766505  144.980736     35         200.0          803.0  \n",
       "2   VIC    3182 -37.859755  144.977369    159        1253.0         4452.0  "
      ]
     },
     "execution_count": 6,
     "metadata": {},
     "output_type": "execute_result"
    }
   ],
   "source": [
    "airbnb_df[:3]"
   ]
  },
  {
   "cell_type": "markdown",
   "metadata": {
    "id": "3tDoiku0XOKX"
   },
   "source": [
    "### Actividad 1"
   ]
  },
  {
   "cell_type": "markdown",
   "metadata": {
    "id": "8SF0KHxvGT9d"
   },
   "source": [
    "**CONSIGNA**\n",
    "\n",
    "> Eliminar los valores extremos que no sean relevantes para la predicción de valores de las propiedades."
   ]
  },
  {
   "cell_type": "markdown",
   "metadata": {
    "id": "uRgB2J9VGT9d"
   },
   "source": [
    "Como primer paso, daremos un vistazo general a los tipos de datos dentro del dataset **melb_df**"
   ]
  },
  {
   "cell_type": "code",
   "execution_count": 7,
   "metadata": {
    "colab": {
     "base_uri": "https://localhost:8080/"
    },
    "executionInfo": {
     "elapsed": 35,
     "status": "ok",
     "timestamp": 1627584249944,
     "user": {
      "displayName": "María Belén Acotto",
      "photoUrl": "https://lh3.googleusercontent.com/a-/AOh14GgxTl0geb_R3SIr4AA6LSVxhUsOjZdbmESuiHF-wOs=s64",
      "userId": "02753886766132213766"
     },
     "user_tz": 180
    },
    "id": "GZPzKBrgGT9d",
    "outputId": "22666cfa-aec1-4abc-a887-fa6100dff132"
   },
   "outputs": [
    {
     "name": "stdout",
     "output_type": "stream",
     "text": [
      "<class 'pandas.core.frame.DataFrame'>\n",
      "RangeIndex: 13580 entries, 0 to 13579\n",
      "Data columns (total 21 columns):\n",
      " #   Column         Non-Null Count  Dtype  \n",
      "---  ------         --------------  -----  \n",
      " 0   Suburb         13580 non-null  object \n",
      " 1   Address        13580 non-null  object \n",
      " 2   Rooms          13580 non-null  int64  \n",
      " 3   Type           13580 non-null  object \n",
      " 4   Price          13580 non-null  float64\n",
      " 5   Method         13580 non-null  object \n",
      " 6   SellerG        13580 non-null  object \n",
      " 7   Date           13580 non-null  object \n",
      " 8   Distance       13580 non-null  float64\n",
      " 9   Postcode       13580 non-null  float64\n",
      " 10  Bedroom2       13580 non-null  float64\n",
      " 11  Bathroom       13580 non-null  float64\n",
      " 12  Car            13518 non-null  float64\n",
      " 13  Landsize       13580 non-null  float64\n",
      " 14  BuildingArea   7130 non-null   float64\n",
      " 15  YearBuilt      8205 non-null   float64\n",
      " 16  CouncilArea    12211 non-null  object \n",
      " 17  Lattitude      13580 non-null  float64\n",
      " 18  Longtitude     13580 non-null  float64\n",
      " 19  Regionname     13580 non-null  object \n",
      " 20  Propertycount  13580 non-null  float64\n",
      "dtypes: float64(12), int64(1), object(8)\n",
      "memory usage: 2.2+ MB\n"
     ]
    }
   ],
   "source": [
    "melb_df.info()"
   ]
  },
  {
   "cell_type": "markdown",
   "metadata": {
    "id": "QOz8_huDGT9e"
   },
   "source": [
    "Antes de comenzar, vemos que la columna **Date** está como un String, por lo que la haremos una nueva variable Date transformandola en formato de fecha para lograr un mejor análisis sobre los datos."
   ]
  },
  {
   "cell_type": "code",
   "execution_count": 8,
   "metadata": {
    "colab": {
     "base_uri": "https://localhost:8080/"
    },
    "executionInfo": {
     "elapsed": 30,
     "status": "ok",
     "timestamp": 1627584249945,
     "user": {
      "displayName": "María Belén Acotto",
      "photoUrl": "https://lh3.googleusercontent.com/a-/AOh14GgxTl0geb_R3SIr4AA6LSVxhUsOjZdbmESuiHF-wOs=s64",
      "userId": "02753886766132213766"
     },
     "user_tz": 180
    },
    "id": "5ggF2O_OGT9e",
    "outputId": "c195cfeb-7b60-474b-a3b8-c434fbca2784"
   },
   "outputs": [
    {
     "name": "stdout",
     "output_type": "stream",
     "text": [
      "Cantidad de fechas distintas: 58\n"
     ]
    },
    {
     "data": {
      "text/plain": [
       "0   2016-03-12\n",
       "1   2016-04-02\n",
       "2   2017-04-03\n",
       "3   2017-04-03\n",
       "4   2016-04-06\n",
       "Name: Date, dtype: datetime64[ns]"
      ]
     },
     "execution_count": 8,
     "metadata": {},
     "output_type": "execute_result"
    }
   ],
   "source": [
    "melb_df['Date'] = pd.to_datetime(melb_df.Date)\n",
    "print('Cantidad de fechas distintas:', melb_df['Date'].nunique())\n",
    "melb_df['Date'].head()"
   ]
  },
  {
   "cell_type": "code",
   "execution_count": 9,
   "metadata": {
    "colab": {
     "base_uri": "https://localhost:8080/"
    },
    "executionInfo": {
     "elapsed": 27,
     "status": "ok",
     "timestamp": 1627584249946,
     "user": {
      "displayName": "María Belén Acotto",
      "photoUrl": "https://lh3.googleusercontent.com/a-/AOh14GgxTl0geb_R3SIr4AA6LSVxhUsOjZdbmESuiHF-wOs=s64",
      "userId": "02753886766132213766"
     },
     "user_tz": 180
    },
    "id": "ekzOkkYXGT9f",
    "outputId": "68f01205-333c-4e98-9425-72ee72afa0ae"
   },
   "outputs": [
    {
     "name": "stdout",
     "output_type": "stream",
     "text": [
      "Fecha desde: 2016-01-28 00:00:00\n",
      "Fecha Hasta: 2017-12-08 00:00:00\n"
     ]
    }
   ],
   "source": [
    "print('Fecha desde:',melb_df['Date'].min())\n",
    "print('Fecha Hasta:',melb_df['Date'].max())"
   ]
  },
  {
   "cell_type": "markdown",
   "metadata": {
    "id": "-23hXhY-GT9f"
   },
   "source": [
    "Observaremos la falta de datos o los valores nulos dentro de la tabla, lo cual implican que debamos decidir que acciones se deben tomar para estos casos. "
   ]
  },
  {
   "cell_type": "code",
   "execution_count": 10,
   "metadata": {
    "colab": {
     "base_uri": "https://localhost:8080/"
    },
    "executionInfo": {
     "elapsed": 25,
     "status": "ok",
     "timestamp": 1627584249947,
     "user": {
      "displayName": "María Belén Acotto",
      "photoUrl": "https://lh3.googleusercontent.com/a-/AOh14GgxTl0geb_R3SIr4AA6LSVxhUsOjZdbmESuiHF-wOs=s64",
      "userId": "02753886766132213766"
     },
     "user_tz": 180
    },
    "id": "Ao0cvrvDGT9f",
    "outputId": "e5959127-5fe0-4f47-8777-1770c968cc28"
   },
   "outputs": [
    {
     "data": {
      "text/plain": [
       "Suburb              0\n",
       "Address             0\n",
       "Rooms               0\n",
       "Type                0\n",
       "Price               0\n",
       "Method              0\n",
       "SellerG             0\n",
       "Date                0\n",
       "Distance            0\n",
       "Postcode            0\n",
       "Bedroom2            0\n",
       "Bathroom            0\n",
       "Car                62\n",
       "Landsize            0\n",
       "BuildingArea     6450\n",
       "YearBuilt        5375\n",
       "CouncilArea      1369\n",
       "Lattitude           0\n",
       "Longtitude          0\n",
       "Regionname          0\n",
       "Propertycount       0\n",
       "dtype: int64"
      ]
     },
     "execution_count": 10,
     "metadata": {},
     "output_type": "execute_result"
    }
   ],
   "source": [
    "melb_df.isna().sum()"
   ]
  },
  {
   "cell_type": "markdown",
   "metadata": {
    "id": "1HunPdyMGT9g"
   },
   "source": [
    "De igual manera, realizamos la búsqueda de los valores en 0 dentro del dataset, para analizar la relevancia de la información presentada."
   ]
  },
  {
   "cell_type": "code",
   "execution_count": 11,
   "metadata": {
    "colab": {
     "base_uri": "https://localhost:8080/"
    },
    "executionInfo": {
     "elapsed": 22,
     "status": "ok",
     "timestamp": 1627584249947,
     "user": {
      "displayName": "María Belén Acotto",
      "photoUrl": "https://lh3.googleusercontent.com/a-/AOh14GgxTl0geb_R3SIr4AA6LSVxhUsOjZdbmESuiHF-wOs=s64",
      "userId": "02753886766132213766"
     },
     "user_tz": 180
    },
    "id": "iLXF3C6pGT9g",
    "outputId": "116f0ad5-82da-4525-c32c-b26d102f223b"
   },
   "outputs": [
    {
     "data": {
      "text/plain": [
       "Distance           6\n",
       "Bedroom2          16\n",
       "Bathroom          34\n",
       "Car             1026\n",
       "Landsize        1939\n",
       "BuildingArea      17\n",
       "dtype: int64"
      ]
     },
     "execution_count": 11,
     "metadata": {},
     "output_type": "execute_result"
    }
   ],
   "source": [
    "cols = melb_df[melb_df == 0].count(axis=0)\n",
    "cols[cols > 0]"
   ]
  },
  {
   "cell_type": "markdown",
   "metadata": {
    "id": "4-NYmApiGT9g"
   },
   "source": [
    "*  Como punto importante, observamos que dirección, precio (price) y suburbio no tienen valores nulos, lo cual es beneficioso para el análisis de esta consigna.\n",
    "* Podemos observar las columnas que poseen valores en 0, las cuales pueden considerarse para un futuro descarte, ya que no aportan información significativa para el análisis para esta consigna. La decisión de descartarlos o mantenerlos, se decidirá mientras se avance con el desarrollo para no producir desvión o introducir sesgos que no correspondan. "
   ]
  },
  {
   "cell_type": "markdown",
   "metadata": {
    "id": "HfJHMQFYGT9g"
   },
   "source": [
    "Decribiremos a la columna **Price** (Precio) para ver las características de la misma."
   ]
  },
  {
   "cell_type": "code",
   "execution_count": 12,
   "metadata": {
    "colab": {
     "base_uri": "https://localhost:8080/",
     "height": 294
    },
    "executionInfo": {
     "elapsed": 19,
     "status": "ok",
     "timestamp": 1627584249948,
     "user": {
      "displayName": "María Belén Acotto",
      "photoUrl": "https://lh3.googleusercontent.com/a-/AOh14GgxTl0geb_R3SIr4AA6LSVxhUsOjZdbmESuiHF-wOs=s64",
      "userId": "02753886766132213766"
     },
     "user_tz": 180
    },
    "id": "1FZ3QBkjGT9h",
    "outputId": "fb5ef1af-bc0c-4103-dbee-ff8ef6ed17ff"
   },
   "outputs": [
    {
     "data": {
      "text/html": [
       "<div>\n",
       "<style scoped>\n",
       "    .dataframe tbody tr th:only-of-type {\n",
       "        vertical-align: middle;\n",
       "    }\n",
       "\n",
       "    .dataframe tbody tr th {\n",
       "        vertical-align: top;\n",
       "    }\n",
       "\n",
       "    .dataframe thead th {\n",
       "        text-align: right;\n",
       "    }\n",
       "</style>\n",
       "<table border=\"1\" class=\"dataframe\">\n",
       "  <thead>\n",
       "    <tr style=\"text-align: right;\">\n",
       "      <th></th>\n",
       "      <th>Price</th>\n",
       "    </tr>\n",
       "  </thead>\n",
       "  <tbody>\n",
       "    <tr>\n",
       "      <th>count</th>\n",
       "      <td>13580.00</td>\n",
       "    </tr>\n",
       "    <tr>\n",
       "      <th>mean</th>\n",
       "      <td>1075684.08</td>\n",
       "    </tr>\n",
       "    <tr>\n",
       "      <th>std</th>\n",
       "      <td>639310.72</td>\n",
       "    </tr>\n",
       "    <tr>\n",
       "      <th>min</th>\n",
       "      <td>85000.00</td>\n",
       "    </tr>\n",
       "    <tr>\n",
       "      <th>25%</th>\n",
       "      <td>650000.00</td>\n",
       "    </tr>\n",
       "    <tr>\n",
       "      <th>50%</th>\n",
       "      <td>903000.00</td>\n",
       "    </tr>\n",
       "    <tr>\n",
       "      <th>75%</th>\n",
       "      <td>1330000.00</td>\n",
       "    </tr>\n",
       "    <tr>\n",
       "      <th>max</th>\n",
       "      <td>9000000.00</td>\n",
       "    </tr>\n",
       "  </tbody>\n",
       "</table>\n",
       "</div>"
      ],
      "text/plain": [
       "            Price\n",
       "count    13580.00\n",
       "mean   1075684.08\n",
       "std     639310.72\n",
       "min      85000.00\n",
       "25%     650000.00\n",
       "50%     903000.00\n",
       "75%    1330000.00\n",
       "max    9000000.00"
      ]
     },
     "execution_count": 12,
     "metadata": {},
     "output_type": "execute_result"
    }
   ],
   "source": [
    "melb_df[['Price']].describe().round(2)"
   ]
  },
  {
   "cell_type": "code",
   "execution_count": 13,
   "metadata": {
    "colab": {
     "base_uri": "https://localhost:8080/"
    },
    "executionInfo": {
     "elapsed": 18,
     "status": "ok",
     "timestamp": 1627584249948,
     "user": {
      "displayName": "María Belén Acotto",
      "photoUrl": "https://lh3.googleusercontent.com/a-/AOh14GgxTl0geb_R3SIr4AA6LSVxhUsOjZdbmESuiHF-wOs=s64",
      "userId": "02753886766132213766"
     },
     "user_tz": 180
    },
    "id": "VXobK5bdGT9i",
    "outputId": "1c43a82f-1365-4ac9-b271-00ed6654d68f"
   },
   "outputs": [
    {
     "name": "stdout",
     "output_type": "stream",
     "text": [
      "Mediana: Price    903000.0\n",
      "dtype: float64\n"
     ]
    }
   ],
   "source": [
    "print('Mediana:',melb_df[['Price']].median())"
   ]
  },
  {
   "cell_type": "markdown",
   "metadata": {
    "id": "2BHlIJ67GT9i"
   },
   "source": [
    "Observamos que se registraron 13.580 propiedades en dicho dataset, con un precio de valor medio de 1.075.684 USD, una propiedad con un precio mínimo de 85.000 USD y una propiedad con precio máximo de 9M USD.\n",
    "\n",
    "Las conclusiones rápidas que podemos notar son: Con una media de 1.075.684 USD y un máximo y mínimo ya dichos, claramente hay outliers en valores altos, ya que en su mayoría, la concentración de valores se da en el **cuartil 3**. Esto se da ya que **la media es mayor a la mediana**. "
   ]
  },
  {
   "cell_type": "markdown",
   "metadata": {
    "id": "kqWhIberGT9i"
   },
   "source": [
    "Demostraremos en una visualización de caja o boxenplot, lo concluido en el paso anterior: "
   ]
  },
  {
   "cell_type": "code",
   "execution_count": 14,
   "metadata": {
    "colab": {
     "base_uri": "https://localhost:8080/",
     "height": 483
    },
    "executionInfo": {
     "elapsed": 928,
     "status": "ok",
     "timestamp": 1627584250861,
     "user": {
      "displayName": "María Belén Acotto",
      "photoUrl": "https://lh3.googleusercontent.com/a-/AOh14GgxTl0geb_R3SIr4AA6LSVxhUsOjZdbmESuiHF-wOs=s64",
      "userId": "02753886766132213766"
     },
     "user_tz": 180
    },
    "id": "9HeXC31vGT9j",
    "outputId": "f176c609-2427-4e4e-edaf-4e2bd91cf5ac"
   },
   "outputs": [
    {
     "data": {
      "image/png": "[encoded data removed]",
      "text/plain": [
       "<Figure size 1152x504 with 1 Axes>"
      ]
     },
     "metadata": {
      "needs_background": "light"
     },
     "output_type": "display_data"
    }
   ],
   "source": [
    "plt.figure(figsize=(16, 7))\n",
    "sns.boxenplot(data=melb_df, x=\"Price\", color='salmon')\n",
    "plt.title(\"Grafico de Caja de la distribución de la V.A. Price (Sin Limpiar Outliers)\", fontsize=15)\n",
    "plt.show()"
   ]
  },
  {
   "cell_type": "markdown",
   "metadata": {
    "id": "dAyf0TCTGT9j"
   },
   "source": [
    "El el gráfico, visualizamos que la variable presenta valores menos concentrados en cuanto más altos estos se hacen, y se puede intuir, que por encima de 4M USD, estos se hacen más atípicos."
   ]
  },
  {
   "cell_type": "markdown",
   "metadata": {
    "id": "cHKojyLMmZMx"
   },
   "source": [
    "Para analizar esta hipótesis, visualizaremos las propiedades que superan el monto de 4M USD para comparar las caracteristicas con las que cuentan."
   ]
  },
  {
   "cell_type": "code",
   "execution_count": 15,
   "metadata": {
    "colab": {
     "base_uri": "https://localhost:8080/",
     "height": 651
    },
    "executionInfo": {
     "elapsed": 58,
     "status": "ok",
     "timestamp": 1627584250861,
     "user": {
      "displayName": "María Belén Acotto",
      "photoUrl": "https://lh3.googleusercontent.com/a-/AOh14GgxTl0geb_R3SIr4AA6LSVxhUsOjZdbmESuiHF-wOs=s64",
      "userId": "02753886766132213766"
     },
     "user_tz": 180
    },
    "id": "tc1t_1mIGT9j",
    "outputId": "d1f3ff02-2d9e-4845-ce17-c5c5ae88bd8e"
   },
   "outputs": [
    {
     "data": {
      "text/html": [
       "<div>\n",
       "<style scoped>\n",
       "    .dataframe tbody tr th:only-of-type {\n",
       "        vertical-align: middle;\n",
       "    }\n",
       "\n",
       "    .dataframe tbody tr th {\n",
       "        vertical-align: top;\n",
       "    }\n",
       "\n",
       "    .dataframe thead th {\n",
       "        text-align: right;\n",
       "    }\n",
       "</style>\n",
       "<table border=\"1\" class=\"dataframe\">\n",
       "  <thead>\n",
       "    <tr style=\"text-align: right;\">\n",
       "      <th></th>\n",
       "      <th>Suburb</th>\n",
       "      <th>Address</th>\n",
       "      <th>Rooms</th>\n",
       "      <th>Type</th>\n",
       "      <th>Price</th>\n",
       "      <th>Method</th>\n",
       "      <th>SellerG</th>\n",
       "      <th>Date</th>\n",
       "      <th>Distance</th>\n",
       "      <th>Postcode</th>\n",
       "      <th>Bedroom2</th>\n",
       "      <th>Bathroom</th>\n",
       "      <th>Car</th>\n",
       "      <th>Landsize</th>\n",
       "      <th>BuildingArea</th>\n",
       "      <th>YearBuilt</th>\n",
       "      <th>CouncilArea</th>\n",
       "      <th>Lattitude</th>\n",
       "      <th>Longtitude</th>\n",
       "      <th>Regionname</th>\n",
       "      <th>Propertycount</th>\n",
       "    </tr>\n",
       "  </thead>\n",
       "  <tbody>\n",
       "    <tr>\n",
       "      <th>108</th>\n",
       "      <td>Albert Park</td>\n",
       "      <td>115 Page St</td>\n",
       "      <td>4</td>\n",
       "      <td>h</td>\n",
       "      <td>4735000.0</td>\n",
       "      <td>S</td>\n",
       "      <td>Marshall</td>\n",
       "      <td>2017-02-25</td>\n",
       "      <td>3.3</td>\n",
       "      <td>3206.0</td>\n",
       "      <td>4.0</td>\n",
       "      <td>2.0</td>\n",
       "      <td>1.0</td>\n",
       "      <td>330.0</td>\n",
       "      <td>207.0</td>\n",
       "      <td>1910.0</td>\n",
       "      <td>Port Phillip</td>\n",
       "      <td>-37.84770</td>\n",
       "      <td>144.95580</td>\n",
       "      <td>Southern Metropolitan</td>\n",
       "      <td>3280.0</td>\n",
       "    </tr>\n",
       "    <tr>\n",
       "      <th>251</th>\n",
       "      <td>Armadale</td>\n",
       "      <td>367 Dandenong Rd</td>\n",
       "      <td>6</td>\n",
       "      <td>h</td>\n",
       "      <td>5525000.0</td>\n",
       "      <td>S</td>\n",
       "      <td>Marshall</td>\n",
       "      <td>2016-09-17</td>\n",
       "      <td>6.3</td>\n",
       "      <td>3143.0</td>\n",
       "      <td>5.0</td>\n",
       "      <td>3.0</td>\n",
       "      <td>4.0</td>\n",
       "      <td>1491.0</td>\n",
       "      <td>516.0</td>\n",
       "      <td>1935.0</td>\n",
       "      <td>Stonnington</td>\n",
       "      <td>-37.86020</td>\n",
       "      <td>145.01300</td>\n",
       "      <td>Southern Metropolitan</td>\n",
       "      <td>4836.0</td>\n",
       "    </tr>\n",
       "    <tr>\n",
       "      <th>273</th>\n",
       "      <td>Armadale</td>\n",
       "      <td>44 Hampden Rd</td>\n",
       "      <td>4</td>\n",
       "      <td>h</td>\n",
       "      <td>4200000.0</td>\n",
       "      <td>VB</td>\n",
       "      <td>Kay</td>\n",
       "      <td>2016-11-27</td>\n",
       "      <td>6.3</td>\n",
       "      <td>3143.0</td>\n",
       "      <td>4.0</td>\n",
       "      <td>3.0</td>\n",
       "      <td>3.0</td>\n",
       "      <td>563.0</td>\n",
       "      <td>333.0</td>\n",
       "      <td>2000.0</td>\n",
       "      <td>Stonnington</td>\n",
       "      <td>-37.85820</td>\n",
       "      <td>145.01380</td>\n",
       "      <td>Southern Metropolitan</td>\n",
       "      <td>4836.0</td>\n",
       "    </tr>\n",
       "    <tr>\n",
       "      <th>515</th>\n",
       "      <td>Balwyn</td>\n",
       "      <td>349 Union Rd</td>\n",
       "      <td>6</td>\n",
       "      <td>h</td>\n",
       "      <td>4000000.0</td>\n",
       "      <td>VB</td>\n",
       "      <td>Jellis</td>\n",
       "      <td>2016-03-12</td>\n",
       "      <td>9.7</td>\n",
       "      <td>3103.0</td>\n",
       "      <td>6.0</td>\n",
       "      <td>4.0</td>\n",
       "      <td>7.0</td>\n",
       "      <td>2051.0</td>\n",
       "      <td>449.0</td>\n",
       "      <td>1935.0</td>\n",
       "      <td>Boroondara</td>\n",
       "      <td>-37.80510</td>\n",
       "      <td>145.10160</td>\n",
       "      <td>Southern Metropolitan</td>\n",
       "      <td>5682.0</td>\n",
       "    </tr>\n",
       "    <tr>\n",
       "      <th>573</th>\n",
       "      <td>Balwyn</td>\n",
       "      <td>8 Raynes St</td>\n",
       "      <td>5</td>\n",
       "      <td>h</td>\n",
       "      <td>4000000.0</td>\n",
       "      <td>VB</td>\n",
       "      <td>RT</td>\n",
       "      <td>2016-11-27</td>\n",
       "      <td>9.7</td>\n",
       "      <td>3103.0</td>\n",
       "      <td>5.0</td>\n",
       "      <td>4.0</td>\n",
       "      <td>3.0</td>\n",
       "      <td>1437.0</td>\n",
       "      <td>NaN</td>\n",
       "      <td>NaN</td>\n",
       "      <td>Boroondara</td>\n",
       "      <td>-37.80580</td>\n",
       "      <td>145.08820</td>\n",
       "      <td>Southern Metropolitan</td>\n",
       "      <td>5682.0</td>\n",
       "    </tr>\n",
       "    <tr>\n",
       "      <th>...</th>\n",
       "      <td>...</td>\n",
       "      <td>...</td>\n",
       "      <td>...</td>\n",
       "      <td>...</td>\n",
       "      <td>...</td>\n",
       "      <td>...</td>\n",
       "      <td>...</td>\n",
       "      <td>...</td>\n",
       "      <td>...</td>\n",
       "      <td>...</td>\n",
       "      <td>...</td>\n",
       "      <td>...</td>\n",
       "      <td>...</td>\n",
       "      <td>...</td>\n",
       "      <td>...</td>\n",
       "      <td>...</td>\n",
       "      <td>...</td>\n",
       "      <td>...</td>\n",
       "      <td>...</td>\n",
       "      <td>...</td>\n",
       "      <td>...</td>\n",
       "    </tr>\n",
       "    <tr>\n",
       "      <th>12253</th>\n",
       "      <td>Camberwell</td>\n",
       "      <td>78 Bowen St</td>\n",
       "      <td>4</td>\n",
       "      <td>h</td>\n",
       "      <td>4060000.0</td>\n",
       "      <td>S</td>\n",
       "      <td>Kay</td>\n",
       "      <td>2017-03-09</td>\n",
       "      <td>7.7</td>\n",
       "      <td>3124.0</td>\n",
       "      <td>4.0</td>\n",
       "      <td>3.0</td>\n",
       "      <td>2.0</td>\n",
       "      <td>947.0</td>\n",
       "      <td>NaN</td>\n",
       "      <td>NaN</td>\n",
       "      <td>NaN</td>\n",
       "      <td>-37.84457</td>\n",
       "      <td>145.06218</td>\n",
       "      <td>Southern Metropolitan</td>\n",
       "      <td>8920.0</td>\n",
       "    </tr>\n",
       "    <tr>\n",
       "      <th>12557</th>\n",
       "      <td>Middle Park</td>\n",
       "      <td>136 Page St</td>\n",
       "      <td>5</td>\n",
       "      <td>h</td>\n",
       "      <td>6400000.0</td>\n",
       "      <td>S</td>\n",
       "      <td>Marshall</td>\n",
       "      <td>2017-09-09</td>\n",
       "      <td>3.0</td>\n",
       "      <td>3206.0</td>\n",
       "      <td>5.0</td>\n",
       "      <td>2.0</td>\n",
       "      <td>1.0</td>\n",
       "      <td>553.0</td>\n",
       "      <td>308.0</td>\n",
       "      <td>1920.0</td>\n",
       "      <td>NaN</td>\n",
       "      <td>-37.84908</td>\n",
       "      <td>144.95753</td>\n",
       "      <td>Southern Metropolitan</td>\n",
       "      <td>2019.0</td>\n",
       "    </tr>\n",
       "    <tr>\n",
       "      <th>12762</th>\n",
       "      <td>Kew</td>\n",
       "      <td>130 Sackville St</td>\n",
       "      <td>5</td>\n",
       "      <td>h</td>\n",
       "      <td>5065000.0</td>\n",
       "      <td>PI</td>\n",
       "      <td>RT</td>\n",
       "      <td>2017-09-16</td>\n",
       "      <td>5.4</td>\n",
       "      <td>3101.0</td>\n",
       "      <td>5.0</td>\n",
       "      <td>4.0</td>\n",
       "      <td>2.0</td>\n",
       "      <td>892.0</td>\n",
       "      <td>NaN</td>\n",
       "      <td>1917.0</td>\n",
       "      <td>NaN</td>\n",
       "      <td>-37.81420</td>\n",
       "      <td>145.05973</td>\n",
       "      <td>Southern Metropolitan</td>\n",
       "      <td>10331.0</td>\n",
       "    </tr>\n",
       "    <tr>\n",
       "      <th>13013</th>\n",
       "      <td>Kew</td>\n",
       "      <td>37 Wellington St</td>\n",
       "      <td>4</td>\n",
       "      <td>h</td>\n",
       "      <td>4000000.0</td>\n",
       "      <td>S</td>\n",
       "      <td>Marshall</td>\n",
       "      <td>2017-08-19</td>\n",
       "      <td>5.4</td>\n",
       "      <td>3101.0</td>\n",
       "      <td>4.0</td>\n",
       "      <td>2.0</td>\n",
       "      <td>3.0</td>\n",
       "      <td>792.0</td>\n",
       "      <td>NaN</td>\n",
       "      <td>NaN</td>\n",
       "      <td>NaN</td>\n",
       "      <td>-37.80926</td>\n",
       "      <td>145.03310</td>\n",
       "      <td>Southern Metropolitan</td>\n",
       "      <td>10331.0</td>\n",
       "    </tr>\n",
       "    <tr>\n",
       "      <th>13341</th>\n",
       "      <td>Armadale</td>\n",
       "      <td>16 Bailey Av</td>\n",
       "      <td>4</td>\n",
       "      <td>h</td>\n",
       "      <td>4060000.0</td>\n",
       "      <td>S</td>\n",
       "      <td>Marshall</td>\n",
       "      <td>2017-08-26</td>\n",
       "      <td>6.3</td>\n",
       "      <td>3143.0</td>\n",
       "      <td>4.0</td>\n",
       "      <td>2.0</td>\n",
       "      <td>1.0</td>\n",
       "      <td>574.0</td>\n",
       "      <td>191.0</td>\n",
       "      <td>1910.0</td>\n",
       "      <td>NaN</td>\n",
       "      <td>-37.86325</td>\n",
       "      <td>145.02422</td>\n",
       "      <td>Southern Metropolitan</td>\n",
       "      <td>4836.0</td>\n",
       "    </tr>\n",
       "  </tbody>\n",
       "</table>\n",
       "<p>63 rows × 21 columns</p>\n",
       "</div>"
      ],
      "text/plain": [
       "            Suburb           Address  Rooms Type      Price Method   SellerG  \\\n",
       "108    Albert Park       115 Page St      4    h  4735000.0      S  Marshall   \n",
       "251       Armadale  367 Dandenong Rd      6    h  5525000.0      S  Marshall   \n",
       "273       Armadale     44 Hampden Rd      4    h  4200000.0     VB       Kay   \n",
       "515         Balwyn      349 Union Rd      6    h  4000000.0     VB    Jellis   \n",
       "573         Balwyn       8 Raynes St      5    h  4000000.0     VB        RT   \n",
       "...            ...               ...    ...  ...        ...    ...       ...   \n",
       "12253   Camberwell       78 Bowen St      4    h  4060000.0      S       Kay   \n",
       "12557  Middle Park       136 Page St      5    h  6400000.0      S  Marshall   \n",
       "12762          Kew  130 Sackville St      5    h  5065000.0     PI        RT   \n",
       "13013          Kew  37 Wellington St      4    h  4000000.0      S  Marshall   \n",
       "13341     Armadale      16 Bailey Av      4    h  4060000.0      S  Marshall   \n",
       "\n",
       "            Date  Distance  Postcode  Bedroom2  Bathroom  Car  Landsize  \\\n",
       "108   2017-02-25       3.3    3206.0       4.0       2.0  1.0     330.0   \n",
       "251   2016-09-17       6.3    3143.0       5.0       3.0  4.0    1491.0   \n",
       "273   2016-11-27       6.3    3143.0       4.0       3.0  3.0     563.0   \n",
       "515   2016-03-12       9.7    3103.0       6.0       4.0  7.0    2051.0   \n",
       "573   2016-11-27       9.7    3103.0       5.0       4.0  3.0    1437.0   \n",
       "...          ...       ...       ...       ...       ...  ...       ...   \n",
       "12253 2017-03-09       7.7    3124.0       4.0       3.0  2.0     947.0   \n",
       "12557 2017-09-09       3.0    3206.0       5.0       2.0  1.0     553.0   \n",
       "12762 2017-09-16       5.4    3101.0       5.0       4.0  2.0     892.0   \n",
       "13013 2017-08-19       5.4    3101.0       4.0       2.0  3.0     792.0   \n",
       "13341 2017-08-26       6.3    3143.0       4.0       2.0  1.0     574.0   \n",
       "\n",
       "       BuildingArea  YearBuilt   CouncilArea  Lattitude  Longtitude  \\\n",
       "108           207.0     1910.0  Port Phillip  -37.84770   144.95580   \n",
       "251           516.0     1935.0   Stonnington  -37.86020   145.01300   \n",
       "273           333.0     2000.0   Stonnington  -37.85820   145.01380   \n",
       "515           449.0     1935.0    Boroondara  -37.80510   145.10160   \n",
       "573             NaN        NaN    Boroondara  -37.80580   145.08820   \n",
       "...             ...        ...           ...        ...         ...   \n",
       "12253           NaN        NaN           NaN  -37.84457   145.06218   \n",
       "12557         308.0     1920.0           NaN  -37.84908   144.95753   \n",
       "12762           NaN     1917.0           NaN  -37.81420   145.05973   \n",
       "13013           NaN        NaN           NaN  -37.80926   145.03310   \n",
       "13341         191.0     1910.0           NaN  -37.86325   145.02422   \n",
       "\n",
       "                  Regionname  Propertycount  \n",
       "108    Southern Metropolitan         3280.0  \n",
       "251    Southern Metropolitan         4836.0  \n",
       "273    Southern Metropolitan         4836.0  \n",
       "515    Southern Metropolitan         5682.0  \n",
       "573    Southern Metropolitan         5682.0  \n",
       "...                      ...            ...  \n",
       "12253  Southern Metropolitan         8920.0  \n",
       "12557  Southern Metropolitan         2019.0  \n",
       "12762  Southern Metropolitan        10331.0  \n",
       "13013  Southern Metropolitan        10331.0  \n",
       "13341  Southern Metropolitan         4836.0  \n",
       "\n",
       "[63 rows x 21 columns]"
      ]
     },
     "execution_count": 15,
     "metadata": {},
     "output_type": "execute_result"
    }
   ],
   "source": [
    "melb_df[melb_df['Price'] >= 4000000].head(70)"
   ]
  },
  {
   "cell_type": "code",
   "execution_count": 16,
   "metadata": {
    "colab": {
     "base_uri": "https://localhost:8080/",
     "height": 294
    },
    "executionInfo": {
     "elapsed": 56,
     "status": "ok",
     "timestamp": 1627584250862,
     "user": {
      "displayName": "María Belén Acotto",
      "photoUrl": "https://lh3.googleusercontent.com/a-/AOh14GgxTl0geb_R3SIr4AA6LSVxhUsOjZdbmESuiHF-wOs=s64",
      "userId": "02753886766132213766"
     },
     "user_tz": 180
    },
    "id": "kAM3s_rwGT9j",
    "outputId": "3402dabc-04b0-4314-87a7-7a2c7a313e0c"
   },
   "outputs": [
    {
     "data": {
      "text/html": [
       "<div>\n",
       "<style scoped>\n",
       "    .dataframe tbody tr th:only-of-type {\n",
       "        vertical-align: middle;\n",
       "    }\n",
       "\n",
       "    .dataframe tbody tr th {\n",
       "        vertical-align: top;\n",
       "    }\n",
       "\n",
       "    .dataframe thead th {\n",
       "        text-align: right;\n",
       "    }\n",
       "</style>\n",
       "<table border=\"1\" class=\"dataframe\">\n",
       "  <thead>\n",
       "    <tr style=\"text-align: right;\">\n",
       "      <th></th>\n",
       "      <th>Rooms</th>\n",
       "      <th>Price</th>\n",
       "      <th>Distance</th>\n",
       "      <th>Postcode</th>\n",
       "      <th>Bedroom2</th>\n",
       "      <th>Bathroom</th>\n",
       "      <th>Car</th>\n",
       "      <th>Landsize</th>\n",
       "      <th>BuildingArea</th>\n",
       "      <th>YearBuilt</th>\n",
       "      <th>Lattitude</th>\n",
       "      <th>Longtitude</th>\n",
       "      <th>Propertycount</th>\n",
       "    </tr>\n",
       "  </thead>\n",
       "  <tbody>\n",
       "    <tr>\n",
       "      <th>count</th>\n",
       "      <td>63.000000</td>\n",
       "      <td>6.300000e+01</td>\n",
       "      <td>63.000000</td>\n",
       "      <td>63.000000</td>\n",
       "      <td>63.000000</td>\n",
       "      <td>63.000000</td>\n",
       "      <td>63.000000</td>\n",
       "      <td>63.000000</td>\n",
       "      <td>40.000000</td>\n",
       "      <td>43.000000</td>\n",
       "      <td>63.000000</td>\n",
       "      <td>63.000000</td>\n",
       "      <td>63.000000</td>\n",
       "    </tr>\n",
       "    <tr>\n",
       "      <th>mean</th>\n",
       "      <td>4.317460</td>\n",
       "      <td>4.848484e+06</td>\n",
       "      <td>6.526984</td>\n",
       "      <td>3135.539683</td>\n",
       "      <td>4.285714</td>\n",
       "      <td>3.079365</td>\n",
       "      <td>2.603175</td>\n",
       "      <td>836.111111</td>\n",
       "      <td>322.457500</td>\n",
       "      <td>1938.348837</td>\n",
       "      <td>-37.841831</td>\n",
       "      <td>145.027035</td>\n",
       "      <td>7831.507937</td>\n",
       "    </tr>\n",
       "    <tr>\n",
       "      <th>std</th>\n",
       "      <td>0.912731</td>\n",
       "      <td>1.002989e+06</td>\n",
       "      <td>3.073361</td>\n",
       "      <td>41.396519</td>\n",
       "      <td>0.887704</td>\n",
       "      <td>1.036458</td>\n",
       "      <td>1.225267</td>\n",
       "      <td>376.524519</td>\n",
       "      <td>107.875155</td>\n",
       "      <td>44.414650</td>\n",
       "      <td>0.032216</td>\n",
       "      <td>0.039478</td>\n",
       "      <td>3209.607397</td>\n",
       "    </tr>\n",
       "    <tr>\n",
       "      <th>min</th>\n",
       "      <td>2.000000</td>\n",
       "      <td>4.000000e+06</td>\n",
       "      <td>1.500000</td>\n",
       "      <td>3002.000000</td>\n",
       "      <td>2.000000</td>\n",
       "      <td>1.000000</td>\n",
       "      <td>0.000000</td>\n",
       "      <td>220.000000</td>\n",
       "      <td>60.000000</td>\n",
       "      <td>1863.000000</td>\n",
       "      <td>-37.931680</td>\n",
       "      <td>144.955800</td>\n",
       "      <td>2019.000000</td>\n",
       "    </tr>\n",
       "    <tr>\n",
       "      <th>25%</th>\n",
       "      <td>4.000000</td>\n",
       "      <td>4.150000e+06</td>\n",
       "      <td>4.600000</td>\n",
       "      <td>3113.000000</td>\n",
       "      <td>4.000000</td>\n",
       "      <td>2.000000</td>\n",
       "      <td>2.000000</td>\n",
       "      <td>606.000000</td>\n",
       "      <td>274.250000</td>\n",
       "      <td>1910.000000</td>\n",
       "      <td>-37.858200</td>\n",
       "      <td>144.998040</td>\n",
       "      <td>4836.000000</td>\n",
       "    </tr>\n",
       "    <tr>\n",
       "      <th>50%</th>\n",
       "      <td>4.000000</td>\n",
       "      <td>4.525000e+06</td>\n",
       "      <td>5.600000</td>\n",
       "      <td>3142.000000</td>\n",
       "      <td>4.000000</td>\n",
       "      <td>3.000000</td>\n",
       "      <td>2.000000</td>\n",
       "      <td>787.000000</td>\n",
       "      <td>329.500000</td>\n",
       "      <td>1930.000000</td>\n",
       "      <td>-37.843100</td>\n",
       "      <td>145.026700</td>\n",
       "      <td>7217.000000</td>\n",
       "    </tr>\n",
       "    <tr>\n",
       "      <th>75%</th>\n",
       "      <td>5.000000</td>\n",
       "      <td>5.100000e+06</td>\n",
       "      <td>7.800000</td>\n",
       "      <td>3144.500000</td>\n",
       "      <td>5.000000</td>\n",
       "      <td>4.000000</td>\n",
       "      <td>3.000000</td>\n",
       "      <td>933.500000</td>\n",
       "      <td>375.000000</td>\n",
       "      <td>1975.500000</td>\n",
       "      <td>-37.816700</td>\n",
       "      <td>145.055800</td>\n",
       "      <td>10455.000000</td>\n",
       "    </tr>\n",
       "    <tr>\n",
       "      <th>max</th>\n",
       "      <td>7.000000</td>\n",
       "      <td>9.000000e+06</td>\n",
       "      <td>18.800000</td>\n",
       "      <td>3206.000000</td>\n",
       "      <td>7.000000</td>\n",
       "      <td>6.000000</td>\n",
       "      <td>7.000000</td>\n",
       "      <td>2079.000000</td>\n",
       "      <td>518.000000</td>\n",
       "      <td>2013.000000</td>\n",
       "      <td>-37.776300</td>\n",
       "      <td>145.161260</td>\n",
       "      <td>14887.000000</td>\n",
       "    </tr>\n",
       "  </tbody>\n",
       "</table>\n",
       "</div>"
      ],
      "text/plain": [
       "           Rooms         Price   Distance     Postcode   Bedroom2   Bathroom  \\\n",
       "count  63.000000  6.300000e+01  63.000000    63.000000  63.000000  63.000000   \n",
       "mean    4.317460  4.848484e+06   6.526984  3135.539683   4.285714   3.079365   \n",
       "std     0.912731  1.002989e+06   3.073361    41.396519   0.887704   1.036458   \n",
       "min     2.000000  4.000000e+06   1.500000  3002.000000   2.000000   1.000000   \n",
       "25%     4.000000  4.150000e+06   4.600000  3113.000000   4.000000   2.000000   \n",
       "50%     4.000000  4.525000e+06   5.600000  3142.000000   4.000000   3.000000   \n",
       "75%     5.000000  5.100000e+06   7.800000  3144.500000   5.000000   4.000000   \n",
       "max     7.000000  9.000000e+06  18.800000  3206.000000   7.000000   6.000000   \n",
       "\n",
       "             Car     Landsize  BuildingArea    YearBuilt  Lattitude  \\\n",
       "count  63.000000    63.000000     40.000000    43.000000  63.000000   \n",
       "mean    2.603175   836.111111    322.457500  1938.348837 -37.841831   \n",
       "std     1.225267   376.524519    107.875155    44.414650   0.032216   \n",
       "min     0.000000   220.000000     60.000000  1863.000000 -37.931680   \n",
       "25%     2.000000   606.000000    274.250000  1910.000000 -37.858200   \n",
       "50%     2.000000   787.000000    329.500000  1930.000000 -37.843100   \n",
       "75%     3.000000   933.500000    375.000000  1975.500000 -37.816700   \n",
       "max     7.000000  2079.000000    518.000000  2013.000000 -37.776300   \n",
       "\n",
       "       Longtitude  Propertycount  \n",
       "count   63.000000      63.000000  \n",
       "mean   145.027035    7831.507937  \n",
       "std      0.039478    3209.607397  \n",
       "min    144.955800    2019.000000  \n",
       "25%    144.998040    4836.000000  \n",
       "50%    145.026700    7217.000000  \n",
       "75%    145.055800   10455.000000  \n",
       "max    145.161260   14887.000000  "
      ]
     },
     "execution_count": 16,
     "metadata": {},
     "output_type": "execute_result"
    }
   ],
   "source": [
    "melb_df[melb_df['Price'] >= 4000000].describe()"
   ]
  },
  {
   "cell_type": "markdown",
   "metadata": {
    "id": "dOs5wT2pGT9k"
   },
   "source": [
    "Observamos que las propiedades por encima de 4M tienen características que podrían justificar el precio de la propiedades, como por ejemplo la cantidad de habitaciones, o el área en donde se encuentra, como así también el área construida.\n",
    "\n",
    "Luego de este análisis, optamos por sacar los outliers superiores por el método que utilizan los diagramas de cajas para este análisis.\n",
    "El método consta de  2 partes:\n",
    "1. Sacar el rango intercuartil: Q3 - Q1\n",
    "2. Obtener los bigotes, tanto superior como inferior. Para el inferior se le resta al Q1 el rango intercuartil por 1.5, y para el superior es el Q3 más el rango intercuartil  multiplicado por 1.5.\n",
    "\n",
    "El valor 1.5 es un valor dado para valores atípicos leves, pero pueden utilizarse valores superiores si es de preferencia.\n",
    "\n",
    "Adjuntamos   [link de Wikipedia](https://es.wikipedia.org/wiki/Valor_at%C3%ADpico#:~:text=%2C%20o%20rango%20intercuart%C3%ADlico.,esa%20distancia%20(at%C3%ADpico%20extremo). en donde se puede obtener más detalle sobre el método utilizado.\n",
    "\n"
   ]
  },
  {
   "cell_type": "code",
   "execution_count": 17,
   "metadata": {
    "colab": {
     "base_uri": "https://localhost:8080/"
    },
    "executionInfo": {
     "elapsed": 54,
     "status": "ok",
     "timestamp": 1627584250863,
     "user": {
      "displayName": "María Belén Acotto",
      "photoUrl": "https://lh3.googleusercontent.com/a-/AOh14GgxTl0geb_R3SIr4AA6LSVxhUsOjZdbmESuiHF-wOs=s64",
      "userId": "02753886766132213766"
     },
     "user_tz": 180
    },
    "id": "cMT9nPMuGT9k",
    "outputId": "6749b738-394b-4301-c4a3-71237c2c6099"
   },
   "outputs": [
    {
     "name": "stdout",
     "output_type": "stream",
     "text": [
      "Rango Intercuartil: 680000.0\n",
      "Bigote Inferior: -370000.0\n",
      "Bigote Superior: 2350000.0\n"
     ]
    }
   ],
   "source": [
    "Q1 = melb_df['Price'].quantile(0.25)\n",
    "Q3 = melb_df['Price'].quantile(0.75)\n",
    "# RI = Rango_Intercuartil\n",
    "RI = Q3 - Q1\n",
    "# BI = Bigote Inferior\n",
    "BI = Q1 - 1.5 * RI\n",
    "# BS = Bigote Superior\n",
    "BS = Q3 + 1.5 * RI\n",
    "\n",
    "print('Rango Intercuartil:',RI)\n",
    "print('Bigote Inferior:', BI)\n",
    "print('Bigote Superior:',BS)"
   ]
  },
  {
   "cell_type": "markdown",
   "metadata": {
    "id": "8kPTKh4nGT9k"
   },
   "source": [
    "Aquí obtuvimos 3 valores, nuestro rango intercuartil (Q3-Q1), el bigote superior el cual nos limitará nuestro dataset con sus valores superiores, y el bigote inferior que nos limitará el dataset con los valores mínimos.\n",
    "\n",
    "Notesé que el bigote inferior es negativo, por lo cual queda totalmente descartado para nuestros valores, porque como ya comprobamos anteriormente, no existen datos negativos para precio."
   ]
  },
  {
   "cell_type": "markdown",
   "metadata": {
    "id": "9xuJ3oBmGT9l"
   },
   "source": [
    "Procederemos entonces a sacar los outliers en un nuevo dataset:"
   ]
  },
  {
   "cell_type": "code",
   "execution_count": 18,
   "metadata": {
    "colab": {
     "base_uri": "https://localhost:8080/"
    },
    "executionInfo": {
     "elapsed": 46,
     "status": "ok",
     "timestamp": 1627584250864,
     "user": {
      "displayName": "María Belén Acotto",
      "photoUrl": "https://lh3.googleusercontent.com/a-/AOh14GgxTl0geb_R3SIr4AA6LSVxhUsOjZdbmESuiHF-wOs=s64",
      "userId": "02753886766132213766"
     },
     "user_tz": 180
    },
    "id": "1kwPgShAGT9l",
    "outputId": "fe264f24-e64f-4ded-bb56-7029b60c8870"
   },
   "outputs": [
    {
     "name": "stdout",
     "output_type": "stream",
     "text": [
      "Datos considerados como Outliers: 612\n"
     ]
    }
   ],
   "source": [
    "outliers = len(melb_df[melb_df['Price'] > BS])\n",
    "print('Datos considerados como Outliers:', outliers)"
   ]
  },
  {
   "cell_type": "code",
   "execution_count": 19,
   "metadata": {
    "colab": {
     "base_uri": "https://localhost:8080/",
     "height": 294
    },
    "executionInfo": {
     "elapsed": 41,
     "status": "ok",
     "timestamp": 1627584250865,
     "user": {
      "displayName": "María Belén Acotto",
      "photoUrl": "https://lh3.googleusercontent.com/a-/AOh14GgxTl0geb_R3SIr4AA6LSVxhUsOjZdbmESuiHF-wOs=s64",
      "userId": "02753886766132213766"
     },
     "user_tz": 180
    },
    "id": "TAk_l8UaGT9l",
    "outputId": "a152fba5-2424-4332-dfca-fa1213dde205"
   },
   "outputs": [
    {
     "data": {
      "text/html": [
       "<div>\n",
       "<style scoped>\n",
       "    .dataframe tbody tr th:only-of-type {\n",
       "        vertical-align: middle;\n",
       "    }\n",
       "\n",
       "    .dataframe tbody tr th {\n",
       "        vertical-align: top;\n",
       "    }\n",
       "\n",
       "    .dataframe thead th {\n",
       "        text-align: right;\n",
       "    }\n",
       "</style>\n",
       "<table border=\"1\" class=\"dataframe\">\n",
       "  <thead>\n",
       "    <tr style=\"text-align: right;\">\n",
       "      <th></th>\n",
       "      <th>Rooms</th>\n",
       "      <th>Price</th>\n",
       "      <th>Distance</th>\n",
       "      <th>Postcode</th>\n",
       "      <th>Bedroom2</th>\n",
       "      <th>Bathroom</th>\n",
       "      <th>Car</th>\n",
       "      <th>Landsize</th>\n",
       "      <th>BuildingArea</th>\n",
       "      <th>YearBuilt</th>\n",
       "      <th>Lattitude</th>\n",
       "      <th>Longtitude</th>\n",
       "      <th>Propertycount</th>\n",
       "    </tr>\n",
       "  </thead>\n",
       "  <tbody>\n",
       "    <tr>\n",
       "      <th>count</th>\n",
       "      <td>612.00</td>\n",
       "      <td>612.00</td>\n",
       "      <td>612.00</td>\n",
       "      <td>612.00</td>\n",
       "      <td>612.00</td>\n",
       "      <td>612.00</td>\n",
       "      <td>609.00</td>\n",
       "      <td>612.00</td>\n",
       "      <td>357.00</td>\n",
       "      <td>399.00</td>\n",
       "      <td>612.00</td>\n",
       "      <td>612.00</td>\n",
       "      <td>612.00</td>\n",
       "    </tr>\n",
       "    <tr>\n",
       "      <th>mean</th>\n",
       "      <td>4.05</td>\n",
       "      <td>3047547.20</td>\n",
       "      <td>7.98</td>\n",
       "      <td>3134.35</td>\n",
       "      <td>3.99</td>\n",
       "      <td>2.54</td>\n",
       "      <td>2.22</td>\n",
       "      <td>1429.39</td>\n",
       "      <td>282.42</td>\n",
       "      <td>1944.38</td>\n",
       "      <td>-37.84</td>\n",
       "      <td>145.03</td>\n",
       "      <td>7481.56</td>\n",
       "    </tr>\n",
       "    <tr>\n",
       "      <th>std</th>\n",
       "      <td>0.84</td>\n",
       "      <td>786565.44</td>\n",
       "      <td>3.30</td>\n",
       "      <td>45.07</td>\n",
       "      <td>0.87</td>\n",
       "      <td>0.95</td>\n",
       "      <td>1.11</td>\n",
       "      <td>17479.64</td>\n",
       "      <td>186.25</td>\n",
       "      <td>44.39</td>\n",
       "      <td>0.05</td>\n",
       "      <td>0.05</td>\n",
       "      <td>3188.89</td>\n",
       "    </tr>\n",
       "    <tr>\n",
       "      <th>min</th>\n",
       "      <td>1.00</td>\n",
       "      <td>2352500.00</td>\n",
       "      <td>1.50</td>\n",
       "      <td>3002.00</td>\n",
       "      <td>0.00</td>\n",
       "      <td>1.00</td>\n",
       "      <td>0.00</td>\n",
       "      <td>0.00</td>\n",
       "      <td>0.00</td>\n",
       "      <td>1854.00</td>\n",
       "      <td>-38.00</td>\n",
       "      <td>144.88</td>\n",
       "      <td>394.00</td>\n",
       "    </tr>\n",
       "    <tr>\n",
       "      <th>25%</th>\n",
       "      <td>4.00</td>\n",
       "      <td>2548750.00</td>\n",
       "      <td>5.50</td>\n",
       "      <td>3103.00</td>\n",
       "      <td>3.00</td>\n",
       "      <td>2.00</td>\n",
       "      <td>2.00</td>\n",
       "      <td>546.25</td>\n",
       "      <td>204.00</td>\n",
       "      <td>1910.00</td>\n",
       "      <td>-37.87</td>\n",
       "      <td>145.00</td>\n",
       "      <td>5454.00</td>\n",
       "    </tr>\n",
       "    <tr>\n",
       "      <th>50%</th>\n",
       "      <td>4.00</td>\n",
       "      <td>2800000.00</td>\n",
       "      <td>7.80</td>\n",
       "      <td>3127.00</td>\n",
       "      <td>4.00</td>\n",
       "      <td>2.00</td>\n",
       "      <td>2.00</td>\n",
       "      <td>695.50</td>\n",
       "      <td>273.00</td>\n",
       "      <td>1930.00</td>\n",
       "      <td>-37.84</td>\n",
       "      <td>145.03</td>\n",
       "      <td>7217.00</td>\n",
       "    </tr>\n",
       "    <tr>\n",
       "      <th>75%</th>\n",
       "      <td>5.00</td>\n",
       "      <td>3270000.00</td>\n",
       "      <td>10.30</td>\n",
       "      <td>3184.00</td>\n",
       "      <td>4.25</td>\n",
       "      <td>3.00</td>\n",
       "      <td>2.00</td>\n",
       "      <td>840.00</td>\n",
       "      <td>336.00</td>\n",
       "      <td>1991.00</td>\n",
       "      <td>-37.81</td>\n",
       "      <td>145.07</td>\n",
       "      <td>10331.00</td>\n",
       "    </tr>\n",
       "    <tr>\n",
       "      <th>max</th>\n",
       "      <td>8.00</td>\n",
       "      <td>9000000.00</td>\n",
       "      <td>21.50</td>\n",
       "      <td>3207.00</td>\n",
       "      <td>9.00</td>\n",
       "      <td>7.00</td>\n",
       "      <td>8.00</td>\n",
       "      <td>433014.00</td>\n",
       "      <td>3112.00</td>\n",
       "      <td>2017.00</td>\n",
       "      <td>-37.74</td>\n",
       "      <td>145.19</td>\n",
       "      <td>15321.00</td>\n",
       "    </tr>\n",
       "  </tbody>\n",
       "</table>\n",
       "</div>"
      ],
      "text/plain": [
       "        Rooms       Price  Distance  Postcode  Bedroom2  Bathroom     Car  \\\n",
       "count  612.00      612.00    612.00    612.00    612.00    612.00  609.00   \n",
       "mean     4.05  3047547.20      7.98   3134.35      3.99      2.54    2.22   \n",
       "std      0.84   786565.44      3.30     45.07      0.87      0.95    1.11   \n",
       "min      1.00  2352500.00      1.50   3002.00      0.00      1.00    0.00   \n",
       "25%      4.00  2548750.00      5.50   3103.00      3.00      2.00    2.00   \n",
       "50%      4.00  2800000.00      7.80   3127.00      4.00      2.00    2.00   \n",
       "75%      5.00  3270000.00     10.30   3184.00      4.25      3.00    2.00   \n",
       "max      8.00  9000000.00     21.50   3207.00      9.00      7.00    8.00   \n",
       "\n",
       "        Landsize  BuildingArea  YearBuilt  Lattitude  Longtitude  \\\n",
       "count     612.00        357.00     399.00     612.00      612.00   \n",
       "mean     1429.39        282.42    1944.38     -37.84      145.03   \n",
       "std     17479.64        186.25      44.39       0.05        0.05   \n",
       "min         0.00          0.00    1854.00     -38.00      144.88   \n",
       "25%       546.25        204.00    1910.00     -37.87      145.00   \n",
       "50%       695.50        273.00    1930.00     -37.84      145.03   \n",
       "75%       840.00        336.00    1991.00     -37.81      145.07   \n",
       "max    433014.00       3112.00    2017.00     -37.74      145.19   \n",
       "\n",
       "       Propertycount  \n",
       "count         612.00  \n",
       "mean         7481.56  \n",
       "std          3188.89  \n",
       "min           394.00  \n",
       "25%          5454.00  \n",
       "50%          7217.00  \n",
       "75%         10331.00  \n",
       "max         15321.00  "
      ]
     },
     "execution_count": 19,
     "metadata": {},
     "output_type": "execute_result"
    }
   ],
   "source": [
    "melb_df[melb_df['Price'] > BS].describe().round(2)"
   ]
  },
  {
   "cell_type": "code",
   "execution_count": 20,
   "metadata": {
    "colab": {
     "base_uri": "https://localhost:8080/",
     "height": 651
    },
    "executionInfo": {
     "elapsed": 38,
     "status": "ok",
     "timestamp": 1627584250865,
     "user": {
      "displayName": "María Belén Acotto",
      "photoUrl": "https://lh3.googleusercontent.com/a-/AOh14GgxTl0geb_R3SIr4AA6LSVxhUsOjZdbmESuiHF-wOs=s64",
      "userId": "02753886766132213766"
     },
     "user_tz": 180
    },
    "id": "uLK6xYpBGT9m",
    "outputId": "23a749f1-7e6a-4473-d1c8-12d82a841f8d"
   },
   "outputs": [
    {
     "data": {
      "text/html": [
       "<div>\n",
       "<style scoped>\n",
       "    .dataframe tbody tr th:only-of-type {\n",
       "        vertical-align: middle;\n",
       "    }\n",
       "\n",
       "    .dataframe tbody tr th {\n",
       "        vertical-align: top;\n",
       "    }\n",
       "\n",
       "    .dataframe thead th {\n",
       "        text-align: right;\n",
       "    }\n",
       "</style>\n",
       "<table border=\"1\" class=\"dataframe\">\n",
       "  <thead>\n",
       "    <tr style=\"text-align: right;\">\n",
       "      <th></th>\n",
       "      <th>Suburb</th>\n",
       "      <th>Address</th>\n",
       "      <th>Rooms</th>\n",
       "      <th>Type</th>\n",
       "      <th>Price</th>\n",
       "      <th>Method</th>\n",
       "      <th>SellerG</th>\n",
       "      <th>Date</th>\n",
       "      <th>Distance</th>\n",
       "      <th>Postcode</th>\n",
       "      <th>Bedroom2</th>\n",
       "      <th>Bathroom</th>\n",
       "      <th>Car</th>\n",
       "      <th>Landsize</th>\n",
       "      <th>BuildingArea</th>\n",
       "      <th>YearBuilt</th>\n",
       "      <th>CouncilArea</th>\n",
       "      <th>Lattitude</th>\n",
       "      <th>Longtitude</th>\n",
       "      <th>Regionname</th>\n",
       "      <th>Propertycount</th>\n",
       "    </tr>\n",
       "  </thead>\n",
       "  <tbody>\n",
       "    <tr>\n",
       "      <th>0</th>\n",
       "      <td>Abbotsford</td>\n",
       "      <td>85 Turner St</td>\n",
       "      <td>2</td>\n",
       "      <td>h</td>\n",
       "      <td>1480000.0</td>\n",
       "      <td>S</td>\n",
       "      <td>Biggin</td>\n",
       "      <td>2016-03-12</td>\n",
       "      <td>2.5</td>\n",
       "      <td>3067.0</td>\n",
       "      <td>2.0</td>\n",
       "      <td>1.0</td>\n",
       "      <td>1.0</td>\n",
       "      <td>202.0</td>\n",
       "      <td>NaN</td>\n",
       "      <td>NaN</td>\n",
       "      <td>Yarra</td>\n",
       "      <td>-37.79960</td>\n",
       "      <td>144.99840</td>\n",
       "      <td>Northern Metropolitan</td>\n",
       "      <td>4019.0</td>\n",
       "    </tr>\n",
       "    <tr>\n",
       "      <th>1</th>\n",
       "      <td>Abbotsford</td>\n",
       "      <td>25 Bloomburg St</td>\n",
       "      <td>2</td>\n",
       "      <td>h</td>\n",
       "      <td>1035000.0</td>\n",
       "      <td>S</td>\n",
       "      <td>Biggin</td>\n",
       "      <td>2016-04-02</td>\n",
       "      <td>2.5</td>\n",
       "      <td>3067.0</td>\n",
       "      <td>2.0</td>\n",
       "      <td>1.0</td>\n",
       "      <td>0.0</td>\n",
       "      <td>156.0</td>\n",
       "      <td>79.0</td>\n",
       "      <td>1900.0</td>\n",
       "      <td>Yarra</td>\n",
       "      <td>-37.80790</td>\n",
       "      <td>144.99340</td>\n",
       "      <td>Northern Metropolitan</td>\n",
       "      <td>4019.0</td>\n",
       "    </tr>\n",
       "    <tr>\n",
       "      <th>2</th>\n",
       "      <td>Abbotsford</td>\n",
       "      <td>5 Charles St</td>\n",
       "      <td>3</td>\n",
       "      <td>h</td>\n",
       "      <td>1465000.0</td>\n",
       "      <td>SP</td>\n",
       "      <td>Biggin</td>\n",
       "      <td>2017-04-03</td>\n",
       "      <td>2.5</td>\n",
       "      <td>3067.0</td>\n",
       "      <td>3.0</td>\n",
       "      <td>2.0</td>\n",
       "      <td>0.0</td>\n",
       "      <td>134.0</td>\n",
       "      <td>150.0</td>\n",
       "      <td>1900.0</td>\n",
       "      <td>Yarra</td>\n",
       "      <td>-37.80930</td>\n",
       "      <td>144.99440</td>\n",
       "      <td>Northern Metropolitan</td>\n",
       "      <td>4019.0</td>\n",
       "    </tr>\n",
       "    <tr>\n",
       "      <th>3</th>\n",
       "      <td>Abbotsford</td>\n",
       "      <td>40 Federation La</td>\n",
       "      <td>3</td>\n",
       "      <td>h</td>\n",
       "      <td>850000.0</td>\n",
       "      <td>PI</td>\n",
       "      <td>Biggin</td>\n",
       "      <td>2017-04-03</td>\n",
       "      <td>2.5</td>\n",
       "      <td>3067.0</td>\n",
       "      <td>3.0</td>\n",
       "      <td>2.0</td>\n",
       "      <td>1.0</td>\n",
       "      <td>94.0</td>\n",
       "      <td>NaN</td>\n",
       "      <td>NaN</td>\n",
       "      <td>Yarra</td>\n",
       "      <td>-37.79690</td>\n",
       "      <td>144.99690</td>\n",
       "      <td>Northern Metropolitan</td>\n",
       "      <td>4019.0</td>\n",
       "    </tr>\n",
       "    <tr>\n",
       "      <th>4</th>\n",
       "      <td>Abbotsford</td>\n",
       "      <td>55a Park St</td>\n",
       "      <td>4</td>\n",
       "      <td>h</td>\n",
       "      <td>1600000.0</td>\n",
       "      <td>VB</td>\n",
       "      <td>Nelson</td>\n",
       "      <td>2016-04-06</td>\n",
       "      <td>2.5</td>\n",
       "      <td>3067.0</td>\n",
       "      <td>3.0</td>\n",
       "      <td>1.0</td>\n",
       "      <td>2.0</td>\n",
       "      <td>120.0</td>\n",
       "      <td>142.0</td>\n",
       "      <td>2014.0</td>\n",
       "      <td>Yarra</td>\n",
       "      <td>-37.80720</td>\n",
       "      <td>144.99410</td>\n",
       "      <td>Northern Metropolitan</td>\n",
       "      <td>4019.0</td>\n",
       "    </tr>\n",
       "    <tr>\n",
       "      <th>...</th>\n",
       "      <td>...</td>\n",
       "      <td>...</td>\n",
       "      <td>...</td>\n",
       "      <td>...</td>\n",
       "      <td>...</td>\n",
       "      <td>...</td>\n",
       "      <td>...</td>\n",
       "      <td>...</td>\n",
       "      <td>...</td>\n",
       "      <td>...</td>\n",
       "      <td>...</td>\n",
       "      <td>...</td>\n",
       "      <td>...</td>\n",
       "      <td>...</td>\n",
       "      <td>...</td>\n",
       "      <td>...</td>\n",
       "      <td>...</td>\n",
       "      <td>...</td>\n",
       "      <td>...</td>\n",
       "      <td>...</td>\n",
       "      <td>...</td>\n",
       "    </tr>\n",
       "    <tr>\n",
       "      <th>13574</th>\n",
       "      <td>Westmeadows</td>\n",
       "      <td>9 Black St</td>\n",
       "      <td>3</td>\n",
       "      <td>h</td>\n",
       "      <td>582000.0</td>\n",
       "      <td>S</td>\n",
       "      <td>Red</td>\n",
       "      <td>2017-08-26</td>\n",
       "      <td>16.5</td>\n",
       "      <td>3049.0</td>\n",
       "      <td>3.0</td>\n",
       "      <td>2.0</td>\n",
       "      <td>2.0</td>\n",
       "      <td>256.0</td>\n",
       "      <td>NaN</td>\n",
       "      <td>NaN</td>\n",
       "      <td>NaN</td>\n",
       "      <td>-37.67917</td>\n",
       "      <td>144.89390</td>\n",
       "      <td>Northern Metropolitan</td>\n",
       "      <td>2474.0</td>\n",
       "    </tr>\n",
       "    <tr>\n",
       "      <th>13575</th>\n",
       "      <td>Wheelers Hill</td>\n",
       "      <td>12 Strada Cr</td>\n",
       "      <td>4</td>\n",
       "      <td>h</td>\n",
       "      <td>1245000.0</td>\n",
       "      <td>S</td>\n",
       "      <td>Barry</td>\n",
       "      <td>2017-08-26</td>\n",
       "      <td>16.7</td>\n",
       "      <td>3150.0</td>\n",
       "      <td>4.0</td>\n",
       "      <td>2.0</td>\n",
       "      <td>2.0</td>\n",
       "      <td>652.0</td>\n",
       "      <td>NaN</td>\n",
       "      <td>1981.0</td>\n",
       "      <td>NaN</td>\n",
       "      <td>-37.90562</td>\n",
       "      <td>145.16761</td>\n",
       "      <td>South-Eastern Metropolitan</td>\n",
       "      <td>7392.0</td>\n",
       "    </tr>\n",
       "    <tr>\n",
       "      <th>13576</th>\n",
       "      <td>Williamstown</td>\n",
       "      <td>77 Merrett Dr</td>\n",
       "      <td>3</td>\n",
       "      <td>h</td>\n",
       "      <td>1031000.0</td>\n",
       "      <td>SP</td>\n",
       "      <td>Williams</td>\n",
       "      <td>2017-08-26</td>\n",
       "      <td>6.8</td>\n",
       "      <td>3016.0</td>\n",
       "      <td>3.0</td>\n",
       "      <td>2.0</td>\n",
       "      <td>2.0</td>\n",
       "      <td>333.0</td>\n",
       "      <td>133.0</td>\n",
       "      <td>1995.0</td>\n",
       "      <td>NaN</td>\n",
       "      <td>-37.85927</td>\n",
       "      <td>144.87904</td>\n",
       "      <td>Western Metropolitan</td>\n",
       "      <td>6380.0</td>\n",
       "    </tr>\n",
       "    <tr>\n",
       "      <th>13577</th>\n",
       "      <td>Williamstown</td>\n",
       "      <td>83 Power St</td>\n",
       "      <td>3</td>\n",
       "      <td>h</td>\n",
       "      <td>1170000.0</td>\n",
       "      <td>S</td>\n",
       "      <td>Raine</td>\n",
       "      <td>2017-08-26</td>\n",
       "      <td>6.8</td>\n",
       "      <td>3016.0</td>\n",
       "      <td>3.0</td>\n",
       "      <td>2.0</td>\n",
       "      <td>4.0</td>\n",
       "      <td>436.0</td>\n",
       "      <td>NaN</td>\n",
       "      <td>1997.0</td>\n",
       "      <td>NaN</td>\n",
       "      <td>-37.85274</td>\n",
       "      <td>144.88738</td>\n",
       "      <td>Western Metropolitan</td>\n",
       "      <td>6380.0</td>\n",
       "    </tr>\n",
       "    <tr>\n",
       "      <th>13579</th>\n",
       "      <td>Yarraville</td>\n",
       "      <td>6 Agnes St</td>\n",
       "      <td>4</td>\n",
       "      <td>h</td>\n",
       "      <td>1285000.0</td>\n",
       "      <td>SP</td>\n",
       "      <td>Village</td>\n",
       "      <td>2017-08-26</td>\n",
       "      <td>6.3</td>\n",
       "      <td>3013.0</td>\n",
       "      <td>4.0</td>\n",
       "      <td>1.0</td>\n",
       "      <td>1.0</td>\n",
       "      <td>362.0</td>\n",
       "      <td>112.0</td>\n",
       "      <td>1920.0</td>\n",
       "      <td>NaN</td>\n",
       "      <td>-37.81188</td>\n",
       "      <td>144.88449</td>\n",
       "      <td>Western Metropolitan</td>\n",
       "      <td>6543.0</td>\n",
       "    </tr>\n",
       "  </tbody>\n",
       "</table>\n",
       "<p>12956 rows × 21 columns</p>\n",
       "</div>"
      ],
      "text/plain": [
       "              Suburb           Address  Rooms Type      Price Method  \\\n",
       "0         Abbotsford      85 Turner St      2    h  1480000.0      S   \n",
       "1         Abbotsford   25 Bloomburg St      2    h  1035000.0      S   \n",
       "2         Abbotsford      5 Charles St      3    h  1465000.0     SP   \n",
       "3         Abbotsford  40 Federation La      3    h   850000.0     PI   \n",
       "4         Abbotsford       55a Park St      4    h  1600000.0     VB   \n",
       "...              ...               ...    ...  ...        ...    ...   \n",
       "13574    Westmeadows        9 Black St      3    h   582000.0      S   \n",
       "13575  Wheelers Hill      12 Strada Cr      4    h  1245000.0      S   \n",
       "13576   Williamstown     77 Merrett Dr      3    h  1031000.0     SP   \n",
       "13577   Williamstown       83 Power St      3    h  1170000.0      S   \n",
       "13579     Yarraville        6 Agnes St      4    h  1285000.0     SP   \n",
       "\n",
       "        SellerG       Date  Distance  Postcode  Bedroom2  Bathroom  Car  \\\n",
       "0        Biggin 2016-03-12       2.5    3067.0       2.0       1.0  1.0   \n",
       "1        Biggin 2016-04-02       2.5    3067.0       2.0       1.0  0.0   \n",
       "2        Biggin 2017-04-03       2.5    3067.0       3.0       2.0  0.0   \n",
       "3        Biggin 2017-04-03       2.5    3067.0       3.0       2.0  1.0   \n",
       "4        Nelson 2016-04-06       2.5    3067.0       3.0       1.0  2.0   \n",
       "...         ...        ...       ...       ...       ...       ...  ...   \n",
       "13574       Red 2017-08-26      16.5    3049.0       3.0       2.0  2.0   \n",
       "13575     Barry 2017-08-26      16.7    3150.0       4.0       2.0  2.0   \n",
       "13576  Williams 2017-08-26       6.8    3016.0       3.0       2.0  2.0   \n",
       "13577     Raine 2017-08-26       6.8    3016.0       3.0       2.0  4.0   \n",
       "13579   Village 2017-08-26       6.3    3013.0       4.0       1.0  1.0   \n",
       "\n",
       "       Landsize  BuildingArea  YearBuilt CouncilArea  Lattitude  Longtitude  \\\n",
       "0         202.0           NaN        NaN       Yarra  -37.79960   144.99840   \n",
       "1         156.0          79.0     1900.0       Yarra  -37.80790   144.99340   \n",
       "2         134.0         150.0     1900.0       Yarra  -37.80930   144.99440   \n",
       "3          94.0           NaN        NaN       Yarra  -37.79690   144.99690   \n",
       "4         120.0         142.0     2014.0       Yarra  -37.80720   144.99410   \n",
       "...         ...           ...        ...         ...        ...         ...   \n",
       "13574     256.0           NaN        NaN         NaN  -37.67917   144.89390   \n",
       "13575     652.0           NaN     1981.0         NaN  -37.90562   145.16761   \n",
       "13576     333.0         133.0     1995.0         NaN  -37.85927   144.87904   \n",
       "13577     436.0           NaN     1997.0         NaN  -37.85274   144.88738   \n",
       "13579     362.0         112.0     1920.0         NaN  -37.81188   144.88449   \n",
       "\n",
       "                       Regionname  Propertycount  \n",
       "0           Northern Metropolitan         4019.0  \n",
       "1           Northern Metropolitan         4019.0  \n",
       "2           Northern Metropolitan         4019.0  \n",
       "3           Northern Metropolitan         4019.0  \n",
       "4           Northern Metropolitan         4019.0  \n",
       "...                           ...            ...  \n",
       "13574       Northern Metropolitan         2474.0  \n",
       "13575  South-Eastern Metropolitan         7392.0  \n",
       "13576        Western Metropolitan         6380.0  \n",
       "13577        Western Metropolitan         6380.0  \n",
       "13579        Western Metropolitan         6543.0  \n",
       "\n",
       "[12956 rows x 21 columns]"
      ]
     },
     "execution_count": 20,
     "metadata": {},
     "output_type": "execute_result"
    }
   ],
   "source": [
    "melb_df_2 = melb_df[melb_df['Price'] < BS]\n",
    "melb_df_2"
   ]
  },
  {
   "cell_type": "markdown",
   "metadata": {
    "id": "imqWwAvOGT9m"
   },
   "source": [
    "Como podemos observar, la cantidad de propiedades que quedan es de 12.956.\n",
    "\n",
    "Vamos a visualizar una vez más el diagrama boxenplot con este nuevo dataset para corroborar las diferencias."
   ]
  },
  {
   "cell_type": "code",
   "execution_count": 21,
   "metadata": {
    "colab": {
     "base_uri": "https://localhost:8080/",
     "height": 973
    },
    "executionInfo": {
     "elapsed": 36,
     "status": "ok",
     "timestamp": 1627584250866,
     "user": {
      "displayName": "María Belén Acotto",
      "photoUrl": "https://lh3.googleusercontent.com/a-/AOh14GgxTl0geb_R3SIr4AA6LSVxhUsOjZdbmESuiHF-wOs=s64",
      "userId": "02753886766132213766"
     },
     "user_tz": 180
    },
    "id": "eMQuAY6IGT9m",
    "outputId": "41cc9c0a-96da-4422-993d-533c104d1cf1"
   },
   "outputs": [
    {
     "data": {
      "image/png": "[encoded data removed]",
      "text/plain": [
       "<Figure size 1008x1152 with 2 Axes>"
      ]
     },
     "metadata": {
      "needs_background": "light"
     },
     "output_type": "display_data"
    }
   ],
   "source": [
    "fig, axes = plt.subplots(2, 1,figsize=(14,16))\n",
    "\n",
    "sns.boxenplot(data=melb_df, x=\"Price\", color='salmon', ax=axes[0])\n",
    "axes[0].title.set_text('Dataset Original - V.A. Price - Con Outliers')\n",
    "sns.boxenplot(data=melb_df_2, x=\"Price\", color='green', ax=axes[1])\n",
    "axes[1].title.set_text('Dataset Nuevo - V.A. Price - Sin Outliers')\n",
    "\n",
    "plt.show()"
   ]
  },
  {
   "cell_type": "markdown",
   "metadata": {
    "id": "oI8rooRqGT9n"
   },
   "source": [
    "Observamos, que la concentración de los valores es mas uniforme y concentrados. Donde los valores extremos superiores fueron quitados, dejando así un dataset más homogeneos y significativo para realizar el análisis. \n",
    "\n",
    "Volvemos a describir la columna PRICE de este nuevo dataset para visualizar sus caracteristicas: "
   ]
  },
  {
   "cell_type": "code",
   "execution_count": 22,
   "metadata": {
    "colab": {
     "base_uri": "https://localhost:8080/",
     "height": 294
    },
    "executionInfo": {
     "elapsed": 34,
     "status": "ok",
     "timestamp": 1627584250866,
     "user": {
      "displayName": "María Belén Acotto",
      "photoUrl": "https://lh3.googleusercontent.com/a-/AOh14GgxTl0geb_R3SIr4AA6LSVxhUsOjZdbmESuiHF-wOs=s64",
      "userId": "02753886766132213766"
     },
     "user_tz": 180
    },
    "id": "3ipZ2k1oGT9n",
    "outputId": "1969209e-c838-47af-8098-0151e26fdd6f"
   },
   "outputs": [
    {
     "data": {
      "text/html": [
       "<div>\n",
       "<style scoped>\n",
       "    .dataframe tbody tr th:only-of-type {\n",
       "        vertical-align: middle;\n",
       "    }\n",
       "\n",
       "    .dataframe tbody tr th {\n",
       "        vertical-align: top;\n",
       "    }\n",
       "\n",
       "    .dataframe thead th {\n",
       "        text-align: right;\n",
       "    }\n",
       "</style>\n",
       "<table border=\"1\" class=\"dataframe\">\n",
       "  <thead>\n",
       "    <tr style=\"text-align: right;\">\n",
       "      <th></th>\n",
       "      <th>Price</th>\n",
       "    </tr>\n",
       "  </thead>\n",
       "  <tbody>\n",
       "    <tr>\n",
       "      <th>count</th>\n",
       "      <td>12956.00</td>\n",
       "    </tr>\n",
       "    <tr>\n",
       "      <th>mean</th>\n",
       "      <td>981359.29</td>\n",
       "    </tr>\n",
       "    <tr>\n",
       "      <th>std</th>\n",
       "      <td>452925.15</td>\n",
       "    </tr>\n",
       "    <tr>\n",
       "      <th>min</th>\n",
       "      <td>85000.00</td>\n",
       "    </tr>\n",
       "    <tr>\n",
       "      <th>25%</th>\n",
       "      <td>637000.00</td>\n",
       "    </tr>\n",
       "    <tr>\n",
       "      <th>50%</th>\n",
       "      <td>880000.00</td>\n",
       "    </tr>\n",
       "    <tr>\n",
       "      <th>75%</th>\n",
       "      <td>1270000.00</td>\n",
       "    </tr>\n",
       "    <tr>\n",
       "      <th>max</th>\n",
       "      <td>2345000.00</td>\n",
       "    </tr>\n",
       "  </tbody>\n",
       "</table>\n",
       "</div>"
      ],
      "text/plain": [
       "            Price\n",
       "count    12956.00\n",
       "mean    981359.29\n",
       "std     452925.15\n",
       "min      85000.00\n",
       "25%     637000.00\n",
       "50%     880000.00\n",
       "75%    1270000.00\n",
       "max    2345000.00"
      ]
     },
     "execution_count": 22,
     "metadata": {},
     "output_type": "execute_result"
    }
   ],
   "source": [
    "melb_df_2[['Price']].describe().round(2)"
   ]
  },
  {
   "cell_type": "code",
   "execution_count": 23,
   "metadata": {
    "colab": {
     "base_uri": "https://localhost:8080/"
    },
    "executionInfo": {
     "elapsed": 33,
     "status": "ok",
     "timestamp": 1627584250867,
     "user": {
      "displayName": "María Belén Acotto",
      "photoUrl": "https://lh3.googleusercontent.com/a-/AOh14GgxTl0geb_R3SIr4AA6LSVxhUsOjZdbmESuiHF-wOs=s64",
      "userId": "02753886766132213766"
     },
     "user_tz": 180
    },
    "id": "_w9T-K82GT9n",
    "outputId": "f896245a-92f3-4db2-d0ab-0a2a3072a2a9"
   },
   "outputs": [
    {
     "name": "stdout",
     "output_type": "stream",
     "text": [
      "Mediana: Price    880000.0\n",
      "dtype: float64\n"
     ]
    }
   ],
   "source": [
    "print('Mediana:',melb_df_2[['Price']].median())"
   ]
  },
  {
   "cell_type": "markdown",
   "metadata": {
    "id": "G7NTp_dkGT9o"
   },
   "source": [
    "---"
   ]
  },
  {
   "cell_type": "markdown",
   "metadata": {
    "id": "sRv59T3AGT9o"
   },
   "source": [
    "#### Conclusión 1.1"
   ]
  },
  {
   "cell_type": "markdown",
   "metadata": {
    "id": "qhdbTFZaGT9o"
   },
   "source": [
    "Podes concluir, que quitar oultiers nos benefició en: \n",
    "\n",
    "*   El valor mínimo para el precio queda en 85.000 USD y el nuevo máximo es 2.345.000 USD. \n",
    "* Nuestro nuevo valor de media es 981.359 USD.\n",
    "* La mediana no sufrió tanto movimiento como si fue el de la media.\n",
    "* La desviación estandar bajó por 200.000 lo cual nos dice que los datos están menos dispersos."
   ]
  },
  {
   "cell_type": "markdown",
   "metadata": {
    "id": "Cy4-X1yEGT9o"
   },
   "source": [
    "---"
   ]
  },
  {
   "cell_type": "markdown",
   "metadata": {
    "id": "PD3BiCBBXOKm"
   },
   "source": [
    "### Actividad 2"
   ]
  },
  {
   "cell_type": "markdown",
   "metadata": {
    "id": "-KYT_N4SGT9p"
   },
   "source": [
    "**CONSIGNA**\n",
    "\n",
    "> Investigar la distribución de las variables del conjunto de datos y seleccionar un subconjunto de columnas que les parezcan relevantes al problema de predicción del valor de la propiedad.\n",
    "\n",
    "    1. Justificar cada columna no seleccionada.\n",
    "    2. Para las variables categóricas seleccionadas, agrupe o combine las categorías poco frecuentes para asegurar que todos los grupos tengan un número mínimo de registros."
   ]
  },
  {
   "cell_type": "markdown",
   "metadata": {
    "id": "StFkl5kKGT9p"
   },
   "source": [
    "Visualizamos una vez más el nuevo dataset transformado, el cual se trabajo la quita de los outliers: "
   ]
  },
  {
   "cell_type": "code",
   "execution_count": 24,
   "metadata": {
    "colab": {
     "base_uri": "https://localhost:8080/",
     "height": 338
    },
    "executionInfo": {
     "elapsed": 28,
     "status": "ok",
     "timestamp": 1627584250867,
     "user": {
      "displayName": "María Belén Acotto",
      "photoUrl": "https://lh3.googleusercontent.com/a-/AOh14GgxTl0geb_R3SIr4AA6LSVxhUsOjZdbmESuiHF-wOs=s64",
      "userId": "02753886766132213766"
     },
     "user_tz": 180
    },
    "id": "RuLCpl52GT9p",
    "outputId": "57644c40-ec6f-4a51-8b00-4869617a00b0"
   },
   "outputs": [
    {
     "data": {
      "text/html": [
       "<div>\n",
       "<style scoped>\n",
       "    .dataframe tbody tr th:only-of-type {\n",
       "        vertical-align: middle;\n",
       "    }\n",
       "\n",
       "    .dataframe tbody tr th {\n",
       "        vertical-align: top;\n",
       "    }\n",
       "\n",
       "    .dataframe thead th {\n",
       "        text-align: right;\n",
       "    }\n",
       "</style>\n",
       "<table border=\"1\" class=\"dataframe\">\n",
       "  <thead>\n",
       "    <tr style=\"text-align: right;\">\n",
       "      <th></th>\n",
       "      <th>Suburb</th>\n",
       "      <th>Address</th>\n",
       "      <th>Rooms</th>\n",
       "      <th>Type</th>\n",
       "      <th>Price</th>\n",
       "      <th>Method</th>\n",
       "      <th>SellerG</th>\n",
       "      <th>Date</th>\n",
       "      <th>Distance</th>\n",
       "      <th>Postcode</th>\n",
       "      <th>Bedroom2</th>\n",
       "      <th>Bathroom</th>\n",
       "      <th>Car</th>\n",
       "      <th>Landsize</th>\n",
       "      <th>BuildingArea</th>\n",
       "      <th>YearBuilt</th>\n",
       "      <th>CouncilArea</th>\n",
       "      <th>Lattitude</th>\n",
       "      <th>Longtitude</th>\n",
       "      <th>Regionname</th>\n",
       "      <th>Propertycount</th>\n",
       "    </tr>\n",
       "  </thead>\n",
       "  <tbody>\n",
       "    <tr>\n",
       "      <th>0</th>\n",
       "      <td>Abbotsford</td>\n",
       "      <td>85 Turner St</td>\n",
       "      <td>2</td>\n",
       "      <td>h</td>\n",
       "      <td>1480000.0</td>\n",
       "      <td>S</td>\n",
       "      <td>Biggin</td>\n",
       "      <td>2016-03-12</td>\n",
       "      <td>2.5</td>\n",
       "      <td>3067.0</td>\n",
       "      <td>2.0</td>\n",
       "      <td>1.0</td>\n",
       "      <td>1.0</td>\n",
       "      <td>202.0</td>\n",
       "      <td>NaN</td>\n",
       "      <td>NaN</td>\n",
       "      <td>Yarra</td>\n",
       "      <td>-37.7996</td>\n",
       "      <td>144.9984</td>\n",
       "      <td>Northern Metropolitan</td>\n",
       "      <td>4019.0</td>\n",
       "    </tr>\n",
       "    <tr>\n",
       "      <th>1</th>\n",
       "      <td>Abbotsford</td>\n",
       "      <td>25 Bloomburg St</td>\n",
       "      <td>2</td>\n",
       "      <td>h</td>\n",
       "      <td>1035000.0</td>\n",
       "      <td>S</td>\n",
       "      <td>Biggin</td>\n",
       "      <td>2016-04-02</td>\n",
       "      <td>2.5</td>\n",
       "      <td>3067.0</td>\n",
       "      <td>2.0</td>\n",
       "      <td>1.0</td>\n",
       "      <td>0.0</td>\n",
       "      <td>156.0</td>\n",
       "      <td>79.0</td>\n",
       "      <td>1900.0</td>\n",
       "      <td>Yarra</td>\n",
       "      <td>-37.8079</td>\n",
       "      <td>144.9934</td>\n",
       "      <td>Northern Metropolitan</td>\n",
       "      <td>4019.0</td>\n",
       "    </tr>\n",
       "    <tr>\n",
       "      <th>2</th>\n",
       "      <td>Abbotsford</td>\n",
       "      <td>5 Charles St</td>\n",
       "      <td>3</td>\n",
       "      <td>h</td>\n",
       "      <td>1465000.0</td>\n",
       "      <td>SP</td>\n",
       "      <td>Biggin</td>\n",
       "      <td>2017-04-03</td>\n",
       "      <td>2.5</td>\n",
       "      <td>3067.0</td>\n",
       "      <td>3.0</td>\n",
       "      <td>2.0</td>\n",
       "      <td>0.0</td>\n",
       "      <td>134.0</td>\n",
       "      <td>150.0</td>\n",
       "      <td>1900.0</td>\n",
       "      <td>Yarra</td>\n",
       "      <td>-37.8093</td>\n",
       "      <td>144.9944</td>\n",
       "      <td>Northern Metropolitan</td>\n",
       "      <td>4019.0</td>\n",
       "    </tr>\n",
       "    <tr>\n",
       "      <th>3</th>\n",
       "      <td>Abbotsford</td>\n",
       "      <td>40 Federation La</td>\n",
       "      <td>3</td>\n",
       "      <td>h</td>\n",
       "      <td>850000.0</td>\n",
       "      <td>PI</td>\n",
       "      <td>Biggin</td>\n",
       "      <td>2017-04-03</td>\n",
       "      <td>2.5</td>\n",
       "      <td>3067.0</td>\n",
       "      <td>3.0</td>\n",
       "      <td>2.0</td>\n",
       "      <td>1.0</td>\n",
       "      <td>94.0</td>\n",
       "      <td>NaN</td>\n",
       "      <td>NaN</td>\n",
       "      <td>Yarra</td>\n",
       "      <td>-37.7969</td>\n",
       "      <td>144.9969</td>\n",
       "      <td>Northern Metropolitan</td>\n",
       "      <td>4019.0</td>\n",
       "    </tr>\n",
       "    <tr>\n",
       "      <th>4</th>\n",
       "      <td>Abbotsford</td>\n",
       "      <td>55a Park St</td>\n",
       "      <td>4</td>\n",
       "      <td>h</td>\n",
       "      <td>1600000.0</td>\n",
       "      <td>VB</td>\n",
       "      <td>Nelson</td>\n",
       "      <td>2016-04-06</td>\n",
       "      <td>2.5</td>\n",
       "      <td>3067.0</td>\n",
       "      <td>3.0</td>\n",
       "      <td>1.0</td>\n",
       "      <td>2.0</td>\n",
       "      <td>120.0</td>\n",
       "      <td>142.0</td>\n",
       "      <td>2014.0</td>\n",
       "      <td>Yarra</td>\n",
       "      <td>-37.8072</td>\n",
       "      <td>144.9941</td>\n",
       "      <td>Northern Metropolitan</td>\n",
       "      <td>4019.0</td>\n",
       "    </tr>\n",
       "  </tbody>\n",
       "</table>\n",
       "</div>"
      ],
      "text/plain": [
       "       Suburb           Address  Rooms Type      Price Method SellerG  \\\n",
       "0  Abbotsford      85 Turner St      2    h  1480000.0      S  Biggin   \n",
       "1  Abbotsford   25 Bloomburg St      2    h  1035000.0      S  Biggin   \n",
       "2  Abbotsford      5 Charles St      3    h  1465000.0     SP  Biggin   \n",
       "3  Abbotsford  40 Federation La      3    h   850000.0     PI  Biggin   \n",
       "4  Abbotsford       55a Park St      4    h  1600000.0     VB  Nelson   \n",
       "\n",
       "        Date  Distance  Postcode  Bedroom2  Bathroom  Car  Landsize  \\\n",
       "0 2016-03-12       2.5    3067.0       2.0       1.0  1.0     202.0   \n",
       "1 2016-04-02       2.5    3067.0       2.0       1.0  0.0     156.0   \n",
       "2 2017-04-03       2.5    3067.0       3.0       2.0  0.0     134.0   \n",
       "3 2017-04-03       2.5    3067.0       3.0       2.0  1.0      94.0   \n",
       "4 2016-04-06       2.5    3067.0       3.0       1.0  2.0     120.0   \n",
       "\n",
       "   BuildingArea  YearBuilt CouncilArea  Lattitude  Longtitude  \\\n",
       "0           NaN        NaN       Yarra   -37.7996    144.9984   \n",
       "1          79.0     1900.0       Yarra   -37.8079    144.9934   \n",
       "2         150.0     1900.0       Yarra   -37.8093    144.9944   \n",
       "3           NaN        NaN       Yarra   -37.7969    144.9969   \n",
       "4         142.0     2014.0       Yarra   -37.8072    144.9941   \n",
       "\n",
       "              Regionname  Propertycount  \n",
       "0  Northern Metropolitan         4019.0  \n",
       "1  Northern Metropolitan         4019.0  \n",
       "2  Northern Metropolitan         4019.0  \n",
       "3  Northern Metropolitan         4019.0  \n",
       "4  Northern Metropolitan         4019.0  "
      ]
     },
     "execution_count": 24,
     "metadata": {},
     "output_type": "execute_result"
    }
   ],
   "source": [
    "melb_df_2.head()"
   ]
  },
  {
   "cell_type": "markdown",
   "metadata": {
    "id": "o7PmoYKgGT9q"
   },
   "source": [
    "Con la observación de los datos y la definición de las columanos, podemos considerar cuales serán descartadas y cuales son de mayor relevancias y ser tomadas en el análisis.\n",
    "\n",
    "Para corroborar que la elección es la correcta, se analizaran las caracteristicas de las mismas. "
   ]
  },
  {
   "cell_type": "code",
   "execution_count": 25,
   "metadata": {
    "executionInfo": {
     "elapsed": 27,
     "status": "ok",
     "timestamp": 1627584250868,
     "user": {
      "displayName": "María Belén Acotto",
      "photoUrl": "https://lh3.googleusercontent.com/a-/AOh14GgxTl0geb_R3SIr4AA6LSVxhUsOjZdbmESuiHF-wOs=s64",
      "userId": "02753886766132213766"
     },
     "user_tz": 180
    },
    "id": "c4008hXPGT9q"
   },
   "outputs": [],
   "source": [
    "cols_2b_discarded = ['Method', 'SellerG', 'Bedroom2', 'Propertycount']"
   ]
  },
  {
   "cell_type": "code",
   "execution_count": 26,
   "metadata": {
    "colab": {
     "base_uri": "https://localhost:8080/"
    },
    "executionInfo": {
     "elapsed": 27,
     "status": "ok",
     "timestamp": 1627584250868,
     "user": {
      "displayName": "María Belén Acotto",
      "photoUrl": "https://lh3.googleusercontent.com/a-/AOh14GgxTl0geb_R3SIr4AA6LSVxhUsOjZdbmESuiHF-wOs=s64",
      "userId": "02753886766132213766"
     },
     "user_tz": 180
    },
    "id": "316JMR0kGT9r",
    "outputId": "886fc21b-6c60-44bf-c306-5ac8a6d8d3b4"
   },
   "outputs": [
    {
     "name": "stdout",
     "output_type": "stream",
     "text": [
      "<class 'pandas.core.frame.DataFrame'>\n",
      "Int64Index: 12956 entries, 0 to 13579\n",
      "Data columns (total 4 columns):\n",
      " #   Column         Non-Null Count  Dtype  \n",
      "---  ------         --------------  -----  \n",
      " 0   Method         12956 non-null  object \n",
      " 1   SellerG        12956 non-null  object \n",
      " 2   Bedroom2       12956 non-null  float64\n",
      " 3   Propertycount  12956 non-null  float64\n",
      "dtypes: float64(2), object(2)\n",
      "memory usage: 506.1+ KB\n"
     ]
    }
   ],
   "source": [
    "melb_df_2[cols_2b_discarded].info()"
   ]
  },
  {
   "cell_type": "code",
   "execution_count": 27,
   "metadata": {
    "colab": {
     "base_uri": "https://localhost:8080/",
     "height": 294
    },
    "executionInfo": {
     "elapsed": 24,
     "status": "ok",
     "timestamp": 1627584250869,
     "user": {
      "displayName": "María Belén Acotto",
      "photoUrl": "https://lh3.googleusercontent.com/a-/AOh14GgxTl0geb_R3SIr4AA6LSVxhUsOjZdbmESuiHF-wOs=s64",
      "userId": "02753886766132213766"
     },
     "user_tz": 180
    },
    "id": "OmciHc4yGT9r",
    "outputId": "352f1feb-163b-48fc-9944-34a1e837ff4f"
   },
   "outputs": [
    {
     "data": {
      "text/html": [
       "<div>\n",
       "<style scoped>\n",
       "    .dataframe tbody tr th:only-of-type {\n",
       "        vertical-align: middle;\n",
       "    }\n",
       "\n",
       "    .dataframe tbody tr th {\n",
       "        vertical-align: top;\n",
       "    }\n",
       "\n",
       "    .dataframe thead th {\n",
       "        text-align: right;\n",
       "    }\n",
       "</style>\n",
       "<table border=\"1\" class=\"dataframe\">\n",
       "  <thead>\n",
       "    <tr style=\"text-align: right;\">\n",
       "      <th></th>\n",
       "      <th>Bedroom2</th>\n",
       "      <th>Propertycount</th>\n",
       "    </tr>\n",
       "  </thead>\n",
       "  <tbody>\n",
       "    <tr>\n",
       "      <th>count</th>\n",
       "      <td>12956.000000</td>\n",
       "      <td>12956.000000</td>\n",
       "    </tr>\n",
       "    <tr>\n",
       "      <th>mean</th>\n",
       "      <td>2.862998</td>\n",
       "      <td>7454.598642</td>\n",
       "    </tr>\n",
       "    <tr>\n",
       "      <th>std</th>\n",
       "      <td>0.939786</td>\n",
       "      <td>4427.957030</td>\n",
       "    </tr>\n",
       "    <tr>\n",
       "      <th>min</th>\n",
       "      <td>0.000000</td>\n",
       "      <td>249.000000</td>\n",
       "    </tr>\n",
       "    <tr>\n",
       "      <th>25%</th>\n",
       "      <td>2.000000</td>\n",
       "      <td>4294.000000</td>\n",
       "    </tr>\n",
       "    <tr>\n",
       "      <th>50%</th>\n",
       "      <td>3.000000</td>\n",
       "      <td>6543.000000</td>\n",
       "    </tr>\n",
       "    <tr>\n",
       "      <th>75%</th>\n",
       "      <td>3.000000</td>\n",
       "      <td>10331.000000</td>\n",
       "    </tr>\n",
       "    <tr>\n",
       "      <th>max</th>\n",
       "      <td>20.000000</td>\n",
       "      <td>21650.000000</td>\n",
       "    </tr>\n",
       "  </tbody>\n",
       "</table>\n",
       "</div>"
      ],
      "text/plain": [
       "           Bedroom2  Propertycount\n",
       "count  12956.000000   12956.000000\n",
       "mean       2.862998    7454.598642\n",
       "std        0.939786    4427.957030\n",
       "min        0.000000     249.000000\n",
       "25%        2.000000    4294.000000\n",
       "50%        3.000000    6543.000000\n",
       "75%        3.000000   10331.000000\n",
       "max       20.000000   21650.000000"
      ]
     },
     "execution_count": 27,
     "metadata": {},
     "output_type": "execute_result"
    }
   ],
   "source": [
    "melb_df_2[cols_2b_discarded].describe()"
   ]
  },
  {
   "cell_type": "markdown",
   "metadata": {
    "id": "tdpj8R2YGT9s"
   },
   "source": [
    "Observamos los valores nulos de estas columnas a descartar."
   ]
  },
  {
   "cell_type": "code",
   "execution_count": 28,
   "metadata": {
    "colab": {
     "base_uri": "https://localhost:8080/",
     "height": 486
    },
    "executionInfo": {
     "elapsed": 1386,
     "status": "ok",
     "timestamp": 1627584252232,
     "user": {
      "displayName": "María Belén Acotto",
      "photoUrl": "https://lh3.googleusercontent.com/a-/AOh14GgxTl0geb_R3SIr4AA6LSVxhUsOjZdbmESuiHF-wOs=s64",
      "userId": "02753886766132213766"
     },
     "user_tz": 180
    },
    "id": "a2KXvYbcGT9s",
    "outputId": "01b4d149-b271-4b78-ead3-81c2bfefa1ae"
   },
   "outputs": [
    {
     "data": {
      "image/png": "[encoded data removed]",
      "text/plain": [
       "<Figure size 936x432 with 3 Axes>"
      ]
     },
     "metadata": {
      "needs_background": "light"
     },
     "output_type": "display_data"
    }
   ],
   "source": [
    "plt.figure(figsize=(13, 6))\n",
    "msno.bar(melb_df_2[cols_2b_discarded],figsize=(13, 6), fontsize=12, color='lightblue')\n",
    "plt.show()"
   ]
  },
  {
   "cell_type": "markdown",
   "metadata": {
    "id": "e5A9mZndGT9s"
   },
   "source": [
    "Analizamos la presencia de valores 0 sobre las posibles variables a descartar."
   ]
  },
  {
   "cell_type": "code",
   "execution_count": 29,
   "metadata": {
    "colab": {
     "base_uri": "https://localhost:8080/"
    },
    "executionInfo": {
     "elapsed": 11,
     "status": "ok",
     "timestamp": 1627584252232,
     "user": {
      "displayName": "María Belén Acotto",
      "photoUrl": "https://lh3.googleusercontent.com/a-/AOh14GgxTl0geb_R3SIr4AA6LSVxhUsOjZdbmESuiHF-wOs=s64",
      "userId": "02753886766132213766"
     },
     "user_tz": 180
    },
    "id": "M9-l0nXLGT9t",
    "outputId": "51d87461-91e5-413f-b779-cfb9aec04b88"
   },
   "outputs": [
    {
     "data": {
      "text/plain": [
       "Method            0\n",
       "SellerG           0\n",
       "Bedroom2         15\n",
       "Propertycount     0\n",
       "dtype: int64"
      ]
     },
     "execution_count": 29,
     "metadata": {},
     "output_type": "execute_result"
    }
   ],
   "source": [
    "meld_disc = melb_df_2[cols_2b_discarded]\n",
    "cols = meld_disc[meld_disc == 0].count(axis=0)\n",
    "cols"
   ]
  },
  {
   "cell_type": "markdown",
   "metadata": {
    "id": "m_aTF1UHGT9t"
   },
   "source": [
    "Observamos que dentro de las columnas que queremos descartar, Bedroom2 es la única que posee valores en 0, lo cual tiene cierta lógica según la definición dada por quién ofrece el dataset."
   ]
  },
  {
   "cell_type": "markdown",
   "metadata": {
    "id": "gL5-rPdbGT9t"
   },
   "source": [
    "Llegado a este punto nos surge la siguiente pregunta: **¿Qué ocurre con las columnas que no queremos descartar?**\n",
    "\n",
    "Analizaremos si estas tienen valores en 0 y/o nulos."
   ]
  },
  {
   "cell_type": "code",
   "execution_count": 30,
   "metadata": {
    "colab": {
     "base_uri": "https://localhost:8080/"
    },
    "executionInfo": {
     "elapsed": 9,
     "status": "ok",
     "timestamp": 1627584252234,
     "user": {
      "displayName": "María Belén Acotto",
      "photoUrl": "https://lh3.googleusercontent.com/a-/AOh14GgxTl0geb_R3SIr4AA6LSVxhUsOjZdbmESuiHF-wOs=s64",
      "userId": "02753886766132213766"
     },
     "user_tz": 180
    },
    "id": "npJVSvNTGT9t",
    "outputId": "57c3e04e-dbfd-42d7-ff96-0711c088014f"
   },
   "outputs": [
    {
     "data": {
      "text/plain": [
       "Suburb             0\n",
       "Address            0\n",
       "Rooms              0\n",
       "Type               0\n",
       "Price              0\n",
       "Date               0\n",
       "Distance           6\n",
       "Bathroom          34\n",
       "Car              998\n",
       "CouncilArea        0\n",
       "Postcode           0\n",
       "Lattitude          0\n",
       "Longtitude         0\n",
       "Landsize        1926\n",
       "BuildingArea      13\n",
       "YearBuilt          0\n",
       "Regionname         0\n",
       "dtype: int64"
      ]
     },
     "execution_count": 30,
     "metadata": {},
     "output_type": "execute_result"
    }
   ],
   "source": [
    "meld_no_disc = melb_df_2[['Suburb', 'Address', 'Rooms', 'Type', 'Price','Date', 'Distance', 'Bathroom', 'Car','CouncilArea', 'Postcode', 'Lattitude', 'Longtitude',\n",
    "                     'Landsize', 'BuildingArea', 'YearBuilt','Regionname']]\n",
    "cols = meld_no_disc[meld_no_disc == 0].count(axis=0)\n",
    "cols"
   ]
  },
  {
   "cell_type": "code",
   "execution_count": 31,
   "metadata": {
    "colab": {
     "base_uri": "https://localhost:8080/",
     "height": 482
    },
    "executionInfo": {
     "elapsed": 580,
     "status": "ok",
     "timestamp": 1627584252808,
     "user": {
      "displayName": "María Belén Acotto",
      "photoUrl": "https://lh3.googleusercontent.com/a-/AOh14GgxTl0geb_R3SIr4AA6LSVxhUsOjZdbmESuiHF-wOs=s64",
      "userId": "02753886766132213766"
     },
     "user_tz": 180
    },
    "id": "kz-_3kbKGT9u",
    "outputId": "d2e37075-b85b-4617-ed1e-01963f3f15aa"
   },
   "outputs": [
    {
     "data": {
      "image/png": "[encoded data removed]",
      "text/plain": [
       "<Figure size 936x432 with 3 Axes>"
      ]
     },
     "metadata": {
      "needs_background": "light"
     },
     "output_type": "display_data"
    }
   ],
   "source": [
    "msno.bar(meld_no_disc,figsize=(13, 6), fontsize=12, color='lightblue')\n",
    "plt.show()"
   ]
  },
  {
   "cell_type": "code",
   "execution_count": 32,
   "metadata": {
    "colab": {
     "base_uri": "https://localhost:8080/",
     "height": 460
    },
    "executionInfo": {
     "elapsed": 23,
     "status": "ok",
     "timestamp": 1627584252809,
     "user": {
      "displayName": "María Belén Acotto",
      "photoUrl": "https://lh3.googleusercontent.com/a-/AOh14GgxTl0geb_R3SIr4AA6LSVxhUsOjZdbmESuiHF-wOs=s64",
      "userId": "02753886766132213766"
     },
     "user_tz": 180
    },
    "id": "wQuRC7k3GT9u",
    "outputId": "45d66b9d-70cf-46cf-f0c6-972e9b95ee31"
   },
   "outputs": [
    {
     "data": {
      "text/plain": [
       "<AxesSubplot:>"
      ]
     },
     "execution_count": 32,
     "metadata": {},
     "output_type": "execute_result"
    },
    {
     "data": {
      "image/png": "[encoded data removed]",
      "text/plain": [
       "<Figure size 936x432 with 2 Axes>"
      ]
     },
     "metadata": {
      "needs_background": "light"
     },
     "output_type": "display_data"
    }
   ],
   "source": [
    "msno.matrix(meld_no_disc,figsize=(13, 6), fontsize=12, color=[0.5,0,0])"
   ]
  },
  {
   "cell_type": "markdown",
   "metadata": {
    "id": "SKN8EMcXGT9u"
   },
   "source": [
    "Vemos que las columnas con mayor cantidad de registros en 0 es **Landsize** y en cuanto a valores nulos, **BuildingArea** y **YearBuilt** son las más afectadas.\n",
    "\n",
    "Por el momento, estas no serán descartadas, ya que puede que sus datos sean salvados y/o imputados."
   ]
  },
  {
   "cell_type": "markdown",
   "metadata": {
    "id": "F1ypQojbGT9u"
   },
   "source": [
    "Siguiendo con el análisis de las columnas descartadas, vemos los valores de la columna **SellerG** para ver qué contiene específicamente."
   ]
  },
  {
   "cell_type": "code",
   "execution_count": 33,
   "metadata": {
    "colab": {
     "base_uri": "https://localhost:8080/"
    },
    "executionInfo": {
     "elapsed": 12,
     "status": "ok",
     "timestamp": 1627584252809,
     "user": {
      "displayName": "María Belén Acotto",
      "photoUrl": "https://lh3.googleusercontent.com/a-/AOh14GgxTl0geb_R3SIr4AA6LSVxhUsOjZdbmESuiHF-wOs=s64",
      "userId": "02753886766132213766"
     },
     "user_tz": 180
    },
    "id": "Nq8X-GREGT9v",
    "outputId": "5d3bb955-c99e-4273-f603-a4af9f8f2eac"
   },
   "outputs": [
    {
     "name": "stdout",
     "output_type": "stream",
     "text": [
      "['Biggin' 'Nelson' 'Jellis' 'Greg' 'LITTLE' 'Collins' 'Kay' 'Beller'\n",
      " 'Marshall' 'Brad' 'Maddison' 'Barry' 'Considine' 'Rendina' 'Propertyau'\n",
      " 'McDonald' 'Prof.' 'Harcourts' 'hockingstuart' 'Thomson' 'RT' \"Sotheby's\"\n",
      " 'Cayzer' 'Chisholm' 'Brace' 'Miles' 'McGrath' 'Love' 'Barlow' 'Sweeney'\n",
      " 'Village' 'Jas' 'Gunn&Co' 'Burnham' 'Williams' 'Compton' 'FN'\n",
      " 'Raine&Horne' 'Hunter' 'Noel' 'Hodges' 'Ray' 'Gary' 'Fletchers'\n",
      " 'Woodards' 'Raine' 'Walshe' 'Alexkarbon' 'Weda' 'Frank' 'Stockdale'\n",
      " 'Buxton' 'Tim' 'Purplebricks' 'Moonee' 'HAR' 'Edward' 'Philip' 'North'\n",
      " 'Ascend' 'Christopher' 'Mandy' 'RW' 'R&H' 'Fletchers/One' 'One' \"O'Brien\"\n",
      " 'C21' 'Bayside' 'Paul' 'First' 'Matthew' 'Anderson' 'Nick' 'Lindellas'\n",
      " 'Allens' 'Bells' 'Trimson' 'Douglas' 'YPA' 'GL' \"Tiernan's\" 'J'\n",
      " 'Harrington' 'Dingle' 'Chambers' 'Peter' 'Grantham'\n",
      " 'hockingstuart/Advantage' \"O'Donoghues\" 'Bekdon' 'Ross' 'Garvey'\n",
      " 'Century' 'Kelly' 'Property' \"Private/Tiernan's\" 'Australian' 'Rodney'\n",
      " \"Abercromby's\" 'Castran' 'iTRAK' 'Del' 'Nicholson' 'ASL' 'Re' 'RE'\n",
      " 'Darren' 'Parkes' 'Vic' 'Assisi' 'Holland' 'Scott' 'Pride' 'Owen'\n",
      " 'Morleys' 'Wilson' 'Buxton/Advantage' 'Pagan' 'Joe' 'Red' 'Thomas'\n",
      " 'Caine' 'Naison' 'Sweeney/Advantage' 'Jason' 'Eview' 'Melbourne'\n",
      " \"D'Aprano\" 'CASTRAN' 'Morrison' 'Wood' 'Haughton' 'William' 'Coventry'\n",
      " 'Buckingham' 'Domain' 'Nardella' 'Reach' 'Walsh' 'LJ' 'Nguyen' 'Direct'\n",
      " 'Besser' 'Johnston' 'Redina' 'Clairmont' 'Changing' 'Galldon' 'MICM'\n",
      " 'Elite' 'Buxton/Find' 'W.B.' 'Leased' 'New' 'Geoff' 'hockingstuart/Barry'\n",
      " 'Blue' 'Whiting' 'Steveway' 'Parkinson' 'VICPROP' 'Charlton' 'S&L'\n",
      " 'Calder' 'Homes' 'Zahn' 'Mason' 'David' 'Dixon' 'Luxe' 'Prowse' 'Ken'\n",
      " 'iOne' 'hockingstuart/Village' 'JMRE' 'Iconek' 'Crane' 'Luxton' 'Oak'\n",
      " 'White' 'Weston' 'Reed' 'Oriental' 'Craig' 'Max' 'Rosin' 'Hooper' 'Hall'\n",
      " 'Ham' 'buyMyplace' 'WHITEFOX' 'Metro' 'Hoskins' 'McLennan'\n",
      " 'PRDNationwide' 'Only' 'Obrien' 'Reliance' 'Rounds' 'Millership' 'iSell'\n",
      " 'Appleby' '@Realty' 'Jim' 'Ace' 'JRW' 'Carter' 'Real' 'M.J' 'iProperty'\n",
      " 'Triwest' 'Hayeswinckle' 'Schroeder' 'REMAX' 'Victory' 'Smart' 'Mindacom'\n",
      " 'Ryder' 'Win' 'Asset' 'LLC' 'Mitchell' 'U' 'Leyton' 'Conquest' 'Prime'\n",
      " 'Community' 'Free' 'Veitch' 'Peake' 'Sell' 'Ristic' 'Ash' 'Upper'\n",
      " 'Daniel' 'Xynergy' 'Westside' 'Leeburn' 'TRUE' 'VICProp' 'Keatings'\n",
      " 'Leading' 'Bullen' 'Better' 'Aquire' 'Langwell' 'Gardiner' 'Kaye'\n",
      " 'Nicholls' 'Bowman' 'Meadows' 'McNaughton' 'The' 'L' 'Roger' 'Follett'\n",
      " 'Le' 'Joseph' 'Boutique' 'Area' 'SN' 'PRD' 'Rexhepi' 'Point']\n",
      "265\n"
     ]
    }
   ],
   "source": [
    "print(melb_df_2.SellerG.unique())\n",
    "print(len(melb_df_2.SellerG.unique()))"
   ]
  },
  {
   "cell_type": "markdown",
   "metadata": {
    "id": "1NXGSCMoGT9v"
   },
   "source": [
    "Podemos concluir rápidamente, que una propiedad puede ser vendida por mas de un Gerente de Ventas y si el precio varía dependiendo el mismo, no creemos que influya a grandes rasgos."
   ]
  },
  {
   "cell_type": "markdown",
   "metadata": {
    "id": "uN9oEAYMGT9v"
   },
   "source": [
    "Daremos un análisis a la columna Bedroom2, la cual deseamos descartar, porque consideramos poco relevante para el análisis el hecho de tener o no una columna que nos indica \"Habitación de huespedes\" cuando ya se especifica la cantidad de habitaciones de una propiedad. "
   ]
  },
  {
   "cell_type": "code",
   "execution_count": 34,
   "metadata": {
    "colab": {
     "base_uri": "https://localhost:8080/",
     "height": 447
    },
    "executionInfo": {
     "elapsed": 10,
     "status": "ok",
     "timestamp": 1627584252810,
     "user": {
      "displayName": "María Belén Acotto",
      "photoUrl": "https://lh3.googleusercontent.com/a-/AOh14GgxTl0geb_R3SIr4AA6LSVxhUsOjZdbmESuiHF-wOs=s64",
      "userId": "02753886766132213766"
     },
     "user_tz": 180
    },
    "id": "AQF_GJooGT9v",
    "outputId": "ab39e4fc-18d3-4d58-ad5c-43575af0b05d"
   },
   "outputs": [
    {
     "data": {
      "text/html": [
       "<div>\n",
       "<style scoped>\n",
       "    .dataframe tbody tr th:only-of-type {\n",
       "        vertical-align: middle;\n",
       "    }\n",
       "\n",
       "    .dataframe tbody tr th {\n",
       "        vertical-align: top;\n",
       "    }\n",
       "\n",
       "    .dataframe thead th {\n",
       "        text-align: right;\n",
       "    }\n",
       "</style>\n",
       "<table border=\"1\" class=\"dataframe\">\n",
       "  <thead>\n",
       "    <tr style=\"text-align: right;\">\n",
       "      <th>Rooms</th>\n",
       "      <th>1</th>\n",
       "      <th>2</th>\n",
       "      <th>3</th>\n",
       "      <th>4</th>\n",
       "      <th>5</th>\n",
       "      <th>6</th>\n",
       "      <th>7</th>\n",
       "      <th>8</th>\n",
       "      <th>10</th>\n",
       "    </tr>\n",
       "    <tr>\n",
       "      <th>Bedroom2</th>\n",
       "      <th></th>\n",
       "      <th></th>\n",
       "      <th></th>\n",
       "      <th></th>\n",
       "      <th></th>\n",
       "      <th></th>\n",
       "      <th></th>\n",
       "      <th></th>\n",
       "      <th></th>\n",
       "    </tr>\n",
       "  </thead>\n",
       "  <tbody>\n",
       "    <tr>\n",
       "      <th>0.0</th>\n",
       "      <td>0</td>\n",
       "      <td>5</td>\n",
       "      <td>8</td>\n",
       "      <td>2</td>\n",
       "      <td>0</td>\n",
       "      <td>0</td>\n",
       "      <td>0</td>\n",
       "      <td>0</td>\n",
       "      <td>0</td>\n",
       "    </tr>\n",
       "    <tr>\n",
       "      <th>1.0</th>\n",
       "      <td>662</td>\n",
       "      <td>20</td>\n",
       "      <td>5</td>\n",
       "      <td>2</td>\n",
       "      <td>0</td>\n",
       "      <td>0</td>\n",
       "      <td>0</td>\n",
       "      <td>0</td>\n",
       "      <td>0</td>\n",
       "    </tr>\n",
       "    <tr>\n",
       "      <th>2.0</th>\n",
       "      <td>16</td>\n",
       "      <td>3526</td>\n",
       "      <td>160</td>\n",
       "      <td>18</td>\n",
       "      <td>1</td>\n",
       "      <td>0</td>\n",
       "      <td>0</td>\n",
       "      <td>0</td>\n",
       "      <td>0</td>\n",
       "    </tr>\n",
       "    <tr>\n",
       "      <th>3.0</th>\n",
       "      <td>2</td>\n",
       "      <td>73</td>\n",
       "      <td>5505</td>\n",
       "      <td>160</td>\n",
       "      <td>13</td>\n",
       "      <td>1</td>\n",
       "      <td>0</td>\n",
       "      <td>0</td>\n",
       "      <td>0</td>\n",
       "    </tr>\n",
       "    <tr>\n",
       "      <th>4.0</th>\n",
       "      <td>0</td>\n",
       "      <td>8</td>\n",
       "      <td>66</td>\n",
       "      <td>2189</td>\n",
       "      <td>27</td>\n",
       "      <td>4</td>\n",
       "      <td>0</td>\n",
       "      <td>1</td>\n",
       "      <td>0</td>\n",
       "    </tr>\n",
       "    <tr>\n",
       "      <th>5.0</th>\n",
       "      <td>0</td>\n",
       "      <td>1</td>\n",
       "      <td>5</td>\n",
       "      <td>12</td>\n",
       "      <td>394</td>\n",
       "      <td>1</td>\n",
       "      <td>1</td>\n",
       "      <td>0</td>\n",
       "      <td>0</td>\n",
       "    </tr>\n",
       "    <tr>\n",
       "      <th>6.0</th>\n",
       "      <td>0</td>\n",
       "      <td>0</td>\n",
       "      <td>0</td>\n",
       "      <td>0</td>\n",
       "      <td>0</td>\n",
       "      <td>49</td>\n",
       "      <td>0</td>\n",
       "      <td>2</td>\n",
       "      <td>0</td>\n",
       "    </tr>\n",
       "    <tr>\n",
       "      <th>7.0</th>\n",
       "      <td>0</td>\n",
       "      <td>0</td>\n",
       "      <td>0</td>\n",
       "      <td>0</td>\n",
       "      <td>1</td>\n",
       "      <td>1</td>\n",
       "      <td>6</td>\n",
       "      <td>0</td>\n",
       "      <td>0</td>\n",
       "    </tr>\n",
       "    <tr>\n",
       "      <th>8.0</th>\n",
       "      <td>0</td>\n",
       "      <td>0</td>\n",
       "      <td>0</td>\n",
       "      <td>0</td>\n",
       "      <td>1</td>\n",
       "      <td>0</td>\n",
       "      <td>0</td>\n",
       "      <td>4</td>\n",
       "      <td>0</td>\n",
       "    </tr>\n",
       "    <tr>\n",
       "      <th>9.0</th>\n",
       "      <td>0</td>\n",
       "      <td>0</td>\n",
       "      <td>1</td>\n",
       "      <td>1</td>\n",
       "      <td>0</td>\n",
       "      <td>0</td>\n",
       "      <td>0</td>\n",
       "      <td>0</td>\n",
       "      <td>0</td>\n",
       "    </tr>\n",
       "    <tr>\n",
       "      <th>10.0</th>\n",
       "      <td>0</td>\n",
       "      <td>0</td>\n",
       "      <td>0</td>\n",
       "      <td>0</td>\n",
       "      <td>0</td>\n",
       "      <td>0</td>\n",
       "      <td>0</td>\n",
       "      <td>0</td>\n",
       "      <td>1</td>\n",
       "    </tr>\n",
       "    <tr>\n",
       "      <th>20.0</th>\n",
       "      <td>0</td>\n",
       "      <td>0</td>\n",
       "      <td>1</td>\n",
       "      <td>0</td>\n",
       "      <td>0</td>\n",
       "      <td>0</td>\n",
       "      <td>0</td>\n",
       "      <td>0</td>\n",
       "      <td>0</td>\n",
       "    </tr>\n",
       "  </tbody>\n",
       "</table>\n",
       "</div>"
      ],
      "text/plain": [
       "Rooms      1     2     3     4    5   6   7   8   10\n",
       "Bedroom2                                            \n",
       "0.0         0     5     8     2    0   0   0   0   0\n",
       "1.0       662    20     5     2    0   0   0   0   0\n",
       "2.0        16  3526   160    18    1   0   0   0   0\n",
       "3.0         2    73  5505   160   13   1   0   0   0\n",
       "4.0         0     8    66  2189   27   4   0   1   0\n",
       "5.0         0     1     5    12  394   1   1   0   0\n",
       "6.0         0     0     0     0    0  49   0   2   0\n",
       "7.0         0     0     0     0    1   1   6   0   0\n",
       "8.0         0     0     0     0    1   0   0   4   0\n",
       "9.0         0     0     1     1    0   0   0   0   0\n",
       "10.0        0     0     0     0    0   0   0   0   1\n",
       "20.0        0     0     1     0    0   0   0   0   0"
      ]
     },
     "execution_count": 34,
     "metadata": {},
     "output_type": "execute_result"
    }
   ],
   "source": [
    "pd.crosstab(melb_df_2.Bedroom2,melb_df_2.Rooms)"
   ]
  },
  {
   "cell_type": "markdown",
   "metadata": {
    "id": "-A211D8cGT9w"
   },
   "source": [
    "#### Columnas Descartadas\n",
    "* Method: Otra de las columnas poco relevantes, porque nos dice cómo fue vendida.\n",
    "* SellerG: Variable ya analizada con anterioridad, y que justificamos diciendo que el vendedor puede ser cualquier persona, que no consideramos que influya demasiado en el valor de la propiedad.\n",
    "* Bedroom2: Ya visto anteriormente, consideramos que anunciando la cantidad de habitaciones es suficiente para el análisis.\n",
    "* Propertycount: Descartada porque no consideramos que influya la cantidad de propiedades en el precio final de la propiedad a analizar."
   ]
  },
  {
   "cell_type": "markdown",
   "metadata": {
    "id": "KhlO1wXOGT9w"
   },
   "source": [
    "---"
   ]
  },
  {
   "cell_type": "markdown",
   "metadata": {
    "id": "Ayq765XnGT9w"
   },
   "source": [
    "#### Columnas Seleccionadas"
   ]
  },
  {
   "cell_type": "code",
   "execution_count": 35,
   "metadata": {
    "executionInfo": {
     "elapsed": 10,
     "status": "ok",
     "timestamp": 1627584252811,
     "user": {
      "displayName": "María Belén Acotto",
      "photoUrl": "https://lh3.googleusercontent.com/a-/AOh14GgxTl0geb_R3SIr4AA6LSVxhUsOjZdbmESuiHF-wOs=s64",
      "userId": "02753886766132213766"
     },
     "user_tz": 180
    },
    "id": "eljsVxdTGT9w"
   },
   "outputs": [],
   "source": [
    "relevant_columns = ['Suburb', 'Address', 'Rooms', 'Type', 'Price','Date', 'Distance', 'Bathroom', 'Car', 'CouncilArea', 'Postcode', 'Lattitude', 'Longtitude',\n",
    "                    'Landsize', 'BuildingArea', 'YearBuilt','Regionname']"
   ]
  },
  {
   "cell_type": "markdown",
   "metadata": {
    "id": "VqSGD5YmGT9w"
   },
   "source": [
    "Creamos un nuevo dataset para el análisis requerido:"
   ]
  },
  {
   "cell_type": "code",
   "execution_count": 36,
   "metadata": {
    "colab": {
     "base_uri": "https://localhost:8080/",
     "height": 581
    },
    "executionInfo": {
     "elapsed": 811,
     "status": "ok",
     "timestamp": 1627584253612,
     "user": {
      "displayName": "María Belén Acotto",
      "photoUrl": "https://lh3.googleusercontent.com/a-/AOh14GgxTl0geb_R3SIr4AA6LSVxhUsOjZdbmESuiHF-wOs=s64",
      "userId": "02753886766132213766"
     },
     "user_tz": 180
    },
    "id": "mEUeVi_vGT9x",
    "outputId": "64e0784e-ea59-4573-9671-0c1282ab4f93"
   },
   "outputs": [
    {
     "data": {
      "text/html": [
       "<div>\n",
       "<style scoped>\n",
       "    .dataframe tbody tr th:only-of-type {\n",
       "        vertical-align: middle;\n",
       "    }\n",
       "\n",
       "    .dataframe tbody tr th {\n",
       "        vertical-align: top;\n",
       "    }\n",
       "\n",
       "    .dataframe thead th {\n",
       "        text-align: right;\n",
       "    }\n",
       "</style>\n",
       "<table border=\"1\" class=\"dataframe\">\n",
       "  <thead>\n",
       "    <tr style=\"text-align: right;\">\n",
       "      <th></th>\n",
       "      <th>Suburb</th>\n",
       "      <th>Address</th>\n",
       "      <th>Rooms</th>\n",
       "      <th>Type</th>\n",
       "      <th>Price</th>\n",
       "      <th>Date</th>\n",
       "      <th>Distance</th>\n",
       "      <th>Bathroom</th>\n",
       "      <th>Car</th>\n",
       "      <th>CouncilArea</th>\n",
       "      <th>Postcode</th>\n",
       "      <th>Lattitude</th>\n",
       "      <th>Longtitude</th>\n",
       "      <th>Landsize</th>\n",
       "      <th>BuildingArea</th>\n",
       "      <th>YearBuilt</th>\n",
       "      <th>Regionname</th>\n",
       "    </tr>\n",
       "  </thead>\n",
       "  <tbody>\n",
       "    <tr>\n",
       "      <th>0</th>\n",
       "      <td>Abbotsford</td>\n",
       "      <td>85 Turner St</td>\n",
       "      <td>2</td>\n",
       "      <td>h</td>\n",
       "      <td>1480000.0</td>\n",
       "      <td>2016-03-12</td>\n",
       "      <td>2.5</td>\n",
       "      <td>1.0</td>\n",
       "      <td>1.0</td>\n",
       "      <td>Yarra</td>\n",
       "      <td>3067.0</td>\n",
       "      <td>-37.79960</td>\n",
       "      <td>144.99840</td>\n",
       "      <td>202.0</td>\n",
       "      <td>NaN</td>\n",
       "      <td>NaN</td>\n",
       "      <td>Northern Metropolitan</td>\n",
       "    </tr>\n",
       "    <tr>\n",
       "      <th>1</th>\n",
       "      <td>Abbotsford</td>\n",
       "      <td>25 Bloomburg St</td>\n",
       "      <td>2</td>\n",
       "      <td>h</td>\n",
       "      <td>1035000.0</td>\n",
       "      <td>2016-04-02</td>\n",
       "      <td>2.5</td>\n",
       "      <td>1.0</td>\n",
       "      <td>0.0</td>\n",
       "      <td>Yarra</td>\n",
       "      <td>3067.0</td>\n",
       "      <td>-37.80790</td>\n",
       "      <td>144.99340</td>\n",
       "      <td>156.0</td>\n",
       "      <td>79.0</td>\n",
       "      <td>1900.0</td>\n",
       "      <td>Northern Metropolitan</td>\n",
       "    </tr>\n",
       "    <tr>\n",
       "      <th>2</th>\n",
       "      <td>Abbotsford</td>\n",
       "      <td>5 Charles St</td>\n",
       "      <td>3</td>\n",
       "      <td>h</td>\n",
       "      <td>1465000.0</td>\n",
       "      <td>2017-04-03</td>\n",
       "      <td>2.5</td>\n",
       "      <td>2.0</td>\n",
       "      <td>0.0</td>\n",
       "      <td>Yarra</td>\n",
       "      <td>3067.0</td>\n",
       "      <td>-37.80930</td>\n",
       "      <td>144.99440</td>\n",
       "      <td>134.0</td>\n",
       "      <td>150.0</td>\n",
       "      <td>1900.0</td>\n",
       "      <td>Northern Metropolitan</td>\n",
       "    </tr>\n",
       "    <tr>\n",
       "      <th>3</th>\n",
       "      <td>Abbotsford</td>\n",
       "      <td>40 Federation La</td>\n",
       "      <td>3</td>\n",
       "      <td>h</td>\n",
       "      <td>850000.0</td>\n",
       "      <td>2017-04-03</td>\n",
       "      <td>2.5</td>\n",
       "      <td>2.0</td>\n",
       "      <td>1.0</td>\n",
       "      <td>Yarra</td>\n",
       "      <td>3067.0</td>\n",
       "      <td>-37.79690</td>\n",
       "      <td>144.99690</td>\n",
       "      <td>94.0</td>\n",
       "      <td>NaN</td>\n",
       "      <td>NaN</td>\n",
       "      <td>Northern Metropolitan</td>\n",
       "    </tr>\n",
       "    <tr>\n",
       "      <th>4</th>\n",
       "      <td>Abbotsford</td>\n",
       "      <td>55a Park St</td>\n",
       "      <td>4</td>\n",
       "      <td>h</td>\n",
       "      <td>1600000.0</td>\n",
       "      <td>2016-04-06</td>\n",
       "      <td>2.5</td>\n",
       "      <td>1.0</td>\n",
       "      <td>2.0</td>\n",
       "      <td>Yarra</td>\n",
       "      <td>3067.0</td>\n",
       "      <td>-37.80720</td>\n",
       "      <td>144.99410</td>\n",
       "      <td>120.0</td>\n",
       "      <td>142.0</td>\n",
       "      <td>2014.0</td>\n",
       "      <td>Northern Metropolitan</td>\n",
       "    </tr>\n",
       "    <tr>\n",
       "      <th>...</th>\n",
       "      <td>...</td>\n",
       "      <td>...</td>\n",
       "      <td>...</td>\n",
       "      <td>...</td>\n",
       "      <td>...</td>\n",
       "      <td>...</td>\n",
       "      <td>...</td>\n",
       "      <td>...</td>\n",
       "      <td>...</td>\n",
       "      <td>...</td>\n",
       "      <td>...</td>\n",
       "      <td>...</td>\n",
       "      <td>...</td>\n",
       "      <td>...</td>\n",
       "      <td>...</td>\n",
       "      <td>...</td>\n",
       "      <td>...</td>\n",
       "    </tr>\n",
       "    <tr>\n",
       "      <th>13574</th>\n",
       "      <td>Westmeadows</td>\n",
       "      <td>9 Black St</td>\n",
       "      <td>3</td>\n",
       "      <td>h</td>\n",
       "      <td>582000.0</td>\n",
       "      <td>2017-08-26</td>\n",
       "      <td>16.5</td>\n",
       "      <td>2.0</td>\n",
       "      <td>2.0</td>\n",
       "      <td>NaN</td>\n",
       "      <td>3049.0</td>\n",
       "      <td>-37.67917</td>\n",
       "      <td>144.89390</td>\n",
       "      <td>256.0</td>\n",
       "      <td>NaN</td>\n",
       "      <td>NaN</td>\n",
       "      <td>Northern Metropolitan</td>\n",
       "    </tr>\n",
       "    <tr>\n",
       "      <th>13575</th>\n",
       "      <td>Wheelers Hill</td>\n",
       "      <td>12 Strada Cr</td>\n",
       "      <td>4</td>\n",
       "      <td>h</td>\n",
       "      <td>1245000.0</td>\n",
       "      <td>2017-08-26</td>\n",
       "      <td>16.7</td>\n",
       "      <td>2.0</td>\n",
       "      <td>2.0</td>\n",
       "      <td>NaN</td>\n",
       "      <td>3150.0</td>\n",
       "      <td>-37.90562</td>\n",
       "      <td>145.16761</td>\n",
       "      <td>652.0</td>\n",
       "      <td>NaN</td>\n",
       "      <td>1981.0</td>\n",
       "      <td>South-Eastern Metropolitan</td>\n",
       "    </tr>\n",
       "    <tr>\n",
       "      <th>13576</th>\n",
       "      <td>Williamstown</td>\n",
       "      <td>77 Merrett Dr</td>\n",
       "      <td>3</td>\n",
       "      <td>h</td>\n",
       "      <td>1031000.0</td>\n",
       "      <td>2017-08-26</td>\n",
       "      <td>6.8</td>\n",
       "      <td>2.0</td>\n",
       "      <td>2.0</td>\n",
       "      <td>NaN</td>\n",
       "      <td>3016.0</td>\n",
       "      <td>-37.85927</td>\n",
       "      <td>144.87904</td>\n",
       "      <td>333.0</td>\n",
       "      <td>133.0</td>\n",
       "      <td>1995.0</td>\n",
       "      <td>Western Metropolitan</td>\n",
       "    </tr>\n",
       "    <tr>\n",
       "      <th>13577</th>\n",
       "      <td>Williamstown</td>\n",
       "      <td>83 Power St</td>\n",
       "      <td>3</td>\n",
       "      <td>h</td>\n",
       "      <td>1170000.0</td>\n",
       "      <td>2017-08-26</td>\n",
       "      <td>6.8</td>\n",
       "      <td>2.0</td>\n",
       "      <td>4.0</td>\n",
       "      <td>NaN</td>\n",
       "      <td>3016.0</td>\n",
       "      <td>-37.85274</td>\n",
       "      <td>144.88738</td>\n",
       "      <td>436.0</td>\n",
       "      <td>NaN</td>\n",
       "      <td>1997.0</td>\n",
       "      <td>Western Metropolitan</td>\n",
       "    </tr>\n",
       "    <tr>\n",
       "      <th>13579</th>\n",
       "      <td>Yarraville</td>\n",
       "      <td>6 Agnes St</td>\n",
       "      <td>4</td>\n",
       "      <td>h</td>\n",
       "      <td>1285000.0</td>\n",
       "      <td>2017-08-26</td>\n",
       "      <td>6.3</td>\n",
       "      <td>1.0</td>\n",
       "      <td>1.0</td>\n",
       "      <td>NaN</td>\n",
       "      <td>3013.0</td>\n",
       "      <td>-37.81188</td>\n",
       "      <td>144.88449</td>\n",
       "      <td>362.0</td>\n",
       "      <td>112.0</td>\n",
       "      <td>1920.0</td>\n",
       "      <td>Western Metropolitan</td>\n",
       "    </tr>\n",
       "  </tbody>\n",
       "</table>\n",
       "<p>12956 rows × 17 columns</p>\n",
       "</div>"
      ],
      "text/plain": [
       "              Suburb           Address  Rooms Type      Price       Date  \\\n",
       "0         Abbotsford      85 Turner St      2    h  1480000.0 2016-03-12   \n",
       "1         Abbotsford   25 Bloomburg St      2    h  1035000.0 2016-04-02   \n",
       "2         Abbotsford      5 Charles St      3    h  1465000.0 2017-04-03   \n",
       "3         Abbotsford  40 Federation La      3    h   850000.0 2017-04-03   \n",
       "4         Abbotsford       55a Park St      4    h  1600000.0 2016-04-06   \n",
       "...              ...               ...    ...  ...        ...        ...   \n",
       "13574    Westmeadows        9 Black St      3    h   582000.0 2017-08-26   \n",
       "13575  Wheelers Hill      12 Strada Cr      4    h  1245000.0 2017-08-26   \n",
       "13576   Williamstown     77 Merrett Dr      3    h  1031000.0 2017-08-26   \n",
       "13577   Williamstown       83 Power St      3    h  1170000.0 2017-08-26   \n",
       "13579     Yarraville        6 Agnes St      4    h  1285000.0 2017-08-26   \n",
       "\n",
       "       Distance  Bathroom  Car CouncilArea  Postcode  Lattitude  Longtitude  \\\n",
       "0           2.5       1.0  1.0       Yarra    3067.0  -37.79960   144.99840   \n",
       "1           2.5       1.0  0.0       Yarra    3067.0  -37.80790   144.99340   \n",
       "2           2.5       2.0  0.0       Yarra    3067.0  -37.80930   144.99440   \n",
       "3           2.5       2.0  1.0       Yarra    3067.0  -37.79690   144.99690   \n",
       "4           2.5       1.0  2.0       Yarra    3067.0  -37.80720   144.99410   \n",
       "...         ...       ...  ...         ...       ...        ...         ...   \n",
       "13574      16.5       2.0  2.0         NaN    3049.0  -37.67917   144.89390   \n",
       "13575      16.7       2.0  2.0         NaN    3150.0  -37.90562   145.16761   \n",
       "13576       6.8       2.0  2.0         NaN    3016.0  -37.85927   144.87904   \n",
       "13577       6.8       2.0  4.0         NaN    3016.0  -37.85274   144.88738   \n",
       "13579       6.3       1.0  1.0         NaN    3013.0  -37.81188   144.88449   \n",
       "\n",
       "       Landsize  BuildingArea  YearBuilt                  Regionname  \n",
       "0         202.0           NaN        NaN       Northern Metropolitan  \n",
       "1         156.0          79.0     1900.0       Northern Metropolitan  \n",
       "2         134.0         150.0     1900.0       Northern Metropolitan  \n",
       "3          94.0           NaN        NaN       Northern Metropolitan  \n",
       "4         120.0         142.0     2014.0       Northern Metropolitan  \n",
       "...         ...           ...        ...                         ...  \n",
       "13574     256.0           NaN        NaN       Northern Metropolitan  \n",
       "13575     652.0           NaN     1981.0  South-Eastern Metropolitan  \n",
       "13576     333.0         133.0     1995.0        Western Metropolitan  \n",
       "13577     436.0           NaN     1997.0        Western Metropolitan  \n",
       "13579     362.0         112.0     1920.0        Western Metropolitan  \n",
       "\n",
       "[12956 rows x 17 columns]"
      ]
     },
     "execution_count": 36,
     "metadata": {},
     "output_type": "execute_result"
    }
   ],
   "source": [
    "melb_df_RC = melb_df_2[relevant_columns]\n",
    "melb_df_RC"
   ]
  },
  {
   "cell_type": "markdown",
   "metadata": {
    "id": "f1kou3uGGT9x"
   },
   "source": [
    "Visualizamos la cantidad de valores únicos dentro de las variables seleccionadas."
   ]
  },
  {
   "cell_type": "code",
   "execution_count": 37,
   "metadata": {
    "colab": {
     "base_uri": "https://localhost:8080/"
    },
    "executionInfo": {
     "elapsed": 48,
     "status": "ok",
     "timestamp": 1627584253612,
     "user": {
      "displayName": "María Belén Acotto",
      "photoUrl": "https://lh3.googleusercontent.com/a-/AOh14GgxTl0geb_R3SIr4AA6LSVxhUsOjZdbmESuiHF-wOs=s64",
      "userId": "02753886766132213766"
     },
     "user_tz": 180
    },
    "id": "xanBbjBLGT9x",
    "outputId": "6831e4d0-3210-4024-d149-131f0cdba473"
   },
   "outputs": [
    {
     "data": {
      "text/plain": [
       "Suburb            314\n",
       "Address         12771\n",
       "Rooms               9\n",
       "Type                3\n",
       "Price            1945\n",
       "Date               58\n",
       "Distance          202\n",
       "Bathroom            8\n",
       "Car                11\n",
       "CouncilArea        33\n",
       "Postcode          198\n",
       "Lattitude        6339\n",
       "Longtitude       6882\n",
       "Landsize         1398\n",
       "BuildingArea      550\n",
       "YearBuilt         135\n",
       "Regionname          8\n",
       "dtype: int64"
      ]
     },
     "execution_count": 37,
     "metadata": {},
     "output_type": "execute_result"
    }
   ],
   "source": [
    "melb_df_RC.nunique()"
   ]
  },
  {
   "cell_type": "code",
   "execution_count": 38,
   "metadata": {
    "colab": {
     "base_uri": "https://localhost:8080/",
     "height": 294
    },
    "executionInfo": {
     "elapsed": 42,
     "status": "ok",
     "timestamp": 1627584253613,
     "user": {
      "displayName": "María Belén Acotto",
      "photoUrl": "https://lh3.googleusercontent.com/a-/AOh14GgxTl0geb_R3SIr4AA6LSVxhUsOjZdbmESuiHF-wOs=s64",
      "userId": "02753886766132213766"
     },
     "user_tz": 180
    },
    "id": "fhYbUH75GT9y",
    "outputId": "ff59d86e-a208-42e6-f93d-518b4c188470"
   },
   "outputs": [
    {
     "data": {
      "text/html": [
       "<div>\n",
       "<style scoped>\n",
       "    .dataframe tbody tr th:only-of-type {\n",
       "        vertical-align: middle;\n",
       "    }\n",
       "\n",
       "    .dataframe tbody tr th {\n",
       "        vertical-align: top;\n",
       "    }\n",
       "\n",
       "    .dataframe thead th {\n",
       "        text-align: right;\n",
       "    }\n",
       "</style>\n",
       "<table border=\"1\" class=\"dataframe\">\n",
       "  <thead>\n",
       "    <tr style=\"text-align: right;\">\n",
       "      <th></th>\n",
       "      <th>Rooms</th>\n",
       "      <th>Price</th>\n",
       "      <th>Distance</th>\n",
       "      <th>Bathroom</th>\n",
       "      <th>Car</th>\n",
       "      <th>Postcode</th>\n",
       "      <th>Lattitude</th>\n",
       "      <th>Longtitude</th>\n",
       "      <th>Landsize</th>\n",
       "      <th>BuildingArea</th>\n",
       "      <th>YearBuilt</th>\n",
       "    </tr>\n",
       "  </thead>\n",
       "  <tbody>\n",
       "    <tr>\n",
       "      <th>count</th>\n",
       "      <td>12956.00</td>\n",
       "      <td>12956.00</td>\n",
       "      <td>12956.00</td>\n",
       "      <td>12956.00</td>\n",
       "      <td>12897.00</td>\n",
       "      <td>12956.00</td>\n",
       "      <td>12956.00</td>\n",
       "      <td>12956.00</td>\n",
       "      <td>12956.00</td>\n",
       "      <td>6766.00</td>\n",
       "      <td>7798.00</td>\n",
       "    </tr>\n",
       "    <tr>\n",
       "      <th>mean</th>\n",
       "      <td>2.88</td>\n",
       "      <td>981359.29</td>\n",
       "      <td>10.24</td>\n",
       "      <td>1.49</td>\n",
       "      <td>1.58</td>\n",
       "      <td>3103.91</td>\n",
       "      <td>-37.81</td>\n",
       "      <td>144.99</td>\n",
       "      <td>517.12</td>\n",
       "      <td>145.00</td>\n",
       "      <td>1965.77</td>\n",
       "    </tr>\n",
       "    <tr>\n",
       "      <th>std</th>\n",
       "      <td>0.93</td>\n",
       "      <td>452925.15</td>\n",
       "      <td>5.95</td>\n",
       "      <td>0.64</td>\n",
       "      <td>0.95</td>\n",
       "      <td>92.08</td>\n",
       "      <td>0.08</td>\n",
       "      <td>0.11</td>\n",
       "      <td>1498.21</td>\n",
       "      <td>552.86</td>\n",
       "      <td>36.56</td>\n",
       "    </tr>\n",
       "    <tr>\n",
       "      <th>min</th>\n",
       "      <td>1.00</td>\n",
       "      <td>85000.00</td>\n",
       "      <td>0.00</td>\n",
       "      <td>0.00</td>\n",
       "      <td>0.00</td>\n",
       "      <td>3000.00</td>\n",
       "      <td>-38.18</td>\n",
       "      <td>144.43</td>\n",
       "      <td>0.00</td>\n",
       "      <td>0.00</td>\n",
       "      <td>1196.00</td>\n",
       "    </tr>\n",
       "    <tr>\n",
       "      <th>25%</th>\n",
       "      <td>2.00</td>\n",
       "      <td>637000.00</td>\n",
       "      <td>6.20</td>\n",
       "      <td>1.00</td>\n",
       "      <td>1.00</td>\n",
       "      <td>3044.00</td>\n",
       "      <td>-37.86</td>\n",
       "      <td>144.93</td>\n",
       "      <td>168.00</td>\n",
       "      <td>91.00</td>\n",
       "      <td>1950.00</td>\n",
       "    </tr>\n",
       "    <tr>\n",
       "      <th>50%</th>\n",
       "      <td>3.00</td>\n",
       "      <td>880000.00</td>\n",
       "      <td>9.40</td>\n",
       "      <td>1.00</td>\n",
       "      <td>2.00</td>\n",
       "      <td>3081.00</td>\n",
       "      <td>-37.80</td>\n",
       "      <td>145.00</td>\n",
       "      <td>416.00</td>\n",
       "      <td>122.00</td>\n",
       "      <td>1970.00</td>\n",
       "    </tr>\n",
       "    <tr>\n",
       "      <th>75%</th>\n",
       "      <td>3.00</td>\n",
       "      <td>1270000.00</td>\n",
       "      <td>13.00</td>\n",
       "      <td>2.00</td>\n",
       "      <td>2.00</td>\n",
       "      <td>3147.00</td>\n",
       "      <td>-37.75</td>\n",
       "      <td>145.06</td>\n",
       "      <td>645.00</td>\n",
       "      <td>165.00</td>\n",
       "      <td>2000.00</td>\n",
       "    </tr>\n",
       "    <tr>\n",
       "      <th>max</th>\n",
       "      <td>10.00</td>\n",
       "      <td>2345000.00</td>\n",
       "      <td>48.10</td>\n",
       "      <td>8.00</td>\n",
       "      <td>10.00</td>\n",
       "      <td>3977.00</td>\n",
       "      <td>-37.41</td>\n",
       "      <td>145.53</td>\n",
       "      <td>76000.00</td>\n",
       "      <td>44515.00</td>\n",
       "      <td>2018.00</td>\n",
       "    </tr>\n",
       "  </tbody>\n",
       "</table>\n",
       "</div>"
      ],
      "text/plain": [
       "          Rooms       Price  Distance  Bathroom       Car  Postcode  \\\n",
       "count  12956.00    12956.00  12956.00  12956.00  12897.00  12956.00   \n",
       "mean       2.88   981359.29     10.24      1.49      1.58   3103.91   \n",
       "std        0.93   452925.15      5.95      0.64      0.95     92.08   \n",
       "min        1.00    85000.00      0.00      0.00      0.00   3000.00   \n",
       "25%        2.00   637000.00      6.20      1.00      1.00   3044.00   \n",
       "50%        3.00   880000.00      9.40      1.00      2.00   3081.00   \n",
       "75%        3.00  1270000.00     13.00      2.00      2.00   3147.00   \n",
       "max       10.00  2345000.00     48.10      8.00     10.00   3977.00   \n",
       "\n",
       "       Lattitude  Longtitude  Landsize  BuildingArea  YearBuilt  \n",
       "count   12956.00    12956.00  12956.00       6766.00    7798.00  \n",
       "mean      -37.81      144.99    517.12        145.00    1965.77  \n",
       "std         0.08        0.11   1498.21        552.86      36.56  \n",
       "min       -38.18      144.43      0.00          0.00    1196.00  \n",
       "25%       -37.86      144.93    168.00         91.00    1950.00  \n",
       "50%       -37.80      145.00    416.00        122.00    1970.00  \n",
       "75%       -37.75      145.06    645.00        165.00    2000.00  \n",
       "max       -37.41      145.53  76000.00      44515.00    2018.00  "
      ]
     },
     "execution_count": 38,
     "metadata": {},
     "output_type": "execute_result"
    }
   ],
   "source": [
    "melb_df_RC.describe().round(2)"
   ]
  },
  {
   "cell_type": "markdown",
   "metadata": {
    "id": "drfnbc_HGT9y"
   },
   "source": [
    "Analizaremos las columnas que podemos agrupar.\n",
    "\n",
    "Tomaremos en primera instancia, las variables categorícas **Regionname** y **YearBuilt**."
   ]
  },
  {
   "cell_type": "markdown",
   "metadata": {
    "id": "rawTuBr1XOKw"
   },
   "source": [
    "---"
   ]
  },
  {
   "cell_type": "markdown",
   "metadata": {
    "id": "utvKNwedXOKw"
   },
   "source": [
    "##### Agrupamiento **Regionname**"
   ]
  },
  {
   "cell_type": "markdown",
   "metadata": {
    "id": "PpsSop_hGT9y"
   },
   "source": [
    "Observamos los valores únicos para **Regionname** y la cantidad de valores que tienen."
   ]
  },
  {
   "cell_type": "code",
   "execution_count": 39,
   "metadata": {
    "colab": {
     "base_uri": "https://localhost:8080/"
    },
    "executionInfo": {
     "elapsed": 39,
     "status": "ok",
     "timestamp": 1627584253613,
     "user": {
      "displayName": "María Belén Acotto",
      "photoUrl": "https://lh3.googleusercontent.com/a-/AOh14GgxTl0geb_R3SIr4AA6LSVxhUsOjZdbmESuiHF-wOs=s64",
      "userId": "02753886766132213766"
     },
     "user_tz": 180
    },
    "id": "FD-CjlroGT9y",
    "outputId": "fb1f3e3e-ed8b-4a08-9a10-b011fb1895e9"
   },
   "outputs": [
    {
     "data": {
      "text/plain": [
       "Regionname\n",
       "Eastern Metropolitan          1435\n",
       "Eastern Victoria                53\n",
       "Northern Metropolitan         3846\n",
       "Northern Victoria               41\n",
       "South-Eastern Metropolitan     447\n",
       "Southern Metropolitan         4177\n",
       "Western Metropolitan          2925\n",
       "Western Victoria                32\n",
       "dtype: int64"
      ]
     },
     "execution_count": 39,
     "metadata": {},
     "output_type": "execute_result"
    }
   ],
   "source": [
    "melb_df_RC[['Regionname']].groupby(by=['Regionname']).size()"
   ]
  },
  {
   "cell_type": "markdown",
   "metadata": {
    "id": "nHY5-i4qGT9z"
   },
   "source": [
    "Observando las columnas y la cantidad de valores de cada una, vamos a hacer clustering en 4 regiones:\n",
    "* South (Sur)\n",
    "* North (Norte)\n",
    "* East (Este)\n",
    "* West (Oeste)"
   ]
  },
  {
   "cell_type": "markdown",
   "metadata": {
    "id": "nt4cV2KsGT9z"
   },
   "source": [
    "Creamos un diccionario de las regiones con su nueva definición"
   ]
  },
  {
   "cell_type": "code",
   "execution_count": 40,
   "metadata": {
    "executionInfo": {
     "elapsed": 32,
     "status": "ok",
     "timestamp": 1627584253614,
     "user": {
      "displayName": "María Belén Acotto",
      "photoUrl": "https://lh3.googleusercontent.com/a-/AOh14GgxTl0geb_R3SIr4AA6LSVxhUsOjZdbmESuiHF-wOs=s64",
      "userId": "02753886766132213766"
     },
     "user_tz": 180
    },
    "id": "A4hmrrH_GT9z"
   },
   "outputs": [],
   "source": [
    "dic_region = {'Eastern Metropolitan': 'East', 'Eastern Victoria': 'East', 'Northern Metropolitan': 'North', \n",
    "              'Northern Victoria': 'North', 'South-Eastern Metropolitan': 'South', 'Southern Metropolitan': 'South',\n",
    "              'Western Metropolitan': 'West', 'Western Victoria': 'West'}"
   ]
  },
  {
   "cell_type": "markdown",
   "metadata": {
    "id": "B4NYOUDAGT9z"
   },
   "source": [
    "Ya contando con el diccionario de las regiones, se reemplazará la región correspondiente para cada propiedad en el nuevo dataset determinado para el analisis."
   ]
  },
  {
   "cell_type": "code",
   "execution_count": 41,
   "metadata": {
    "colab": {
     "base_uri": "https://localhost:8080/"
    },
    "executionInfo": {
     "elapsed": 31,
     "status": "ok",
     "timestamp": 1627584253615,
     "user": {
      "displayName": "María Belén Acotto",
      "photoUrl": "https://lh3.googleusercontent.com/a-/AOh14GgxTl0geb_R3SIr4AA6LSVxhUsOjZdbmESuiHF-wOs=s64",
      "userId": "02753886766132213766"
     },
     "user_tz": 180
    },
    "id": "uC93RJ0kGT9z",
    "outputId": "808e2006-1cb5-48ed-b8fa-d3273d1561b6"
   },
   "outputs": [
    {
     "data": {
      "text/plain": [
       "Regionname\n",
       "East     1488\n",
       "North    3887\n",
       "South    4624\n",
       "West     2957\n",
       "dtype: int64"
      ]
     },
     "execution_count": 41,
     "metadata": {},
     "output_type": "execute_result"
    }
   ],
   "source": [
    "melb_df_RC = melb_df_RC.replace({'Regionname': dic_region})\n",
    "melb_df_RC[['Regionname']].groupby(by=['Regionname']).size()"
   ]
  },
  {
   "cell_type": "markdown",
   "metadata": {
    "id": "gNg9xk3QGT90"
   },
   "source": [
    "---"
   ]
  },
  {
   "cell_type": "markdown",
   "metadata": {
    "id": "5N4NSTW7XOKy"
   },
   "source": [
    "##### Agrupamiento YearBuilt en AgeRange"
   ]
  },
  {
   "cell_type": "markdown",
   "metadata": {
    "id": "F453qlomGT90"
   },
   "source": [
    "Ahora trataremos con los valores de años de contrucción. Primero analizamos qué contiene nuestro datasets"
   ]
  },
  {
   "cell_type": "code",
   "execution_count": 42,
   "metadata": {
    "colab": {
     "base_uri": "https://localhost:8080/"
    },
    "executionInfo": {
     "elapsed": 24,
     "status": "ok",
     "timestamp": 1627584253615,
     "user": {
      "displayName": "María Belén Acotto",
      "photoUrl": "https://lh3.googleusercontent.com/a-/AOh14GgxTl0geb_R3SIr4AA6LSVxhUsOjZdbmESuiHF-wOs=s64",
      "userId": "02753886766132213766"
     },
     "user_tz": 180
    },
    "id": "93nd_bDzGT90",
    "outputId": "76c203d3-2914-493f-ad69-7a67f142dd4b"
   },
   "outputs": [
    {
     "data": {
      "text/plain": [
       "YearBuilt\n",
       "1196.0     1\n",
       "1830.0     1\n",
       "1850.0     4\n",
       "1856.0     1\n",
       "1857.0     1\n",
       "          ..\n",
       "2014.0    98\n",
       "2015.0    56\n",
       "2016.0    50\n",
       "2017.0    17\n",
       "2018.0     1\n",
       "Length: 135, dtype: int64"
      ]
     },
     "execution_count": 42,
     "metadata": {},
     "output_type": "execute_result"
    }
   ],
   "source": [
    "melb_df_RC[['YearBuilt']].groupby(by=['YearBuilt']).size()"
   ]
  },
  {
   "cell_type": "markdown",
   "metadata": {
    "id": "EgTe9Bs0GT90"
   },
   "source": [
    "Analizaremos este dato con un gráfico, para comparar la frecuencia de los años de construcción de las propiedades del dataset. "
   ]
  },
  {
   "cell_type": "code",
   "execution_count": 43,
   "metadata": {
    "colab": {
     "base_uri": "https://localhost:8080/",
     "height": 535
    },
    "executionInfo": {
     "elapsed": 20,
     "status": "ok",
     "timestamp": 1627584253616,
     "user": {
      "displayName": "María Belén Acotto",
      "photoUrl": "https://lh3.googleusercontent.com/a-/AOh14GgxTl0geb_R3SIr4AA6LSVxhUsOjZdbmESuiHF-wOs=s64",
      "userId": "02753886766132213766"
     },
     "user_tz": 180
    },
    "id": "mYdbLKHYGT91",
    "outputId": "683083fc-070e-47df-b58e-a680fa84892d"
   },
   "outputs": [
    {
     "data": {
      "image/png": "[encoded data removed]",
      "text/plain": [
       "<Figure size 1152x576 with 1 Axes>"
      ]
     },
     "metadata": {
      "needs_background": "light"
     },
     "output_type": "display_data"
    }
   ],
   "source": [
    "fig = plt.figure(figsize=(16, 8))\n",
    "sns.histplot(data=melb_df_RC[['YearBuilt']], x=\"YearBuilt\", kde=True, bins=100, color='red', stat= 'density')\n",
    "plt.title('Distribución de la columna YearBuilt',fontsize=16)\n",
    "plt.xlabel('YearBuilt (Año de construcción)')\n",
    "plt.show()"
   ]
  },
  {
   "cell_type": "markdown",
   "metadata": {
    "id": "iMOz8cYEGT91"
   },
   "source": [
    "Como vemos, hay valores desde antes de 1900. Analizaremos la concentración de datos."
   ]
  },
  {
   "cell_type": "code",
   "execution_count": 44,
   "metadata": {
    "colab": {
     "base_uri": "https://localhost:8080/",
     "height": 483
    },
    "executionInfo": {
     "elapsed": 718,
     "status": "ok",
     "timestamp": 1627584254316,
     "user": {
      "displayName": "María Belén Acotto",
      "photoUrl": "https://lh3.googleusercontent.com/a-/AOh14GgxTl0geb_R3SIr4AA6LSVxhUsOjZdbmESuiHF-wOs=s64",
      "userId": "02753886766132213766"
     },
     "user_tz": 180
    },
    "id": "w--WgkKuGT91",
    "outputId": "b48303e3-fbaf-48eb-d1c7-f791079e6ab4"
   },
   "outputs": [
    {
     "data": {
      "image/png": "[encoded data removed]",
      "text/plain": [
       "<Figure size 1152x504 with 1 Axes>"
      ]
     },
     "metadata": {
      "needs_background": "light"
     },
     "output_type": "display_data"
    }
   ],
   "source": [
    "plt.figure(figsize=(16, 7))\n",
    "sns.boxenplot(data=melb_df_RC[['YearBuilt']], x=\"YearBuilt\", color='salmon')\n",
    "plt.title(\"Gráfico para analizar concentración de valores\", fontsize=15)\n",
    "plt.show()"
   ]
  },
  {
   "cell_type": "markdown",
   "metadata": {
    "id": "t-Y2jG_rGT92"
   },
   "source": [
    "Observamos un outlier o un caso muy atípico que se presenta en una propiedad construida en 1196. Este pudo o no ser un dato mal tipificado, pero por el momento no tomamos decisiones de cambio sobre el registro.\n",
    "\n",
    "Miraremos la concentración dentro de las propiedades construidas por encima de 1800."
   ]
  },
  {
   "cell_type": "code",
   "execution_count": 45,
   "metadata": {
    "colab": {
     "base_uri": "https://localhost:8080/",
     "height": 483
    },
    "executionInfo": {
     "elapsed": 48,
     "status": "ok",
     "timestamp": 1627584254317,
     "user": {
      "displayName": "María Belén Acotto",
      "photoUrl": "https://lh3.googleusercontent.com/a-/AOh14GgxTl0geb_R3SIr4AA6LSVxhUsOjZdbmESuiHF-wOs=s64",
      "userId": "02753886766132213766"
     },
     "user_tz": 180
    },
    "id": "tMNG6ixqGT92",
    "outputId": "c5bb2259-81e3-4d31-d989-2db481ff528a"
   },
   "outputs": [
    {
     "data": {
      "image/png": "[encoded data removed]",
      "text/plain": [
       "<Figure size 1152x504 with 1 Axes>"
      ]
     },
     "metadata": {
      "needs_background": "light"
     },
     "output_type": "display_data"
    }
   ],
   "source": [
    "plt.figure(figsize=(16, 7))\n",
    "sns.boxenplot(data=melb_df_RC[melb_df_RC.YearBuilt >= 1800], x=\"YearBuilt\", color='salmon')\n",
    "plt.title(\"Gráfico para analizar concentración de valores\", fontsize=15)\n",
    "plt.show()"
   ]
  },
  {
   "cell_type": "code",
   "execution_count": 46,
   "metadata": {
    "colab": {
     "base_uri": "https://localhost:8080/",
     "height": 294
    },
    "executionInfo": {
     "elapsed": 48,
     "status": "ok",
     "timestamp": 1627584254318,
     "user": {
      "displayName": "María Belén Acotto",
      "photoUrl": "https://lh3.googleusercontent.com/a-/AOh14GgxTl0geb_R3SIr4AA6LSVxhUsOjZdbmESuiHF-wOs=s64",
      "userId": "02753886766132213766"
     },
     "user_tz": 180
    },
    "id": "bMEbfjixGT92",
    "outputId": "7e5d80b7-a281-47e8-e14a-b1014fdd2851"
   },
   "outputs": [
    {
     "data": {
      "text/html": [
       "<div>\n",
       "<style scoped>\n",
       "    .dataframe tbody tr th:only-of-type {\n",
       "        vertical-align: middle;\n",
       "    }\n",
       "\n",
       "    .dataframe tbody tr th {\n",
       "        vertical-align: top;\n",
       "    }\n",
       "\n",
       "    .dataframe thead th {\n",
       "        text-align: right;\n",
       "    }\n",
       "</style>\n",
       "<table border=\"1\" class=\"dataframe\">\n",
       "  <thead>\n",
       "    <tr style=\"text-align: right;\">\n",
       "      <th></th>\n",
       "      <th>Rooms</th>\n",
       "      <th>Price</th>\n",
       "      <th>Distance</th>\n",
       "      <th>Bathroom</th>\n",
       "      <th>Car</th>\n",
       "      <th>Postcode</th>\n",
       "      <th>Lattitude</th>\n",
       "      <th>Longtitude</th>\n",
       "      <th>Landsize</th>\n",
       "      <th>BuildingArea</th>\n",
       "      <th>YearBuilt</th>\n",
       "    </tr>\n",
       "  </thead>\n",
       "  <tbody>\n",
       "    <tr>\n",
       "      <th>count</th>\n",
       "      <td>7797.00</td>\n",
       "      <td>7797.00</td>\n",
       "      <td>7797.00</td>\n",
       "      <td>7797.00</td>\n",
       "      <td>7769.00</td>\n",
       "      <td>7797.00</td>\n",
       "      <td>7797.00</td>\n",
       "      <td>7797.00</td>\n",
       "      <td>7797.00</td>\n",
       "      <td>6509.00</td>\n",
       "      <td>7797.00</td>\n",
       "    </tr>\n",
       "    <tr>\n",
       "      <th>mean</th>\n",
       "      <td>2.87</td>\n",
       "      <td>961679.34</td>\n",
       "      <td>10.12</td>\n",
       "      <td>1.52</td>\n",
       "      <td>1.56</td>\n",
       "      <td>3103.70</td>\n",
       "      <td>-37.81</td>\n",
       "      <td>144.99</td>\n",
       "      <td>481.60</td>\n",
       "      <td>135.92</td>\n",
       "      <td>1965.87</td>\n",
       "    </tr>\n",
       "    <tr>\n",
       "      <th>std</th>\n",
       "      <td>0.95</td>\n",
       "      <td>459087.62</td>\n",
       "      <td>6.01</td>\n",
       "      <td>0.65</td>\n",
       "      <td>0.92</td>\n",
       "      <td>91.69</td>\n",
       "      <td>0.08</td>\n",
       "      <td>0.10</td>\n",
       "      <td>1012.13</td>\n",
       "      <td>74.91</td>\n",
       "      <td>35.50</td>\n",
       "    </tr>\n",
       "    <tr>\n",
       "      <th>min</th>\n",
       "      <td>1.00</td>\n",
       "      <td>85000.00</td>\n",
       "      <td>0.00</td>\n",
       "      <td>0.00</td>\n",
       "      <td>0.00</td>\n",
       "      <td>3000.00</td>\n",
       "      <td>-38.16</td>\n",
       "      <td>144.54</td>\n",
       "      <td>0.00</td>\n",
       "      <td>0.00</td>\n",
       "      <td>1830.00</td>\n",
       "    </tr>\n",
       "    <tr>\n",
       "      <th>25%</th>\n",
       "      <td>2.00</td>\n",
       "      <td>610000.00</td>\n",
       "      <td>6.10</td>\n",
       "      <td>1.00</td>\n",
       "      <td>1.00</td>\n",
       "      <td>3044.00</td>\n",
       "      <td>-37.86</td>\n",
       "      <td>144.93</td>\n",
       "      <td>150.00</td>\n",
       "      <td>92.00</td>\n",
       "      <td>1950.00</td>\n",
       "    </tr>\n",
       "    <tr>\n",
       "      <th>50%</th>\n",
       "      <td>3.00</td>\n",
       "      <td>855000.00</td>\n",
       "      <td>9.20</td>\n",
       "      <td>1.00</td>\n",
       "      <td>1.00</td>\n",
       "      <td>3081.00</td>\n",
       "      <td>-37.80</td>\n",
       "      <td>145.00</td>\n",
       "      <td>362.00</td>\n",
       "      <td>122.00</td>\n",
       "      <td>1970.00</td>\n",
       "    </tr>\n",
       "    <tr>\n",
       "      <th>75%</th>\n",
       "      <td>3.00</td>\n",
       "      <td>1250000.00</td>\n",
       "      <td>13.00</td>\n",
       "      <td>2.00</td>\n",
       "      <td>2.00</td>\n",
       "      <td>3148.00</td>\n",
       "      <td>-37.76</td>\n",
       "      <td>145.05</td>\n",
       "      <td>624.00</td>\n",
       "      <td>164.00</td>\n",
       "      <td>2000.00</td>\n",
       "    </tr>\n",
       "    <tr>\n",
       "      <th>max</th>\n",
       "      <td>10.00</td>\n",
       "      <td>2345000.00</td>\n",
       "      <td>47.40</td>\n",
       "      <td>8.00</td>\n",
       "      <td>10.00</td>\n",
       "      <td>3977.00</td>\n",
       "      <td>-37.41</td>\n",
       "      <td>145.53</td>\n",
       "      <td>37000.00</td>\n",
       "      <td>1561.00</td>\n",
       "      <td>2018.00</td>\n",
       "    </tr>\n",
       "  </tbody>\n",
       "</table>\n",
       "</div>"
      ],
      "text/plain": [
       "         Rooms       Price  Distance  Bathroom      Car  Postcode  Lattitude  \\\n",
       "count  7797.00     7797.00   7797.00   7797.00  7769.00   7797.00    7797.00   \n",
       "mean      2.87   961679.34     10.12      1.52     1.56   3103.70     -37.81   \n",
       "std       0.95   459087.62      6.01      0.65     0.92     91.69       0.08   \n",
       "min       1.00    85000.00      0.00      0.00     0.00   3000.00     -38.16   \n",
       "25%       2.00   610000.00      6.10      1.00     1.00   3044.00     -37.86   \n",
       "50%       3.00   855000.00      9.20      1.00     1.00   3081.00     -37.80   \n",
       "75%       3.00  1250000.00     13.00      2.00     2.00   3148.00     -37.76   \n",
       "max      10.00  2345000.00     47.40      8.00    10.00   3977.00     -37.41   \n",
       "\n",
       "       Longtitude  Landsize  BuildingArea  YearBuilt  \n",
       "count     7797.00   7797.00       6509.00    7797.00  \n",
       "mean       144.99    481.60        135.92    1965.87  \n",
       "std          0.10   1012.13         74.91      35.50  \n",
       "min        144.54      0.00          0.00    1830.00  \n",
       "25%        144.93    150.00         92.00    1950.00  \n",
       "50%        145.00    362.00        122.00    1970.00  \n",
       "75%        145.05    624.00        164.00    2000.00  \n",
       "max        145.53  37000.00       1561.00    2018.00  "
      ]
     },
     "execution_count": 46,
     "metadata": {},
     "output_type": "execute_result"
    }
   ],
   "source": [
    "melb_df_RC[melb_df_RC.YearBuilt >= 1800].describe().round(2)"
   ]
  },
  {
   "cell_type": "markdown",
   "metadata": {
    "id": "pUjQoHW1oqkL"
   },
   "source": [
    "Como observamos, dentro de la columna **YearBuilt** existe el registro con valor 2018, generando un dato ruidoso con respecto a la columna **Date**, en donde el valor máximo de fecha es del año 2017.\n",
    "\n",
    "Analicemos lo que pasa en este registro."
   ]
  },
  {
   "cell_type": "code",
   "execution_count": 47,
   "metadata": {
    "colab": {
     "base_uri": "https://localhost:8080/",
     "height": 78
    },
    "executionInfo": {
     "elapsed": 48,
     "status": "ok",
     "timestamp": 1627584254319,
     "user": {
      "displayName": "María Belén Acotto",
      "photoUrl": "https://lh3.googleusercontent.com/a-/AOh14GgxTl0geb_R3SIr4AA6LSVxhUsOjZdbmESuiHF-wOs=s64",
      "userId": "02753886766132213766"
     },
     "user_tz": 180
    },
    "id": "kbHyq1kQGT92",
    "outputId": "71069a66-8eb2-467c-9a1d-33b443cd0a8d"
   },
   "outputs": [
    {
     "data": {
      "text/html": [
       "<div>\n",
       "<style scoped>\n",
       "    .dataframe tbody tr th:only-of-type {\n",
       "        vertical-align: middle;\n",
       "    }\n",
       "\n",
       "    .dataframe tbody tr th {\n",
       "        vertical-align: top;\n",
       "    }\n",
       "\n",
       "    .dataframe thead th {\n",
       "        text-align: right;\n",
       "    }\n",
       "</style>\n",
       "<table border=\"1\" class=\"dataframe\">\n",
       "  <thead>\n",
       "    <tr style=\"text-align: right;\">\n",
       "      <th></th>\n",
       "      <th>Suburb</th>\n",
       "      <th>Address</th>\n",
       "      <th>Rooms</th>\n",
       "      <th>Type</th>\n",
       "      <th>Price</th>\n",
       "      <th>Date</th>\n",
       "      <th>Distance</th>\n",
       "      <th>Bathroom</th>\n",
       "      <th>Car</th>\n",
       "      <th>CouncilArea</th>\n",
       "      <th>Postcode</th>\n",
       "      <th>Lattitude</th>\n",
       "      <th>Longtitude</th>\n",
       "      <th>Landsize</th>\n",
       "      <th>BuildingArea</th>\n",
       "      <th>YearBuilt</th>\n",
       "      <th>Regionname</th>\n",
       "    </tr>\n",
       "  </thead>\n",
       "  <tbody>\n",
       "    <tr>\n",
       "      <th>1234</th>\n",
       "      <td>Brighton East</td>\n",
       "      <td>8 Thomas St</td>\n",
       "      <td>2</td>\n",
       "      <td>h</td>\n",
       "      <td>1310000.0</td>\n",
       "      <td>2016-09-24</td>\n",
       "      <td>10.7</td>\n",
       "      <td>3.0</td>\n",
       "      <td>2.0</td>\n",
       "      <td>Glen Eira</td>\n",
       "      <td>3187.0</td>\n",
       "      <td>-37.9182</td>\n",
       "      <td>145.0231</td>\n",
       "      <td>302.0</td>\n",
       "      <td>250.0</td>\n",
       "      <td>2018.0</td>\n",
       "      <td>South</td>\n",
       "    </tr>\n",
       "  </tbody>\n",
       "</table>\n",
       "</div>"
      ],
      "text/plain": [
       "             Suburb      Address  Rooms Type      Price       Date  Distance  \\\n",
       "1234  Brighton East  8 Thomas St      2    h  1310000.0 2016-09-24      10.7   \n",
       "\n",
       "      Bathroom  Car CouncilArea  Postcode  Lattitude  Longtitude  Landsize  \\\n",
       "1234       3.0  2.0   Glen Eira    3187.0   -37.9182    145.0231     302.0   \n",
       "\n",
       "      BuildingArea  YearBuilt Regionname  \n",
       "1234         250.0     2018.0      South  "
      ]
     },
     "execution_count": 47,
     "metadata": {},
     "output_type": "execute_result"
    }
   ],
   "source": [
    "melb_df_RC[melb_df_RC.YearBuilt >= 2018]"
   ]
  },
  {
   "cell_type": "markdown",
   "metadata": {
    "id": "bHaEbEu6p0t-"
   },
   "source": [
    "Luego de este análisis, podemos deducir que hay propiedades que se venden, y posterio se construyen, porque en este registro de la columna **YearBuilt**, el año de construcción es posterior al año de la venta."
   ]
  },
  {
   "cell_type": "code",
   "execution_count": 48,
   "metadata": {
    "colab": {
     "base_uri": "https://localhost:8080/",
     "height": 232
    },
    "executionInfo": {
     "elapsed": 48,
     "status": "ok",
     "timestamp": 1627584254320,
     "user": {
      "displayName": "María Belén Acotto",
      "photoUrl": "https://lh3.googleusercontent.com/a-/AOh14GgxTl0geb_R3SIr4AA6LSVxhUsOjZdbmESuiHF-wOs=s64",
      "userId": "02753886766132213766"
     },
     "user_tz": 180
    },
    "id": "J9KxmGC8pz8d",
    "outputId": "05c4caaf-48ef-4bdb-fd31-0750cc165d18"
   },
   "outputs": [
    {
     "data": {
      "text/html": [
       "<div>\n",
       "<style scoped>\n",
       "    .dataframe tbody tr th:only-of-type {\n",
       "        vertical-align: middle;\n",
       "    }\n",
       "\n",
       "    .dataframe tbody tr th {\n",
       "        vertical-align: top;\n",
       "    }\n",
       "\n",
       "    .dataframe thead th {\n",
       "        text-align: right;\n",
       "    }\n",
       "</style>\n",
       "<table border=\"1\" class=\"dataframe\">\n",
       "  <thead>\n",
       "    <tr style=\"text-align: right;\">\n",
       "      <th></th>\n",
       "      <th>Suburb</th>\n",
       "      <th>Address</th>\n",
       "      <th>Rooms</th>\n",
       "      <th>Type</th>\n",
       "      <th>Price</th>\n",
       "      <th>Date</th>\n",
       "      <th>Distance</th>\n",
       "      <th>Bathroom</th>\n",
       "      <th>Car</th>\n",
       "      <th>CouncilArea</th>\n",
       "      <th>Postcode</th>\n",
       "      <th>Lattitude</th>\n",
       "      <th>Longtitude</th>\n",
       "      <th>Landsize</th>\n",
       "      <th>BuildingArea</th>\n",
       "      <th>YearBuilt</th>\n",
       "      <th>Regionname</th>\n",
       "    </tr>\n",
       "  </thead>\n",
       "  <tbody>\n",
       "    <tr>\n",
       "      <th>441</th>\n",
       "      <td>Avondale Heights</td>\n",
       "      <td>157 Canning St</td>\n",
       "      <td>3</td>\n",
       "      <td>t</td>\n",
       "      <td>851000.0</td>\n",
       "      <td>2016-03-12</td>\n",
       "      <td>10.5</td>\n",
       "      <td>3.0</td>\n",
       "      <td>1.0</td>\n",
       "      <td>Moonee Valley</td>\n",
       "      <td>3034.0</td>\n",
       "      <td>-37.7700</td>\n",
       "      <td>144.8572</td>\n",
       "      <td>557.0</td>\n",
       "      <td>181.0</td>\n",
       "      <td>2017.0</td>\n",
       "      <td>West</td>\n",
       "    </tr>\n",
       "    <tr>\n",
       "      <th>1234</th>\n",
       "      <td>Brighton East</td>\n",
       "      <td>8 Thomas St</td>\n",
       "      <td>2</td>\n",
       "      <td>h</td>\n",
       "      <td>1310000.0</td>\n",
       "      <td>2016-09-24</td>\n",
       "      <td>10.7</td>\n",
       "      <td>3.0</td>\n",
       "      <td>2.0</td>\n",
       "      <td>Glen Eira</td>\n",
       "      <td>3187.0</td>\n",
       "      <td>-37.9182</td>\n",
       "      <td>145.0231</td>\n",
       "      <td>302.0</td>\n",
       "      <td>250.0</td>\n",
       "      <td>2018.0</td>\n",
       "      <td>South</td>\n",
       "    </tr>\n",
       "    <tr>\n",
       "      <th>3489</th>\n",
       "      <td>Keilor East</td>\n",
       "      <td>20 Keith Gr</td>\n",
       "      <td>3</td>\n",
       "      <td>h</td>\n",
       "      <td>825000.0</td>\n",
       "      <td>2016-04-23</td>\n",
       "      <td>12.8</td>\n",
       "      <td>2.0</td>\n",
       "      <td>1.0</td>\n",
       "      <td>Moonee Valley</td>\n",
       "      <td>3033.0</td>\n",
       "      <td>-37.7378</td>\n",
       "      <td>144.8705</td>\n",
       "      <td>630.0</td>\n",
       "      <td>126.0</td>\n",
       "      <td>2017.0</td>\n",
       "      <td>West</td>\n",
       "    </tr>\n",
       "    <tr>\n",
       "      <th>4282</th>\n",
       "      <td>Newport</td>\n",
       "      <td>7 Durkin St</td>\n",
       "      <td>3</td>\n",
       "      <td>h</td>\n",
       "      <td>945000.0</td>\n",
       "      <td>2016-05-28</td>\n",
       "      <td>8.4</td>\n",
       "      <td>2.0</td>\n",
       "      <td>1.0</td>\n",
       "      <td>Hobsons Bay</td>\n",
       "      <td>3015.0</td>\n",
       "      <td>-37.8438</td>\n",
       "      <td>144.8806</td>\n",
       "      <td>487.0</td>\n",
       "      <td>190.0</td>\n",
       "      <td>2017.0</td>\n",
       "      <td>West</td>\n",
       "    </tr>\n",
       "    <tr>\n",
       "      <th>5153</th>\n",
       "      <td>Reservoir</td>\n",
       "      <td>89 Darebin Bvd</td>\n",
       "      <td>4</td>\n",
       "      <td>h</td>\n",
       "      <td>767500.0</td>\n",
       "      <td>2016-09-17</td>\n",
       "      <td>11.2</td>\n",
       "      <td>2.0</td>\n",
       "      <td>2.0</td>\n",
       "      <td>Darebin</td>\n",
       "      <td>3073.0</td>\n",
       "      <td>-37.7040</td>\n",
       "      <td>145.0299</td>\n",
       "      <td>834.0</td>\n",
       "      <td>129.0</td>\n",
       "      <td>2017.0</td>\n",
       "      <td>North</td>\n",
       "    </tr>\n",
       "    <tr>\n",
       "      <th>7060</th>\n",
       "      <td>Heidelberg</td>\n",
       "      <td>36 Buckingham Dr</td>\n",
       "      <td>3</td>\n",
       "      <td>h</td>\n",
       "      <td>1030000.0</td>\n",
       "      <td>2016-07-30</td>\n",
       "      <td>10.6</td>\n",
       "      <td>3.0</td>\n",
       "      <td>2.0</td>\n",
       "      <td>Banyule</td>\n",
       "      <td>3084.0</td>\n",
       "      <td>-37.7501</td>\n",
       "      <td>145.0822</td>\n",
       "      <td>649.0</td>\n",
       "      <td>357.0</td>\n",
       "      <td>2017.0</td>\n",
       "      <td>East</td>\n",
       "    </tr>\n",
       "  </tbody>\n",
       "</table>\n",
       "</div>"
      ],
      "text/plain": [
       "                Suburb           Address  Rooms Type      Price       Date  \\\n",
       "441   Avondale Heights    157 Canning St      3    t   851000.0 2016-03-12   \n",
       "1234     Brighton East       8 Thomas St      2    h  1310000.0 2016-09-24   \n",
       "3489       Keilor East       20 Keith Gr      3    h   825000.0 2016-04-23   \n",
       "4282           Newport       7 Durkin St      3    h   945000.0 2016-05-28   \n",
       "5153         Reservoir    89 Darebin Bvd      4    h   767500.0 2016-09-17   \n",
       "7060        Heidelberg  36 Buckingham Dr      3    h  1030000.0 2016-07-30   \n",
       "\n",
       "      Distance  Bathroom  Car    CouncilArea  Postcode  Lattitude  Longtitude  \\\n",
       "441       10.5       3.0  1.0  Moonee Valley    3034.0   -37.7700    144.8572   \n",
       "1234      10.7       3.0  2.0      Glen Eira    3187.0   -37.9182    145.0231   \n",
       "3489      12.8       2.0  1.0  Moonee Valley    3033.0   -37.7378    144.8705   \n",
       "4282       8.4       2.0  1.0    Hobsons Bay    3015.0   -37.8438    144.8806   \n",
       "5153      11.2       2.0  2.0        Darebin    3073.0   -37.7040    145.0299   \n",
       "7060      10.6       3.0  2.0        Banyule    3084.0   -37.7501    145.0822   \n",
       "\n",
       "      Landsize  BuildingArea  YearBuilt Regionname  \n",
       "441      557.0         181.0     2017.0       West  \n",
       "1234     302.0         250.0     2018.0      South  \n",
       "3489     630.0         126.0     2017.0       West  \n",
       "4282     487.0         190.0     2017.0       West  \n",
       "5153     834.0         129.0     2017.0      North  \n",
       "7060     649.0         357.0     2017.0       East  "
      ]
     },
     "execution_count": 48,
     "metadata": {},
     "output_type": "execute_result"
    }
   ],
   "source": [
    "melb_df_RC[pd.DatetimeIndex(melb_df_RC['Date']).year < melb_df_RC.YearBuilt]"
   ]
  },
  {
   "cell_type": "markdown",
   "metadata": {
    "id": "4xLMO9GIqgMN"
   },
   "source": [
    "Podemos concluir, que para este caso, existen varias propiedades (5), con el año de construcción mayor al año de venta.\n",
    "\n",
    "Crearemos una nueva columna, informando el rango de antiguedad correspondiente a cada propiedad según su año de construcción y fecha de venta."
   ]
  },
  {
   "cell_type": "code",
   "execution_count": 49,
   "metadata": {
    "colab": {
     "base_uri": "https://localhost:8080/",
     "height": 355
    },
    "executionInfo": {
     "elapsed": 47,
     "status": "ok",
     "timestamp": 1627584254321,
     "user": {
      "displayName": "María Belén Acotto",
      "photoUrl": "https://lh3.googleusercontent.com/a-/AOh14GgxTl0geb_R3SIr4AA6LSVxhUsOjZdbmESuiHF-wOs=s64",
      "userId": "02753886766132213766"
     },
     "user_tz": 180
    },
    "id": "ERTFvLAhXOK1",
    "outputId": "95c0533d-a002-460d-e41e-0aae15a7552a"
   },
   "outputs": [
    {
     "data": {
      "text/html": [
       "<div>\n",
       "<style scoped>\n",
       "    .dataframe tbody tr th:only-of-type {\n",
       "        vertical-align: middle;\n",
       "    }\n",
       "\n",
       "    .dataframe tbody tr th {\n",
       "        vertical-align: top;\n",
       "    }\n",
       "\n",
       "    .dataframe thead th {\n",
       "        text-align: right;\n",
       "    }\n",
       "</style>\n",
       "<table border=\"1\" class=\"dataframe\">\n",
       "  <thead>\n",
       "    <tr style=\"text-align: right;\">\n",
       "      <th></th>\n",
       "      <th>Suburb</th>\n",
       "      <th>Address</th>\n",
       "      <th>Rooms</th>\n",
       "      <th>Type</th>\n",
       "      <th>Price</th>\n",
       "      <th>Date</th>\n",
       "      <th>Distance</th>\n",
       "      <th>Bathroom</th>\n",
       "      <th>Car</th>\n",
       "      <th>CouncilArea</th>\n",
       "      <th>Postcode</th>\n",
       "      <th>Lattitude</th>\n",
       "      <th>Longtitude</th>\n",
       "      <th>Landsize</th>\n",
       "      <th>BuildingArea</th>\n",
       "      <th>YearBuilt</th>\n",
       "      <th>Regionname</th>\n",
       "    </tr>\n",
       "  </thead>\n",
       "  <tbody>\n",
       "    <tr>\n",
       "      <th>0</th>\n",
       "      <td>Abbotsford</td>\n",
       "      <td>85 Turner St</td>\n",
       "      <td>2</td>\n",
       "      <td>h</td>\n",
       "      <td>1480000.0</td>\n",
       "      <td>2016-03-12</td>\n",
       "      <td>2.5</td>\n",
       "      <td>1.0</td>\n",
       "      <td>1.0</td>\n",
       "      <td>Yarra</td>\n",
       "      <td>3067.0</td>\n",
       "      <td>-37.7996</td>\n",
       "      <td>144.9984</td>\n",
       "      <td>202.0</td>\n",
       "      <td>NaN</td>\n",
       "      <td>NaN</td>\n",
       "      <td>North</td>\n",
       "    </tr>\n",
       "    <tr>\n",
       "      <th>1</th>\n",
       "      <td>Abbotsford</td>\n",
       "      <td>25 Bloomburg St</td>\n",
       "      <td>2</td>\n",
       "      <td>h</td>\n",
       "      <td>1035000.0</td>\n",
       "      <td>2016-04-02</td>\n",
       "      <td>2.5</td>\n",
       "      <td>1.0</td>\n",
       "      <td>0.0</td>\n",
       "      <td>Yarra</td>\n",
       "      <td>3067.0</td>\n",
       "      <td>-37.8079</td>\n",
       "      <td>144.9934</td>\n",
       "      <td>156.0</td>\n",
       "      <td>79.0</td>\n",
       "      <td>1900.0</td>\n",
       "      <td>North</td>\n",
       "    </tr>\n",
       "    <tr>\n",
       "      <th>2</th>\n",
       "      <td>Abbotsford</td>\n",
       "      <td>5 Charles St</td>\n",
       "      <td>3</td>\n",
       "      <td>h</td>\n",
       "      <td>1465000.0</td>\n",
       "      <td>2017-04-03</td>\n",
       "      <td>2.5</td>\n",
       "      <td>2.0</td>\n",
       "      <td>0.0</td>\n",
       "      <td>Yarra</td>\n",
       "      <td>3067.0</td>\n",
       "      <td>-37.8093</td>\n",
       "      <td>144.9944</td>\n",
       "      <td>134.0</td>\n",
       "      <td>150.0</td>\n",
       "      <td>1900.0</td>\n",
       "      <td>North</td>\n",
       "    </tr>\n",
       "    <tr>\n",
       "      <th>3</th>\n",
       "      <td>Abbotsford</td>\n",
       "      <td>40 Federation La</td>\n",
       "      <td>3</td>\n",
       "      <td>h</td>\n",
       "      <td>850000.0</td>\n",
       "      <td>2017-04-03</td>\n",
       "      <td>2.5</td>\n",
       "      <td>2.0</td>\n",
       "      <td>1.0</td>\n",
       "      <td>Yarra</td>\n",
       "      <td>3067.0</td>\n",
       "      <td>-37.7969</td>\n",
       "      <td>144.9969</td>\n",
       "      <td>94.0</td>\n",
       "      <td>NaN</td>\n",
       "      <td>NaN</td>\n",
       "      <td>North</td>\n",
       "    </tr>\n",
       "    <tr>\n",
       "      <th>4</th>\n",
       "      <td>Abbotsford</td>\n",
       "      <td>55a Park St</td>\n",
       "      <td>4</td>\n",
       "      <td>h</td>\n",
       "      <td>1600000.0</td>\n",
       "      <td>2016-04-06</td>\n",
       "      <td>2.5</td>\n",
       "      <td>1.0</td>\n",
       "      <td>2.0</td>\n",
       "      <td>Yarra</td>\n",
       "      <td>3067.0</td>\n",
       "      <td>-37.8072</td>\n",
       "      <td>144.9941</td>\n",
       "      <td>120.0</td>\n",
       "      <td>142.0</td>\n",
       "      <td>2014.0</td>\n",
       "      <td>North</td>\n",
       "    </tr>\n",
       "    <tr>\n",
       "      <th>5</th>\n",
       "      <td>Abbotsford</td>\n",
       "      <td>129 Charles St</td>\n",
       "      <td>2</td>\n",
       "      <td>h</td>\n",
       "      <td>941000.0</td>\n",
       "      <td>2016-07-05</td>\n",
       "      <td>2.5</td>\n",
       "      <td>1.0</td>\n",
       "      <td>0.0</td>\n",
       "      <td>Yarra</td>\n",
       "      <td>3067.0</td>\n",
       "      <td>-37.8041</td>\n",
       "      <td>144.9953</td>\n",
       "      <td>181.0</td>\n",
       "      <td>NaN</td>\n",
       "      <td>NaN</td>\n",
       "      <td>North</td>\n",
       "    </tr>\n",
       "    <tr>\n",
       "      <th>6</th>\n",
       "      <td>Abbotsford</td>\n",
       "      <td>124 Yarra St</td>\n",
       "      <td>3</td>\n",
       "      <td>h</td>\n",
       "      <td>1876000.0</td>\n",
       "      <td>2016-07-05</td>\n",
       "      <td>2.5</td>\n",
       "      <td>2.0</td>\n",
       "      <td>0.0</td>\n",
       "      <td>Yarra</td>\n",
       "      <td>3067.0</td>\n",
       "      <td>-37.8024</td>\n",
       "      <td>144.9993</td>\n",
       "      <td>245.0</td>\n",
       "      <td>210.0</td>\n",
       "      <td>1910.0</td>\n",
       "      <td>North</td>\n",
       "    </tr>\n",
       "    <tr>\n",
       "      <th>7</th>\n",
       "      <td>Abbotsford</td>\n",
       "      <td>98 Charles St</td>\n",
       "      <td>2</td>\n",
       "      <td>h</td>\n",
       "      <td>1636000.0</td>\n",
       "      <td>2016-08-10</td>\n",
       "      <td>2.5</td>\n",
       "      <td>1.0</td>\n",
       "      <td>2.0</td>\n",
       "      <td>Yarra</td>\n",
       "      <td>3067.0</td>\n",
       "      <td>-37.8060</td>\n",
       "      <td>144.9954</td>\n",
       "      <td>256.0</td>\n",
       "      <td>107.0</td>\n",
       "      <td>1890.0</td>\n",
       "      <td>North</td>\n",
       "    </tr>\n",
       "    <tr>\n",
       "      <th>8</th>\n",
       "      <td>Abbotsford</td>\n",
       "      <td>6/241 Nicholson St</td>\n",
       "      <td>1</td>\n",
       "      <td>u</td>\n",
       "      <td>300000.0</td>\n",
       "      <td>2016-08-10</td>\n",
       "      <td>2.5</td>\n",
       "      <td>1.0</td>\n",
       "      <td>1.0</td>\n",
       "      <td>Yarra</td>\n",
       "      <td>3067.0</td>\n",
       "      <td>-37.8008</td>\n",
       "      <td>144.9973</td>\n",
       "      <td>0.0</td>\n",
       "      <td>NaN</td>\n",
       "      <td>NaN</td>\n",
       "      <td>North</td>\n",
       "    </tr>\n",
       "    <tr>\n",
       "      <th>9</th>\n",
       "      <td>Abbotsford</td>\n",
       "      <td>10 Valiant St</td>\n",
       "      <td>2</td>\n",
       "      <td>h</td>\n",
       "      <td>1097000.0</td>\n",
       "      <td>2016-08-10</td>\n",
       "      <td>2.5</td>\n",
       "      <td>1.0</td>\n",
       "      <td>2.0</td>\n",
       "      <td>Yarra</td>\n",
       "      <td>3067.0</td>\n",
       "      <td>-37.8010</td>\n",
       "      <td>144.9989</td>\n",
       "      <td>220.0</td>\n",
       "      <td>75.0</td>\n",
       "      <td>1900.0</td>\n",
       "      <td>North</td>\n",
       "    </tr>\n",
       "  </tbody>\n",
       "</table>\n",
       "</div>"
      ],
      "text/plain": [
       "       Suburb             Address  Rooms Type      Price       Date  Distance  \\\n",
       "0  Abbotsford        85 Turner St      2    h  1480000.0 2016-03-12       2.5   \n",
       "1  Abbotsford     25 Bloomburg St      2    h  1035000.0 2016-04-02       2.5   \n",
       "2  Abbotsford        5 Charles St      3    h  1465000.0 2017-04-03       2.5   \n",
       "3  Abbotsford    40 Federation La      3    h   850000.0 2017-04-03       2.5   \n",
       "4  Abbotsford         55a Park St      4    h  1600000.0 2016-04-06       2.5   \n",
       "5  Abbotsford      129 Charles St      2    h   941000.0 2016-07-05       2.5   \n",
       "6  Abbotsford        124 Yarra St      3    h  1876000.0 2016-07-05       2.5   \n",
       "7  Abbotsford       98 Charles St      2    h  1636000.0 2016-08-10       2.5   \n",
       "8  Abbotsford  6/241 Nicholson St      1    u   300000.0 2016-08-10       2.5   \n",
       "9  Abbotsford       10 Valiant St      2    h  1097000.0 2016-08-10       2.5   \n",
       "\n",
       "   Bathroom  Car CouncilArea  Postcode  Lattitude  Longtitude  Landsize  \\\n",
       "0       1.0  1.0       Yarra    3067.0   -37.7996    144.9984     202.0   \n",
       "1       1.0  0.0       Yarra    3067.0   -37.8079    144.9934     156.0   \n",
       "2       2.0  0.0       Yarra    3067.0   -37.8093    144.9944     134.0   \n",
       "3       2.0  1.0       Yarra    3067.0   -37.7969    144.9969      94.0   \n",
       "4       1.0  2.0       Yarra    3067.0   -37.8072    144.9941     120.0   \n",
       "5       1.0  0.0       Yarra    3067.0   -37.8041    144.9953     181.0   \n",
       "6       2.0  0.0       Yarra    3067.0   -37.8024    144.9993     245.0   \n",
       "7       1.0  2.0       Yarra    3067.0   -37.8060    144.9954     256.0   \n",
       "8       1.0  1.0       Yarra    3067.0   -37.8008    144.9973       0.0   \n",
       "9       1.0  2.0       Yarra    3067.0   -37.8010    144.9989     220.0   \n",
       "\n",
       "   BuildingArea  YearBuilt Regionname  \n",
       "0           NaN        NaN      North  \n",
       "1          79.0     1900.0      North  \n",
       "2         150.0     1900.0      North  \n",
       "3           NaN        NaN      North  \n",
       "4         142.0     2014.0      North  \n",
       "5           NaN        NaN      North  \n",
       "6         210.0     1910.0      North  \n",
       "7         107.0     1890.0      North  \n",
       "8           NaN        NaN      North  \n",
       "9          75.0     1900.0      North  "
      ]
     },
     "execution_count": 49,
     "metadata": {},
     "output_type": "execute_result"
    }
   ],
   "source": [
    "melb_df_RC.head(10)"
   ]
  },
  {
   "cell_type": "code",
   "execution_count": 50,
   "metadata": {
    "colab": {
     "base_uri": "https://localhost:8080/"
    },
    "executionInfo": {
     "elapsed": 48,
     "status": "ok",
     "timestamp": 1627584254323,
     "user": {
      "displayName": "María Belén Acotto",
      "photoUrl": "https://lh3.googleusercontent.com/a-/AOh14GgxTl0geb_R3SIr4AA6LSVxhUsOjZdbmESuiHF-wOs=s64",
      "userId": "02753886766132213766"
     },
     "user_tz": 180
    },
    "id": "j-roWB6OwY5M",
    "outputId": "9d3b6aa8-680d-4970-d83a-67e0e89ac406"
   },
   "outputs": [
    {
     "name": "stdout",
     "output_type": "stream",
     "text": [
      "Cantidad de valores únicos: 144\n",
      "<class 'pandas.core.frame.DataFrame'>\n",
      "Int64Index: 12956 entries, 0 to 13579\n",
      "Data columns (total 1 columns):\n",
      " #   Column     Non-Null Count  Dtype  \n",
      "---  ------     --------------  -----  \n",
      " 0   Antiquity  7798 non-null   float64\n",
      "dtypes: float64(1)\n",
      "memory usage: 202.4 KB\n",
      "None\n"
     ]
    }
   ],
   "source": [
    "melb_df_RC['Antiquity'] = pd.DatetimeIndex(melb_df_RC['Date']).year - melb_df_RC['YearBuilt']\n",
    "melb_df_RC.loc[melb_df_RC['Antiquity'] < 0, 'Antiquity'] = 0\n",
    "print('Cantidad de valores únicos:', melb_df_RC['Antiquity'].nunique())\n",
    "print(melb_df_RC[['Antiquity']].info())"
   ]
  },
  {
   "cell_type": "markdown",
   "metadata": {
    "id": "8nOpEnRhXOK2"
   },
   "source": [
    "Al ver que tenemos 144 valores, distintos para antigüedad, procedemos a crear la columna de rango de antiguedad."
   ]
  },
  {
   "cell_type": "code",
   "execution_count": 51,
   "metadata": {
    "executionInfo": {
     "elapsed": 39,
     "status": "ok",
     "timestamp": 1627584254324,
     "user": {
      "displayName": "María Belén Acotto",
      "photoUrl": "https://lh3.googleusercontent.com/a-/AOh14GgxTl0geb_R3SIr4AA6LSVxhUsOjZdbmESuiHF-wOs=s64",
      "userId": "02753886766132213766"
     },
     "user_tz": 180
    },
    "id": "gTc3jLRDXOK2"
   },
   "outputs": [],
   "source": [
    "def year_range(value):\n",
    "        if value >= 70:\n",
    "            return '[>70)'\n",
    "        else:\n",
    "            low_limit = value//5\n",
    "            agerange = \"[\"+str(int(low_limit*5))+\"-\"+str(int(low_limit*5+5))+\")\"\n",
    "            return agerange        "
   ]
  },
  {
   "cell_type": "code",
   "execution_count": 52,
   "metadata": {
    "colab": {
     "base_uri": "https://localhost:8080/"
    },
    "executionInfo": {
     "elapsed": 38,
     "status": "ok",
     "timestamp": 1627584254325,
     "user": {
      "displayName": "María Belén Acotto",
      "photoUrl": "https://lh3.googleusercontent.com/a-/AOh14GgxTl0geb_R3SIr4AA6LSVxhUsOjZdbmESuiHF-wOs=s64",
      "userId": "02753886766132213766"
     },
     "user_tz": 180
    },
    "id": "086vRAIaXOK3",
    "outputId": "a07780e9-2659-4103-fb82-39057e2e518a",
    "tags": []
   },
   "outputs": [
    {
     "data": {
      "text/plain": [
       "array(['S/D', '[>70)', '[0-5)', '[10-15)', '[5-10)', '[30-35)', '[45-50)',\n",
       "       '[65-70)', '[15-20)', '[50-55)', '[35-40)', '[40-45)', '[20-25)',\n",
       "       '[55-60)', '[60-65)', '[25-30)'], dtype=object)"
      ]
     },
     "execution_count": 52,
     "metadata": {},
     "output_type": "execute_result"
    }
   ],
   "source": [
    "#melb_df_RC['AgeRange'] = melb_df_RC['Antiquity'].apply(year_range)\n",
    "melb_df_RC['AgeRange'] = melb_df_RC[melb_df_RC['Antiquity'].isna()==False]['Antiquity'].apply(year_range)\n",
    "melb_df_RC.loc[melb_df_RC['AgeRange'].isnull(), 'AgeRange'] = 'S/D'\n",
    "melb_df_RC.AgeRange.unique()"
   ]
  },
  {
   "cell_type": "markdown",
   "metadata": {
    "id": "hD_f7aSxCxJR"
   },
   "source": [
    "##### Distribución"
   ]
  },
  {
   "cell_type": "markdown",
   "metadata": {
    "id": "tf0ypsQ30ifD"
   },
   "source": [
    "A partir de este punto, comenzaremos a realizar las distribuciones por precio de las propiedades respecto a las variables escogidas."
   ]
  },
  {
   "cell_type": "code",
   "execution_count": 53,
   "metadata": {
    "colab": {
     "base_uri": "https://localhost:8080/",
     "height": 578
    },
    "executionInfo": {
     "elapsed": 2466,
     "status": "ok",
     "timestamp": 1627584256760,
     "user": {
      "displayName": "María Belén Acotto",
      "photoUrl": "https://lh3.googleusercontent.com/a-/AOh14GgxTl0geb_R3SIr4AA6LSVxhUsOjZdbmESuiHF-wOs=s64",
      "userId": "02753886766132213766"
     },
     "user_tz": 180
    },
    "id": "XvDB12UIwYop",
    "outputId": "42590a1e-58d1-407f-f323-c69474d86fc5"
   },
   "outputs": [
    {
     "data": {
      "image/png": "[encoded data removed]",
      "text/plain": [
       "<Figure size 1296x576 with 1 Axes>"
      ]
     },
     "metadata": {
      "needs_background": "light"
     },
     "output_type": "display_data"
    }
   ],
   "source": [
    "PriceToAgeRange = melb_df_RC[['AgeRange','Price']].sort_values(by=['AgeRange'])\n",
    "fig = plt.figure(figsize=(18, 8))\n",
    "ax = sns.barplot(x='AgeRange', y='Price', data=PriceToAgeRange, color='#35A7FF')\n",
    "plt.xticks(rotation=45)\n",
    "plt.title('Distribución de Precios Medios respecto a la Antigüedad de la Propiedad',fontsize=22)\n",
    "plt.ylabel(\"Media del Precio de la Propiedad\")\n",
    "plt.xlabel(\"Rango Antigüedad\")\n",
    "plt.ticklabel_format(style='plain', axis='y')\n",
    "plt.show()"
   ]
  },
  {
   "cell_type": "code",
   "execution_count": 54,
   "metadata": {
    "colab": {
     "base_uri": "https://localhost:8080/",
     "height": 534
    },
    "executionInfo": {
     "elapsed": 62,
     "status": "ok",
     "timestamp": 1627584256762,
     "user": {
      "displayName": "María Belén Acotto",
      "photoUrl": "https://lh3.googleusercontent.com/a-/AOh14GgxTl0geb_R3SIr4AA6LSVxhUsOjZdbmESuiHF-wOs=s64",
      "userId": "02753886766132213766"
     },
     "user_tz": 180
    },
    "id": "yWkFdvUW1dmb",
    "outputId": "1945cb71-b732-43d1-cb39-a40fd486c8ed"
   },
   "outputs": [
    {
     "data": {
      "image/png": "[encoded data removed]",
      "text/plain": [
       "<Figure size 1152x576 with 1 Axes>"
      ]
     },
     "metadata": {
      "needs_background": "light"
     },
     "output_type": "display_data"
    }
   ],
   "source": [
    "fig = plt.figure(figsize=(16, 8))\n",
    "ax = sns.barplot(x='Regionname', y='Price', data=melb_df_RC)\n",
    "plt.show()"
   ]
  },
  {
   "cell_type": "markdown",
   "metadata": {
    "id": "kBPbt958XOK4"
   },
   "source": [
    "Borrado de las columnas que nos ayudaron a agrupar."
   ]
  },
  {
   "cell_type": "code",
   "execution_count": 55,
   "metadata": {
    "colab": {
     "base_uri": "https://localhost:8080/",
     "height": 597
    },
    "executionInfo": {
     "elapsed": 62,
     "status": "ok",
     "timestamp": 1627584256763,
     "user": {
      "displayName": "María Belén Acotto",
      "photoUrl": "https://lh3.googleusercontent.com/a-/AOh14GgxTl0geb_R3SIr4AA6LSVxhUsOjZdbmESuiHF-wOs=s64",
      "userId": "02753886766132213766"
     },
     "user_tz": 180
    },
    "id": "sh9RsgZa1duZ",
    "outputId": "877ada70-eb1b-4d6e-c3dc-e4512cd98dee"
   },
   "outputs": [
    {
     "data": {
      "text/html": [
       "<div>\n",
       "<style scoped>\n",
       "    .dataframe tbody tr th:only-of-type {\n",
       "        vertical-align: middle;\n",
       "    }\n",
       "\n",
       "    .dataframe tbody tr th {\n",
       "        vertical-align: top;\n",
       "    }\n",
       "\n",
       "    .dataframe thead th {\n",
       "        text-align: right;\n",
       "    }\n",
       "</style>\n",
       "<table border=\"1\" class=\"dataframe\">\n",
       "  <thead>\n",
       "    <tr style=\"text-align: right;\">\n",
       "      <th></th>\n",
       "      <th>Suburb</th>\n",
       "      <th>Address</th>\n",
       "      <th>Rooms</th>\n",
       "      <th>Type</th>\n",
       "      <th>Price</th>\n",
       "      <th>Date</th>\n",
       "      <th>Distance</th>\n",
       "      <th>Bathroom</th>\n",
       "      <th>Car</th>\n",
       "      <th>CouncilArea</th>\n",
       "      <th>Postcode</th>\n",
       "      <th>Lattitude</th>\n",
       "      <th>Longtitude</th>\n",
       "      <th>Landsize</th>\n",
       "      <th>BuildingArea</th>\n",
       "      <th>YearBuilt</th>\n",
       "      <th>Regionname</th>\n",
       "      <th>AgeRange</th>\n",
       "    </tr>\n",
       "  </thead>\n",
       "  <tbody>\n",
       "    <tr>\n",
       "      <th>0</th>\n",
       "      <td>Abbotsford</td>\n",
       "      <td>85 Turner St</td>\n",
       "      <td>2</td>\n",
       "      <td>h</td>\n",
       "      <td>1480000.0</td>\n",
       "      <td>2016-03-12</td>\n",
       "      <td>2.5</td>\n",
       "      <td>1.0</td>\n",
       "      <td>1.0</td>\n",
       "      <td>Yarra</td>\n",
       "      <td>3067.0</td>\n",
       "      <td>-37.79960</td>\n",
       "      <td>144.99840</td>\n",
       "      <td>202.0</td>\n",
       "      <td>NaN</td>\n",
       "      <td>NaN</td>\n",
       "      <td>North</td>\n",
       "      <td>S/D</td>\n",
       "    </tr>\n",
       "    <tr>\n",
       "      <th>1</th>\n",
       "      <td>Abbotsford</td>\n",
       "      <td>25 Bloomburg St</td>\n",
       "      <td>2</td>\n",
       "      <td>h</td>\n",
       "      <td>1035000.0</td>\n",
       "      <td>2016-04-02</td>\n",
       "      <td>2.5</td>\n",
       "      <td>1.0</td>\n",
       "      <td>0.0</td>\n",
       "      <td>Yarra</td>\n",
       "      <td>3067.0</td>\n",
       "      <td>-37.80790</td>\n",
       "      <td>144.99340</td>\n",
       "      <td>156.0</td>\n",
       "      <td>79.0</td>\n",
       "      <td>1900.0</td>\n",
       "      <td>North</td>\n",
       "      <td>[&gt;70)</td>\n",
       "    </tr>\n",
       "    <tr>\n",
       "      <th>2</th>\n",
       "      <td>Abbotsford</td>\n",
       "      <td>5 Charles St</td>\n",
       "      <td>3</td>\n",
       "      <td>h</td>\n",
       "      <td>1465000.0</td>\n",
       "      <td>2017-04-03</td>\n",
       "      <td>2.5</td>\n",
       "      <td>2.0</td>\n",
       "      <td>0.0</td>\n",
       "      <td>Yarra</td>\n",
       "      <td>3067.0</td>\n",
       "      <td>-37.80930</td>\n",
       "      <td>144.99440</td>\n",
       "      <td>134.0</td>\n",
       "      <td>150.0</td>\n",
       "      <td>1900.0</td>\n",
       "      <td>North</td>\n",
       "      <td>[&gt;70)</td>\n",
       "    </tr>\n",
       "    <tr>\n",
       "      <th>3</th>\n",
       "      <td>Abbotsford</td>\n",
       "      <td>40 Federation La</td>\n",
       "      <td>3</td>\n",
       "      <td>h</td>\n",
       "      <td>850000.0</td>\n",
       "      <td>2017-04-03</td>\n",
       "      <td>2.5</td>\n",
       "      <td>2.0</td>\n",
       "      <td>1.0</td>\n",
       "      <td>Yarra</td>\n",
       "      <td>3067.0</td>\n",
       "      <td>-37.79690</td>\n",
       "      <td>144.99690</td>\n",
       "      <td>94.0</td>\n",
       "      <td>NaN</td>\n",
       "      <td>NaN</td>\n",
       "      <td>North</td>\n",
       "      <td>S/D</td>\n",
       "    </tr>\n",
       "    <tr>\n",
       "      <th>4</th>\n",
       "      <td>Abbotsford</td>\n",
       "      <td>55a Park St</td>\n",
       "      <td>4</td>\n",
       "      <td>h</td>\n",
       "      <td>1600000.0</td>\n",
       "      <td>2016-04-06</td>\n",
       "      <td>2.5</td>\n",
       "      <td>1.0</td>\n",
       "      <td>2.0</td>\n",
       "      <td>Yarra</td>\n",
       "      <td>3067.0</td>\n",
       "      <td>-37.80720</td>\n",
       "      <td>144.99410</td>\n",
       "      <td>120.0</td>\n",
       "      <td>142.0</td>\n",
       "      <td>2014.0</td>\n",
       "      <td>North</td>\n",
       "      <td>[0-5)</td>\n",
       "    </tr>\n",
       "    <tr>\n",
       "      <th>...</th>\n",
       "      <td>...</td>\n",
       "      <td>...</td>\n",
       "      <td>...</td>\n",
       "      <td>...</td>\n",
       "      <td>...</td>\n",
       "      <td>...</td>\n",
       "      <td>...</td>\n",
       "      <td>...</td>\n",
       "      <td>...</td>\n",
       "      <td>...</td>\n",
       "      <td>...</td>\n",
       "      <td>...</td>\n",
       "      <td>...</td>\n",
       "      <td>...</td>\n",
       "      <td>...</td>\n",
       "      <td>...</td>\n",
       "      <td>...</td>\n",
       "      <td>...</td>\n",
       "    </tr>\n",
       "    <tr>\n",
       "      <th>13574</th>\n",
       "      <td>Westmeadows</td>\n",
       "      <td>9 Black St</td>\n",
       "      <td>3</td>\n",
       "      <td>h</td>\n",
       "      <td>582000.0</td>\n",
       "      <td>2017-08-26</td>\n",
       "      <td>16.5</td>\n",
       "      <td>2.0</td>\n",
       "      <td>2.0</td>\n",
       "      <td>NaN</td>\n",
       "      <td>3049.0</td>\n",
       "      <td>-37.67917</td>\n",
       "      <td>144.89390</td>\n",
       "      <td>256.0</td>\n",
       "      <td>NaN</td>\n",
       "      <td>NaN</td>\n",
       "      <td>North</td>\n",
       "      <td>S/D</td>\n",
       "    </tr>\n",
       "    <tr>\n",
       "      <th>13575</th>\n",
       "      <td>Wheelers Hill</td>\n",
       "      <td>12 Strada Cr</td>\n",
       "      <td>4</td>\n",
       "      <td>h</td>\n",
       "      <td>1245000.0</td>\n",
       "      <td>2017-08-26</td>\n",
       "      <td>16.7</td>\n",
       "      <td>2.0</td>\n",
       "      <td>2.0</td>\n",
       "      <td>NaN</td>\n",
       "      <td>3150.0</td>\n",
       "      <td>-37.90562</td>\n",
       "      <td>145.16761</td>\n",
       "      <td>652.0</td>\n",
       "      <td>NaN</td>\n",
       "      <td>1981.0</td>\n",
       "      <td>South</td>\n",
       "      <td>[35-40)</td>\n",
       "    </tr>\n",
       "    <tr>\n",
       "      <th>13576</th>\n",
       "      <td>Williamstown</td>\n",
       "      <td>77 Merrett Dr</td>\n",
       "      <td>3</td>\n",
       "      <td>h</td>\n",
       "      <td>1031000.0</td>\n",
       "      <td>2017-08-26</td>\n",
       "      <td>6.8</td>\n",
       "      <td>2.0</td>\n",
       "      <td>2.0</td>\n",
       "      <td>NaN</td>\n",
       "      <td>3016.0</td>\n",
       "      <td>-37.85927</td>\n",
       "      <td>144.87904</td>\n",
       "      <td>333.0</td>\n",
       "      <td>133.0</td>\n",
       "      <td>1995.0</td>\n",
       "      <td>West</td>\n",
       "      <td>[20-25)</td>\n",
       "    </tr>\n",
       "    <tr>\n",
       "      <th>13577</th>\n",
       "      <td>Williamstown</td>\n",
       "      <td>83 Power St</td>\n",
       "      <td>3</td>\n",
       "      <td>h</td>\n",
       "      <td>1170000.0</td>\n",
       "      <td>2017-08-26</td>\n",
       "      <td>6.8</td>\n",
       "      <td>2.0</td>\n",
       "      <td>4.0</td>\n",
       "      <td>NaN</td>\n",
       "      <td>3016.0</td>\n",
       "      <td>-37.85274</td>\n",
       "      <td>144.88738</td>\n",
       "      <td>436.0</td>\n",
       "      <td>NaN</td>\n",
       "      <td>1997.0</td>\n",
       "      <td>West</td>\n",
       "      <td>[20-25)</td>\n",
       "    </tr>\n",
       "    <tr>\n",
       "      <th>13579</th>\n",
       "      <td>Yarraville</td>\n",
       "      <td>6 Agnes St</td>\n",
       "      <td>4</td>\n",
       "      <td>h</td>\n",
       "      <td>1285000.0</td>\n",
       "      <td>2017-08-26</td>\n",
       "      <td>6.3</td>\n",
       "      <td>1.0</td>\n",
       "      <td>1.0</td>\n",
       "      <td>NaN</td>\n",
       "      <td>3013.0</td>\n",
       "      <td>-37.81188</td>\n",
       "      <td>144.88449</td>\n",
       "      <td>362.0</td>\n",
       "      <td>112.0</td>\n",
       "      <td>1920.0</td>\n",
       "      <td>West</td>\n",
       "      <td>[&gt;70)</td>\n",
       "    </tr>\n",
       "  </tbody>\n",
       "</table>\n",
       "<p>12956 rows × 18 columns</p>\n",
       "</div>"
      ],
      "text/plain": [
       "              Suburb           Address  Rooms Type      Price       Date  \\\n",
       "0         Abbotsford      85 Turner St      2    h  1480000.0 2016-03-12   \n",
       "1         Abbotsford   25 Bloomburg St      2    h  1035000.0 2016-04-02   \n",
       "2         Abbotsford      5 Charles St      3    h  1465000.0 2017-04-03   \n",
       "3         Abbotsford  40 Federation La      3    h   850000.0 2017-04-03   \n",
       "4         Abbotsford       55a Park St      4    h  1600000.0 2016-04-06   \n",
       "...              ...               ...    ...  ...        ...        ...   \n",
       "13574    Westmeadows        9 Black St      3    h   582000.0 2017-08-26   \n",
       "13575  Wheelers Hill      12 Strada Cr      4    h  1245000.0 2017-08-26   \n",
       "13576   Williamstown     77 Merrett Dr      3    h  1031000.0 2017-08-26   \n",
       "13577   Williamstown       83 Power St      3    h  1170000.0 2017-08-26   \n",
       "13579     Yarraville        6 Agnes St      4    h  1285000.0 2017-08-26   \n",
       "\n",
       "       Distance  Bathroom  Car CouncilArea  Postcode  Lattitude  Longtitude  \\\n",
       "0           2.5       1.0  1.0       Yarra    3067.0  -37.79960   144.99840   \n",
       "1           2.5       1.0  0.0       Yarra    3067.0  -37.80790   144.99340   \n",
       "2           2.5       2.0  0.0       Yarra    3067.0  -37.80930   144.99440   \n",
       "3           2.5       2.0  1.0       Yarra    3067.0  -37.79690   144.99690   \n",
       "4           2.5       1.0  2.0       Yarra    3067.0  -37.80720   144.99410   \n",
       "...         ...       ...  ...         ...       ...        ...         ...   \n",
       "13574      16.5       2.0  2.0         NaN    3049.0  -37.67917   144.89390   \n",
       "13575      16.7       2.0  2.0         NaN    3150.0  -37.90562   145.16761   \n",
       "13576       6.8       2.0  2.0         NaN    3016.0  -37.85927   144.87904   \n",
       "13577       6.8       2.0  4.0         NaN    3016.0  -37.85274   144.88738   \n",
       "13579       6.3       1.0  1.0         NaN    3013.0  -37.81188   144.88449   \n",
       "\n",
       "       Landsize  BuildingArea  YearBuilt Regionname AgeRange  \n",
       "0         202.0           NaN        NaN      North      S/D  \n",
       "1         156.0          79.0     1900.0      North    [>70)  \n",
       "2         134.0         150.0     1900.0      North    [>70)  \n",
       "3          94.0           NaN        NaN      North      S/D  \n",
       "4         120.0         142.0     2014.0      North    [0-5)  \n",
       "...         ...           ...        ...        ...      ...  \n",
       "13574     256.0           NaN        NaN      North      S/D  \n",
       "13575     652.0           NaN     1981.0      South  [35-40)  \n",
       "13576     333.0         133.0     1995.0       West  [20-25)  \n",
       "13577     436.0           NaN     1997.0       West  [20-25)  \n",
       "13579     362.0         112.0     1920.0       West    [>70)  \n",
       "\n",
       "[12956 rows x 18 columns]"
      ]
     },
     "execution_count": 55,
     "metadata": {},
     "output_type": "execute_result"
    }
   ],
   "source": [
    "melb_df_RC.drop(columns=['Antiquity'],inplace=True)\n",
    "melb_df_RC"
   ]
  },
  {
   "cell_type": "markdown",
   "metadata": {
    "id": "loVHiQ1tXOK4"
   },
   "source": [
    "---"
   ]
  },
  {
   "cell_type": "markdown",
   "metadata": {
    "id": "0lhCA9S4XOK4"
   },
   "source": [
    "### Actividad 3"
   ]
  },
  {
   "cell_type": "markdown",
   "metadata": {
    "id": "qEoE7ZbhGT94"
   },
   "source": [
    "Agregar información adicional respectiva al entorno de una propiedad a partir del [conjunto de datos de AirBnB](https://www.kaggle.com/tylerx/melbourne-airbnb-open-data?select=cleansed_listings_dec18.csv) utilizado en el práctico. \n",
    "\n",
    "1. Seleccionar qué variables agregar y qué combinaciones aplicar a cada una. Por ejemplo, pueden utilizar solo la columna `price`, o aplicar múltiples transformaciones como la mediana o el mínimo.\n",
    "2. Utilizar la variable zipcode para unir los conjuntos de datos. Sólo incluir los zipcodes que tengan una cantidad mínima de registros (a elección) como para que la información agregada sea relevante.\n",
    "3. Investigar al menos otras 2 variables que puedan servir para combinar los datos, y justificar si serían adecuadas o no. Pueden asumir que cuentan con la ayuda de anotadores expertos para encontrar equivalencias entre barrios o direcciones, o que cuentan con algoritmos para encontrar las n ubicaciones más cercanas a una propiedad a partir de sus coordenadas geográficas. **NO** es necesario que realicen la implementación.\n",
    "\n",
    "Pueden leer otras columnas del conjunto de AirBnB además de las que están en `interesting_cols`, si les parecen relevantes."
   ]
  },
  {
   "cell_type": "code",
   "execution_count": 56,
   "metadata": {
    "colab": {
     "base_uri": "https://localhost:8080/",
     "height": 588
    },
    "executionInfo": {
     "elapsed": 60,
     "status": "ok",
     "timestamp": 1627584256763,
     "user": {
      "displayName": "María Belén Acotto",
      "photoUrl": "https://lh3.googleusercontent.com/a-/AOh14GgxTl0geb_R3SIr4AA6LSVxhUsOjZdbmESuiHF-wOs=s64",
      "userId": "02753886766132213766"
     },
     "user_tz": 180
    },
    "id": "kkHJ79G-GT94",
    "outputId": "11e25da1-455d-4561-d1aa-2b89fa1400ac"
   },
   "outputs": [
    {
     "data": {
      "text/html": [
       "<div>\n",
       "<style scoped>\n",
       "    .dataframe tbody tr th:only-of-type {\n",
       "        vertical-align: middle;\n",
       "    }\n",
       "\n",
       "    .dataframe tbody tr th {\n",
       "        vertical-align: top;\n",
       "    }\n",
       "\n",
       "    .dataframe thead th {\n",
       "        text-align: right;\n",
       "    }\n",
       "</style>\n",
       "<table border=\"1\" class=\"dataframe\">\n",
       "  <thead>\n",
       "    <tr style=\"text-align: right;\">\n",
       "      <th></th>\n",
       "      <th>description</th>\n",
       "      <th>neighborhood_overview</th>\n",
       "      <th>street</th>\n",
       "      <th>neighborhood</th>\n",
       "      <th>city</th>\n",
       "      <th>suburb</th>\n",
       "      <th>state</th>\n",
       "      <th>zipcode</th>\n",
       "      <th>latitude</th>\n",
       "      <th>longitude</th>\n",
       "      <th>price</th>\n",
       "      <th>weekly_price</th>\n",
       "      <th>monthly_price</th>\n",
       "    </tr>\n",
       "  </thead>\n",
       "  <tbody>\n",
       "    <tr>\n",
       "      <th>0</th>\n",
       "      <td>House: Clean, New, Modern, Quite, Safe. 10Km f...</td>\n",
       "      <td>Very safe! Family oriented. Older age group.</td>\n",
       "      <td>Bulleen, VIC, Australia</td>\n",
       "      <td>Balwyn North</td>\n",
       "      <td>Manningham</td>\n",
       "      <td>Bulleen</td>\n",
       "      <td>VIC</td>\n",
       "      <td>3105</td>\n",
       "      <td>-37.772684</td>\n",
       "      <td>145.092133</td>\n",
       "      <td>60</td>\n",
       "      <td>NaN</td>\n",
       "      <td>NaN</td>\n",
       "    </tr>\n",
       "    <tr>\n",
       "      <th>1</th>\n",
       "      <td>A large air conditioned room with queen spring...</td>\n",
       "      <td>This hip area is a crossroads between two grea...</td>\n",
       "      <td>Brunswick East, VIC, Australia</td>\n",
       "      <td>Brunswick</td>\n",
       "      <td>Moreland</td>\n",
       "      <td>Brunswick East</td>\n",
       "      <td>VIC</td>\n",
       "      <td>3057</td>\n",
       "      <td>-37.766505</td>\n",
       "      <td>144.980736</td>\n",
       "      <td>35</td>\n",
       "      <td>200.0</td>\n",
       "      <td>803.0</td>\n",
       "    </tr>\n",
       "    <tr>\n",
       "      <th>2</th>\n",
       "      <td>RIGHT IN THE HEART OF ST KILDA! It doesn't get...</td>\n",
       "      <td>A stay at our apartment means you can enjoy so...</td>\n",
       "      <td>St Kilda, VIC, Australia</td>\n",
       "      <td>St Kilda</td>\n",
       "      <td>Port Phillip</td>\n",
       "      <td>St Kilda</td>\n",
       "      <td>VIC</td>\n",
       "      <td>3182</td>\n",
       "      <td>-37.859755</td>\n",
       "      <td>144.977369</td>\n",
       "      <td>159</td>\n",
       "      <td>1253.0</td>\n",
       "      <td>4452.0</td>\n",
       "    </tr>\n",
       "    <tr>\n",
       "      <th>3</th>\n",
       "      <td>Comfortable, relaxed house, a home away from  ...</td>\n",
       "      <td>This is a great neighbourhood – it is quiet, y...</td>\n",
       "      <td>Thornbury, VIC, Australia</td>\n",
       "      <td>Thornbury</td>\n",
       "      <td>Darebin</td>\n",
       "      <td>Thornbury</td>\n",
       "      <td>VIC</td>\n",
       "      <td>3071</td>\n",
       "      <td>-37.758971</td>\n",
       "      <td>144.989228</td>\n",
       "      <td>50</td>\n",
       "      <td>250.0</td>\n",
       "      <td>920.0</td>\n",
       "    </tr>\n",
       "    <tr>\n",
       "      <th>4</th>\n",
       "      <td>We offer comfortable accommodation in Inner Me...</td>\n",
       "      <td>NaN</td>\n",
       "      <td>St Kilda East, VIC, Australia</td>\n",
       "      <td>St Kilda East</td>\n",
       "      <td>Port Phillip</td>\n",
       "      <td>St Kilda East</td>\n",
       "      <td>VIC</td>\n",
       "      <td>3183</td>\n",
       "      <td>-37.864530</td>\n",
       "      <td>144.992238</td>\n",
       "      <td>69</td>\n",
       "      <td>400.0</td>\n",
       "      <td>1900.0</td>\n",
       "    </tr>\n",
       "    <tr>\n",
       "      <th>5</th>\n",
       "      <td>Please note: No booking will be accepted with ...</td>\n",
       "      <td>Our street is quiet &amp; secluded but within walk...</td>\n",
       "      <td>Berwick, VIC, Australia</td>\n",
       "      <td>NaN</td>\n",
       "      <td>Casey</td>\n",
       "      <td>Berwick</td>\n",
       "      <td>VIC</td>\n",
       "      <td>3806</td>\n",
       "      <td>-38.057254</td>\n",
       "      <td>145.339356</td>\n",
       "      <td>98</td>\n",
       "      <td>540.0</td>\n",
       "      <td>NaN</td>\n",
       "    </tr>\n",
       "    <tr>\n",
       "      <th>6</th>\n",
       "      <td>Easy to travel from and to the Airport; quiet ...</td>\n",
       "      <td>The neighbours are quiet and friendly,  please...</td>\n",
       "      <td>Reservoir, VIC, Australia</td>\n",
       "      <td>NaN</td>\n",
       "      <td>Darebin</td>\n",
       "      <td>Reservoir</td>\n",
       "      <td>VIC</td>\n",
       "      <td>3073</td>\n",
       "      <td>-37.697294</td>\n",
       "      <td>145.000816</td>\n",
       "      <td>50</td>\n",
       "      <td>335.0</td>\n",
       "      <td>1400.0</td>\n",
       "    </tr>\n",
       "    <tr>\n",
       "      <th>7</th>\n",
       "      <td>Comfortable and spacious room in an apartment ...</td>\n",
       "      <td>MCG (15min walk) Rod Laver Arena Fitzroy Garde...</td>\n",
       "      <td>East Melbourne, VIC, Australia</td>\n",
       "      <td>NaN</td>\n",
       "      <td>Melbourne</td>\n",
       "      <td>East Melbourne</td>\n",
       "      <td>VIC</td>\n",
       "      <td>3002</td>\n",
       "      <td>-37.810267</td>\n",
       "      <td>144.985920</td>\n",
       "      <td>100</td>\n",
       "      <td>NaN</td>\n",
       "      <td>NaN</td>\n",
       "    </tr>\n",
       "    <tr>\n",
       "      <th>8</th>\n",
       "      <td>Study the exquisite detail of the antique Java...</td>\n",
       "      <td>Oakleigh is one of the most convenient and div...</td>\n",
       "      <td>Oakleigh East, VIC, Australia</td>\n",
       "      <td>NaN</td>\n",
       "      <td>Monash</td>\n",
       "      <td>Oakleigh East</td>\n",
       "      <td>VIC</td>\n",
       "      <td>3166</td>\n",
       "      <td>-37.899601</td>\n",
       "      <td>145.114475</td>\n",
       "      <td>98</td>\n",
       "      <td>535.0</td>\n",
       "      <td>NaN</td>\n",
       "    </tr>\n",
       "    <tr>\n",
       "      <th>9</th>\n",
       "      <td>Light filled private room with Queen bed taste...</td>\n",
       "      <td>NaN</td>\n",
       "      <td>Frankston, VIC, Australia</td>\n",
       "      <td>NaN</td>\n",
       "      <td>Frankston</td>\n",
       "      <td>Frankston</td>\n",
       "      <td>VIC</td>\n",
       "      <td>3199</td>\n",
       "      <td>-38.149320</td>\n",
       "      <td>145.141569</td>\n",
       "      <td>60</td>\n",
       "      <td>413.0</td>\n",
       "      <td>1540.0</td>\n",
       "    </tr>\n",
       "  </tbody>\n",
       "</table>\n",
       "</div>"
      ],
      "text/plain": [
       "                                         description  \\\n",
       "0  House: Clean, New, Modern, Quite, Safe. 10Km f...   \n",
       "1  A large air conditioned room with queen spring...   \n",
       "2  RIGHT IN THE HEART OF ST KILDA! It doesn't get...   \n",
       "3  Comfortable, relaxed house, a home away from  ...   \n",
       "4  We offer comfortable accommodation in Inner Me...   \n",
       "5  Please note: No booking will be accepted with ...   \n",
       "6  Easy to travel from and to the Airport; quiet ...   \n",
       "7  Comfortable and spacious room in an apartment ...   \n",
       "8  Study the exquisite detail of the antique Java...   \n",
       "9  Light filled private room with Queen bed taste...   \n",
       "\n",
       "                               neighborhood_overview  \\\n",
       "0       Very safe! Family oriented. Older age group.   \n",
       "1  This hip area is a crossroads between two grea...   \n",
       "2  A stay at our apartment means you can enjoy so...   \n",
       "3  This is a great neighbourhood – it is quiet, y...   \n",
       "4                                                NaN   \n",
       "5  Our street is quiet & secluded but within walk...   \n",
       "6  The neighbours are quiet and friendly,  please...   \n",
       "7  MCG (15min walk) Rod Laver Arena Fitzroy Garde...   \n",
       "8  Oakleigh is one of the most convenient and div...   \n",
       "9                                                NaN   \n",
       "\n",
       "                           street   neighborhood          city  \\\n",
       "0         Bulleen, VIC, Australia   Balwyn North    Manningham   \n",
       "1  Brunswick East, VIC, Australia      Brunswick      Moreland   \n",
       "2        St Kilda, VIC, Australia       St Kilda  Port Phillip   \n",
       "3       Thornbury, VIC, Australia      Thornbury       Darebin   \n",
       "4   St Kilda East, VIC, Australia  St Kilda East  Port Phillip   \n",
       "5         Berwick, VIC, Australia            NaN         Casey   \n",
       "6       Reservoir, VIC, Australia            NaN       Darebin   \n",
       "7  East Melbourne, VIC, Australia            NaN     Melbourne   \n",
       "8   Oakleigh East, VIC, Australia            NaN        Monash   \n",
       "9       Frankston, VIC, Australia            NaN     Frankston   \n",
       "\n",
       "           suburb state zipcode   latitude   longitude  price  weekly_price  \\\n",
       "0         Bulleen   VIC    3105 -37.772684  145.092133     60           NaN   \n",
       "1  Brunswick East   VIC    3057 -37.766505  144.980736     35         200.0   \n",
       "2        St Kilda   VIC    3182 -37.859755  144.977369    159        1253.0   \n",
       "3       Thornbury   VIC    3071 -37.758971  144.989228     50         250.0   \n",
       "4   St Kilda East   VIC    3183 -37.864530  144.992238     69         400.0   \n",
       "5         Berwick   VIC    3806 -38.057254  145.339356     98         540.0   \n",
       "6       Reservoir   VIC    3073 -37.697294  145.000816     50         335.0   \n",
       "7  East Melbourne   VIC    3002 -37.810267  144.985920    100           NaN   \n",
       "8   Oakleigh East   VIC    3166 -37.899601  145.114475     98         535.0   \n",
       "9       Frankston   VIC    3199 -38.149320  145.141569     60         413.0   \n",
       "\n",
       "   monthly_price  \n",
       "0            NaN  \n",
       "1          803.0  \n",
       "2         4452.0  \n",
       "3          920.0  \n",
       "4         1900.0  \n",
       "5            NaN  \n",
       "6         1400.0  \n",
       "7            NaN  \n",
       "8            NaN  \n",
       "9         1540.0  "
      ]
     },
     "execution_count": 56,
     "metadata": {},
     "output_type": "execute_result"
    }
   ],
   "source": [
    "airbnb_df.head(10)"
   ]
  },
  {
   "cell_type": "markdown",
   "metadata": {},
   "source": [
    "Podemos observar que podemos usar el código postal para realizar una unión entre datasets."
   ]
  },
  {
   "cell_type": "code",
   "execution_count": 57,
   "metadata": {},
   "outputs": [],
   "source": [
    "airbnb_df2 = airbnb_df.copy()"
   ]
  },
  {
   "cell_type": "code",
   "execution_count": 58,
   "metadata": {},
   "outputs": [],
   "source": [
    "airbnb_df2['zipcode'] = pd.to_numeric(airbnb_df.zipcode, errors='coerce')"
   ]
  },
  {
   "cell_type": "code",
   "execution_count": 59,
   "metadata": {},
   "outputs": [
    {
     "name": "stdout",
     "output_type": "stream",
     "text": [
      "Valores únicos de zipcodes en Airbnb: 252\n",
      "Valores únicos de zipcodes en melb_df_RC: 198\n",
      "Common zipcodes 191\n"
     ]
    }
   ],
   "source": [
    "intersection = np.intersect1d(\n",
    "    airbnb_df2.zipcode.values, melb_df_RC.Postcode.values, assume_unique=False)\n",
    "print(\"Valores únicos de zipcodes en Airbnb:\", len(airbnb_df.zipcode.unique()))\n",
    "print(\"Valores únicos de zipcodes en melb_df_RC:\", len(melb_df_RC.Postcode.unique()))\n",
    "print(\"Common zipcodes\", len(intersection))"
   ]
  },
  {
   "cell_type": "code",
   "execution_count": 60,
   "metadata": {},
   "outputs": [
    {
     "data": {
      "text/plain": [
       "array([3000., 3002., 3003., 3006., 3008., 3011., 3012., 3013., 3015.,\n",
       "       3016., 3018., 3019., 3020., 3021., 3023., 3024., 3025., 3027.,\n",
       "       3028., 3029., 3030., 3031., 3032., 3033., 3034., 3036., 3037.,\n",
       "       3038., 3039., 3040., 3041., 3042., 3043., 3044., 3046., 3047.,\n",
       "       3048., 3049., 3051., 3052., 3053., 3054., 3055., 3056., 3057.,\n",
       "       3058., 3059., 3060., 3064., 3065., 3066., 3067., 3068., 3070.,\n",
       "       3071., 3072., 3073., 3074., 3075., 3076., 3078., 3079., 3081.,\n",
       "       3082., 3083., 3084., 3085., 3087., 3088., 3089., 3093., 3094.,\n",
       "       3095., 3099., 3101., 3102., 3103., 3104., 3105., 3106., 3107.,\n",
       "       3108., 3109., 3111., 3113., 3115., 3116., 3121., 3122., 3123.,\n",
       "       3124., 3125., 3126., 3127., 3128., 3130., 3131., 3132., 3133.,\n",
       "       3134., 3135., 3136., 3137., 3138., 3141., 3142., 3143., 3144.,\n",
       "       3145., 3146., 3147., 3148., 3149., 3150., 3151., 3152., 3153.,\n",
       "       3154., 3155., 3156., 3158., 3161., 3162., 3163., 3165., 3166.,\n",
       "       3167., 3168., 3169., 3170., 3171., 3172., 3173., 3174., 3175.,\n",
       "       3177., 3178., 3179., 3180., 3181., 3182., 3183., 3184., 3185.,\n",
       "       3186., 3187., 3188., 3189., 3190., 3191., 3192., 3193., 3194.,\n",
       "       3195., 3196., 3197., 3198., 3199., 3200., 3201., 3204., 3205.,\n",
       "       3206., 3207., 3335., 3337., 3338., 3427., 3429., 3750., 3752.,\n",
       "       3754., 3757., 3765., 3775., 3777., 3782., 3793., 3795., 3796.,\n",
       "       3802., 3803., 3805., 3806., 3807., 3808., 3809., 3810., 3910.,\n",
       "       3976., 3977.])"
      ]
     },
     "execution_count": 60,
     "metadata": {},
     "output_type": "execute_result"
    }
   ],
   "source": [
    "intersection"
   ]
  },
  {
   "cell_type": "code",
   "execution_count": null,
   "metadata": {},
   "outputs": [],
   "source": []
  },
  {
   "cell_type": "code",
   "execution_count": null,
   "metadata": {},
   "outputs": [],
   "source": []
  },
  {
   "cell_type": "code",
   "execution_count": null,
   "metadata": {},
   "outputs": [],
   "source": []
  },
  {
   "cell_type": "code",
   "execution_count": 61,
   "metadata": {},
   "outputs": [
    {
     "data": {
      "text/plain": [
       "array(['3105', '3057', '3182', '3071', '3183', '3806', '3073', '3002',\n",
       "       '3166', '3199', '3121', '3000', '3187', '3101', '3065', '3188',\n",
       "       '3068', '3195', '3070', '3207', '3205', '3181', '3135', '3052',\n",
       "       '3004', '3013', '3160', '3777', '3079', '3184', '3149', '3206',\n",
       "       '3123', '3053', '3161', '3094', '3056', '3046', '3051', '3066',\n",
       "       '3006', '3141', '3130', '3023', '3159', '3162', '3030', '3167',\n",
       "       '3186', '3067', '3015', '3143', '3103', '3910', '3980', '3029',\n",
       "       '3084', '3185', '3144', '3145', '3031', '3104', '3012', '3072',\n",
       "       '3191', '3058', '3074', '3775', '3163', nan, '3147', '3789',\n",
       "       '3175', '3099', '3018', '3011', '3078', '3788', '3107', '3042',\n",
       "       '3040', '3178', '3134', '3089', '3142', '3911', '3168', '3008',\n",
       "       '3129', '3146', '3190', '3088', '3193', '3131', '3204', '3032',\n",
       "       '3109', '3797', '3782', '3003', '3113', '3081', '3158', '3122',\n",
       "       '3136', '3140', '3076', '3153', '3977', '3044', '3192', '3783',\n",
       "       '3095', '3165', '3128', '3150', '3054', '3799', '3039', '3139',\n",
       "       '3116', '3805', '3198', '3019', '3787', '3055', '3154', '3766',\n",
       "       '3096', '3016', '3124', '3808', '3152', '3760', '3767', '3781',\n",
       "       '3137', '3125', '3102', '3075', '3043', '3049', '3201', '3155',\n",
       "       '3815', '3108', '3151', '3127', '3047', '3427', '3041', '3197',\n",
       "       '3173', '3115', '3037', '3126', '3189', '3028', '3786', '3975',\n",
       "       '3978', '3114', '3194', '3097', '3111', '3770', '3027', '3132',\n",
       "       '3020', '3761', '3810', '3064', '3174', '3807', '3196', '3172',\n",
       "       '3428', '3083', '3796', '3021', '3133', '3063', '3802', '3791',\n",
       "       '3792', '3202', '3093', '3085', '3033', '3169', '3180', '3059',\n",
       "       '3338', '3754', '3170', '3148', '3429', '3804', '3809', '3138',\n",
       "       '3930', '3025', '3038', '3156', '3036', '3106', '3337', '3171',\n",
       "       '3803', '3048', '3759', '3024', '3765', '3812', '3752', '3082',\n",
       "       '3912', '3750', '3001', '3335', '3795', '3177', '3087', '3753',\n",
       "       '3814', '3976', '3757', '3179', '3793', '3060', '3034', '3785',\n",
       "       '3200', '2010', '3778', '3981', '9540', '5203', '6791', '2134',\n",
       "       '9004', '7367', '2582', '5791', '7266', '8938', '4068'],\n",
       "      dtype=object)"
      ]
     },
     "execution_count": 61,
     "metadata": {},
     "output_type": "execute_result"
    }
   ],
   "source": [
    "airbnb_df.zipcode.str.extract('(\\d+)').rename(columns={0:'zipcode'}).zipcode.str[0:4].unique()"
   ]
  },
  {
   "cell_type": "markdown",
   "metadata": {},
   "source": [
    "¿Un posible ordenamiento sería el siguiente...? Entre paréntesis anotamos lo que consideramos sería una traducción más familiar para nosotros\n",
    "state (provincia) > Regionname (zona) > CouncilArea (municipio) > city (ciudad) > Suburb (barrio) > neighborhood (¿barrio de vuelta?) > street (calle)"
   ]
  },
  {
   "cell_type": "code",
   "execution_count": 62,
   "metadata": {
    "colab": {
     "base_uri": "https://localhost:8080/"
    },
    "executionInfo": {
     "elapsed": 60,
     "status": "ok",
     "timestamp": 1627584256764,
     "user": {
      "displayName": "María Belén Acotto",
      "photoUrl": "https://lh3.googleusercontent.com/a-/AOh14GgxTl0geb_R3SIr4AA6LSVxhUsOjZdbmESuiHF-wOs=s64",
      "userId": "02753886766132213766"
     },
     "user_tz": 180
    },
    "id": "X8QhGYT3CxJT",
    "outputId": "55e3b59b-4233-4e59-b7c8-b1723379e65a"
   },
   "outputs": [
    {
     "data": {
      "text/plain": [
       "array(['3105', '3057', '3182', '3071', '3183', '3806', '3073', '3002',\n",
       "       '3166', '3199', '3121', '3000', '3187', '3101', '3065', '3188',\n",
       "       '3068', '3195', '3070', '3207', '3205', '3181', '3135', '3052',\n",
       "       '3004', '3013', '3160', '3777', '3079', '3184', '3149', '3206',\n",
       "       '3123', '3053', '3161', '3094', '3056', '3046', '3051', '3066',\n",
       "       '3006', '3141', '3130', '3023', '3159', '3162', '3030', '3167',\n",
       "       '3186', '3067', '3015', '3143', '3103', '3910', '3980', '3029',\n",
       "       '3084', '3185', '3144', '3145', '3031', '3104', '3012', '3072',\n",
       "       '3191', '3058', '3074', '3775', '3163', nan, '3147', '3789',\n",
       "       '3175', '3099', '3018', '3011', '3078', '3788', '3107', '3042',\n",
       "       '3040', '3178', '3134', '3089', '3142', '3911', '3168', '3008',\n",
       "       '3129', '3146', '3190', '3088', '3193', '3131', '3204', '3032',\n",
       "       '3109', '3797', '3782', '3003', 'VIC ', '3113', '3081', '3158',\n",
       "       '3122', '3136', '3140', '3076', '3153', '3977', '3044', '3192',\n",
       "       '3783', '3095', '3165', '3128', '3150', '3054', '3799', '3039',\n",
       "       '3139', '3116', '3805', '3198', '3019', '3787', '3055', '3154',\n",
       "       '3766', '3096', '3016', '3124', '3808', '3152', '3760', '3767',\n",
       "       '3781', '3137', '3125', '3102', '3075', '3043', '3049', '3201',\n",
       "       '3155', '3815', '3108', '3151', '3127', '3047', '3427', '3041',\n",
       "       '3197', '3173', '3115', '3037', '3126', '3189', '3028', '3786',\n",
       "       '3975', '3978', '3114', '3194', '3097', '3111', '3770', '3027',\n",
       "       '3132', '3020', '3761', '3810', '3064', '3174', '3807', '3196',\n",
       "       '3172', '3428', '3083', '3796', '3021', '3133', '3063', '3802',\n",
       "       '3791', '3792', '3202', '3093', '3085', '3033', '3169', '3180',\n",
       "       '3059', '3338', '3754', '3170', '3148', '3429', '3804', '3809',\n",
       "       '3138', '3930', '3025', '3038', '3156', '3036', '3106', '3337',\n",
       "       '3171', '3803', '3048', '3759', 'VIC', '3024', '3765', '3812',\n",
       "       '3752', '3082', '3912', '3750', '3001', '3335', '3795', '3177',\n",
       "       '3087', '3753', '3814', '3976', '3757', '3179', '3793', '3060',\n",
       "       '3034', '3785', '3200', '2010', '3778', '3981', '9540', '5203',\n",
       "       '6791', '2134', '9004', '7367', '2582', '5791', '7266', '8938',\n",
       "       '4068'], dtype=object)"
      ]
     },
     "execution_count": 62,
     "metadata": {},
     "output_type": "execute_result"
    }
   ],
   "source": [
    "airbnb_df.zipcode.str[:4].unique()"
   ]
  },
  {
   "cell_type": "code",
   "execution_count": 63,
   "metadata": {},
   "outputs": [
    {
     "data": {
      "text/plain": [
       "array(['3105', '3057', '3182', '3071', '3183', '3806', '3073', '3002',\n",
       "       '3166', '3199', '3121', '3000', '3187', '3101', '3065', '3188',\n",
       "       '3068', '3195', '3070', '3207', '3205', '3181', '3135', '3052',\n",
       "       '3004', '3013', '3160', '3777', '3079', '3184', '3149', '3206',\n",
       "       '3123', '3053', '3161', '3094', '3056', '3046', '3051', '3066',\n",
       "       '3006', '3141', '3130', '3023', '3159', '3162', '3030', '3167',\n",
       "       '3186', '3067', '3015', '3143', '3103', '3910', '3980', '3029',\n",
       "       '3084', '3185', '3144', '3145', '3031', '3104', '3012', '3072',\n",
       "       '3191', '3058', '3074', '3775', '3163', nan, '30122', '3147',\n",
       "       '3789', '3175', '3099', '3018', '3011', '3078', '3788', '3107',\n",
       "       '3042', '3040', '3178', '3134', '3089', '3142', '3911', '3168',\n",
       "       '3008', '3129', '3146', '3190', '3088', '3193', '3131', '3204',\n",
       "       '3032', '3109', '3797', '3782', '3003', 'VIC 3161', '3113', '3081',\n",
       "       '3158', '3122', '3136', '3140', '3076', '3153', '3977', '3044',\n",
       "       '3192', '3783', '3095', '3165', '3128', '3150', '3054', '3799',\n",
       "       '3039', '3139', '3116', '3805', '3198', '3019', '3787', '3055',\n",
       "       '3154', '3766', '3096', '3016', '3124', '3808', '3152', '3760',\n",
       "       '3767', '3781', '3137', '3125', '3102', '3075', '3043', '3049',\n",
       "       '3201', '3155', '3815', '3108', '3151', '3127', '3047', '3427',\n",
       "       '3041', '3197', '3173', '3115', '3037', '3126', '3189', '3028',\n",
       "       '3786', '3975', '3978', '3114', '3194', '3097', '3111', '3770',\n",
       "       '3027', '3132', '3020', '3761', '3810', '3064', '3174', '3807',\n",
       "       '3196', '3172', '3428', '3083', '3796', '3021', '3133', '3063',\n",
       "       '3802', '3791', '3792', '3202', '3093', '3085', '3033', '3169',\n",
       "       '3180', '3059', '3338', '3754', '3170', '3148', '3429', '3804',\n",
       "       '3809', '3138', '3930', '3025', '3000\\n3000', '3038', '3156',\n",
       "       '3036', '3106', '3084\\n\\n3084', '3337', '3171', '3803', '3048',\n",
       "       '3759', 'VIC', '3024', '3765', '3812', '3752', '3082', '3912',\n",
       "       '3750', '3001', '3335', '3795', '3177', '3087', '3753', '3814',\n",
       "       '3976', '3757', '3179', '3793', '3060', '3034', '3785', '3200',\n",
       "       '2010', '3778', '3981', '9540', '5203', '6791', '2134', '9004',\n",
       "       '7367', '2582', '5791', '7266', '8938', '4068'], dtype=object)"
      ]
     },
     "execution_count": 63,
     "metadata": {},
     "output_type": "execute_result"
    }
   ],
   "source": [
    "airbnb_df.zipcode.unique()"
   ]
  },
  {
   "cell_type": "code",
   "execution_count": 64,
   "metadata": {
    "executionInfo": {
     "elapsed": 49,
     "status": "ok",
     "timestamp": 1627584256766,
     "user": {
      "displayName": "María Belén Acotto",
      "photoUrl": "https://lh3.googleusercontent.com/a-/AOh14GgxTl0geb_R3SIr4AA6LSVxhUsOjZdbmESuiHF-wOs=s64",
      "userId": "02753886766132213766"
     },
     "user_tz": 180
    },
    "id": "daANH9tPGT94"
   },
   "outputs": [
    {
     "data": {
      "text/plain": [
       "array([ 4., nan,  5.,  8.,  9., 10.,  3.])"
      ]
     },
     "execution_count": 64,
     "metadata": {},
     "output_type": "execute_result"
    }
   ],
   "source": [
    "airbnb_df.zipcode.str.len().unique()"
   ]
  },
  {
   "cell_type": "markdown",
   "metadata": {},
   "source": []
  },
  {
   "cell_type": "code",
   "execution_count": null,
   "metadata": {
    "executionInfo": {
     "elapsed": 49,
     "status": "ok",
     "timestamp": 1627584256767,
     "user": {
      "displayName": "María Belén Acotto",
      "photoUrl": "https://lh3.googleusercontent.com/a-/AOh14GgxTl0geb_R3SIr4AA6LSVxhUsOjZdbmESuiHF-wOs=s64",
      "userId": "02753886766132213766"
     },
     "user_tz": 180
    },
    "id": "SsHx71-gGT94"
   },
   "outputs": [],
   "source": []
  },
  {
   "cell_type": "markdown",
   "metadata": {
    "id": "ismngxPcfoWb"
   },
   "source": [
    "## Ejercicio 2: Imputación\n",
    "\n",
    "1. Imputar los valores faltantes de la columna CouncilArea en base a la información presente en Suburb. (Si en el punto anterior no seleccionó ninguna de estas variables, agréguelas ahora el conjunto de datos).\n",
    "\n",
    "\n"
   ]
  },
  {
   "cell_type": "code",
   "execution_count": 65,
   "metadata": {
    "colab": {
     "base_uri": "https://localhost:8080/"
    },
    "executionInfo": {
     "elapsed": 365,
     "status": "ok",
     "timestamp": 1627584275328,
     "user": {
      "displayName": "María Belén Acotto",
      "photoUrl": "https://lh3.googleusercontent.com/a-/AOh14GgxTl0geb_R3SIr4AA6LSVxhUsOjZdbmESuiHF-wOs=s64",
      "userId": "02753886766132213766"
     },
     "user_tz": 180
    },
    "id": "G4ClSr_JapCw",
    "outputId": "3432c70c-4433-4ab8-f84a-38df974f887d"
   },
   "outputs": [
    {
     "data": {
      "text/plain": [
       "array(['Yarra', 'Moonee Valley', 'Port Phillip', 'Darebin', 'Hobsons Bay',\n",
       "       'Stonnington', 'Boroondara', 'Monash', 'Glen Eira', 'Whitehorse',\n",
       "       'Maribyrnong', 'Bayside', 'Moreland', 'Manningham', 'Banyule',\n",
       "       'Melbourne', 'Kingston', 'Brimbank', 'Hume', nan, 'Knox',\n",
       "       'Maroondah', 'Casey', 'Melton', 'Greater Dandenong', 'Nillumbik',\n",
       "       'Whittlesea', 'Frankston', 'Macedon Ranges', 'Yarra Ranges',\n",
       "       'Wyndham', 'Cardinia', 'Unavailable', 'Moorabool'], dtype=object)"
      ]
     },
     "execution_count": 65,
     "metadata": {},
     "output_type": "execute_result"
    }
   ],
   "source": [
    "melb_df_RC.CouncilArea.unique()"
   ]
  },
  {
   "cell_type": "code",
   "execution_count": 66,
   "metadata": {
    "colab": {
     "base_uri": "https://localhost:8080/",
     "height": 597
    },
    "executionInfo": {
     "elapsed": 320,
     "status": "ok",
     "timestamp": 1627584279870,
     "user": {
      "displayName": "María Belén Acotto",
      "photoUrl": "https://lh3.googleusercontent.com/a-/AOh14GgxTl0geb_R3SIr4AA6LSVxhUsOjZdbmESuiHF-wOs=s64",
      "userId": "02753886766132213766"
     },
     "user_tz": 180
    },
    "id": "jJJh3zNay0Ti",
    "outputId": "db3e5380-9730-4fdc-9cac-353a6fe7f975"
   },
   "outputs": [
    {
     "data": {
      "text/html": [
       "<div>\n",
       "<style scoped>\n",
       "    .dataframe tbody tr th:only-of-type {\n",
       "        vertical-align: middle;\n",
       "    }\n",
       "\n",
       "    .dataframe tbody tr th {\n",
       "        vertical-align: top;\n",
       "    }\n",
       "\n",
       "    .dataframe thead th {\n",
       "        text-align: right;\n",
       "    }\n",
       "</style>\n",
       "<table border=\"1\" class=\"dataframe\">\n",
       "  <thead>\n",
       "    <tr style=\"text-align: right;\">\n",
       "      <th></th>\n",
       "      <th>Suburb</th>\n",
       "      <th>Address</th>\n",
       "      <th>Rooms</th>\n",
       "      <th>Type</th>\n",
       "      <th>Price</th>\n",
       "      <th>Date</th>\n",
       "      <th>Distance</th>\n",
       "      <th>Bathroom</th>\n",
       "      <th>Car</th>\n",
       "      <th>CouncilArea</th>\n",
       "      <th>Postcode</th>\n",
       "      <th>Lattitude</th>\n",
       "      <th>Longtitude</th>\n",
       "      <th>Landsize</th>\n",
       "      <th>BuildingArea</th>\n",
       "      <th>YearBuilt</th>\n",
       "      <th>Regionname</th>\n",
       "      <th>AgeRange</th>\n",
       "    </tr>\n",
       "  </thead>\n",
       "  <tbody>\n",
       "    <tr>\n",
       "      <th>0</th>\n",
       "      <td>Abbotsford</td>\n",
       "      <td>85 Turner St</td>\n",
       "      <td>2</td>\n",
       "      <td>h</td>\n",
       "      <td>1480000.0</td>\n",
       "      <td>2016-03-12</td>\n",
       "      <td>2.5</td>\n",
       "      <td>1.0</td>\n",
       "      <td>1.0</td>\n",
       "      <td>Yarra</td>\n",
       "      <td>3067.0</td>\n",
       "      <td>-37.79960</td>\n",
       "      <td>144.99840</td>\n",
       "      <td>202.0</td>\n",
       "      <td>NaN</td>\n",
       "      <td>NaN</td>\n",
       "      <td>North</td>\n",
       "      <td>S/D</td>\n",
       "    </tr>\n",
       "    <tr>\n",
       "      <th>1</th>\n",
       "      <td>Abbotsford</td>\n",
       "      <td>25 Bloomburg St</td>\n",
       "      <td>2</td>\n",
       "      <td>h</td>\n",
       "      <td>1035000.0</td>\n",
       "      <td>2016-04-02</td>\n",
       "      <td>2.5</td>\n",
       "      <td>1.0</td>\n",
       "      <td>0.0</td>\n",
       "      <td>Yarra</td>\n",
       "      <td>3067.0</td>\n",
       "      <td>-37.80790</td>\n",
       "      <td>144.99340</td>\n",
       "      <td>156.0</td>\n",
       "      <td>79.0</td>\n",
       "      <td>1900.0</td>\n",
       "      <td>North</td>\n",
       "      <td>[&gt;70)</td>\n",
       "    </tr>\n",
       "    <tr>\n",
       "      <th>2</th>\n",
       "      <td>Abbotsford</td>\n",
       "      <td>5 Charles St</td>\n",
       "      <td>3</td>\n",
       "      <td>h</td>\n",
       "      <td>1465000.0</td>\n",
       "      <td>2017-04-03</td>\n",
       "      <td>2.5</td>\n",
       "      <td>2.0</td>\n",
       "      <td>0.0</td>\n",
       "      <td>Yarra</td>\n",
       "      <td>3067.0</td>\n",
       "      <td>-37.80930</td>\n",
       "      <td>144.99440</td>\n",
       "      <td>134.0</td>\n",
       "      <td>150.0</td>\n",
       "      <td>1900.0</td>\n",
       "      <td>North</td>\n",
       "      <td>[&gt;70)</td>\n",
       "    </tr>\n",
       "    <tr>\n",
       "      <th>3</th>\n",
       "      <td>Abbotsford</td>\n",
       "      <td>40 Federation La</td>\n",
       "      <td>3</td>\n",
       "      <td>h</td>\n",
       "      <td>850000.0</td>\n",
       "      <td>2017-04-03</td>\n",
       "      <td>2.5</td>\n",
       "      <td>2.0</td>\n",
       "      <td>1.0</td>\n",
       "      <td>Yarra</td>\n",
       "      <td>3067.0</td>\n",
       "      <td>-37.79690</td>\n",
       "      <td>144.99690</td>\n",
       "      <td>94.0</td>\n",
       "      <td>NaN</td>\n",
       "      <td>NaN</td>\n",
       "      <td>North</td>\n",
       "      <td>S/D</td>\n",
       "    </tr>\n",
       "    <tr>\n",
       "      <th>4</th>\n",
       "      <td>Abbotsford</td>\n",
       "      <td>55a Park St</td>\n",
       "      <td>4</td>\n",
       "      <td>h</td>\n",
       "      <td>1600000.0</td>\n",
       "      <td>2016-04-06</td>\n",
       "      <td>2.5</td>\n",
       "      <td>1.0</td>\n",
       "      <td>2.0</td>\n",
       "      <td>Yarra</td>\n",
       "      <td>3067.0</td>\n",
       "      <td>-37.80720</td>\n",
       "      <td>144.99410</td>\n",
       "      <td>120.0</td>\n",
       "      <td>142.0</td>\n",
       "      <td>2014.0</td>\n",
       "      <td>North</td>\n",
       "      <td>[0-5)</td>\n",
       "    </tr>\n",
       "    <tr>\n",
       "      <th>...</th>\n",
       "      <td>...</td>\n",
       "      <td>...</td>\n",
       "      <td>...</td>\n",
       "      <td>...</td>\n",
       "      <td>...</td>\n",
       "      <td>...</td>\n",
       "      <td>...</td>\n",
       "      <td>...</td>\n",
       "      <td>...</td>\n",
       "      <td>...</td>\n",
       "      <td>...</td>\n",
       "      <td>...</td>\n",
       "      <td>...</td>\n",
       "      <td>...</td>\n",
       "      <td>...</td>\n",
       "      <td>...</td>\n",
       "      <td>...</td>\n",
       "      <td>...</td>\n",
       "    </tr>\n",
       "    <tr>\n",
       "      <th>13574</th>\n",
       "      <td>Westmeadows</td>\n",
       "      <td>9 Black St</td>\n",
       "      <td>3</td>\n",
       "      <td>h</td>\n",
       "      <td>582000.0</td>\n",
       "      <td>2017-08-26</td>\n",
       "      <td>16.5</td>\n",
       "      <td>2.0</td>\n",
       "      <td>2.0</td>\n",
       "      <td>NaN</td>\n",
       "      <td>3049.0</td>\n",
       "      <td>-37.67917</td>\n",
       "      <td>144.89390</td>\n",
       "      <td>256.0</td>\n",
       "      <td>NaN</td>\n",
       "      <td>NaN</td>\n",
       "      <td>North</td>\n",
       "      <td>S/D</td>\n",
       "    </tr>\n",
       "    <tr>\n",
       "      <th>13575</th>\n",
       "      <td>Wheelers Hill</td>\n",
       "      <td>12 Strada Cr</td>\n",
       "      <td>4</td>\n",
       "      <td>h</td>\n",
       "      <td>1245000.0</td>\n",
       "      <td>2017-08-26</td>\n",
       "      <td>16.7</td>\n",
       "      <td>2.0</td>\n",
       "      <td>2.0</td>\n",
       "      <td>NaN</td>\n",
       "      <td>3150.0</td>\n",
       "      <td>-37.90562</td>\n",
       "      <td>145.16761</td>\n",
       "      <td>652.0</td>\n",
       "      <td>NaN</td>\n",
       "      <td>1981.0</td>\n",
       "      <td>South</td>\n",
       "      <td>[35-40)</td>\n",
       "    </tr>\n",
       "    <tr>\n",
       "      <th>13576</th>\n",
       "      <td>Williamstown</td>\n",
       "      <td>77 Merrett Dr</td>\n",
       "      <td>3</td>\n",
       "      <td>h</td>\n",
       "      <td>1031000.0</td>\n",
       "      <td>2017-08-26</td>\n",
       "      <td>6.8</td>\n",
       "      <td>2.0</td>\n",
       "      <td>2.0</td>\n",
       "      <td>NaN</td>\n",
       "      <td>3016.0</td>\n",
       "      <td>-37.85927</td>\n",
       "      <td>144.87904</td>\n",
       "      <td>333.0</td>\n",
       "      <td>133.0</td>\n",
       "      <td>1995.0</td>\n",
       "      <td>West</td>\n",
       "      <td>[20-25)</td>\n",
       "    </tr>\n",
       "    <tr>\n",
       "      <th>13577</th>\n",
       "      <td>Williamstown</td>\n",
       "      <td>83 Power St</td>\n",
       "      <td>3</td>\n",
       "      <td>h</td>\n",
       "      <td>1170000.0</td>\n",
       "      <td>2017-08-26</td>\n",
       "      <td>6.8</td>\n",
       "      <td>2.0</td>\n",
       "      <td>4.0</td>\n",
       "      <td>NaN</td>\n",
       "      <td>3016.0</td>\n",
       "      <td>-37.85274</td>\n",
       "      <td>144.88738</td>\n",
       "      <td>436.0</td>\n",
       "      <td>NaN</td>\n",
       "      <td>1997.0</td>\n",
       "      <td>West</td>\n",
       "      <td>[20-25)</td>\n",
       "    </tr>\n",
       "    <tr>\n",
       "      <th>13579</th>\n",
       "      <td>Yarraville</td>\n",
       "      <td>6 Agnes St</td>\n",
       "      <td>4</td>\n",
       "      <td>h</td>\n",
       "      <td>1285000.0</td>\n",
       "      <td>2017-08-26</td>\n",
       "      <td>6.3</td>\n",
       "      <td>1.0</td>\n",
       "      <td>1.0</td>\n",
       "      <td>NaN</td>\n",
       "      <td>3013.0</td>\n",
       "      <td>-37.81188</td>\n",
       "      <td>144.88449</td>\n",
       "      <td>362.0</td>\n",
       "      <td>112.0</td>\n",
       "      <td>1920.0</td>\n",
       "      <td>West</td>\n",
       "      <td>[&gt;70)</td>\n",
       "    </tr>\n",
       "  </tbody>\n",
       "</table>\n",
       "<p>12956 rows × 18 columns</p>\n",
       "</div>"
      ],
      "text/plain": [
       "              Suburb           Address  Rooms Type      Price       Date  \\\n",
       "0         Abbotsford      85 Turner St      2    h  1480000.0 2016-03-12   \n",
       "1         Abbotsford   25 Bloomburg St      2    h  1035000.0 2016-04-02   \n",
       "2         Abbotsford      5 Charles St      3    h  1465000.0 2017-04-03   \n",
       "3         Abbotsford  40 Federation La      3    h   850000.0 2017-04-03   \n",
       "4         Abbotsford       55a Park St      4    h  1600000.0 2016-04-06   \n",
       "...              ...               ...    ...  ...        ...        ...   \n",
       "13574    Westmeadows        9 Black St      3    h   582000.0 2017-08-26   \n",
       "13575  Wheelers Hill      12 Strada Cr      4    h  1245000.0 2017-08-26   \n",
       "13576   Williamstown     77 Merrett Dr      3    h  1031000.0 2017-08-26   \n",
       "13577   Williamstown       83 Power St      3    h  1170000.0 2017-08-26   \n",
       "13579     Yarraville        6 Agnes St      4    h  1285000.0 2017-08-26   \n",
       "\n",
       "       Distance  Bathroom  Car CouncilArea  Postcode  Lattitude  Longtitude  \\\n",
       "0           2.5       1.0  1.0       Yarra    3067.0  -37.79960   144.99840   \n",
       "1           2.5       1.0  0.0       Yarra    3067.0  -37.80790   144.99340   \n",
       "2           2.5       2.0  0.0       Yarra    3067.0  -37.80930   144.99440   \n",
       "3           2.5       2.0  1.0       Yarra    3067.0  -37.79690   144.99690   \n",
       "4           2.5       1.0  2.0       Yarra    3067.0  -37.80720   144.99410   \n",
       "...         ...       ...  ...         ...       ...        ...         ...   \n",
       "13574      16.5       2.0  2.0         NaN    3049.0  -37.67917   144.89390   \n",
       "13575      16.7       2.0  2.0         NaN    3150.0  -37.90562   145.16761   \n",
       "13576       6.8       2.0  2.0         NaN    3016.0  -37.85927   144.87904   \n",
       "13577       6.8       2.0  4.0         NaN    3016.0  -37.85274   144.88738   \n",
       "13579       6.3       1.0  1.0         NaN    3013.0  -37.81188   144.88449   \n",
       "\n",
       "       Landsize  BuildingArea  YearBuilt Regionname AgeRange  \n",
       "0         202.0           NaN        NaN      North      S/D  \n",
       "1         156.0          79.0     1900.0      North    [>70)  \n",
       "2         134.0         150.0     1900.0      North    [>70)  \n",
       "3          94.0           NaN        NaN      North      S/D  \n",
       "4         120.0         142.0     2014.0      North    [0-5)  \n",
       "...         ...           ...        ...        ...      ...  \n",
       "13574     256.0           NaN        NaN      North      S/D  \n",
       "13575     652.0           NaN     1981.0      South  [35-40)  \n",
       "13576     333.0         133.0     1995.0       West  [20-25)  \n",
       "13577     436.0           NaN     1997.0       West  [20-25)  \n",
       "13579     362.0         112.0     1920.0       West    [>70)  \n",
       "\n",
       "[12956 rows x 18 columns]"
      ]
     },
     "execution_count": 66,
     "metadata": {},
     "output_type": "execute_result"
    }
   ],
   "source": [
    "melb_df_RC2=melb_df_RC.copy(deep=True)\n",
    "melb_df_RC2"
   ]
  },
  {
   "cell_type": "code",
   "execution_count": 67,
   "metadata": {
    "colab": {
     "base_uri": "https://localhost:8080/"
    },
    "executionInfo": {
     "elapsed": 407,
     "status": "ok",
     "timestamp": 1627584592508,
     "user": {
      "displayName": "María Belén Acotto",
      "photoUrl": "https://lh3.googleusercontent.com/a-/AOh14GgxTl0geb_R3SIr4AA6LSVxhUsOjZdbmESuiHF-wOs=s64",
      "userId": "02753886766132213766"
     },
     "user_tz": 180
    },
    "id": "kZ-bYVahmCZ9",
    "outputId": "c5672264-8dc8-4613-9c02-5487f507be65"
   },
   "outputs": [
    {
     "data": {
      "text/plain": [
       "1286"
      ]
     },
     "execution_count": 67,
     "metadata": {},
     "output_type": "execute_result"
    }
   ],
   "source": [
    "melb_df_RC['CouncilArea'].isnull().sum(axis = 0)"
   ]
  },
  {
   "cell_type": "code",
   "execution_count": 68,
   "metadata": {
    "executionInfo": {
     "elapsed": 329,
     "status": "ok",
     "timestamp": 1627584421091,
     "user": {
      "displayName": "María Belén Acotto",
      "photoUrl": "https://lh3.googleusercontent.com/a-/AOh14GgxTl0geb_R3SIr4AA6LSVxhUsOjZdbmESuiHF-wOs=s64",
      "userId": "02753886766132213766"
     },
     "user_tz": 180
    },
    "id": "X8LWDEAMQ1Jp"
   },
   "outputs": [
    {
     "ename": "ModuleNotFoundError",
     "evalue": "No module named 'sklearn_pandas'",
     "output_type": "error",
     "traceback": [
      "\u001b[1;31m---------------------------------------------------------------------------\u001b[0m",
      "\u001b[1;31mModuleNotFoundError\u001b[0m                       Traceback (most recent call last)",
      "\u001b[1;32m<ipython-input-68-0db0f197f467>\u001b[0m in \u001b[0;36m<module>\u001b[1;34m\u001b[0m\n\u001b[1;32m----> 1\u001b[1;33m \u001b[1;32mfrom\u001b[0m \u001b[0msklearn_pandas\u001b[0m \u001b[1;32mimport\u001b[0m \u001b[0mCategoricalImputer\u001b[0m\u001b[1;33m\u001b[0m\u001b[1;33m\u001b[0m\u001b[0m\n\u001b[0m\u001b[0;32m      2\u001b[0m \u001b[1;33m\u001b[0m\u001b[0m\n\u001b[0;32m      3\u001b[0m \u001b[0mimputer\u001b[0m \u001b[1;33m=\u001b[0m \u001b[0mCategoricalImputer\u001b[0m\u001b[1;33m(\u001b[0m\u001b[1;33m)\u001b[0m\u001b[1;33m\u001b[0m\u001b[1;33m\u001b[0m\u001b[0m\n\u001b[0;32m      4\u001b[0m \u001b[0mmelb_df_RC2\u001b[0m\u001b[1;33m[\u001b[0m\u001b[1;34m'CouncilArea'\u001b[0m\u001b[1;33m]\u001b[0m\u001b[1;33m=\u001b[0m\u001b[0mimputer\u001b[0m\u001b[1;33m.\u001b[0m\u001b[0mfit_transform\u001b[0m\u001b[1;33m(\u001b[0m\u001b[0mmelb_df_RC2\u001b[0m\u001b[1;33m[\u001b[0m\u001b[1;34m'CouncilArea'\u001b[0m\u001b[1;33m]\u001b[0m\u001b[1;33m)\u001b[0m\u001b[1;33m\u001b[0m\u001b[1;33m\u001b[0m\u001b[0m\n",
      "\u001b[1;31mModuleNotFoundError\u001b[0m: No module named 'sklearn_pandas'"
     ]
    }
   ],
   "source": [
    "from sklearn_pandas import CategoricalImputer\n",
    "\n",
    "imputer = CategoricalImputer()\n",
    "melb_df_RC2['CouncilArea']=imputer.fit_transform(melb_df_RC2['CouncilArea'])\n"
   ]
  },
  {
   "cell_type": "code",
   "execution_count": null,
   "metadata": {
    "colab": {
     "base_uri": "https://localhost:8080/"
    },
    "executionInfo": {
     "elapsed": 273,
     "status": "ok",
     "timestamp": 1627584526165,
     "user": {
      "displayName": "María Belén Acotto",
      "photoUrl": "https://lh3.googleusercontent.com/a-/AOh14GgxTl0geb_R3SIr4AA6LSVxhUsOjZdbmESuiHF-wOs=s64",
      "userId": "02753886766132213766"
     },
     "user_tz": 180
    },
    "id": "hnXGSRq1l3wr",
    "outputId": "0ab7d0c6-16d2-42b9-9bfd-aa398fad947b"
   },
   "outputs": [],
   "source": [
    "melb_df_RC2['CouncilArea'].value_counts"
   ]
  },
  {
   "cell_type": "code",
   "execution_count": null,
   "metadata": {
    "id": "Npe1xMrlncPb"
   },
   "outputs": [],
   "source": [
    "#melb_df_RC['CouncilArea']=melb_df_RC2['CouncilArea']"
   ]
  },
  {
   "cell_type": "markdown",
   "metadata": {
    "id": "y_v_PS_smuN8"
   },
   "source": [
    "Tras realizar la imputación sobre el campo **CouncilArea**, podemos observar que los valores faltantes fueron reemplazados por **Moreland** que es la categoria más frecuente que se visualiza.             "
   ]
  },
  {
   "cell_type": "markdown",
   "metadata": {
    "id": "yAI6jrVRnwiv"
   },
   "source": [
    "2. Imputar los valores faltantes de la(s) columna(s) que se agregaron a partir del conjunto de datos de AirBnB.\n"
   ]
  },
  {
   "cell_type": "code",
   "execution_count": null,
   "metadata": {
    "id": "UYuonv-hn1To"
   },
   "outputs": [],
   "source": [
    "# Juan se me hizo lio aca para saber cuales son las columnas de AirBnB. ¿Esta en el df melb_de_RD? ¿O debo imputar sobre las columnas del df airbnb_df??"
   ]
  },
  {
   "cell_type": "markdown",
   "metadata": {
    "id": "NBN7-5OIxjJW"
   },
   "source": [
    "## Ejercicio 3\n",
    "\n",
    "Crear y guardar un nuevo conjunto de datos con todas las transformaciones realizadas anteriormente."
   ]
  },
  {
   "cell_type": "code",
   "execution_count": null,
   "metadata": {
    "executionInfo": {
     "elapsed": 43,
     "status": "ok",
     "timestamp": 1627584256770,
     "user": {
      "displayName": "María Belén Acotto",
      "photoUrl": "https://lh3.googleusercontent.com/a-/AOh14GgxTl0geb_R3SIr4AA6LSVxhUsOjZdbmESuiHF-wOs=s64",
      "userId": "02753886766132213766"
     },
     "user_tz": 180
    },
    "id": "DfchYPgTxvQ4"
   },
   "outputs": [],
   "source": []
  },
  {
   "cell_type": "markdown",
   "metadata": {
    "id": "Bq7nuPg2HIYx"
   },
   "source": []
  },
  {
   "cell_type": "code",
   "execution_count": null,
   "metadata": {
    "executionInfo": {
     "elapsed": 42,
     "status": "ok",
     "timestamp": 1627584256770,
     "user": {
      "displayName": "María Belén Acotto",
      "photoUrl": "https://lh3.googleusercontent.com/a-/AOh14GgxTl0geb_R3SIr4AA6LSVxhUsOjZdbmESuiHF-wOs=s64",
      "userId": "02753886766132213766"
     },
     "user_tz": 180
    },
    "id": "TS6FB67PGT95"
   },
   "outputs": [],
   "source": []
  }
 ],
 "metadata": {
  "colab": {
   "collapsed_sections": [],
   "name": "Entregable_Parte_1.ipynb",
   "provenance": []
  },
  "kernelspec": {
   "display_name": "Python 3",
   "language": "python",
   "name": "python3"
  },
  "language_info": {
   "codemirror_mode": {
    "name": "ipython",
    "version": 3
   },
   "file_extension": ".py",
   "mimetype": "text/x-python",
   "name": "python",
   "nbconvert_exporter": "python",
   "pygments_lexer": "ipython3",
   "version": "3.8.0"
  }
 },
 "nbformat": 4,
 "nbformat_minor": 4
}
