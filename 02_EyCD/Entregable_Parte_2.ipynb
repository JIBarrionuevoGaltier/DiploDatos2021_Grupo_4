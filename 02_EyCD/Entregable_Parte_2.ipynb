{
 "cells": [
  {
   "cell_type": "markdown",
   "metadata": {
    "id": "zO4bRoxr2Apy"
   },
   "source": [
    "**Diplomatura en Ciencia de Datos, Aprendizaje Automático y sus Aplicaciones**\n",
    "\n",
    "**Exploración y Curación de Datos**\n",
    "\n",
    "*Edición 2021*\n",
    "\n",
    "----\n",
    "\n",
    "# Trabajo práctico entregable - parte 2\n",
    "\n",
    "\n",
    "En el ejercicio 1 de la parte 1 del entregable seleccionaron las filas y columnas relevantes al problema de predicción de precios de una propiedad. Además de ello, tuvieron que reducir el número de valores posibles para las variables categóricas utilizando información de dominio.\n",
    "\n",
    "En el ejercicio 2 de la parte 1 del entregable imputaron los valores faltantes de las columnas `Suburb` y las columnas obtenidas a partir del conjunto de datos `airbnb`.\n",
    "\n",
    "En esta notebook, **se utilizará resultado de dichas operaciones.**\n"
   ]
  },
  {
   "cell_type": "code",
   "execution_count": 1,
   "metadata": {
    "executionInfo": {
     "elapsed": 962,
     "status": "ok",
     "timestamp": 1626999954521,
     "user": {
      "displayName": "María Belén Acotto",
      "photoUrl": "https://lh3.googleusercontent.com/a-/AOh14GgxTl0geb_R3SIr4AA6LSVxhUsOjZdbmESuiHF-wOs=s64",
      "userId": "02753886766132213766"
     },
     "user_tz": 180
    },
    "id": "4udjxjk1EtVU"
   },
   "outputs": [],
   "source": [
    "import matplotlib.pyplot as plt\n",
    "import numpy as np\n",
    "import pandas as pd\n",
    "\n",
    "import seaborn as sns\n",
    "sns.set_context('talk')"
   ]
  },
  {
   "cell_type": "code",
   "execution_count": 2,
   "metadata": {
    "colab": {
     "base_uri": "https://localhost:8080/",
     "height": 227
    },
    "executionInfo": {
     "elapsed": 3331,
     "status": "ok",
     "timestamp": 1626999957840,
     "user": {
      "displayName": "María Belén Acotto",
      "photoUrl": "https://lh3.googleusercontent.com/a-/AOh14GgxTl0geb_R3SIr4AA6LSVxhUsOjZdbmESuiHF-wOs=s64",
      "userId": "02753886766132213766"
     },
     "user_tz": 180
    },
    "id": "_qeFN3GnEvMk",
    "outputId": "a8c40b0a-fd96-418c-9bef-4833b318b65a"
   },
   "outputs": [
    {
     "data": {
      "text/html": [
       "<div>\n",
       "<style scoped>\n",
       "    .dataframe tbody tr th:only-of-type {\n",
       "        vertical-align: middle;\n",
       "    }\n",
       "\n",
       "    .dataframe tbody tr th {\n",
       "        vertical-align: top;\n",
       "    }\n",
       "\n",
       "    .dataframe thead th {\n",
       "        text-align: right;\n",
       "    }\n",
       "</style>\n",
       "<table border=\"1\" class=\"dataframe\">\n",
       "  <thead>\n",
       "    <tr style=\"text-align: right;\">\n",
       "      <th></th>\n",
       "      <th>Suburb</th>\n",
       "      <th>Rooms</th>\n",
       "      <th>Type</th>\n",
       "      <th>Price</th>\n",
       "      <th>Date</th>\n",
       "      <th>Distance</th>\n",
       "      <th>Bathroom</th>\n",
       "      <th>Car</th>\n",
       "      <th>CouncilArea</th>\n",
       "      <th>Postcode</th>\n",
       "      <th>Lattitude</th>\n",
       "      <th>Longtitude</th>\n",
       "      <th>Landsize</th>\n",
       "      <th>BuildingArea</th>\n",
       "      <th>YearBuilt</th>\n",
       "      <th>Regionname</th>\n",
       "      <th>AgeRange</th>\n",
       "      <th>price_mean_city</th>\n",
       "    </tr>\n",
       "  </thead>\n",
       "  <tbody>\n",
       "    <tr>\n",
       "      <th>0</th>\n",
       "      <td>Abbotsford</td>\n",
       "      <td>2</td>\n",
       "      <td>h</td>\n",
       "      <td>1480000.0</td>\n",
       "      <td>2016-03-12</td>\n",
       "      <td>2.5</td>\n",
       "      <td>1.0</td>\n",
       "      <td>1.0</td>\n",
       "      <td>Yarra</td>\n",
       "      <td>3067</td>\n",
       "      <td>-37.7996</td>\n",
       "      <td>144.9984</td>\n",
       "      <td>202.0</td>\n",
       "      <td>NaN</td>\n",
       "      <td>NaN</td>\n",
       "      <td>North</td>\n",
       "      <td>S/D</td>\n",
       "      <td>121.34</td>\n",
       "    </tr>\n",
       "    <tr>\n",
       "      <th>1</th>\n",
       "      <td>Abbotsford</td>\n",
       "      <td>2</td>\n",
       "      <td>h</td>\n",
       "      <td>1035000.0</td>\n",
       "      <td>2016-04-02</td>\n",
       "      <td>2.5</td>\n",
       "      <td>1.0</td>\n",
       "      <td>0.0</td>\n",
       "      <td>Yarra</td>\n",
       "      <td>3067</td>\n",
       "      <td>-37.8079</td>\n",
       "      <td>144.9934</td>\n",
       "      <td>156.0</td>\n",
       "      <td>79.0</td>\n",
       "      <td>1900.0</td>\n",
       "      <td>North</td>\n",
       "      <td>[&gt;70)</td>\n",
       "      <td>121.34</td>\n",
       "    </tr>\n",
       "    <tr>\n",
       "      <th>2</th>\n",
       "      <td>Abbotsford</td>\n",
       "      <td>3</td>\n",
       "      <td>h</td>\n",
       "      <td>1465000.0</td>\n",
       "      <td>2017-04-03</td>\n",
       "      <td>2.5</td>\n",
       "      <td>2.0</td>\n",
       "      <td>0.0</td>\n",
       "      <td>Yarra</td>\n",
       "      <td>3067</td>\n",
       "      <td>-37.8093</td>\n",
       "      <td>144.9944</td>\n",
       "      <td>134.0</td>\n",
       "      <td>150.0</td>\n",
       "      <td>1900.0</td>\n",
       "      <td>North</td>\n",
       "      <td>[&gt;70)</td>\n",
       "      <td>121.34</td>\n",
       "    </tr>\n",
       "  </tbody>\n",
       "</table>\n",
       "</div>"
      ],
      "text/plain": [
       "       Suburb  Rooms Type      Price        Date  Distance  Bathroom  Car  \\\n",
       "0  Abbotsford      2    h  1480000.0  2016-03-12       2.5       1.0  1.0   \n",
       "1  Abbotsford      2    h  1035000.0  2016-04-02       2.5       1.0  0.0   \n",
       "2  Abbotsford      3    h  1465000.0  2017-04-03       2.5       2.0  0.0   \n",
       "\n",
       "  CouncilArea  Postcode  Lattitude  Longtitude  Landsize  BuildingArea  \\\n",
       "0       Yarra      3067   -37.7996    144.9984     202.0           NaN   \n",
       "1       Yarra      3067   -37.8079    144.9934     156.0          79.0   \n",
       "2       Yarra      3067   -37.8093    144.9944     134.0         150.0   \n",
       "\n",
       "   YearBuilt Regionname AgeRange  price_mean_city  \n",
       "0        NaN      North      S/D           121.34  \n",
       "1     1900.0      North    [>70)           121.34  \n",
       "2     1900.0      North    [>70)           121.34  "
      ]
     },
     "execution_count": 2,
     "metadata": {},
     "output_type": "execute_result"
    }
   ],
   "source": [
    "# Acá deberían leer el conjunto de datos que ya tienen.\n",
    "melb_df_origin = pd.read_csv('datasets/melb_df_firt_part.csv')\n",
    "melb_df_origin[:3]"
   ]
  },
  {
   "cell_type": "code",
   "execution_count": 3,
   "metadata": {},
   "outputs": [
    {
     "data": {
      "text/plain": [
       "(12956, 18)"
      ]
     },
     "execution_count": 3,
     "metadata": {},
     "output_type": "execute_result"
    }
   ],
   "source": [
    "melb_df_origin.shape"
   ]
  },
  {
   "cell_type": "markdown",
   "metadata": {
    "id": "s-mixICN22kA"
   },
   "source": [
    "## Ejercicio 1: Encoding"
   ]
  },
  {
   "cell_type": "markdown",
   "metadata": {
    "id": "s-mixICN22kA"
   },
   "source": [
    "1. Seleccionar todas las filas y columnas del conjunto de datos obtenido en la parte 1 del entregable, **excepto** `BuildingArea` y `YearBuilt`, que volveremos a imputar más adelante.\n",
    "\n",
    "2. Aplicar una codificación One-hot encoding a cada fila, tanto para variables numéricas como categóricas. Si lo consideran necesario, pueden volver a reducir el número de categorías únicas.\n",
    "\n",
    "Algunas opciones:\n",
    "  1. Utilizar `OneHotEncoder` junto con el parámetro `categories` para las variables categóricas y luego usar `numpy.hstack` para concatenar el resultado con las variables numéricas. \n",
    "  2. `DictVectorizer` con algunos pasos de pre-proceso previo.\n",
    "\n",
    "Recordar también que el atributo `pandas.DataFrame.values` permite acceder a la matriz de numpy subyacente a un DataFrame."
   ]
  },
  {
   "cell_type": "markdown",
   "metadata": {},
   "source": [
    "### Selección de columnas"
   ]
  },
  {
   "cell_type": "code",
   "execution_count": 4,
   "metadata": {},
   "outputs": [
    {
     "data": {
      "text/html": [
       "<div>\n",
       "<style scoped>\n",
       "    .dataframe tbody tr th:only-of-type {\n",
       "        vertical-align: middle;\n",
       "    }\n",
       "\n",
       "    .dataframe tbody tr th {\n",
       "        vertical-align: top;\n",
       "    }\n",
       "\n",
       "    .dataframe thead th {\n",
       "        text-align: right;\n",
       "    }\n",
       "</style>\n",
       "<table border=\"1\" class=\"dataframe\">\n",
       "  <thead>\n",
       "    <tr style=\"text-align: right;\">\n",
       "      <th></th>\n",
       "      <th>Suburb</th>\n",
       "      <th>Rooms</th>\n",
       "      <th>Type</th>\n",
       "      <th>Price</th>\n",
       "      <th>Date</th>\n",
       "      <th>Distance</th>\n",
       "      <th>Bathroom</th>\n",
       "      <th>Car</th>\n",
       "      <th>CouncilArea</th>\n",
       "      <th>Postcode</th>\n",
       "      <th>Lattitude</th>\n",
       "      <th>Longtitude</th>\n",
       "      <th>Landsize</th>\n",
       "      <th>BuildingArea</th>\n",
       "      <th>YearBuilt</th>\n",
       "      <th>Regionname</th>\n",
       "      <th>AgeRange</th>\n",
       "      <th>price_mean_city</th>\n",
       "    </tr>\n",
       "  </thead>\n",
       "  <tbody>\n",
       "    <tr>\n",
       "      <th>0</th>\n",
       "      <td>Abbotsford</td>\n",
       "      <td>2</td>\n",
       "      <td>h</td>\n",
       "      <td>1480000.0</td>\n",
       "      <td>2016-03-12</td>\n",
       "      <td>2.5</td>\n",
       "      <td>1.0</td>\n",
       "      <td>1.0</td>\n",
       "      <td>Yarra</td>\n",
       "      <td>3067</td>\n",
       "      <td>-37.7996</td>\n",
       "      <td>144.9984</td>\n",
       "      <td>202.0</td>\n",
       "      <td>NaN</td>\n",
       "      <td>NaN</td>\n",
       "      <td>North</td>\n",
       "      <td>S/D</td>\n",
       "      <td>121.34</td>\n",
       "    </tr>\n",
       "    <tr>\n",
       "      <th>1</th>\n",
       "      <td>Abbotsford</td>\n",
       "      <td>2</td>\n",
       "      <td>h</td>\n",
       "      <td>1035000.0</td>\n",
       "      <td>2016-04-02</td>\n",
       "      <td>2.5</td>\n",
       "      <td>1.0</td>\n",
       "      <td>0.0</td>\n",
       "      <td>Yarra</td>\n",
       "      <td>3067</td>\n",
       "      <td>-37.8079</td>\n",
       "      <td>144.9934</td>\n",
       "      <td>156.0</td>\n",
       "      <td>79.0</td>\n",
       "      <td>1900.0</td>\n",
       "      <td>North</td>\n",
       "      <td>[&gt;70)</td>\n",
       "      <td>121.34</td>\n",
       "    </tr>\n",
       "    <tr>\n",
       "      <th>2</th>\n",
       "      <td>Abbotsford</td>\n",
       "      <td>3</td>\n",
       "      <td>h</td>\n",
       "      <td>1465000.0</td>\n",
       "      <td>2017-04-03</td>\n",
       "      <td>2.5</td>\n",
       "      <td>2.0</td>\n",
       "      <td>0.0</td>\n",
       "      <td>Yarra</td>\n",
       "      <td>3067</td>\n",
       "      <td>-37.8093</td>\n",
       "      <td>144.9944</td>\n",
       "      <td>134.0</td>\n",
       "      <td>150.0</td>\n",
       "      <td>1900.0</td>\n",
       "      <td>North</td>\n",
       "      <td>[&gt;70)</td>\n",
       "      <td>121.34</td>\n",
       "    </tr>\n",
       "    <tr>\n",
       "      <th>3</th>\n",
       "      <td>Abbotsford</td>\n",
       "      <td>3</td>\n",
       "      <td>h</td>\n",
       "      <td>850000.0</td>\n",
       "      <td>2017-04-03</td>\n",
       "      <td>2.5</td>\n",
       "      <td>2.0</td>\n",
       "      <td>1.0</td>\n",
       "      <td>Yarra</td>\n",
       "      <td>3067</td>\n",
       "      <td>-37.7969</td>\n",
       "      <td>144.9969</td>\n",
       "      <td>94.0</td>\n",
       "      <td>NaN</td>\n",
       "      <td>NaN</td>\n",
       "      <td>North</td>\n",
       "      <td>S/D</td>\n",
       "      <td>121.34</td>\n",
       "    </tr>\n",
       "    <tr>\n",
       "      <th>4</th>\n",
       "      <td>Abbotsford</td>\n",
       "      <td>4</td>\n",
       "      <td>h</td>\n",
       "      <td>1600000.0</td>\n",
       "      <td>2016-04-06</td>\n",
       "      <td>2.5</td>\n",
       "      <td>1.0</td>\n",
       "      <td>2.0</td>\n",
       "      <td>Yarra</td>\n",
       "      <td>3067</td>\n",
       "      <td>-37.8072</td>\n",
       "      <td>144.9941</td>\n",
       "      <td>120.0</td>\n",
       "      <td>142.0</td>\n",
       "      <td>2014.0</td>\n",
       "      <td>North</td>\n",
       "      <td>[0-5)</td>\n",
       "      <td>121.34</td>\n",
       "    </tr>\n",
       "  </tbody>\n",
       "</table>\n",
       "</div>"
      ],
      "text/plain": [
       "       Suburb  Rooms Type      Price        Date  Distance  Bathroom  Car  \\\n",
       "0  Abbotsford      2    h  1480000.0  2016-03-12       2.5       1.0  1.0   \n",
       "1  Abbotsford      2    h  1035000.0  2016-04-02       2.5       1.0  0.0   \n",
       "2  Abbotsford      3    h  1465000.0  2017-04-03       2.5       2.0  0.0   \n",
       "3  Abbotsford      3    h   850000.0  2017-04-03       2.5       2.0  1.0   \n",
       "4  Abbotsford      4    h  1600000.0  2016-04-06       2.5       1.0  2.0   \n",
       "\n",
       "  CouncilArea  Postcode  Lattitude  Longtitude  Landsize  BuildingArea  \\\n",
       "0       Yarra      3067   -37.7996    144.9984     202.0           NaN   \n",
       "1       Yarra      3067   -37.8079    144.9934     156.0          79.0   \n",
       "2       Yarra      3067   -37.8093    144.9944     134.0         150.0   \n",
       "3       Yarra      3067   -37.7969    144.9969      94.0           NaN   \n",
       "4       Yarra      3067   -37.8072    144.9941     120.0         142.0   \n",
       "\n",
       "   YearBuilt Regionname AgeRange  price_mean_city  \n",
       "0        NaN      North      S/D           121.34  \n",
       "1     1900.0      North    [>70)           121.34  \n",
       "2     1900.0      North    [>70)           121.34  \n",
       "3        NaN      North      S/D           121.34  \n",
       "4     2014.0      North    [0-5)           121.34  "
      ]
     },
     "execution_count": 4,
     "metadata": {},
     "output_type": "execute_result"
    }
   ],
   "source": [
    "melb_df = melb_df_origin.copy()\n",
    "melb_df.head()"
   ]
  },
  {
   "cell_type": "code",
   "execution_count": 5,
   "metadata": {},
   "outputs": [],
   "source": [
    "melb_df.drop(columns=['BuildingArea', 'YearBuilt'], inplace=True)"
   ]
  },
  {
   "cell_type": "markdown",
   "metadata": {},
   "source": [
    "Llegados a este punto, concluimos que por la cantidad de valores y distribución en las columnas **Lattitude** y **Longtitude**, y por los valores conceptuales de las variables, las mismas no las usaremos dentro de nuestro análisis. Se volverán a agregar si fuesen necesarias."
   ]
  },
  {
   "cell_type": "code",
   "execution_count": 6,
   "metadata": {},
   "outputs": [],
   "source": [
    "melb_df.drop(columns=['Lattitude', 'Longtitude'], inplace=True)"
   ]
  },
  {
   "cell_type": "code",
   "execution_count": 7,
   "metadata": {},
   "outputs": [
    {
     "data": {
      "text/plain": [
       "(12956, 14)"
      ]
     },
     "execution_count": 7,
     "metadata": {},
     "output_type": "execute_result"
    }
   ],
   "source": [
    "melb_df.shape"
   ]
  },
  {
   "cell_type": "markdown",
   "metadata": {},
   "source": [
    "### One-Hot Encoding"
   ]
  },
  {
   "cell_type": "markdown",
   "metadata": {},
   "source": [
    "#### Rápido Análisis"
   ]
  },
  {
   "cell_type": "code",
   "execution_count": 8,
   "metadata": {
    "tags": []
   },
   "outputs": [
    {
     "data": {
      "text/plain": [
       "Suburb              314\n",
       "Rooms                 9\n",
       "Type                  3\n",
       "Price              1945\n",
       "Date                 58\n",
       "Distance            202\n",
       "Bathroom              8\n",
       "Car                  11\n",
       "CouncilArea          33\n",
       "Postcode            198\n",
       "Landsize           1398\n",
       "Regionname            4\n",
       "AgeRange             16\n",
       "price_mean_city      31\n",
       "dtype: int64"
      ]
     },
     "execution_count": 8,
     "metadata": {},
     "output_type": "execute_result"
    }
   ],
   "source": [
    "melb_df.nunique()"
   ]
  },
  {
   "cell_type": "code",
   "execution_count": 9,
   "metadata": {
    "tags": []
   },
   "outputs": [
    {
     "data": {
      "text/plain": [
       "Suburb             0\n",
       "Rooms              0\n",
       "Type               0\n",
       "Price              0\n",
       "Date               0\n",
       "Distance           0\n",
       "Bathroom           0\n",
       "Car                0\n",
       "CouncilArea        0\n",
       "Postcode           0\n",
       "Landsize           0\n",
       "Regionname         0\n",
       "AgeRange           0\n",
       "price_mean_city    0\n",
       "dtype: int64"
      ]
     },
     "execution_count": 9,
     "metadata": {},
     "output_type": "execute_result"
    }
   ],
   "source": [
    "melb_df.isna().sum()"
   ]
  },
  {
   "cell_type": "code",
   "execution_count": 10,
   "metadata": {
    "tags": []
   },
   "outputs": [
    {
     "data": {
      "text/plain": [
       "array(['Suburb', 'Rooms', 'Type', 'Price', 'Date', 'Distance', 'Bathroom',\n",
       "       'Car', 'CouncilArea', 'Postcode', 'Landsize', 'Regionname',\n",
       "       'AgeRange', 'price_mean_city'], dtype=object)"
      ]
     },
     "execution_count": 10,
     "metadata": {},
     "output_type": "execute_result"
    }
   ],
   "source": [
    "melb_df.columns.values"
   ]
  },
  {
   "cell_type": "markdown",
   "metadata": {},
   "source": [
    "#### Re-Agrupaciones"
   ]
  },
  {
   "cell_type": "markdown",
   "metadata": {},
   "source": [
    "Como decidimos dejar la columna **Date**, la agruparemos para mostrar simplemente la fecha de venta pero dividido trimestralmente."
   ]
  },
  {
   "cell_type": "code",
   "execution_count": 11,
   "metadata": {},
   "outputs": [
    {
     "data": {
      "text/plain": [
       "<PeriodArray>\n",
       "['2016Q1', '2016Q2', '2017Q2', '2016Q3', '2016Q4', '2017Q1', '2017Q3',\n",
       " '2017Q4']\n",
       "Length: 8, dtype: period[Q-DEC]"
      ]
     },
     "execution_count": 11,
     "metadata": {},
     "output_type": "execute_result"
    }
   ],
   "source": [
    "#df['quarter'] = pd.PeriodIndex(df.date, freq='Q')\n",
    "melb_df['Date_Quarter'] = pd.PeriodIndex(melb_df.Date, freq='Q')\n",
    "melb_df.Date_Quarter.unique()"
   ]
  },
  {
   "cell_type": "markdown",
   "metadata": {},
   "source": [
    "Quedandonos con 8 categorías, borraremos la columna **Date**"
   ]
  },
  {
   "cell_type": "code",
   "execution_count": 12,
   "metadata": {},
   "outputs": [
    {
     "data": {
      "text/html": [
       "<div>\n",
       "<style scoped>\n",
       "    .dataframe tbody tr th:only-of-type {\n",
       "        vertical-align: middle;\n",
       "    }\n",
       "\n",
       "    .dataframe tbody tr th {\n",
       "        vertical-align: top;\n",
       "    }\n",
       "\n",
       "    .dataframe thead th {\n",
       "        text-align: right;\n",
       "    }\n",
       "</style>\n",
       "<table border=\"1\" class=\"dataframe\">\n",
       "  <thead>\n",
       "    <tr style=\"text-align: right;\">\n",
       "      <th></th>\n",
       "      <th>Suburb</th>\n",
       "      <th>Rooms</th>\n",
       "      <th>Type</th>\n",
       "      <th>Price</th>\n",
       "      <th>Distance</th>\n",
       "      <th>Bathroom</th>\n",
       "      <th>Car</th>\n",
       "      <th>CouncilArea</th>\n",
       "      <th>Postcode</th>\n",
       "      <th>Landsize</th>\n",
       "      <th>Regionname</th>\n",
       "      <th>AgeRange</th>\n",
       "      <th>price_mean_city</th>\n",
       "      <th>Date_Quarter</th>\n",
       "    </tr>\n",
       "  </thead>\n",
       "  <tbody>\n",
       "    <tr>\n",
       "      <th>0</th>\n",
       "      <td>Abbotsford</td>\n",
       "      <td>2</td>\n",
       "      <td>h</td>\n",
       "      <td>1480000.0</td>\n",
       "      <td>2.5</td>\n",
       "      <td>1.0</td>\n",
       "      <td>1.0</td>\n",
       "      <td>Yarra</td>\n",
       "      <td>3067</td>\n",
       "      <td>202.0</td>\n",
       "      <td>North</td>\n",
       "      <td>S/D</td>\n",
       "      <td>121.34</td>\n",
       "      <td>2016Q1</td>\n",
       "    </tr>\n",
       "    <tr>\n",
       "      <th>1</th>\n",
       "      <td>Abbotsford</td>\n",
       "      <td>2</td>\n",
       "      <td>h</td>\n",
       "      <td>1035000.0</td>\n",
       "      <td>2.5</td>\n",
       "      <td>1.0</td>\n",
       "      <td>0.0</td>\n",
       "      <td>Yarra</td>\n",
       "      <td>3067</td>\n",
       "      <td>156.0</td>\n",
       "      <td>North</td>\n",
       "      <td>[&gt;70)</td>\n",
       "      <td>121.34</td>\n",
       "      <td>2016Q2</td>\n",
       "    </tr>\n",
       "    <tr>\n",
       "      <th>2</th>\n",
       "      <td>Abbotsford</td>\n",
       "      <td>3</td>\n",
       "      <td>h</td>\n",
       "      <td>1465000.0</td>\n",
       "      <td>2.5</td>\n",
       "      <td>2.0</td>\n",
       "      <td>0.0</td>\n",
       "      <td>Yarra</td>\n",
       "      <td>3067</td>\n",
       "      <td>134.0</td>\n",
       "      <td>North</td>\n",
       "      <td>[&gt;70)</td>\n",
       "      <td>121.34</td>\n",
       "      <td>2017Q2</td>\n",
       "    </tr>\n",
       "    <tr>\n",
       "      <th>3</th>\n",
       "      <td>Abbotsford</td>\n",
       "      <td>3</td>\n",
       "      <td>h</td>\n",
       "      <td>850000.0</td>\n",
       "      <td>2.5</td>\n",
       "      <td>2.0</td>\n",
       "      <td>1.0</td>\n",
       "      <td>Yarra</td>\n",
       "      <td>3067</td>\n",
       "      <td>94.0</td>\n",
       "      <td>North</td>\n",
       "      <td>S/D</td>\n",
       "      <td>121.34</td>\n",
       "      <td>2017Q2</td>\n",
       "    </tr>\n",
       "    <tr>\n",
       "      <th>4</th>\n",
       "      <td>Abbotsford</td>\n",
       "      <td>4</td>\n",
       "      <td>h</td>\n",
       "      <td>1600000.0</td>\n",
       "      <td>2.5</td>\n",
       "      <td>1.0</td>\n",
       "      <td>2.0</td>\n",
       "      <td>Yarra</td>\n",
       "      <td>3067</td>\n",
       "      <td>120.0</td>\n",
       "      <td>North</td>\n",
       "      <td>[0-5)</td>\n",
       "      <td>121.34</td>\n",
       "      <td>2016Q2</td>\n",
       "    </tr>\n",
       "  </tbody>\n",
       "</table>\n",
       "</div>"
      ],
      "text/plain": [
       "       Suburb  Rooms Type      Price  Distance  Bathroom  Car CouncilArea  \\\n",
       "0  Abbotsford      2    h  1480000.0       2.5       1.0  1.0       Yarra   \n",
       "1  Abbotsford      2    h  1035000.0       2.5       1.0  0.0       Yarra   \n",
       "2  Abbotsford      3    h  1465000.0       2.5       2.0  0.0       Yarra   \n",
       "3  Abbotsford      3    h   850000.0       2.5       2.0  1.0       Yarra   \n",
       "4  Abbotsford      4    h  1600000.0       2.5       1.0  2.0       Yarra   \n",
       "\n",
       "   Postcode  Landsize Regionname AgeRange  price_mean_city Date_Quarter  \n",
       "0      3067     202.0      North      S/D           121.34       2016Q1  \n",
       "1      3067     156.0      North    [>70)           121.34       2016Q2  \n",
       "2      3067     134.0      North    [>70)           121.34       2017Q2  \n",
       "3      3067      94.0      North      S/D           121.34       2017Q2  \n",
       "4      3067     120.0      North    [0-5)           121.34       2016Q2  "
      ]
     },
     "execution_count": 12,
     "metadata": {},
     "output_type": "execute_result"
    }
   ],
   "source": [
    "melb_df.drop(columns=['Date'], inplace=True)\n",
    "melb_df.head()"
   ]
  },
  {
   "cell_type": "markdown",
   "metadata": {},
   "source": [
    "Dejaremos el resto de columnas como están, por el momento."
   ]
  },
  {
   "cell_type": "markdown",
   "metadata": {},
   "source": [
    "#### Encoding"
   ]
  },
  {
   "cell_type": "markdown",
   "metadata": {},
   "source": [
    "Primero tomaremos aquellas variables categóricas y las numéricas"
   ]
  },
  {
   "cell_type": "code",
   "execution_count": 54,
   "metadata": {},
   "outputs": [
    {
     "data": {
      "text/plain": [
       "array(['Suburb', 'Rooms', 'Type', 'Price', 'Distance', 'Bathroom', 'Car',\n",
       "       'CouncilArea', 'Postcode', 'Landsize', 'Regionname', 'AgeRange',\n",
       "       'price_mean_city', 'Date_Quarter'], dtype=object)"
      ]
     },
     "execution_count": 54,
     "metadata": {},
     "output_type": "execute_result"
    }
   ],
   "source": [
    "melb_df.columns.values"
   ]
  },
  {
   "cell_type": "code",
   "execution_count": 55,
   "metadata": {},
   "outputs": [],
   "source": [
    "categorical_cols = ['Suburb', 'Type', 'CouncilArea', 'Postcode', 'Regionname', 'Date_Quarter', 'AgeRange']\n",
    "numerical_cols = ['Rooms', 'Price', 'Distance', 'Bathroom', 'Car', 'Landsize', 'price_mean_city']"
   ]
  },
  {
   "cell_type": "markdown",
   "metadata": {},
   "source": [
    "Aplicamos OneHotEncoder sobre las variables categóricas"
   ]
  },
  {
   "cell_type": "code",
   "execution_count": 56,
   "metadata": {},
   "outputs": [],
   "source": [
    "from sklearn.preprocessing import OneHotEncoder\n",
    "\n",
    "new_cat_cols = []\n",
    "\n",
    "encoder = OneHotEncoder(handle_unknown='ignore', sparse=False)\n",
    "X = encoder.fit_transform(melb_df[categorical_cols])\n",
    "for col, col_values in zip(categorical_cols, encoder.categories_):\n",
    "    for col_value in col_values:\n",
    "        new_cat_cols.append('{}={}'.format(col, col_value))\n",
    "# Hacemos un DataFrame con las columnas encodeadas\n",
    "df_cat_enc = pd.DataFrame(X, columns = new_columns)"
   ]
  },
  {
   "cell_type": "markdown",
   "metadata": {},
   "source": [
    "Unimos datasets en uno solo"
   ]
  },
  {
   "cell_type": "code",
   "execution_count": 57,
   "metadata": {},
   "outputs": [],
   "source": [
    "melb_df_enc = np.hstack([melb_df[numerical_cols], df_cat_enc])\n",
    "df_cat_enc = np.hstack([numerical_cols, new_cat_cols])"
   ]
  },
  {
   "cell_type": "code",
   "execution_count": 59,
   "metadata": {},
   "outputs": [
    {
     "data": {
      "text/plain": [
       "(12956, 583)"
      ]
     },
     "execution_count": 59,
     "metadata": {},
     "output_type": "execute_result"
    }
   ],
   "source": [
    "melb_df_enc.shape"
   ]
  },
  {
   "cell_type": "code",
   "execution_count": 61,
   "metadata": {},
   "outputs": [
    {
     "data": {
      "text/html": [
       "<div>\n",
       "<style scoped>\n",
       "    .dataframe tbody tr th:only-of-type {\n",
       "        vertical-align: middle;\n",
       "    }\n",
       "\n",
       "    .dataframe tbody tr th {\n",
       "        vertical-align: top;\n",
       "    }\n",
       "\n",
       "    .dataframe thead th {\n",
       "        text-align: right;\n",
       "    }\n",
       "</style>\n",
       "<table border=\"1\" class=\"dataframe\">\n",
       "  <thead>\n",
       "    <tr style=\"text-align: right;\">\n",
       "      <th></th>\n",
       "      <th>Rooms</th>\n",
       "      <th>Price</th>\n",
       "      <th>Distance</th>\n",
       "      <th>Bathroom</th>\n",
       "      <th>Car</th>\n",
       "      <th>Landsize</th>\n",
       "      <th>price_mean_city</th>\n",
       "      <th>Suburb=Abbotsford</th>\n",
       "      <th>Suburb=Aberfeldie</th>\n",
       "      <th>Suburb=Airport West</th>\n",
       "      <th>...</th>\n",
       "      <th>AgeRange=[30-35)</th>\n",
       "      <th>AgeRange=[35-40)</th>\n",
       "      <th>AgeRange=[40-45)</th>\n",
       "      <th>AgeRange=[45-50)</th>\n",
       "      <th>AgeRange=[5-10)</th>\n",
       "      <th>AgeRange=[50-55)</th>\n",
       "      <th>AgeRange=[55-60)</th>\n",
       "      <th>AgeRange=[60-65)</th>\n",
       "      <th>AgeRange=[65-70)</th>\n",
       "      <th>AgeRange=[&gt;70)</th>\n",
       "    </tr>\n",
       "  </thead>\n",
       "  <tbody>\n",
       "    <tr>\n",
       "      <th>0</th>\n",
       "      <td>2.0</td>\n",
       "      <td>1480000.0</td>\n",
       "      <td>2.5</td>\n",
       "      <td>1.0</td>\n",
       "      <td>1.0</td>\n",
       "      <td>202.0</td>\n",
       "      <td>121.34</td>\n",
       "      <td>1.0</td>\n",
       "      <td>0.0</td>\n",
       "      <td>0.0</td>\n",
       "      <td>...</td>\n",
       "      <td>0.0</td>\n",
       "      <td>0.0</td>\n",
       "      <td>0.0</td>\n",
       "      <td>0.0</td>\n",
       "      <td>0.0</td>\n",
       "      <td>0.0</td>\n",
       "      <td>0.0</td>\n",
       "      <td>0.0</td>\n",
       "      <td>0.0</td>\n",
       "      <td>0.0</td>\n",
       "    </tr>\n",
       "    <tr>\n",
       "      <th>1</th>\n",
       "      <td>2.0</td>\n",
       "      <td>1035000.0</td>\n",
       "      <td>2.5</td>\n",
       "      <td>1.0</td>\n",
       "      <td>0.0</td>\n",
       "      <td>156.0</td>\n",
       "      <td>121.34</td>\n",
       "      <td>1.0</td>\n",
       "      <td>0.0</td>\n",
       "      <td>0.0</td>\n",
       "      <td>...</td>\n",
       "      <td>0.0</td>\n",
       "      <td>0.0</td>\n",
       "      <td>0.0</td>\n",
       "      <td>0.0</td>\n",
       "      <td>0.0</td>\n",
       "      <td>0.0</td>\n",
       "      <td>0.0</td>\n",
       "      <td>0.0</td>\n",
       "      <td>0.0</td>\n",
       "      <td>1.0</td>\n",
       "    </tr>\n",
       "    <tr>\n",
       "      <th>2</th>\n",
       "      <td>3.0</td>\n",
       "      <td>1465000.0</td>\n",
       "      <td>2.5</td>\n",
       "      <td>2.0</td>\n",
       "      <td>0.0</td>\n",
       "      <td>134.0</td>\n",
       "      <td>121.34</td>\n",
       "      <td>1.0</td>\n",
       "      <td>0.0</td>\n",
       "      <td>0.0</td>\n",
       "      <td>...</td>\n",
       "      <td>0.0</td>\n",
       "      <td>0.0</td>\n",
       "      <td>0.0</td>\n",
       "      <td>0.0</td>\n",
       "      <td>0.0</td>\n",
       "      <td>0.0</td>\n",
       "      <td>0.0</td>\n",
       "      <td>0.0</td>\n",
       "      <td>0.0</td>\n",
       "      <td>1.0</td>\n",
       "    </tr>\n",
       "    <tr>\n",
       "      <th>3</th>\n",
       "      <td>3.0</td>\n",
       "      <td>850000.0</td>\n",
       "      <td>2.5</td>\n",
       "      <td>2.0</td>\n",
       "      <td>1.0</td>\n",
       "      <td>94.0</td>\n",
       "      <td>121.34</td>\n",
       "      <td>1.0</td>\n",
       "      <td>0.0</td>\n",
       "      <td>0.0</td>\n",
       "      <td>...</td>\n",
       "      <td>0.0</td>\n",
       "      <td>0.0</td>\n",
       "      <td>0.0</td>\n",
       "      <td>0.0</td>\n",
       "      <td>0.0</td>\n",
       "      <td>0.0</td>\n",
       "      <td>0.0</td>\n",
       "      <td>0.0</td>\n",
       "      <td>0.0</td>\n",
       "      <td>0.0</td>\n",
       "    </tr>\n",
       "    <tr>\n",
       "      <th>4</th>\n",
       "      <td>4.0</td>\n",
       "      <td>1600000.0</td>\n",
       "      <td>2.5</td>\n",
       "      <td>1.0</td>\n",
       "      <td>2.0</td>\n",
       "      <td>120.0</td>\n",
       "      <td>121.34</td>\n",
       "      <td>1.0</td>\n",
       "      <td>0.0</td>\n",
       "      <td>0.0</td>\n",
       "      <td>...</td>\n",
       "      <td>0.0</td>\n",
       "      <td>0.0</td>\n",
       "      <td>0.0</td>\n",
       "      <td>0.0</td>\n",
       "      <td>0.0</td>\n",
       "      <td>0.0</td>\n",
       "      <td>0.0</td>\n",
       "      <td>0.0</td>\n",
       "      <td>0.0</td>\n",
       "      <td>0.0</td>\n",
       "    </tr>\n",
       "    <tr>\n",
       "      <th>...</th>\n",
       "      <td>...</td>\n",
       "      <td>...</td>\n",
       "      <td>...</td>\n",
       "      <td>...</td>\n",
       "      <td>...</td>\n",
       "      <td>...</td>\n",
       "      <td>...</td>\n",
       "      <td>...</td>\n",
       "      <td>...</td>\n",
       "      <td>...</td>\n",
       "      <td>...</td>\n",
       "      <td>...</td>\n",
       "      <td>...</td>\n",
       "      <td>...</td>\n",
       "      <td>...</td>\n",
       "      <td>...</td>\n",
       "      <td>...</td>\n",
       "      <td>...</td>\n",
       "      <td>...</td>\n",
       "      <td>...</td>\n",
       "      <td>...</td>\n",
       "    </tr>\n",
       "    <tr>\n",
       "      <th>12951</th>\n",
       "      <td>3.0</td>\n",
       "      <td>640000.0</td>\n",
       "      <td>16.5</td>\n",
       "      <td>2.0</td>\n",
       "      <td>2.0</td>\n",
       "      <td>607.0</td>\n",
       "      <td>91.22</td>\n",
       "      <td>0.0</td>\n",
       "      <td>0.0</td>\n",
       "      <td>0.0</td>\n",
       "      <td>...</td>\n",
       "      <td>0.0</td>\n",
       "      <td>0.0</td>\n",
       "      <td>0.0</td>\n",
       "      <td>0.0</td>\n",
       "      <td>0.0</td>\n",
       "      <td>0.0</td>\n",
       "      <td>0.0</td>\n",
       "      <td>0.0</td>\n",
       "      <td>0.0</td>\n",
       "      <td>0.0</td>\n",
       "    </tr>\n",
       "    <tr>\n",
       "      <th>12952</th>\n",
       "      <td>3.0</td>\n",
       "      <td>366000.0</td>\n",
       "      <td>44.2</td>\n",
       "      <td>1.0</td>\n",
       "      <td>1.0</td>\n",
       "      <td>502.0</td>\n",
       "      <td>121.34</td>\n",
       "      <td>0.0</td>\n",
       "      <td>0.0</td>\n",
       "      <td>0.0</td>\n",
       "      <td>...</td>\n",
       "      <td>0.0</td>\n",
       "      <td>1.0</td>\n",
       "      <td>0.0</td>\n",
       "      <td>0.0</td>\n",
       "      <td>0.0</td>\n",
       "      <td>0.0</td>\n",
       "      <td>0.0</td>\n",
       "      <td>0.0</td>\n",
       "      <td>0.0</td>\n",
       "      <td>0.0</td>\n",
       "    </tr>\n",
       "    <tr>\n",
       "      <th>12953</th>\n",
       "      <td>5.0</td>\n",
       "      <td>1355000.0</td>\n",
       "      <td>48.1</td>\n",
       "      <td>3.0</td>\n",
       "      <td>5.0</td>\n",
       "      <td>44500.0</td>\n",
       "      <td>121.34</td>\n",
       "      <td>0.0</td>\n",
       "      <td>0.0</td>\n",
       "      <td>0.0</td>\n",
       "      <td>...</td>\n",
       "      <td>0.0</td>\n",
       "      <td>0.0</td>\n",
       "      <td>0.0</td>\n",
       "      <td>0.0</td>\n",
       "      <td>0.0</td>\n",
       "      <td>0.0</td>\n",
       "      <td>0.0</td>\n",
       "      <td>0.0</td>\n",
       "      <td>0.0</td>\n",
       "      <td>0.0</td>\n",
       "    </tr>\n",
       "    <tr>\n",
       "      <th>12954</th>\n",
       "      <td>4.0</td>\n",
       "      <td>625500.0</td>\n",
       "      <td>23.8</td>\n",
       "      <td>2.0</td>\n",
       "      <td>2.0</td>\n",
       "      <td>477.0</td>\n",
       "      <td>90.62</td>\n",
       "      <td>0.0</td>\n",
       "      <td>0.0</td>\n",
       "      <td>0.0</td>\n",
       "      <td>...</td>\n",
       "      <td>0.0</td>\n",
       "      <td>0.0</td>\n",
       "      <td>0.0</td>\n",
       "      <td>0.0</td>\n",
       "      <td>1.0</td>\n",
       "      <td>0.0</td>\n",
       "      <td>0.0</td>\n",
       "      <td>0.0</td>\n",
       "      <td>0.0</td>\n",
       "      <td>0.0</td>\n",
       "    </tr>\n",
       "    <tr>\n",
       "      <th>12955</th>\n",
       "      <td>4.0</td>\n",
       "      <td>720000.0</td>\n",
       "      <td>34.1</td>\n",
       "      <td>2.0</td>\n",
       "      <td>2.0</td>\n",
       "      <td>1611.0</td>\n",
       "      <td>173.13</td>\n",
       "      <td>0.0</td>\n",
       "      <td>0.0</td>\n",
       "      <td>0.0</td>\n",
       "      <td>...</td>\n",
       "      <td>0.0</td>\n",
       "      <td>0.0</td>\n",
       "      <td>0.0</td>\n",
       "      <td>0.0</td>\n",
       "      <td>0.0</td>\n",
       "      <td>0.0</td>\n",
       "      <td>0.0</td>\n",
       "      <td>0.0</td>\n",
       "      <td>0.0</td>\n",
       "      <td>0.0</td>\n",
       "    </tr>\n",
       "  </tbody>\n",
       "</table>\n",
       "<p>12956 rows × 583 columns</p>\n",
       "</div>"
      ],
      "text/plain": [
       "       Rooms      Price  Distance  Bathroom  Car  Landsize  price_mean_city  \\\n",
       "0        2.0  1480000.0       2.5       1.0  1.0     202.0           121.34   \n",
       "1        2.0  1035000.0       2.5       1.0  0.0     156.0           121.34   \n",
       "2        3.0  1465000.0       2.5       2.0  0.0     134.0           121.34   \n",
       "3        3.0   850000.0       2.5       2.0  1.0      94.0           121.34   \n",
       "4        4.0  1600000.0       2.5       1.0  2.0     120.0           121.34   \n",
       "...      ...        ...       ...       ...  ...       ...              ...   \n",
       "12951    3.0   640000.0      16.5       2.0  2.0     607.0            91.22   \n",
       "12952    3.0   366000.0      44.2       1.0  1.0     502.0           121.34   \n",
       "12953    5.0  1355000.0      48.1       3.0  5.0   44500.0           121.34   \n",
       "12954    4.0   625500.0      23.8       2.0  2.0     477.0            90.62   \n",
       "12955    4.0   720000.0      34.1       2.0  2.0    1611.0           173.13   \n",
       "\n",
       "       Suburb=Abbotsford  Suburb=Aberfeldie  Suburb=Airport West  ...  \\\n",
       "0                    1.0                0.0                  0.0  ...   \n",
       "1                    1.0                0.0                  0.0  ...   \n",
       "2                    1.0                0.0                  0.0  ...   \n",
       "3                    1.0                0.0                  0.0  ...   \n",
       "4                    1.0                0.0                  0.0  ...   \n",
       "...                  ...                ...                  ...  ...   \n",
       "12951                0.0                0.0                  0.0  ...   \n",
       "12952                0.0                0.0                  0.0  ...   \n",
       "12953                0.0                0.0                  0.0  ...   \n",
       "12954                0.0                0.0                  0.0  ...   \n",
       "12955                0.0                0.0                  0.0  ...   \n",
       "\n",
       "       AgeRange=[30-35)  AgeRange=[35-40)  AgeRange=[40-45)  AgeRange=[45-50)  \\\n",
       "0                   0.0               0.0               0.0               0.0   \n",
       "1                   0.0               0.0               0.0               0.0   \n",
       "2                   0.0               0.0               0.0               0.0   \n",
       "3                   0.0               0.0               0.0               0.0   \n",
       "4                   0.0               0.0               0.0               0.0   \n",
       "...                 ...               ...               ...               ...   \n",
       "12951               0.0               0.0               0.0               0.0   \n",
       "12952               0.0               1.0               0.0               0.0   \n",
       "12953               0.0               0.0               0.0               0.0   \n",
       "12954               0.0               0.0               0.0               0.0   \n",
       "12955               0.0               0.0               0.0               0.0   \n",
       "\n",
       "       AgeRange=[5-10)  AgeRange=[50-55)  AgeRange=[55-60)  AgeRange=[60-65)  \\\n",
       "0                  0.0               0.0               0.0               0.0   \n",
       "1                  0.0               0.0               0.0               0.0   \n",
       "2                  0.0               0.0               0.0               0.0   \n",
       "3                  0.0               0.0               0.0               0.0   \n",
       "4                  0.0               0.0               0.0               0.0   \n",
       "...                ...               ...               ...               ...   \n",
       "12951              0.0               0.0               0.0               0.0   \n",
       "12952              0.0               0.0               0.0               0.0   \n",
       "12953              0.0               0.0               0.0               0.0   \n",
       "12954              1.0               0.0               0.0               0.0   \n",
       "12955              0.0               0.0               0.0               0.0   \n",
       "\n",
       "       AgeRange=[65-70)  AgeRange=[>70)  \n",
       "0                   0.0             0.0  \n",
       "1                   0.0             1.0  \n",
       "2                   0.0             1.0  \n",
       "3                   0.0             0.0  \n",
       "4                   0.0             0.0  \n",
       "...                 ...             ...  \n",
       "12951               0.0             0.0  \n",
       "12952               0.0             0.0  \n",
       "12953               0.0             0.0  \n",
       "12954               0.0             0.0  \n",
       "12955               0.0             0.0  \n",
       "\n",
       "[12956 rows x 583 columns]"
      ]
     },
     "execution_count": 61,
     "metadata": {},
     "output_type": "execute_result"
    }
   ],
   "source": [
    "pd.DataFrame(melb_df_enc, columns=df_cat_enc)"
   ]
  },
  {
   "cell_type": "code",
   "execution_count": null,
   "metadata": {},
   "outputs": [],
   "source": []
  },
  {
   "cell_type": "code",
   "execution_count": null,
   "metadata": {},
   "outputs": [],
   "source": []
  },
  {
   "cell_type": "code",
   "execution_count": null,
   "metadata": {},
   "outputs": [],
   "source": []
  },
  {
   "cell_type": "code",
   "execution_count": null,
   "metadata": {},
   "outputs": [],
   "source": []
  },
  {
   "cell_type": "markdown",
   "metadata": {
    "id": "ismngxPcfoWb"
   },
   "source": [
    "## Ejercicio 2: Imputación por KNN\n",
    "\n",
    "En el teórico se presentó el método `IterativeImputer` para imputar valores faltantes en variables numéricas. Sin embargo, los ejemplos presentados sólo utilizaban algunas variables numéricas presentes en el conjunto de datos. En este ejercicio, utilizaremos la matriz de datos codificada para imputar datos faltantes de manera más precisa.\n",
    "\n",
    "1. Agregue a la matriz obtenida en el punto anterior las columnas `YearBuilt` y `BuildingArea`.\n",
    "2. Aplique una instancia de `IterativeImputer` con un estimador `KNeighborsRegressor` para imputar los valores de las variables. ¿Es necesario estandarizar o escalar los datos previamente?\n",
    "3. Realice un gráfico mostrando la distribución de cada variable antes de ser imputada, y con ambos métodos de imputación."
   ]
  },
  {
   "cell_type": "code",
   "execution_count": null,
   "metadata": {
    "colab": {
     "base_uri": "https://localhost:8080/"
    },
    "executionInfo": {
     "elapsed": 42,
     "status": "ok",
     "timestamp": 1626999957852,
     "user": {
      "displayName": "María Belén Acotto",
      "photoUrl": "https://lh3.googleusercontent.com/a-/AOh14GgxTl0geb_R3SIr4AA6LSVxhUsOjZdbmESuiHF-wOs=s64",
      "userId": "02753886766132213766"
     },
     "user_tz": 180
    },
    "id": "G4ClSr_JapCw",
    "outputId": "b0f5230c-c6ce-4103-cb6a-d264ff11d1bc"
   },
   "outputs": [],
   "source": [
    "from sklearn.experimental import enable_iterative_imputer\n",
    "from sklearn.neighbors import KNeighborsRegressor\n",
    "from sklearn.impute import IterativeImputer\n",
    "\n",
    "melb_data_mice = melb_df.copy(deep=True)\n",
    "\n",
    "mice_imputer = IterativeImputer(random_state=0, estimator=KNeighborsRegressor())\n",
    "melb_data_mice[['YearBuilt','BuildingArea']] = mice_imputer.fit_transform(\n",
    "    melb_data_mice[['YearBuilt', 'BuildingArea']])"
   ]
  },
  {
   "cell_type": "markdown",
   "metadata": {
    "id": "ImjXQZUbVoKH"
   },
   "source": [
    "Ejemplo de gráfico comparando las distribuciones de datos obtenidas con cada método de imputación."
   ]
  },
  {
   "cell_type": "code",
   "execution_count": null,
   "metadata": {
    "colab": {
     "base_uri": "https://localhost:8080/",
     "height": 354
    },
    "executionInfo": {
     "elapsed": 462,
     "status": "ok",
     "timestamp": 1626999958280,
     "user": {
      "displayName": "María Belén Acotto",
      "photoUrl": "https://lh3.googleusercontent.com/a-/AOh14GgxTl0geb_R3SIr4AA6LSVxhUsOjZdbmESuiHF-wOs=s64",
      "userId": "02753886766132213766"
     },
     "user_tz": 180
    },
    "id": "PMK1ktqYQTJK",
    "outputId": "d7f72a35-820c-49da-f523-11a774f09d2d"
   },
   "outputs": [],
   "source": [
    "mice_year_built = melb_data_mice.YearBuilt.to_frame()\n",
    "mice_year_built['Imputation'] = 'KNN over YearBuilt and BuildingArea'\n",
    "melb_year_build = melb_df.YearBuilt.dropna().to_frame()\n",
    "melb_year_build['Imputation'] = 'Original'\n",
    "data = pandas.concat([mice_year_built, melb_year_build])\n",
    "fig = plt.figure(figsize=(8, 5))\n",
    "g = seaborn.kdeplot(data=data, x='YearBuilt', hue='Imputation')"
   ]
  },
  {
   "cell_type": "markdown",
   "metadata": {
    "id": "NBN7-5OIxjJW"
   },
   "source": [
    "## Ejercicio 3: Reducción de dimensionalidad.\n",
    "\n",
    "Utilizando la matriz obtenida en el ejercicio anterior:\n",
    "1. Aplique `PCA` para obtener $n$ componentes principales de la matriz, donde `n = min(20, X.shape[0])`. ¿Es necesario estandarizar o escalar los datos?\n",
    "2. Grafique la varianza capturada por los primeros $n$ componentes principales, para cada $n$.\n",
    "3. En base al gráfico, seleccione las primeras $m$ columnas de la matriz transformada para agregar como nuevas características al conjunto de datos."
   ]
  },
  {
   "cell_type": "markdown",
   "metadata": {
    "id": "WrZTYmG_ZyDy"
   },
   "source": [
    "## Ejercicio 4: Composición del resultado\n",
    "\n",
    "Transformar nuevamente el conjunto de datos procesado en un `pandas.DataFrame` y guardarlo en un archivo.\n",
    "\n",
    "Para eso, será necesario recordar el nombre original de cada columna de la matriz, en el orden correcto. Tener en cuenta:\n",
    "1. El método `OneHotEncoder.get_feature_names` o el atributo `OneHotEncoder.categories_` permiten obtener una lista con los valores de la categoría que le corresponde a cada índice de la matriz.\n",
    "2. Ninguno de los métodos aplicados intercambia de lugar las columnas o las filas de la matriz."
   ]
  },
  {
   "cell_type": "code",
   "execution_count": null,
   "metadata": {
    "colab": {
     "base_uri": "https://localhost:8080/",
     "height": 291
    },
    "executionInfo": {
     "elapsed": 20,
     "status": "ok",
     "timestamp": 1626999958289,
     "user": {
      "displayName": "María Belén Acotto",
      "photoUrl": "https://lh3.googleusercontent.com/a-/AOh14GgxTl0geb_R3SIr4AA6LSVxhUsOjZdbmESuiHF-wOs=s64",
      "userId": "02753886766132213766"
     },
     "user_tz": 180
    },
    "id": "DfchYPgTxvQ4",
    "outputId": "470c10ff-6884-4f7b-f5f0-69d0c409b5ad"
   },
   "outputs": [],
   "source": [
    "## Small example\n",
    "from sklearn.decomposition import PCA\n",
    "from sklearn.preprocessing import OneHotEncoder\n",
    "\n",
    "## If we process our data with the following steps:\n",
    "categorical_cols = ['Type', 'Regionname']\n",
    "numerical_cols = ['Rooms', 'Distance']\n",
    "new_columns = []\n",
    "\n",
    "# Step 1: encode categorical columns\n",
    "encoder = OneHotEncoder(handle_unknown='ignore', sparse=False)\n",
    "X_cat = encoder.fit_transform(melb_df[categorical_cols])\n",
    "for col, col_values in zip(categorical_cols, encoder.categories_):\n",
    "  for col_value in col_values:\n",
    "    new_columns.append('{}={}'.format(col, col_value))\n",
    "print(\"Matrix has shape {}, with columns: {}\".format(X_cat.shape, new_columns))\n",
    "\n",
    "# Step 2: Append the numerical columns\n",
    "X = numpy.hstack([X_cat, melb_df[numerical_cols].values])\n",
    "new_columns.extend(numerical_cols)\n",
    "print(\"Matrix has shape {}, with columns: {}\".format(X_cat.shape, new_columns))\n",
    "\n",
    "# Step 3: Append some new features, like PCA\n",
    "pca = PCA(n_components=2)\n",
    "pca_dummy_features = pca.fit_transform(X)\n",
    "X_pca = numpy.hstack([X, pca_dummy_features])\n",
    "new_columns.extend(['pca1', 'pca2'])\n",
    "\n",
    "## Re-build dataframe\n",
    "processed_melb_df = pandas.DataFrame(data=X_pca, columns=new_columns)\n",
    "processed_melb_df.head()"
   ]
  },
  {
   "cell_type": "markdown",
   "metadata": {
    "id": "mVBLFc8PhRtW"
   },
   "source": [
    "## Ejercicio 5: Documentación\n",
    "\n",
    "En un documento `.pdf` o `.md` realizar un reporte de las operaciones que realizaron para obtener el conjunto de datos final. Se debe incluir:\n",
    "  1. Criterios de exclusión (o inclusión) de filas\n",
    "  2. Interpretación de las columnas presentes\n",
    "  2. Todas las transofrmaciones realizadas\n",
    "\n",
    "Este documento es de uso técnico exclusivamente, y su objetivo es permitir que otres desarrolladores puedan reproducir los mismos pasos y obtener el mismo resultado. Debe ser detallado pero consiso. Por ejemplo:\n",
    "\n",
    "```\n",
    "  ## Criterios de exclusión de ejemplos\n",
    "  1. Se eliminan ejemplos donde el año de construcción es previo a 1900\n",
    "\n",
    "  ## Características seleccionadas\n",
    "  ### Características categóricas\n",
    "  1. Type: tipo de propiedad. 3 valores posibles\n",
    "  2. ...\n",
    "  Todas las características categóricas fueron codificadas con un\n",
    "  método OneHotEncoding utilizando como máximo sus 30 valores más \n",
    "  frecuentes.\n",
    "  \n",
    "  ### Características numéricas\n",
    "  1. Rooms: Cantidad de habitaciones\n",
    "  2. Distance: Distancia al centro de la ciudad.\n",
    "  3. airbnb_mean_price: Se agrega el precio promedio diario de \n",
    "     publicaciones de la plataforma AirBnB en el mismo código \n",
    "     postal. [Link al repositorio con datos externos].\n",
    "\n",
    "  ### Transformaciones:\n",
    "  1. Todas las características numéricas fueron estandarizadas.\n",
    "  2. La columna `Suburb` fue imputada utilizando el método ...\n",
    "  3. Las columnas `YearBuilt` y ... fueron imputadas utilizando el \n",
    "     algoritmo ...\n",
    "  4. ...\n",
    "\n",
    "  ### Datos aumentados\n",
    "  1. Se agregan las 5 primeras columnas obtenidas a través del\n",
    "     método de PCA, aplicado sobre el conjunto de datos\n",
    "     totalmente procesado.\n",
    "```\n"
   ]
  },
  {
   "cell_type": "markdown",
   "metadata": {
    "id": "Bq7nuPg2HIYx"
   },
   "source": []
  }
 ],
 "metadata": {
  "colab": {
   "collapsed_sections": [],
   "name": "Entregable_Parte_2.ipynb",
   "provenance": [
    {
     "file_id": "https://github.com/DiploDatos/AnalisisYCuracion/blob/master/Entregable_Parte_2.ipynb",
     "timestamp": 1624573037242
    }
   ]
  },
  "kernelspec": {
   "display_name": "Python 3",
   "language": "python",
   "name": "python3"
  },
  "language_info": {
   "codemirror_mode": {
    "name": "ipython",
    "version": 3
   },
   "file_extension": ".py",
   "mimetype": "text/x-python",
   "name": "python",
   "nbconvert_exporter": "python",
   "pygments_lexer": "ipython3",
   "version": "3.8.8"
  }
 },
 "nbformat": 4,
 "nbformat_minor": 4
}
