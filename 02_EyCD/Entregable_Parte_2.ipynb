{
 "cells": [
  {
   "cell_type": "markdown",
   "metadata": {
    "id": "zO4bRoxr2Apy"
   },
   "source": [
    "**Diplomatura en Ciencia de Datos, Aprendizaje Automático y sus Aplicaciones**\n",
    "\n",
    "**Exploración y Curación de Datos**\n",
    "\n",
    "*Edición 2021*\n",
    "\n",
    "----"
   ]
  },
  {
   "cell_type": "markdown",
   "metadata": {
    "id": "zO4bRoxr2Apy",
    "tags": []
   },
   "source": [
    "# TRABAJO PRÁCTICO ENTREGABLE - PARTE I\n",
    "\n",
    "## INTEGRANTES DEL GRUPO IV:\n",
    "*   María Belén Acotto\n",
    "*   Elías Ferreyra\n",
    "*   Juan Ignacio Barrionuevo Galtier\n",
    "*   Oscar Alejandro Oviedo\n",
    "*   Gonzalo Heredia Edelstein\n",
    "\n",
    "---"
   ]
  },
  {
   "cell_type": "markdown",
   "metadata": {
    "id": "zO4bRoxr2Apy"
   },
   "source": [
    "# Trabajo práctico entregable - parte 2\n",
    "\n",
    "\n",
    "En el ejercicio 1 de la parte 1 del entregable seleccionaron las filas y columnas relevantes al problema de predicción de precios de una propiedad. Además de ello, tuvieron que reducir el número de valores posibles para las variables categóricas utilizando información de dominio.\n",
    "\n",
    "En el ejercicio 2 de la parte 1 del entregable imputaron los valores faltantes de las columnas `Suburb` y las columnas obtenidas a partir del conjunto de datos `airbnb`.\n",
    "\n",
    "En esta notebook, **se utilizará resultado de dichas operaciones.**"
   ]
  },
  {
   "cell_type": "code",
   "execution_count": 1,
   "metadata": {
    "executionInfo": {
     "elapsed": 962,
     "status": "ok",
     "timestamp": 1626999954521,
     "user": {
      "displayName": "María Belén Acotto",
      "photoUrl": "https://lh3.googleusercontent.com/a-/AOh14GgxTl0geb_R3SIr4AA6LSVxhUsOjZdbmESuiHF-wOs=s64",
      "userId": "02753886766132213766"
     },
     "user_tz": 180
    },
    "id": "4udjxjk1EtVU"
   },
   "outputs": [],
   "source": [
    "import matplotlib.pyplot as plt\n",
    "import numpy as np\n",
    "import pandas as pd\n",
    "\n",
    "import seaborn as sns\n",
    "sns.set_context('talk')"
   ]
  },
  {
   "cell_type": "code",
   "execution_count": 2,
   "metadata": {
    "colab": {
     "base_uri": "https://localhost:8080/",
     "height": 227
    },
    "executionInfo": {
     "elapsed": 3331,
     "status": "ok",
     "timestamp": 1626999957840,
     "user": {
      "displayName": "María Belén Acotto",
      "photoUrl": "https://lh3.googleusercontent.com/a-/AOh14GgxTl0geb_R3SIr4AA6LSVxhUsOjZdbmESuiHF-wOs=s64",
      "userId": "02753886766132213766"
     },
     "user_tz": 180
    },
    "id": "_qeFN3GnEvMk",
    "outputId": "a8c40b0a-fd96-418c-9bef-4833b318b65a"
   },
   "outputs": [
    {
     "data": {
      "text/html": [
       "<div>\n",
       "<style scoped>\n",
       "    .dataframe tbody tr th:only-of-type {\n",
       "        vertical-align: middle;\n",
       "    }\n",
       "\n",
       "    .dataframe tbody tr th {\n",
       "        vertical-align: top;\n",
       "    }\n",
       "\n",
       "    .dataframe thead th {\n",
       "        text-align: right;\n",
       "    }\n",
       "</style>\n",
       "<table border=\"1\" class=\"dataframe\">\n",
       "  <thead>\n",
       "    <tr style=\"text-align: right;\">\n",
       "      <th></th>\n",
       "      <th>Suburb</th>\n",
       "      <th>Rooms</th>\n",
       "      <th>Type</th>\n",
       "      <th>Price</th>\n",
       "      <th>Date</th>\n",
       "      <th>Distance</th>\n",
       "      <th>Bathroom</th>\n",
       "      <th>Car</th>\n",
       "      <th>CouncilArea</th>\n",
       "      <th>Postcode</th>\n",
       "      <th>Lattitude</th>\n",
       "      <th>Longtitude</th>\n",
       "      <th>Landsize</th>\n",
       "      <th>BuildingArea</th>\n",
       "      <th>YearBuilt</th>\n",
       "      <th>Regionname</th>\n",
       "      <th>AgeRange</th>\n",
       "      <th>price_mean_city</th>\n",
       "    </tr>\n",
       "  </thead>\n",
       "  <tbody>\n",
       "    <tr>\n",
       "      <th>0</th>\n",
       "      <td>Abbotsford</td>\n",
       "      <td>2</td>\n",
       "      <td>h</td>\n",
       "      <td>1480000.0</td>\n",
       "      <td>2016-03-12</td>\n",
       "      <td>2.5</td>\n",
       "      <td>1.0</td>\n",
       "      <td>1.0</td>\n",
       "      <td>Yarra</td>\n",
       "      <td>3067</td>\n",
       "      <td>-37.7996</td>\n",
       "      <td>144.9984</td>\n",
       "      <td>202.0</td>\n",
       "      <td>NaN</td>\n",
       "      <td>NaN</td>\n",
       "      <td>North</td>\n",
       "      <td>S/D</td>\n",
       "      <td>121.34</td>\n",
       "    </tr>\n",
       "    <tr>\n",
       "      <th>1</th>\n",
       "      <td>Abbotsford</td>\n",
       "      <td>2</td>\n",
       "      <td>h</td>\n",
       "      <td>1035000.0</td>\n",
       "      <td>2016-04-02</td>\n",
       "      <td>2.5</td>\n",
       "      <td>1.0</td>\n",
       "      <td>0.0</td>\n",
       "      <td>Yarra</td>\n",
       "      <td>3067</td>\n",
       "      <td>-37.8079</td>\n",
       "      <td>144.9934</td>\n",
       "      <td>156.0</td>\n",
       "      <td>79.0</td>\n",
       "      <td>1900.0</td>\n",
       "      <td>North</td>\n",
       "      <td>[&gt;70)</td>\n",
       "      <td>121.34</td>\n",
       "    </tr>\n",
       "    <tr>\n",
       "      <th>2</th>\n",
       "      <td>Abbotsford</td>\n",
       "      <td>3</td>\n",
       "      <td>h</td>\n",
       "      <td>1465000.0</td>\n",
       "      <td>2017-04-03</td>\n",
       "      <td>2.5</td>\n",
       "      <td>2.0</td>\n",
       "      <td>0.0</td>\n",
       "      <td>Yarra</td>\n",
       "      <td>3067</td>\n",
       "      <td>-37.8093</td>\n",
       "      <td>144.9944</td>\n",
       "      <td>134.0</td>\n",
       "      <td>150.0</td>\n",
       "      <td>1900.0</td>\n",
       "      <td>North</td>\n",
       "      <td>[&gt;70)</td>\n",
       "      <td>121.34</td>\n",
       "    </tr>\n",
       "  </tbody>\n",
       "</table>\n",
       "</div>"
      ],
      "text/plain": [
       "       Suburb  Rooms Type      Price        Date  Distance  Bathroom  Car  \\\n",
       "0  Abbotsford      2    h  1480000.0  2016-03-12       2.5       1.0  1.0   \n",
       "1  Abbotsford      2    h  1035000.0  2016-04-02       2.5       1.0  0.0   \n",
       "2  Abbotsford      3    h  1465000.0  2017-04-03       2.5       2.0  0.0   \n",
       "\n",
       "  CouncilArea  Postcode  Lattitude  Longtitude  Landsize  BuildingArea  \\\n",
       "0       Yarra      3067   -37.7996    144.9984     202.0           NaN   \n",
       "1       Yarra      3067   -37.8079    144.9934     156.0          79.0   \n",
       "2       Yarra      3067   -37.8093    144.9944     134.0         150.0   \n",
       "\n",
       "   YearBuilt Regionname AgeRange  price_mean_city  \n",
       "0        NaN      North      S/D           121.34  \n",
       "1     1900.0      North    [>70)           121.34  \n",
       "2     1900.0      North    [>70)           121.34  "
      ]
     },
     "execution_count": 2,
     "metadata": {},
     "output_type": "execute_result"
    }
   ],
   "source": [
    "# Acá deberían leer el conjunto de datos que ya tienen.\n",
    "melb_df_origin = pd.read_csv('datasets/melb_df_firt_part.csv')\n",
    "melb_df_origin[:3]"
   ]
  },
  {
   "cell_type": "code",
   "execution_count": 3,
   "metadata": {},
   "outputs": [
    {
     "data": {
      "text/plain": [
       "(12956, 18)"
      ]
     },
     "execution_count": 3,
     "metadata": {},
     "output_type": "execute_result"
    }
   ],
   "source": [
    "melb_df_origin.shape"
   ]
  },
  {
   "cell_type": "markdown",
   "metadata": {
    "id": "s-mixICN22kA"
   },
   "source": [
    "## Ejercicio 1: Encoding"
   ]
  },
  {
   "cell_type": "markdown",
   "metadata": {
    "id": "s-mixICN22kA"
   },
   "source": [
    "1. Seleccionar todas las filas y columnas del conjunto de datos obtenido en la parte 1 del entregable, **excepto** `BuildingArea` y `YearBuilt`, que volveremos a imputar más adelante.\n",
    "\n",
    "2. Aplicar una codificación One-hot encoding a cada fila, tanto para variables numéricas como categóricas. Si lo consideran necesario, pueden volver a reducir el número de categorías únicas.\n",
    "\n",
    "Algunas opciones:\n",
    "  1. Utilizar `OneHotEncoder` junto con el parámetro `categories` para las variables categóricas y luego usar `numpy.hstack` para concatenar el resultado con las variables numéricas. \n",
    "  2. `DictVectorizer` con algunos pasos de pre-proceso previo.\n",
    "\n",
    "Recordar también que el atributo `pandas.DataFrame.values` permite acceder a la matriz de numpy subyacente a un DataFrame."
   ]
  },
  {
   "cell_type": "markdown",
   "metadata": {},
   "source": [
    "### Selección de columnas"
   ]
  },
  {
   "cell_type": "code",
   "execution_count": 4,
   "metadata": {},
   "outputs": [
    {
     "data": {
      "text/html": [
       "<div>\n",
       "<style scoped>\n",
       "    .dataframe tbody tr th:only-of-type {\n",
       "        vertical-align: middle;\n",
       "    }\n",
       "\n",
       "    .dataframe tbody tr th {\n",
       "        vertical-align: top;\n",
       "    }\n",
       "\n",
       "    .dataframe thead th {\n",
       "        text-align: right;\n",
       "    }\n",
       "</style>\n",
       "<table border=\"1\" class=\"dataframe\">\n",
       "  <thead>\n",
       "    <tr style=\"text-align: right;\">\n",
       "      <th></th>\n",
       "      <th>Suburb</th>\n",
       "      <th>Rooms</th>\n",
       "      <th>Type</th>\n",
       "      <th>Price</th>\n",
       "      <th>Date</th>\n",
       "      <th>Distance</th>\n",
       "      <th>Bathroom</th>\n",
       "      <th>Car</th>\n",
       "      <th>CouncilArea</th>\n",
       "      <th>Postcode</th>\n",
       "      <th>Lattitude</th>\n",
       "      <th>Longtitude</th>\n",
       "      <th>Landsize</th>\n",
       "      <th>BuildingArea</th>\n",
       "      <th>YearBuilt</th>\n",
       "      <th>Regionname</th>\n",
       "      <th>AgeRange</th>\n",
       "      <th>price_mean_city</th>\n",
       "    </tr>\n",
       "  </thead>\n",
       "  <tbody>\n",
       "    <tr>\n",
       "      <th>0</th>\n",
       "      <td>Abbotsford</td>\n",
       "      <td>2</td>\n",
       "      <td>h</td>\n",
       "      <td>1480000.0</td>\n",
       "      <td>2016-03-12</td>\n",
       "      <td>2.5</td>\n",
       "      <td>1.0</td>\n",
       "      <td>1.0</td>\n",
       "      <td>Yarra</td>\n",
       "      <td>3067</td>\n",
       "      <td>-37.7996</td>\n",
       "      <td>144.9984</td>\n",
       "      <td>202.0</td>\n",
       "      <td>NaN</td>\n",
       "      <td>NaN</td>\n",
       "      <td>North</td>\n",
       "      <td>S/D</td>\n",
       "      <td>121.34</td>\n",
       "    </tr>\n",
       "    <tr>\n",
       "      <th>1</th>\n",
       "      <td>Abbotsford</td>\n",
       "      <td>2</td>\n",
       "      <td>h</td>\n",
       "      <td>1035000.0</td>\n",
       "      <td>2016-04-02</td>\n",
       "      <td>2.5</td>\n",
       "      <td>1.0</td>\n",
       "      <td>0.0</td>\n",
       "      <td>Yarra</td>\n",
       "      <td>3067</td>\n",
       "      <td>-37.8079</td>\n",
       "      <td>144.9934</td>\n",
       "      <td>156.0</td>\n",
       "      <td>79.0</td>\n",
       "      <td>1900.0</td>\n",
       "      <td>North</td>\n",
       "      <td>[&gt;70)</td>\n",
       "      <td>121.34</td>\n",
       "    </tr>\n",
       "    <tr>\n",
       "      <th>2</th>\n",
       "      <td>Abbotsford</td>\n",
       "      <td>3</td>\n",
       "      <td>h</td>\n",
       "      <td>1465000.0</td>\n",
       "      <td>2017-04-03</td>\n",
       "      <td>2.5</td>\n",
       "      <td>2.0</td>\n",
       "      <td>0.0</td>\n",
       "      <td>Yarra</td>\n",
       "      <td>3067</td>\n",
       "      <td>-37.8093</td>\n",
       "      <td>144.9944</td>\n",
       "      <td>134.0</td>\n",
       "      <td>150.0</td>\n",
       "      <td>1900.0</td>\n",
       "      <td>North</td>\n",
       "      <td>[&gt;70)</td>\n",
       "      <td>121.34</td>\n",
       "    </tr>\n",
       "    <tr>\n",
       "      <th>3</th>\n",
       "      <td>Abbotsford</td>\n",
       "      <td>3</td>\n",
       "      <td>h</td>\n",
       "      <td>850000.0</td>\n",
       "      <td>2017-04-03</td>\n",
       "      <td>2.5</td>\n",
       "      <td>2.0</td>\n",
       "      <td>1.0</td>\n",
       "      <td>Yarra</td>\n",
       "      <td>3067</td>\n",
       "      <td>-37.7969</td>\n",
       "      <td>144.9969</td>\n",
       "      <td>94.0</td>\n",
       "      <td>NaN</td>\n",
       "      <td>NaN</td>\n",
       "      <td>North</td>\n",
       "      <td>S/D</td>\n",
       "      <td>121.34</td>\n",
       "    </tr>\n",
       "    <tr>\n",
       "      <th>4</th>\n",
       "      <td>Abbotsford</td>\n",
       "      <td>4</td>\n",
       "      <td>h</td>\n",
       "      <td>1600000.0</td>\n",
       "      <td>2016-04-06</td>\n",
       "      <td>2.5</td>\n",
       "      <td>1.0</td>\n",
       "      <td>2.0</td>\n",
       "      <td>Yarra</td>\n",
       "      <td>3067</td>\n",
       "      <td>-37.8072</td>\n",
       "      <td>144.9941</td>\n",
       "      <td>120.0</td>\n",
       "      <td>142.0</td>\n",
       "      <td>2014.0</td>\n",
       "      <td>North</td>\n",
       "      <td>[0-5)</td>\n",
       "      <td>121.34</td>\n",
       "    </tr>\n",
       "  </tbody>\n",
       "</table>\n",
       "</div>"
      ],
      "text/plain": [
       "       Suburb  Rooms Type      Price        Date  Distance  Bathroom  Car  \\\n",
       "0  Abbotsford      2    h  1480000.0  2016-03-12       2.5       1.0  1.0   \n",
       "1  Abbotsford      2    h  1035000.0  2016-04-02       2.5       1.0  0.0   \n",
       "2  Abbotsford      3    h  1465000.0  2017-04-03       2.5       2.0  0.0   \n",
       "3  Abbotsford      3    h   850000.0  2017-04-03       2.5       2.0  1.0   \n",
       "4  Abbotsford      4    h  1600000.0  2016-04-06       2.5       1.0  2.0   \n",
       "\n",
       "  CouncilArea  Postcode  Lattitude  Longtitude  Landsize  BuildingArea  \\\n",
       "0       Yarra      3067   -37.7996    144.9984     202.0           NaN   \n",
       "1       Yarra      3067   -37.8079    144.9934     156.0          79.0   \n",
       "2       Yarra      3067   -37.8093    144.9944     134.0         150.0   \n",
       "3       Yarra      3067   -37.7969    144.9969      94.0           NaN   \n",
       "4       Yarra      3067   -37.8072    144.9941     120.0         142.0   \n",
       "\n",
       "   YearBuilt Regionname AgeRange  price_mean_city  \n",
       "0        NaN      North      S/D           121.34  \n",
       "1     1900.0      North    [>70)           121.34  \n",
       "2     1900.0      North    [>70)           121.34  \n",
       "3        NaN      North      S/D           121.34  \n",
       "4     2014.0      North    [0-5)           121.34  "
      ]
     },
     "execution_count": 4,
     "metadata": {},
     "output_type": "execute_result"
    }
   ],
   "source": [
    "melb_df = melb_df_origin.copy()\n",
    "melb_df.head()"
   ]
  },
  {
   "cell_type": "code",
   "execution_count": 5,
   "metadata": {},
   "outputs": [],
   "source": [
    "melb_df.drop(columns=['BuildingArea', 'YearBuilt'], inplace=True)"
   ]
  },
  {
   "cell_type": "markdown",
   "metadata": {},
   "source": [
    "Llegados a este punto, concluimos que por la cantidad de valores y distribución en las columnas **Lattitude** y **Longtitude**, y por los valores conceptuales de las variables, las mismas no las usaremos dentro de nuestro análisis. Se volverán a agregar si fuesen necesarias."
   ]
  },
  {
   "cell_type": "code",
   "execution_count": 6,
   "metadata": {},
   "outputs": [],
   "source": [
    "melb_df.drop(columns=['Lattitude', 'Longtitude'], inplace=True)"
   ]
  },
  {
   "cell_type": "code",
   "execution_count": 7,
   "metadata": {},
   "outputs": [
    {
     "data": {
      "text/plain": [
       "(12956, 14)"
      ]
     },
     "execution_count": 7,
     "metadata": {},
     "output_type": "execute_result"
    }
   ],
   "source": [
    "melb_df.shape"
   ]
  },
  {
   "cell_type": "markdown",
   "metadata": {},
   "source": [
    "### One-Hot Encoding"
   ]
  },
  {
   "cell_type": "markdown",
   "metadata": {},
   "source": [
    "#### Rápido Análisis"
   ]
  },
  {
   "cell_type": "code",
   "execution_count": 8,
   "metadata": {
    "tags": []
   },
   "outputs": [
    {
     "data": {
      "text/plain": [
       "Suburb              314\n",
       "Rooms                 9\n",
       "Type                  3\n",
       "Price              1945\n",
       "Date                 58\n",
       "Distance            202\n",
       "Bathroom              8\n",
       "Car                  11\n",
       "CouncilArea          33\n",
       "Postcode            198\n",
       "Landsize           1398\n",
       "Regionname            4\n",
       "AgeRange             16\n",
       "price_mean_city      31\n",
       "dtype: int64"
      ]
     },
     "execution_count": 8,
     "metadata": {},
     "output_type": "execute_result"
    }
   ],
   "source": [
    "melb_df.nunique()"
   ]
  },
  {
   "cell_type": "code",
   "execution_count": 9,
   "metadata": {
    "tags": []
   },
   "outputs": [
    {
     "data": {
      "text/plain": [
       "Suburb             0\n",
       "Rooms              0\n",
       "Type               0\n",
       "Price              0\n",
       "Date               0\n",
       "Distance           0\n",
       "Bathroom           0\n",
       "Car                0\n",
       "CouncilArea        0\n",
       "Postcode           0\n",
       "Landsize           0\n",
       "Regionname         0\n",
       "AgeRange           0\n",
       "price_mean_city    0\n",
       "dtype: int64"
      ]
     },
     "execution_count": 9,
     "metadata": {},
     "output_type": "execute_result"
    }
   ],
   "source": [
    "melb_df.isna().sum()"
   ]
  },
  {
   "cell_type": "code",
   "execution_count": 10,
   "metadata": {
    "tags": []
   },
   "outputs": [
    {
     "data": {
      "text/plain": [
       "array(['Suburb', 'Rooms', 'Type', 'Price', 'Date', 'Distance', 'Bathroom',\n",
       "       'Car', 'CouncilArea', 'Postcode', 'Landsize', 'Regionname',\n",
       "       'AgeRange', 'price_mean_city'], dtype=object)"
      ]
     },
     "execution_count": 10,
     "metadata": {},
     "output_type": "execute_result"
    }
   ],
   "source": [
    "melb_df.columns.values"
   ]
  },
  {
   "cell_type": "markdown",
   "metadata": {},
   "source": [
    "#### Re-Agrupaciones"
   ]
  },
  {
   "cell_type": "markdown",
   "metadata": {},
   "source": [
    "Como decidimos dejar la columna **Date**, la agruparemos para mostrar simplemente la fecha de venta pero dividido trimestralmente."
   ]
  },
  {
   "cell_type": "code",
   "execution_count": 11,
   "metadata": {},
   "outputs": [
    {
     "data": {
      "text/plain": [
       "<PeriodArray>\n",
       "['2016Q1', '2016Q2', '2017Q2', '2016Q3', '2016Q4', '2017Q1', '2017Q3',\n",
       " '2017Q4']\n",
       "Length: 8, dtype: period[Q-DEC]"
      ]
     },
     "execution_count": 11,
     "metadata": {},
     "output_type": "execute_result"
    }
   ],
   "source": [
    "#df['quarter'] = pd.PeriodIndex(df.date, freq='Q')\n",
    "melb_df['Date_Quarter'] = pd.PeriodIndex(melb_df.Date, freq='Q')\n",
    "melb_df.Date_Quarter.unique()"
   ]
  },
  {
   "cell_type": "markdown",
   "metadata": {},
   "source": [
    "Quedandonos con 8 categorías, borraremos la columna **Date**"
   ]
  },
  {
   "cell_type": "code",
   "execution_count": 12,
   "metadata": {},
   "outputs": [
    {
     "data": {
      "text/html": [
       "<div>\n",
       "<style scoped>\n",
       "    .dataframe tbody tr th:only-of-type {\n",
       "        vertical-align: middle;\n",
       "    }\n",
       "\n",
       "    .dataframe tbody tr th {\n",
       "        vertical-align: top;\n",
       "    }\n",
       "\n",
       "    .dataframe thead th {\n",
       "        text-align: right;\n",
       "    }\n",
       "</style>\n",
       "<table border=\"1\" class=\"dataframe\">\n",
       "  <thead>\n",
       "    <tr style=\"text-align: right;\">\n",
       "      <th></th>\n",
       "      <th>Suburb</th>\n",
       "      <th>Rooms</th>\n",
       "      <th>Type</th>\n",
       "      <th>Price</th>\n",
       "      <th>Distance</th>\n",
       "      <th>Bathroom</th>\n",
       "      <th>Car</th>\n",
       "      <th>CouncilArea</th>\n",
       "      <th>Postcode</th>\n",
       "      <th>Landsize</th>\n",
       "      <th>Regionname</th>\n",
       "      <th>AgeRange</th>\n",
       "      <th>price_mean_city</th>\n",
       "      <th>Date_Quarter</th>\n",
       "    </tr>\n",
       "  </thead>\n",
       "  <tbody>\n",
       "    <tr>\n",
       "      <th>0</th>\n",
       "      <td>Abbotsford</td>\n",
       "      <td>2</td>\n",
       "      <td>h</td>\n",
       "      <td>1480000.0</td>\n",
       "      <td>2.5</td>\n",
       "      <td>1.0</td>\n",
       "      <td>1.0</td>\n",
       "      <td>Yarra</td>\n",
       "      <td>3067</td>\n",
       "      <td>202.0</td>\n",
       "      <td>North</td>\n",
       "      <td>S/D</td>\n",
       "      <td>121.34</td>\n",
       "      <td>2016Q1</td>\n",
       "    </tr>\n",
       "    <tr>\n",
       "      <th>1</th>\n",
       "      <td>Abbotsford</td>\n",
       "      <td>2</td>\n",
       "      <td>h</td>\n",
       "      <td>1035000.0</td>\n",
       "      <td>2.5</td>\n",
       "      <td>1.0</td>\n",
       "      <td>0.0</td>\n",
       "      <td>Yarra</td>\n",
       "      <td>3067</td>\n",
       "      <td>156.0</td>\n",
       "      <td>North</td>\n",
       "      <td>[&gt;70)</td>\n",
       "      <td>121.34</td>\n",
       "      <td>2016Q2</td>\n",
       "    </tr>\n",
       "    <tr>\n",
       "      <th>2</th>\n",
       "      <td>Abbotsford</td>\n",
       "      <td>3</td>\n",
       "      <td>h</td>\n",
       "      <td>1465000.0</td>\n",
       "      <td>2.5</td>\n",
       "      <td>2.0</td>\n",
       "      <td>0.0</td>\n",
       "      <td>Yarra</td>\n",
       "      <td>3067</td>\n",
       "      <td>134.0</td>\n",
       "      <td>North</td>\n",
       "      <td>[&gt;70)</td>\n",
       "      <td>121.34</td>\n",
       "      <td>2017Q2</td>\n",
       "    </tr>\n",
       "    <tr>\n",
       "      <th>3</th>\n",
       "      <td>Abbotsford</td>\n",
       "      <td>3</td>\n",
       "      <td>h</td>\n",
       "      <td>850000.0</td>\n",
       "      <td>2.5</td>\n",
       "      <td>2.0</td>\n",
       "      <td>1.0</td>\n",
       "      <td>Yarra</td>\n",
       "      <td>3067</td>\n",
       "      <td>94.0</td>\n",
       "      <td>North</td>\n",
       "      <td>S/D</td>\n",
       "      <td>121.34</td>\n",
       "      <td>2017Q2</td>\n",
       "    </tr>\n",
       "    <tr>\n",
       "      <th>4</th>\n",
       "      <td>Abbotsford</td>\n",
       "      <td>4</td>\n",
       "      <td>h</td>\n",
       "      <td>1600000.0</td>\n",
       "      <td>2.5</td>\n",
       "      <td>1.0</td>\n",
       "      <td>2.0</td>\n",
       "      <td>Yarra</td>\n",
       "      <td>3067</td>\n",
       "      <td>120.0</td>\n",
       "      <td>North</td>\n",
       "      <td>[0-5)</td>\n",
       "      <td>121.34</td>\n",
       "      <td>2016Q2</td>\n",
       "    </tr>\n",
       "  </tbody>\n",
       "</table>\n",
       "</div>"
      ],
      "text/plain": [
       "       Suburb  Rooms Type      Price  Distance  Bathroom  Car CouncilArea  \\\n",
       "0  Abbotsford      2    h  1480000.0       2.5       1.0  1.0       Yarra   \n",
       "1  Abbotsford      2    h  1035000.0       2.5       1.0  0.0       Yarra   \n",
       "2  Abbotsford      3    h  1465000.0       2.5       2.0  0.0       Yarra   \n",
       "3  Abbotsford      3    h   850000.0       2.5       2.0  1.0       Yarra   \n",
       "4  Abbotsford      4    h  1600000.0       2.5       1.0  2.0       Yarra   \n",
       "\n",
       "   Postcode  Landsize Regionname AgeRange  price_mean_city Date_Quarter  \n",
       "0      3067     202.0      North      S/D           121.34       2016Q1  \n",
       "1      3067     156.0      North    [>70)           121.34       2016Q2  \n",
       "2      3067     134.0      North    [>70)           121.34       2017Q2  \n",
       "3      3067      94.0      North      S/D           121.34       2017Q2  \n",
       "4      3067     120.0      North    [0-5)           121.34       2016Q2  "
      ]
     },
     "execution_count": 12,
     "metadata": {},
     "output_type": "execute_result"
    }
   ],
   "source": [
    "melb_df.drop(columns=['Date'], inplace=True)\n",
    "melb_df.head()"
   ]
  },
  {
   "cell_type": "markdown",
   "metadata": {},
   "source": [
    "Dejaremos el resto de columnas como están, por el momento."
   ]
  },
  {
   "cell_type": "markdown",
   "metadata": {},
   "source": [
    "#### Encoding"
   ]
  },
  {
   "cell_type": "markdown",
   "metadata": {},
   "source": [
    "Primero tomaremos aquellas variables categóricas y las numéricas"
   ]
  },
  {
   "cell_type": "code",
   "execution_count": 13,
   "metadata": {},
   "outputs": [
    {
     "data": {
      "text/plain": [
       "array(['Suburb', 'Rooms', 'Type', 'Price', 'Distance', 'Bathroom', 'Car',\n",
       "       'CouncilArea', 'Postcode', 'Landsize', 'Regionname', 'AgeRange',\n",
       "       'price_mean_city', 'Date_Quarter'], dtype=object)"
      ]
     },
     "execution_count": 13,
     "metadata": {},
     "output_type": "execute_result"
    }
   ],
   "source": [
    "melb_df.columns.values"
   ]
  },
  {
   "cell_type": "code",
   "execution_count": 14,
   "metadata": {},
   "outputs": [],
   "source": [
    "categorical_cols = ['Suburb', 'Type', 'CouncilArea', 'Postcode', 'Regionname', 'Date_Quarter', 'AgeRange']\n",
    "numerical_cols = ['Rooms', 'Distance', 'Bathroom', 'Car', 'Landsize', 'price_mean_city', 'Price']"
   ]
  },
  {
   "cell_type": "markdown",
   "metadata": {},
   "source": [
    "Aplicamos OneHotEncoder sobre las variables categóricas"
   ]
  },
  {
   "cell_type": "code",
   "execution_count": 15,
   "metadata": {},
   "outputs": [],
   "source": [
    "from sklearn.preprocessing import OneHotEncoder\n",
    "\n",
    "new_cat_cols = []\n",
    "\n",
    "encoder = OneHotEncoder(handle_unknown='ignore', sparse=False)\n",
    "X = encoder.fit_transform(melb_df[categorical_cols])\n",
    "for col, col_values in zip(categorical_cols, encoder.categories_):\n",
    "    for col_value in col_values:\n",
    "        new_cat_cols.append('{}={}'.format(col, col_value))\n",
    "# Hacemos un DataFrame con las columnas encodeadas\n",
    "df_cat_enc = pd.DataFrame(X, columns = new_cat_cols)"
   ]
  },
  {
   "cell_type": "markdown",
   "metadata": {},
   "source": [
    "Unimos datasets en uno solo"
   ]
  },
  {
   "cell_type": "code",
   "execution_count": 16,
   "metadata": {},
   "outputs": [],
   "source": [
    "melb_df_enc = np.hstack([df_cat_enc,melb_df[numerical_cols]])\n",
    "df_cat_enc = np.hstack([new_cat_cols,numerical_cols])"
   ]
  },
  {
   "cell_type": "code",
   "execution_count": 17,
   "metadata": {},
   "outputs": [
    {
     "data": {
      "text/plain": [
       "(12956, 583)"
      ]
     },
     "execution_count": 17,
     "metadata": {},
     "output_type": "execute_result"
    }
   ],
   "source": [
    "melb_df_enc.shape"
   ]
  },
  {
   "cell_type": "code",
   "execution_count": 18,
   "metadata": {},
   "outputs": [
    {
     "data": {
      "text/html": [
       "<div>\n",
       "<style scoped>\n",
       "    .dataframe tbody tr th:only-of-type {\n",
       "        vertical-align: middle;\n",
       "    }\n",
       "\n",
       "    .dataframe tbody tr th {\n",
       "        vertical-align: top;\n",
       "    }\n",
       "\n",
       "    .dataframe thead th {\n",
       "        text-align: right;\n",
       "    }\n",
       "</style>\n",
       "<table border=\"1\" class=\"dataframe\">\n",
       "  <thead>\n",
       "    <tr style=\"text-align: right;\">\n",
       "      <th></th>\n",
       "      <th>Suburb=Abbotsford</th>\n",
       "      <th>Suburb=Aberfeldie</th>\n",
       "      <th>Suburb=Airport West</th>\n",
       "      <th>Suburb=Albanvale</th>\n",
       "      <th>Suburb=Albert Park</th>\n",
       "      <th>Suburb=Albion</th>\n",
       "      <th>Suburb=Alphington</th>\n",
       "      <th>Suburb=Altona</th>\n",
       "      <th>Suburb=Altona Meadows</th>\n",
       "      <th>Suburb=Altona North</th>\n",
       "      <th>...</th>\n",
       "      <th>AgeRange=[60-65)</th>\n",
       "      <th>AgeRange=[65-70)</th>\n",
       "      <th>AgeRange=[&gt;70)</th>\n",
       "      <th>Rooms</th>\n",
       "      <th>Distance</th>\n",
       "      <th>Bathroom</th>\n",
       "      <th>Car</th>\n",
       "      <th>Landsize</th>\n",
       "      <th>price_mean_city</th>\n",
       "      <th>Price</th>\n",
       "    </tr>\n",
       "  </thead>\n",
       "  <tbody>\n",
       "    <tr>\n",
       "      <th>0</th>\n",
       "      <td>1.0</td>\n",
       "      <td>0.0</td>\n",
       "      <td>0.0</td>\n",
       "      <td>0.0</td>\n",
       "      <td>0.0</td>\n",
       "      <td>0.0</td>\n",
       "      <td>0.0</td>\n",
       "      <td>0.0</td>\n",
       "      <td>0.0</td>\n",
       "      <td>0.0</td>\n",
       "      <td>...</td>\n",
       "      <td>0.0</td>\n",
       "      <td>0.0</td>\n",
       "      <td>0.0</td>\n",
       "      <td>2.0</td>\n",
       "      <td>2.5</td>\n",
       "      <td>1.0</td>\n",
       "      <td>1.0</td>\n",
       "      <td>202.0</td>\n",
       "      <td>121.34</td>\n",
       "      <td>1480000.0</td>\n",
       "    </tr>\n",
       "    <tr>\n",
       "      <th>1</th>\n",
       "      <td>1.0</td>\n",
       "      <td>0.0</td>\n",
       "      <td>0.0</td>\n",
       "      <td>0.0</td>\n",
       "      <td>0.0</td>\n",
       "      <td>0.0</td>\n",
       "      <td>0.0</td>\n",
       "      <td>0.0</td>\n",
       "      <td>0.0</td>\n",
       "      <td>0.0</td>\n",
       "      <td>...</td>\n",
       "      <td>0.0</td>\n",
       "      <td>0.0</td>\n",
       "      <td>1.0</td>\n",
       "      <td>2.0</td>\n",
       "      <td>2.5</td>\n",
       "      <td>1.0</td>\n",
       "      <td>0.0</td>\n",
       "      <td>156.0</td>\n",
       "      <td>121.34</td>\n",
       "      <td>1035000.0</td>\n",
       "    </tr>\n",
       "    <tr>\n",
       "      <th>2</th>\n",
       "      <td>1.0</td>\n",
       "      <td>0.0</td>\n",
       "      <td>0.0</td>\n",
       "      <td>0.0</td>\n",
       "      <td>0.0</td>\n",
       "      <td>0.0</td>\n",
       "      <td>0.0</td>\n",
       "      <td>0.0</td>\n",
       "      <td>0.0</td>\n",
       "      <td>0.0</td>\n",
       "      <td>...</td>\n",
       "      <td>0.0</td>\n",
       "      <td>0.0</td>\n",
       "      <td>1.0</td>\n",
       "      <td>3.0</td>\n",
       "      <td>2.5</td>\n",
       "      <td>2.0</td>\n",
       "      <td>0.0</td>\n",
       "      <td>134.0</td>\n",
       "      <td>121.34</td>\n",
       "      <td>1465000.0</td>\n",
       "    </tr>\n",
       "    <tr>\n",
       "      <th>3</th>\n",
       "      <td>1.0</td>\n",
       "      <td>0.0</td>\n",
       "      <td>0.0</td>\n",
       "      <td>0.0</td>\n",
       "      <td>0.0</td>\n",
       "      <td>0.0</td>\n",
       "      <td>0.0</td>\n",
       "      <td>0.0</td>\n",
       "      <td>0.0</td>\n",
       "      <td>0.0</td>\n",
       "      <td>...</td>\n",
       "      <td>0.0</td>\n",
       "      <td>0.0</td>\n",
       "      <td>0.0</td>\n",
       "      <td>3.0</td>\n",
       "      <td>2.5</td>\n",
       "      <td>2.0</td>\n",
       "      <td>1.0</td>\n",
       "      <td>94.0</td>\n",
       "      <td>121.34</td>\n",
       "      <td>850000.0</td>\n",
       "    </tr>\n",
       "    <tr>\n",
       "      <th>4</th>\n",
       "      <td>1.0</td>\n",
       "      <td>0.0</td>\n",
       "      <td>0.0</td>\n",
       "      <td>0.0</td>\n",
       "      <td>0.0</td>\n",
       "      <td>0.0</td>\n",
       "      <td>0.0</td>\n",
       "      <td>0.0</td>\n",
       "      <td>0.0</td>\n",
       "      <td>0.0</td>\n",
       "      <td>...</td>\n",
       "      <td>0.0</td>\n",
       "      <td>0.0</td>\n",
       "      <td>0.0</td>\n",
       "      <td>4.0</td>\n",
       "      <td>2.5</td>\n",
       "      <td>1.0</td>\n",
       "      <td>2.0</td>\n",
       "      <td>120.0</td>\n",
       "      <td>121.34</td>\n",
       "      <td>1600000.0</td>\n",
       "    </tr>\n",
       "  </tbody>\n",
       "</table>\n",
       "<p>5 rows × 583 columns</p>\n",
       "</div>"
      ],
      "text/plain": [
       "   Suburb=Abbotsford  Suburb=Aberfeldie  Suburb=Airport West  \\\n",
       "0                1.0                0.0                  0.0   \n",
       "1                1.0                0.0                  0.0   \n",
       "2                1.0                0.0                  0.0   \n",
       "3                1.0                0.0                  0.0   \n",
       "4                1.0                0.0                  0.0   \n",
       "\n",
       "   Suburb=Albanvale  Suburb=Albert Park  Suburb=Albion  Suburb=Alphington  \\\n",
       "0               0.0                 0.0            0.0                0.0   \n",
       "1               0.0                 0.0            0.0                0.0   \n",
       "2               0.0                 0.0            0.0                0.0   \n",
       "3               0.0                 0.0            0.0                0.0   \n",
       "4               0.0                 0.0            0.0                0.0   \n",
       "\n",
       "   Suburb=Altona  Suburb=Altona Meadows  Suburb=Altona North  ...  \\\n",
       "0            0.0                    0.0                  0.0  ...   \n",
       "1            0.0                    0.0                  0.0  ...   \n",
       "2            0.0                    0.0                  0.0  ...   \n",
       "3            0.0                    0.0                  0.0  ...   \n",
       "4            0.0                    0.0                  0.0  ...   \n",
       "\n",
       "   AgeRange=[60-65)  AgeRange=[65-70)  AgeRange=[>70)  Rooms  Distance  \\\n",
       "0               0.0               0.0             0.0    2.0       2.5   \n",
       "1               0.0               0.0             1.0    2.0       2.5   \n",
       "2               0.0               0.0             1.0    3.0       2.5   \n",
       "3               0.0               0.0             0.0    3.0       2.5   \n",
       "4               0.0               0.0             0.0    4.0       2.5   \n",
       "\n",
       "   Bathroom  Car  Landsize  price_mean_city      Price  \n",
       "0       1.0  1.0     202.0           121.34  1480000.0  \n",
       "1       1.0  0.0     156.0           121.34  1035000.0  \n",
       "2       2.0  0.0     134.0           121.34  1465000.0  \n",
       "3       2.0  1.0      94.0           121.34   850000.0  \n",
       "4       1.0  2.0     120.0           121.34  1600000.0  \n",
       "\n",
       "[5 rows x 583 columns]"
      ]
     },
     "execution_count": 18,
     "metadata": {},
     "output_type": "execute_result"
    }
   ],
   "source": [
    "melb_df_enc_f = pd.DataFrame(melb_df_enc, columns=df_cat_enc)\n",
    "melb_df_enc_f.head()"
   ]
  },
  {
   "cell_type": "markdown",
   "metadata": {},
   "source": [
    "---"
   ]
  },
  {
   "cell_type": "markdown",
   "metadata": {
    "id": "ismngxPcfoWb"
   },
   "source": [
    "## Ejercicio 2: Imputación por KNN"
   ]
  },
  {
   "cell_type": "markdown",
   "metadata": {
    "id": "ismngxPcfoWb"
   },
   "source": [
    "En el teórico se presentó el método `IterativeImputer` para imputar valores faltantes en variables numéricas. Sin embargo, los ejemplos presentados sólo utilizaban algunas variables numéricas presentes en el conjunto de datos. En este ejercicio, utilizaremos la matriz de datos codificada para imputar datos faltantes de manera más precisa.\n",
    "\n",
    "1. Agregue a la matriz obtenida en el punto anterior las columnas `YearBuilt` y `BuildingArea`.\n",
    "2. Aplique una instancia de `IterativeImputer` con un estimador `KNeighborsRegressor` para imputar los valores de las variables. ¿Es necesario estandarizar o escalar los datos previamente?\n",
    "3. Realice un gráfico mostrando la distribución de cada variable antes de ser imputada, y con ambos métodos de imputación."
   ]
  },
  {
   "cell_type": "markdown",
   "metadata": {},
   "source": [
    "Tener en cuenta que:\n",
    "* Para la aplicación de KNN Regressor, no se necesita tener conjuntos de train y test.\n",
    "* Los algorítmos de aprendizaje automático, en su mayoría, sólo pueden funcionar con valores numéricos.\n",
    "* Cuando tenemos columnas con valores muy altos y otroas con valores muy bajos, conviene escalar los datos."
   ]
  },
  {
   "cell_type": "markdown",
   "metadata": {},
   "source": [
    "### Agregación YearBuilt y BuildingArea"
   ]
  },
  {
   "cell_type": "code",
   "execution_count": 19,
   "metadata": {},
   "outputs": [
    {
     "data": {
      "text/plain": [
       "(12956, 583)"
      ]
     },
     "execution_count": 19,
     "metadata": {},
     "output_type": "execute_result"
    }
   ],
   "source": [
    "melb_df_enc_f.shape"
   ]
  },
  {
   "cell_type": "code",
   "execution_count": 20,
   "metadata": {},
   "outputs": [
    {
     "data": {
      "text/html": [
       "<div>\n",
       "<style scoped>\n",
       "    .dataframe tbody tr th:only-of-type {\n",
       "        vertical-align: middle;\n",
       "    }\n",
       "\n",
       "    .dataframe tbody tr th {\n",
       "        vertical-align: top;\n",
       "    }\n",
       "\n",
       "    .dataframe thead th {\n",
       "        text-align: right;\n",
       "    }\n",
       "</style>\n",
       "<table border=\"1\" class=\"dataframe\">\n",
       "  <thead>\n",
       "    <tr style=\"text-align: right;\">\n",
       "      <th></th>\n",
       "      <th>Suburb=Abbotsford</th>\n",
       "      <th>Suburb=Aberfeldie</th>\n",
       "      <th>Suburb=Airport West</th>\n",
       "      <th>Suburb=Albanvale</th>\n",
       "      <th>Suburb=Albert Park</th>\n",
       "      <th>Suburb=Albion</th>\n",
       "      <th>Suburb=Alphington</th>\n",
       "      <th>Suburb=Altona</th>\n",
       "      <th>Suburb=Altona Meadows</th>\n",
       "      <th>Suburb=Altona North</th>\n",
       "      <th>...</th>\n",
       "      <th>AgeRange=[&gt;70)</th>\n",
       "      <th>Rooms</th>\n",
       "      <th>Distance</th>\n",
       "      <th>Bathroom</th>\n",
       "      <th>Car</th>\n",
       "      <th>Landsize</th>\n",
       "      <th>price_mean_city</th>\n",
       "      <th>Price</th>\n",
       "      <th>YearBuilt</th>\n",
       "      <th>BuildingArea</th>\n",
       "    </tr>\n",
       "  </thead>\n",
       "  <tbody>\n",
       "    <tr>\n",
       "      <th>0</th>\n",
       "      <td>1.0</td>\n",
       "      <td>0.0</td>\n",
       "      <td>0.0</td>\n",
       "      <td>0.0</td>\n",
       "      <td>0.0</td>\n",
       "      <td>0.0</td>\n",
       "      <td>0.0</td>\n",
       "      <td>0.0</td>\n",
       "      <td>0.0</td>\n",
       "      <td>0.0</td>\n",
       "      <td>...</td>\n",
       "      <td>0.0</td>\n",
       "      <td>2.0</td>\n",
       "      <td>2.5</td>\n",
       "      <td>1.0</td>\n",
       "      <td>1.0</td>\n",
       "      <td>202.0</td>\n",
       "      <td>121.34</td>\n",
       "      <td>1480000.0</td>\n",
       "      <td>NaN</td>\n",
       "      <td>NaN</td>\n",
       "    </tr>\n",
       "    <tr>\n",
       "      <th>1</th>\n",
       "      <td>1.0</td>\n",
       "      <td>0.0</td>\n",
       "      <td>0.0</td>\n",
       "      <td>0.0</td>\n",
       "      <td>0.0</td>\n",
       "      <td>0.0</td>\n",
       "      <td>0.0</td>\n",
       "      <td>0.0</td>\n",
       "      <td>0.0</td>\n",
       "      <td>0.0</td>\n",
       "      <td>...</td>\n",
       "      <td>1.0</td>\n",
       "      <td>2.0</td>\n",
       "      <td>2.5</td>\n",
       "      <td>1.0</td>\n",
       "      <td>0.0</td>\n",
       "      <td>156.0</td>\n",
       "      <td>121.34</td>\n",
       "      <td>1035000.0</td>\n",
       "      <td>1900.0</td>\n",
       "      <td>79.0</td>\n",
       "    </tr>\n",
       "    <tr>\n",
       "      <th>2</th>\n",
       "      <td>1.0</td>\n",
       "      <td>0.0</td>\n",
       "      <td>0.0</td>\n",
       "      <td>0.0</td>\n",
       "      <td>0.0</td>\n",
       "      <td>0.0</td>\n",
       "      <td>0.0</td>\n",
       "      <td>0.0</td>\n",
       "      <td>0.0</td>\n",
       "      <td>0.0</td>\n",
       "      <td>...</td>\n",
       "      <td>1.0</td>\n",
       "      <td>3.0</td>\n",
       "      <td>2.5</td>\n",
       "      <td>2.0</td>\n",
       "      <td>0.0</td>\n",
       "      <td>134.0</td>\n",
       "      <td>121.34</td>\n",
       "      <td>1465000.0</td>\n",
       "      <td>1900.0</td>\n",
       "      <td>150.0</td>\n",
       "    </tr>\n",
       "    <tr>\n",
       "      <th>3</th>\n",
       "      <td>1.0</td>\n",
       "      <td>0.0</td>\n",
       "      <td>0.0</td>\n",
       "      <td>0.0</td>\n",
       "      <td>0.0</td>\n",
       "      <td>0.0</td>\n",
       "      <td>0.0</td>\n",
       "      <td>0.0</td>\n",
       "      <td>0.0</td>\n",
       "      <td>0.0</td>\n",
       "      <td>...</td>\n",
       "      <td>0.0</td>\n",
       "      <td>3.0</td>\n",
       "      <td>2.5</td>\n",
       "      <td>2.0</td>\n",
       "      <td>1.0</td>\n",
       "      <td>94.0</td>\n",
       "      <td>121.34</td>\n",
       "      <td>850000.0</td>\n",
       "      <td>NaN</td>\n",
       "      <td>NaN</td>\n",
       "    </tr>\n",
       "    <tr>\n",
       "      <th>4</th>\n",
       "      <td>1.0</td>\n",
       "      <td>0.0</td>\n",
       "      <td>0.0</td>\n",
       "      <td>0.0</td>\n",
       "      <td>0.0</td>\n",
       "      <td>0.0</td>\n",
       "      <td>0.0</td>\n",
       "      <td>0.0</td>\n",
       "      <td>0.0</td>\n",
       "      <td>0.0</td>\n",
       "      <td>...</td>\n",
       "      <td>0.0</td>\n",
       "      <td>4.0</td>\n",
       "      <td>2.5</td>\n",
       "      <td>1.0</td>\n",
       "      <td>2.0</td>\n",
       "      <td>120.0</td>\n",
       "      <td>121.34</td>\n",
       "      <td>1600000.0</td>\n",
       "      <td>2014.0</td>\n",
       "      <td>142.0</td>\n",
       "    </tr>\n",
       "  </tbody>\n",
       "</table>\n",
       "<p>5 rows × 585 columns</p>\n",
       "</div>"
      ],
      "text/plain": [
       "   Suburb=Abbotsford  Suburb=Aberfeldie  Suburb=Airport West  \\\n",
       "0                1.0                0.0                  0.0   \n",
       "1                1.0                0.0                  0.0   \n",
       "2                1.0                0.0                  0.0   \n",
       "3                1.0                0.0                  0.0   \n",
       "4                1.0                0.0                  0.0   \n",
       "\n",
       "   Suburb=Albanvale  Suburb=Albert Park  Suburb=Albion  Suburb=Alphington  \\\n",
       "0               0.0                 0.0            0.0                0.0   \n",
       "1               0.0                 0.0            0.0                0.0   \n",
       "2               0.0                 0.0            0.0                0.0   \n",
       "3               0.0                 0.0            0.0                0.0   \n",
       "4               0.0                 0.0            0.0                0.0   \n",
       "\n",
       "   Suburb=Altona  Suburb=Altona Meadows  Suburb=Altona North  ...  \\\n",
       "0            0.0                    0.0                  0.0  ...   \n",
       "1            0.0                    0.0                  0.0  ...   \n",
       "2            0.0                    0.0                  0.0  ...   \n",
       "3            0.0                    0.0                  0.0  ...   \n",
       "4            0.0                    0.0                  0.0  ...   \n",
       "\n",
       "   AgeRange=[>70)  Rooms  Distance  Bathroom  Car  Landsize  price_mean_city  \\\n",
       "0             0.0    2.0       2.5       1.0  1.0     202.0           121.34   \n",
       "1             1.0    2.0       2.5       1.0  0.0     156.0           121.34   \n",
       "2             1.0    3.0       2.5       2.0  0.0     134.0           121.34   \n",
       "3             0.0    3.0       2.5       2.0  1.0      94.0           121.34   \n",
       "4             0.0    4.0       2.5       1.0  2.0     120.0           121.34   \n",
       "\n",
       "       Price  YearBuilt  BuildingArea  \n",
       "0  1480000.0        NaN           NaN  \n",
       "1  1035000.0     1900.0          79.0  \n",
       "2  1465000.0     1900.0         150.0  \n",
       "3   850000.0        NaN           NaN  \n",
       "4  1600000.0     2014.0         142.0  \n",
       "\n",
       "[5 rows x 585 columns]"
      ]
     },
     "execution_count": 20,
     "metadata": {},
     "output_type": "execute_result"
    }
   ],
   "source": [
    "cols_add = ['YearBuilt', 'BuildingArea']\n",
    "cols_melb_df = melb_df_enc_f.columns.values\n",
    "\n",
    "melb_df_knn = np.hstack([melb_df_enc_f, melb_df_origin[cols_add]])\n",
    "cols_df_knn = np.hstack([cols_melb_df, cols_add])\n",
    "\n",
    "melb_df_knn_f = pd.DataFrame(melb_df_knn, columns=cols_df_knn)\n",
    "melb_df_knn_f.head()"
   ]
  },
  {
   "cell_type": "code",
   "execution_count": 21,
   "metadata": {},
   "outputs": [
    {
     "data": {
      "text/plain": [
       "(12956, 585)"
      ]
     },
     "execution_count": 21,
     "metadata": {},
     "output_type": "execute_result"
    }
   ],
   "source": [
    "melb_df_knn_f.shape"
   ]
  },
  {
   "cell_type": "markdown",
   "metadata": {
    "tags": []
   },
   "source": [
    "### Escalado de datos"
   ]
  },
  {
   "cell_type": "markdown",
   "metadata": {},
   "source": [
    "Escalamos las columnas numéricas, ya que KNN funciona mejor con valores en una misma escala. "
   ]
  },
  {
   "cell_type": "code",
   "execution_count": 22,
   "metadata": {},
   "outputs": [],
   "source": [
    "cols = numerical_cols.copy()\n",
    "cols.extend(cols_add)\n",
    "melb_df_knn_f2 = melb_df_knn_f[cols].copy()"
   ]
  },
  {
   "cell_type": "code",
   "execution_count": 23,
   "metadata": {},
   "outputs": [
    {
     "data": {
      "text/html": [
       "<div>\n",
       "<style scoped>\n",
       "    .dataframe tbody tr th:only-of-type {\n",
       "        vertical-align: middle;\n",
       "    }\n",
       "\n",
       "    .dataframe tbody tr th {\n",
       "        vertical-align: top;\n",
       "    }\n",
       "\n",
       "    .dataframe thead th {\n",
       "        text-align: right;\n",
       "    }\n",
       "</style>\n",
       "<table border=\"1\" class=\"dataframe\">\n",
       "  <thead>\n",
       "    <tr style=\"text-align: right;\">\n",
       "      <th></th>\n",
       "      <th>Rooms</th>\n",
       "      <th>Distance</th>\n",
       "      <th>Bathroom</th>\n",
       "      <th>Car</th>\n",
       "      <th>Landsize</th>\n",
       "      <th>price_mean_city</th>\n",
       "      <th>Price</th>\n",
       "      <th>YearBuilt</th>\n",
       "      <th>BuildingArea</th>\n",
       "    </tr>\n",
       "  </thead>\n",
       "  <tbody>\n",
       "    <tr>\n",
       "      <th>0</th>\n",
       "      <td>-0.953310</td>\n",
       "      <td>-1.302287</td>\n",
       "      <td>-0.761066</td>\n",
       "      <td>-0.613287</td>\n",
       "      <td>-0.210337</td>\n",
       "      <td>1.191846</td>\n",
       "      <td>1.100977</td>\n",
       "      <td>NaN</td>\n",
       "      <td>NaN</td>\n",
       "    </tr>\n",
       "    <tr>\n",
       "      <th>1</th>\n",
       "      <td>-0.953310</td>\n",
       "      <td>-1.302287</td>\n",
       "      <td>-0.761066</td>\n",
       "      <td>-1.672578</td>\n",
       "      <td>-0.241041</td>\n",
       "      <td>1.191846</td>\n",
       "      <td>0.118436</td>\n",
       "      <td>-1.799241</td>\n",
       "      <td>-0.119382</td>\n",
       "    </tr>\n",
       "    <tr>\n",
       "      <th>2</th>\n",
       "      <td>0.124540</td>\n",
       "      <td>-1.302287</td>\n",
       "      <td>0.803824</td>\n",
       "      <td>-1.672578</td>\n",
       "      <td>-0.255726</td>\n",
       "      <td>1.191846</td>\n",
       "      <td>1.067857</td>\n",
       "      <td>-1.799241</td>\n",
       "      <td>0.009049</td>\n",
       "    </tr>\n",
       "    <tr>\n",
       "      <th>3</th>\n",
       "      <td>0.124540</td>\n",
       "      <td>-1.302287</td>\n",
       "      <td>0.803824</td>\n",
       "      <td>-0.613287</td>\n",
       "      <td>-0.282426</td>\n",
       "      <td>1.191846</td>\n",
       "      <td>-0.290035</td>\n",
       "      <td>NaN</td>\n",
       "      <td>NaN</td>\n",
       "    </tr>\n",
       "    <tr>\n",
       "      <th>4</th>\n",
       "      <td>1.202391</td>\n",
       "      <td>-1.302287</td>\n",
       "      <td>-0.761066</td>\n",
       "      <td>0.446005</td>\n",
       "      <td>-0.265071</td>\n",
       "      <td>1.191846</td>\n",
       "      <td>1.365931</td>\n",
       "      <td>1.319544</td>\n",
       "      <td>-0.005422</td>\n",
       "    </tr>\n",
       "    <tr>\n",
       "      <th>...</th>\n",
       "      <td>...</td>\n",
       "      <td>...</td>\n",
       "      <td>...</td>\n",
       "      <td>...</td>\n",
       "      <td>...</td>\n",
       "      <td>...</td>\n",
       "      <td>...</td>\n",
       "      <td>...</td>\n",
       "      <td>...</td>\n",
       "    </tr>\n",
       "    <tr>\n",
       "      <th>12951</th>\n",
       "      <td>0.124540</td>\n",
       "      <td>1.052706</td>\n",
       "      <td>0.803824</td>\n",
       "      <td>0.446005</td>\n",
       "      <td>0.059997</td>\n",
       "      <td>-0.751441</td>\n",
       "      <td>-0.753706</td>\n",
       "      <td>NaN</td>\n",
       "      <td>NaN</td>\n",
       "    </tr>\n",
       "    <tr>\n",
       "      <th>12952</th>\n",
       "      <td>0.124540</td>\n",
       "      <td>5.712226</td>\n",
       "      <td>-0.761066</td>\n",
       "      <td>-0.613287</td>\n",
       "      <td>-0.010089</td>\n",
       "      <td>1.191846</td>\n",
       "      <td>-1.358686</td>\n",
       "      <td>0.334664</td>\n",
       "      <td>-0.123000</td>\n",
       "    </tr>\n",
       "    <tr>\n",
       "      <th>12953</th>\n",
       "      <td>2.280241</td>\n",
       "      <td>6.368260</td>\n",
       "      <td>2.368714</td>\n",
       "      <td>3.623879</td>\n",
       "      <td>29.358177</td>\n",
       "      <td>1.191846</td>\n",
       "      <td>0.824982</td>\n",
       "      <td>NaN</td>\n",
       "      <td>80.260642</td>\n",
       "    </tr>\n",
       "    <tr>\n",
       "      <th>12954</th>\n",
       "      <td>1.202391</td>\n",
       "      <td>2.280666</td>\n",
       "      <td>0.803824</td>\n",
       "      <td>0.446005</td>\n",
       "      <td>-0.026777</td>\n",
       "      <td>-0.790151</td>\n",
       "      <td>-0.785721</td>\n",
       "      <td>1.264828</td>\n",
       "      <td>0.059698</td>\n",
       "    </tr>\n",
       "    <tr>\n",
       "      <th>12955</th>\n",
       "      <td>1.202391</td>\n",
       "      <td>4.013267</td>\n",
       "      <td>0.803824</td>\n",
       "      <td>0.446005</td>\n",
       "      <td>0.730158</td>\n",
       "      <td>4.533240</td>\n",
       "      <td>-0.577070</td>\n",
       "      <td>NaN</td>\n",
       "      <td>NaN</td>\n",
       "    </tr>\n",
       "  </tbody>\n",
       "</table>\n",
       "<p>12956 rows × 9 columns</p>\n",
       "</div>"
      ],
      "text/plain": [
       "          Rooms  Distance  Bathroom       Car   Landsize  price_mean_city  \\\n",
       "0     -0.953310 -1.302287 -0.761066 -0.613287  -0.210337         1.191846   \n",
       "1     -0.953310 -1.302287 -0.761066 -1.672578  -0.241041         1.191846   \n",
       "2      0.124540 -1.302287  0.803824 -1.672578  -0.255726         1.191846   \n",
       "3      0.124540 -1.302287  0.803824 -0.613287  -0.282426         1.191846   \n",
       "4      1.202391 -1.302287 -0.761066  0.446005  -0.265071         1.191846   \n",
       "...         ...       ...       ...       ...        ...              ...   \n",
       "12951  0.124540  1.052706  0.803824  0.446005   0.059997        -0.751441   \n",
       "12952  0.124540  5.712226 -0.761066 -0.613287  -0.010089         1.191846   \n",
       "12953  2.280241  6.368260  2.368714  3.623879  29.358177         1.191846   \n",
       "12954  1.202391  2.280666  0.803824  0.446005  -0.026777        -0.790151   \n",
       "12955  1.202391  4.013267  0.803824  0.446005   0.730158         4.533240   \n",
       "\n",
       "          Price  YearBuilt  BuildingArea  \n",
       "0      1.100977        NaN           NaN  \n",
       "1      0.118436  -1.799241     -0.119382  \n",
       "2      1.067857  -1.799241      0.009049  \n",
       "3     -0.290035        NaN           NaN  \n",
       "4      1.365931   1.319544     -0.005422  \n",
       "...         ...        ...           ...  \n",
       "12951 -0.753706        NaN           NaN  \n",
       "12952 -1.358686   0.334664     -0.123000  \n",
       "12953  0.824982        NaN     80.260642  \n",
       "12954 -0.785721   1.264828      0.059698  \n",
       "12955 -0.577070        NaN           NaN  \n",
       "\n",
       "[12956 rows x 9 columns]"
      ]
     },
     "execution_count": 23,
     "metadata": {},
     "output_type": "execute_result"
    }
   ],
   "source": [
    "from sklearn.preprocessing import StandardScaler\n",
    "\n",
    "scaler_knn = StandardScaler()\n",
    "melb_knn_sca = scaler_knn.fit_transform(melb_df_knn_f2)\n",
    "melb_df_knn_sca = pd.DataFrame(melb_knn_sca, columns=melb_df_knn_f2.columns.values)\n",
    "melb_df_knn_sca"
   ]
  },
  {
   "cell_type": "code",
   "execution_count": 24,
   "metadata": {},
   "outputs": [
    {
     "data": {
      "text/plain": [
       "(12956, 9)"
      ]
     },
     "execution_count": 24,
     "metadata": {},
     "output_type": "execute_result"
    }
   ],
   "source": [
    "melb_df_knn_sca.shape"
   ]
  },
  {
   "cell_type": "code",
   "execution_count": 25,
   "metadata": {},
   "outputs": [
    {
     "data": {
      "text/plain": [
       "YearBuilt       5158\n",
       "BuildingArea    6190\n",
       "dtype: int64"
      ]
     },
     "execution_count": 25,
     "metadata": {},
     "output_type": "execute_result"
    }
   ],
   "source": [
    "melb_df_knn_sca[['YearBuilt','BuildingArea']].isna().sum()"
   ]
  },
  {
   "cell_type": "markdown",
   "metadata": {},
   "source": [
    "### Aplicación de Imputación por KNN"
   ]
  },
  {
   "cell_type": "code",
   "execution_count": 26,
   "metadata": {
    "colab": {
     "base_uri": "https://localhost:8080/"
    },
    "executionInfo": {
     "elapsed": 42,
     "status": "ok",
     "timestamp": 1626999957852,
     "user": {
      "displayName": "María Belén Acotto",
      "photoUrl": "https://lh3.googleusercontent.com/a-/AOh14GgxTl0geb_R3SIr4AA6LSVxhUsOjZdbmESuiHF-wOs=s64",
      "userId": "02753886766132213766"
     },
     "user_tz": 180
    },
    "id": "G4ClSr_JapCw",
    "outputId": "b0f5230c-c6ce-4103-cb6a-d264ff11d1bc"
   },
   "outputs": [
    {
     "name": "stderr",
     "output_type": "stream",
     "text": [
      "C:\\Anaconda3\\lib\\site-packages\\sklearn\\impute\\_iterative.py:685: ConvergenceWarning: [IterativeImputer] Early stopping criterion not reached.\n",
      "  warnings.warn(\"[IterativeImputer] Early stopping criterion not\"\n"
     ]
    },
    {
     "data": {
      "text/html": [
       "<div>\n",
       "<style scoped>\n",
       "    .dataframe tbody tr th:only-of-type {\n",
       "        vertical-align: middle;\n",
       "    }\n",
       "\n",
       "    .dataframe tbody tr th {\n",
       "        vertical-align: top;\n",
       "    }\n",
       "\n",
       "    .dataframe thead th {\n",
       "        text-align: right;\n",
       "    }\n",
       "</style>\n",
       "<table border=\"1\" class=\"dataframe\">\n",
       "  <thead>\n",
       "    <tr style=\"text-align: right;\">\n",
       "      <th></th>\n",
       "      <th>Rooms</th>\n",
       "      <th>Distance</th>\n",
       "      <th>Bathroom</th>\n",
       "      <th>Car</th>\n",
       "      <th>Landsize</th>\n",
       "      <th>price_mean_city</th>\n",
       "      <th>Price</th>\n",
       "      <th>YearBuilt</th>\n",
       "      <th>BuildingArea</th>\n",
       "    </tr>\n",
       "  </thead>\n",
       "  <tbody>\n",
       "    <tr>\n",
       "      <th>0</th>\n",
       "      <td>-0.953310</td>\n",
       "      <td>-1.302287</td>\n",
       "      <td>-0.761066</td>\n",
       "      <td>-0.613287</td>\n",
       "      <td>-0.210337</td>\n",
       "      <td>1.191846</td>\n",
       "      <td>1.100977</td>\n",
       "      <td>0.159575</td>\n",
       "      <td>0.074169</td>\n",
       "    </tr>\n",
       "    <tr>\n",
       "      <th>1</th>\n",
       "      <td>-0.953310</td>\n",
       "      <td>-1.302287</td>\n",
       "      <td>-0.761066</td>\n",
       "      <td>-1.672578</td>\n",
       "      <td>-0.241041</td>\n",
       "      <td>1.191846</td>\n",
       "      <td>0.118436</td>\n",
       "      <td>-1.799241</td>\n",
       "      <td>-0.119382</td>\n",
       "    </tr>\n",
       "    <tr>\n",
       "      <th>2</th>\n",
       "      <td>0.124540</td>\n",
       "      <td>-1.302287</td>\n",
       "      <td>0.803824</td>\n",
       "      <td>-1.672578</td>\n",
       "      <td>-0.255726</td>\n",
       "      <td>1.191846</td>\n",
       "      <td>1.067857</td>\n",
       "      <td>-1.799241</td>\n",
       "      <td>0.009049</td>\n",
       "    </tr>\n",
       "    <tr>\n",
       "      <th>3</th>\n",
       "      <td>0.124540</td>\n",
       "      <td>-1.302287</td>\n",
       "      <td>0.803824</td>\n",
       "      <td>-0.613287</td>\n",
       "      <td>-0.282426</td>\n",
       "      <td>1.191846</td>\n",
       "      <td>-0.290035</td>\n",
       "      <td>0.159575</td>\n",
       "      <td>0.074169</td>\n",
       "    </tr>\n",
       "    <tr>\n",
       "      <th>4</th>\n",
       "      <td>1.202391</td>\n",
       "      <td>-1.302287</td>\n",
       "      <td>-0.761066</td>\n",
       "      <td>0.446005</td>\n",
       "      <td>-0.265071</td>\n",
       "      <td>1.191846</td>\n",
       "      <td>1.365931</td>\n",
       "      <td>1.319544</td>\n",
       "      <td>-0.005422</td>\n",
       "    </tr>\n",
       "    <tr>\n",
       "      <th>...</th>\n",
       "      <td>...</td>\n",
       "      <td>...</td>\n",
       "      <td>...</td>\n",
       "      <td>...</td>\n",
       "      <td>...</td>\n",
       "      <td>...</td>\n",
       "      <td>...</td>\n",
       "      <td>...</td>\n",
       "      <td>...</td>\n",
       "    </tr>\n",
       "    <tr>\n",
       "      <th>12951</th>\n",
       "      <td>0.124540</td>\n",
       "      <td>1.052706</td>\n",
       "      <td>0.803824</td>\n",
       "      <td>0.446005</td>\n",
       "      <td>0.059997</td>\n",
       "      <td>-0.751441</td>\n",
       "      <td>-0.753706</td>\n",
       "      <td>0.159575</td>\n",
       "      <td>0.074169</td>\n",
       "    </tr>\n",
       "    <tr>\n",
       "      <th>12952</th>\n",
       "      <td>0.124540</td>\n",
       "      <td>5.712226</td>\n",
       "      <td>-0.761066</td>\n",
       "      <td>-0.613287</td>\n",
       "      <td>-0.010089</td>\n",
       "      <td>1.191846</td>\n",
       "      <td>-1.358686</td>\n",
       "      <td>0.334664</td>\n",
       "      <td>-0.123000</td>\n",
       "    </tr>\n",
       "    <tr>\n",
       "      <th>12953</th>\n",
       "      <td>2.280241</td>\n",
       "      <td>6.368260</td>\n",
       "      <td>2.368714</td>\n",
       "      <td>3.623879</td>\n",
       "      <td>29.358177</td>\n",
       "      <td>1.191846</td>\n",
       "      <td>0.824982</td>\n",
       "      <td>-0.704931</td>\n",
       "      <td>80.260642</td>\n",
       "    </tr>\n",
       "    <tr>\n",
       "      <th>12954</th>\n",
       "      <td>1.202391</td>\n",
       "      <td>2.280666</td>\n",
       "      <td>0.803824</td>\n",
       "      <td>0.446005</td>\n",
       "      <td>-0.026777</td>\n",
       "      <td>-0.790151</td>\n",
       "      <td>-0.785721</td>\n",
       "      <td>1.264828</td>\n",
       "      <td>0.059698</td>\n",
       "    </tr>\n",
       "    <tr>\n",
       "      <th>12955</th>\n",
       "      <td>1.202391</td>\n",
       "      <td>4.013267</td>\n",
       "      <td>0.803824</td>\n",
       "      <td>0.446005</td>\n",
       "      <td>0.730158</td>\n",
       "      <td>4.533240</td>\n",
       "      <td>-0.577070</td>\n",
       "      <td>0.159575</td>\n",
       "      <td>0.074169</td>\n",
       "    </tr>\n",
       "  </tbody>\n",
       "</table>\n",
       "<p>12956 rows × 9 columns</p>\n",
       "</div>"
      ],
      "text/plain": [
       "          Rooms  Distance  Bathroom       Car   Landsize  price_mean_city  \\\n",
       "0     -0.953310 -1.302287 -0.761066 -0.613287  -0.210337         1.191846   \n",
       "1     -0.953310 -1.302287 -0.761066 -1.672578  -0.241041         1.191846   \n",
       "2      0.124540 -1.302287  0.803824 -1.672578  -0.255726         1.191846   \n",
       "3      0.124540 -1.302287  0.803824 -0.613287  -0.282426         1.191846   \n",
       "4      1.202391 -1.302287 -0.761066  0.446005  -0.265071         1.191846   \n",
       "...         ...       ...       ...       ...        ...              ...   \n",
       "12951  0.124540  1.052706  0.803824  0.446005   0.059997        -0.751441   \n",
       "12952  0.124540  5.712226 -0.761066 -0.613287  -0.010089         1.191846   \n",
       "12953  2.280241  6.368260  2.368714  3.623879  29.358177         1.191846   \n",
       "12954  1.202391  2.280666  0.803824  0.446005  -0.026777        -0.790151   \n",
       "12955  1.202391  4.013267  0.803824  0.446005   0.730158         4.533240   \n",
       "\n",
       "          Price  YearBuilt  BuildingArea  \n",
       "0      1.100977   0.159575      0.074169  \n",
       "1      0.118436  -1.799241     -0.119382  \n",
       "2      1.067857  -1.799241      0.009049  \n",
       "3     -0.290035   0.159575      0.074169  \n",
       "4      1.365931   1.319544     -0.005422  \n",
       "...         ...        ...           ...  \n",
       "12951 -0.753706   0.159575      0.074169  \n",
       "12952 -1.358686   0.334664     -0.123000  \n",
       "12953  0.824982  -0.704931     80.260642  \n",
       "12954 -0.785721   1.264828      0.059698  \n",
       "12955 -0.577070   0.159575      0.074169  \n",
       "\n",
       "[12956 rows x 9 columns]"
      ]
     },
     "execution_count": 26,
     "metadata": {},
     "output_type": "execute_result"
    }
   ],
   "source": [
    "from sklearn.experimental import enable_iterative_imputer\n",
    "from sklearn.neighbors import KNeighborsRegressor\n",
    "from sklearn.impute import IterativeImputer\n",
    "\n",
    "melb_data_mice = melb_df_knn_sca.copy(deep=True)\n",
    "\n",
    "mice_imputer = IterativeImputer(random_state=0, estimator=KNeighborsRegressor()) #Estima por el algoritmo de KNN\n",
    "melb_data_mice[['YearBuilt','BuildingArea']] = mice_imputer.fit_transform(melb_data_mice[['YearBuilt', 'BuildingArea']])\n",
    "melb_data_mice"
   ]
  },
  {
   "cell_type": "code",
   "execution_count": 27,
   "metadata": {},
   "outputs": [
    {
     "data": {
      "text/plain": [
       "(12956, 9)"
      ]
     },
     "execution_count": 27,
     "metadata": {},
     "output_type": "execute_result"
    }
   ],
   "source": [
    "melb_data_mice.shape"
   ]
  },
  {
   "cell_type": "code",
   "execution_count": 28,
   "metadata": {},
   "outputs": [
    {
     "data": {
      "text/plain": [
       "YearBuilt       0\n",
       "BuildingArea    0\n",
       "dtype: int64"
      ]
     },
     "execution_count": 28,
     "metadata": {},
     "output_type": "execute_result"
    }
   ],
   "source": [
    "melb_data_mice[['YearBuilt','BuildingArea']].isna().sum()"
   ]
  },
  {
   "cell_type": "markdown",
   "metadata": {
    "id": "ImjXQZUbVoKH"
   },
   "source": [
    "Ejemplo de gráfico comparando las distribuciones de datos obtenidas con cada método de imputación."
   ]
  },
  {
   "cell_type": "markdown",
   "metadata": {},
   "source": [
    "### Antes y Después de la Imputación (Gráfico)"
   ]
  },
  {
   "cell_type": "code",
   "execution_count": 29,
   "metadata": {
    "colab": {
     "base_uri": "https://localhost:8080/",
     "height": 354
    },
    "executionInfo": {
     "elapsed": 462,
     "status": "ok",
     "timestamp": 1626999958280,
     "user": {
      "displayName": "María Belén Acotto",
      "photoUrl": "https://lh3.googleusercontent.com/a-/AOh14GgxTl0geb_R3SIr4AA6LSVxhUsOjZdbmESuiHF-wOs=s64",
      "userId": "02753886766132213766"
     },
     "user_tz": 180
    },
    "id": "PMK1ktqYQTJK",
    "outputId": "d7f72a35-820c-49da-f523-11a774f09d2d"
   },
   "outputs": [],
   "source": [
    "# YearBuilt\n",
    "mice_year_built = melb_data_mice.YearBuilt.to_frame()\n",
    "mice_year_built['Imputation'] = 'KNN over YearBuilt'\n",
    "melb_year_build = melb_df_knn_sca.YearBuilt.dropna().to_frame()\n",
    "melb_year_build['Imputation'] = 'Original'\n",
    "data_yb = pd.concat([mice_year_built, melb_year_build])\n",
    "\n",
    "# BuildingArea\n",
    "mice_built_area = melb_data_mice.BuildingArea.to_frame()\n",
    "mice_built_area['Imputation'] = 'KNN over BuildingArea'\n",
    "melb_build_area = melb_df_knn_sca.BuildingArea.dropna().to_frame()\n",
    "melb_build_area['Imputation'] = 'Original'\n",
    "data_ba = pd.concat([mice_built_area, melb_build_area])"
   ]
  },
  {
   "cell_type": "code",
   "execution_count": 30,
   "metadata": {
    "colab": {
     "base_uri": "https://localhost:8080/",
     "height": 354
    },
    "executionInfo": {
     "elapsed": 462,
     "status": "ok",
     "timestamp": 1626999958280,
     "user": {
      "displayName": "María Belén Acotto",
      "photoUrl": "https://lh3.googleusercontent.com/a-/AOh14GgxTl0geb_R3SIr4AA6LSVxhUsOjZdbmESuiHF-wOs=s64",
      "userId": "02753886766132213766"
     },
     "user_tz": 180
    },
    "id": "PMK1ktqYQTJK",
    "outputId": "d7f72a35-820c-49da-f523-11a774f09d2d"
   },
   "outputs": [
    {
     "name": "stderr",
     "output_type": "stream",
     "text": [
      "C:\\Anaconda3\\lib\\site-packages\\pandas\\core\\arraylike.py:358: RuntimeWarning: invalid value encountered in log10\n",
      "  result = getattr(ufunc, method)(*inputs, **kwargs)\n",
      "C:\\Anaconda3\\lib\\site-packages\\pandas\\core\\arraylike.py:358: RuntimeWarning: invalid value encountered in log10\n",
      "  result = getattr(ufunc, method)(*inputs, **kwargs)\n"
     ]
    },
    {
     "data": {
      "image/png": "[encoded data removed]",
      "text/plain": [
       "<Figure size 1440x432 with 2 Axes>"
      ]
     },
     "metadata": {
      "needs_background": "light"
     },
     "output_type": "display_data"
    }
   ],
   "source": [
    "fig, ax = plt.subplots(1, 2, figsize=(20, 6))\n",
    "g = sns.kdeplot(data=data_yb, x='YearBuilt', hue='Imputation', ax=ax[0], log_scale=True)\n",
    "sns.kdeplot(data=data_ba, x='BuildingArea', hue='Imputation', ax=ax[1], log_scale=True)\n",
    "ax[0].set_title('V.A. YearBuilt', fontsize=16)\n",
    "ax[1].set_title('V.A. BuildingArea', fontsize=16)\n",
    "\n",
    "plt.suptitle('Antes y Después Imputación', fontsize=20)\n",
    "plt.show()"
   ]
  },
  {
   "cell_type": "code",
   "execution_count": 31,
   "metadata": {},
   "outputs": [
    {
     "data": {
      "text/html": [
       "<div>\n",
       "<style scoped>\n",
       "    .dataframe tbody tr th:only-of-type {\n",
       "        vertical-align: middle;\n",
       "    }\n",
       "\n",
       "    .dataframe tbody tr th {\n",
       "        vertical-align: top;\n",
       "    }\n",
       "\n",
       "    .dataframe thead th {\n",
       "        text-align: right;\n",
       "    }\n",
       "</style>\n",
       "<table border=\"1\" class=\"dataframe\">\n",
       "  <thead>\n",
       "    <tr style=\"text-align: right;\">\n",
       "      <th></th>\n",
       "      <th>Suburb=Abbotsford</th>\n",
       "      <th>Suburb=Aberfeldie</th>\n",
       "      <th>Suburb=Airport West</th>\n",
       "      <th>Suburb=Albanvale</th>\n",
       "      <th>Suburb=Albert Park</th>\n",
       "      <th>Suburb=Albion</th>\n",
       "      <th>Suburb=Alphington</th>\n",
       "      <th>Suburb=Altona</th>\n",
       "      <th>Suburb=Altona Meadows</th>\n",
       "      <th>Suburb=Altona North</th>\n",
       "      <th>...</th>\n",
       "      <th>AgeRange=[&gt;70)</th>\n",
       "      <th>Rooms</th>\n",
       "      <th>Distance</th>\n",
       "      <th>Bathroom</th>\n",
       "      <th>Car</th>\n",
       "      <th>Landsize</th>\n",
       "      <th>price_mean_city</th>\n",
       "      <th>Price</th>\n",
       "      <th>YearBuilt</th>\n",
       "      <th>BuildingArea</th>\n",
       "    </tr>\n",
       "  </thead>\n",
       "  <tbody>\n",
       "    <tr>\n",
       "      <th>0</th>\n",
       "      <td>1.0</td>\n",
       "      <td>0.0</td>\n",
       "      <td>0.0</td>\n",
       "      <td>0.0</td>\n",
       "      <td>0.0</td>\n",
       "      <td>0.0</td>\n",
       "      <td>0.0</td>\n",
       "      <td>0.0</td>\n",
       "      <td>0.0</td>\n",
       "      <td>0.0</td>\n",
       "      <td>...</td>\n",
       "      <td>0.0</td>\n",
       "      <td>-0.953310</td>\n",
       "      <td>-1.302287</td>\n",
       "      <td>-0.761066</td>\n",
       "      <td>-0.613287</td>\n",
       "      <td>-0.210337</td>\n",
       "      <td>1.191846</td>\n",
       "      <td>1.100977</td>\n",
       "      <td>0.159575</td>\n",
       "      <td>0.074169</td>\n",
       "    </tr>\n",
       "    <tr>\n",
       "      <th>1</th>\n",
       "      <td>1.0</td>\n",
       "      <td>0.0</td>\n",
       "      <td>0.0</td>\n",
       "      <td>0.0</td>\n",
       "      <td>0.0</td>\n",
       "      <td>0.0</td>\n",
       "      <td>0.0</td>\n",
       "      <td>0.0</td>\n",
       "      <td>0.0</td>\n",
       "      <td>0.0</td>\n",
       "      <td>...</td>\n",
       "      <td>1.0</td>\n",
       "      <td>-0.953310</td>\n",
       "      <td>-1.302287</td>\n",
       "      <td>-0.761066</td>\n",
       "      <td>-1.672578</td>\n",
       "      <td>-0.241041</td>\n",
       "      <td>1.191846</td>\n",
       "      <td>0.118436</td>\n",
       "      <td>-1.799241</td>\n",
       "      <td>-0.119382</td>\n",
       "    </tr>\n",
       "    <tr>\n",
       "      <th>2</th>\n",
       "      <td>1.0</td>\n",
       "      <td>0.0</td>\n",
       "      <td>0.0</td>\n",
       "      <td>0.0</td>\n",
       "      <td>0.0</td>\n",
       "      <td>0.0</td>\n",
       "      <td>0.0</td>\n",
       "      <td>0.0</td>\n",
       "      <td>0.0</td>\n",
       "      <td>0.0</td>\n",
       "      <td>...</td>\n",
       "      <td>1.0</td>\n",
       "      <td>0.124540</td>\n",
       "      <td>-1.302287</td>\n",
       "      <td>0.803824</td>\n",
       "      <td>-1.672578</td>\n",
       "      <td>-0.255726</td>\n",
       "      <td>1.191846</td>\n",
       "      <td>1.067857</td>\n",
       "      <td>-1.799241</td>\n",
       "      <td>0.009049</td>\n",
       "    </tr>\n",
       "    <tr>\n",
       "      <th>3</th>\n",
       "      <td>1.0</td>\n",
       "      <td>0.0</td>\n",
       "      <td>0.0</td>\n",
       "      <td>0.0</td>\n",
       "      <td>0.0</td>\n",
       "      <td>0.0</td>\n",
       "      <td>0.0</td>\n",
       "      <td>0.0</td>\n",
       "      <td>0.0</td>\n",
       "      <td>0.0</td>\n",
       "      <td>...</td>\n",
       "      <td>0.0</td>\n",
       "      <td>0.124540</td>\n",
       "      <td>-1.302287</td>\n",
       "      <td>0.803824</td>\n",
       "      <td>-0.613287</td>\n",
       "      <td>-0.282426</td>\n",
       "      <td>1.191846</td>\n",
       "      <td>-0.290035</td>\n",
       "      <td>0.159575</td>\n",
       "      <td>0.074169</td>\n",
       "    </tr>\n",
       "    <tr>\n",
       "      <th>4</th>\n",
       "      <td>1.0</td>\n",
       "      <td>0.0</td>\n",
       "      <td>0.0</td>\n",
       "      <td>0.0</td>\n",
       "      <td>0.0</td>\n",
       "      <td>0.0</td>\n",
       "      <td>0.0</td>\n",
       "      <td>0.0</td>\n",
       "      <td>0.0</td>\n",
       "      <td>0.0</td>\n",
       "      <td>...</td>\n",
       "      <td>0.0</td>\n",
       "      <td>1.202391</td>\n",
       "      <td>-1.302287</td>\n",
       "      <td>-0.761066</td>\n",
       "      <td>0.446005</td>\n",
       "      <td>-0.265071</td>\n",
       "      <td>1.191846</td>\n",
       "      <td>1.365931</td>\n",
       "      <td>1.319544</td>\n",
       "      <td>-0.005422</td>\n",
       "    </tr>\n",
       "  </tbody>\n",
       "</table>\n",
       "<p>5 rows × 585 columns</p>\n",
       "</div>"
      ],
      "text/plain": [
       "   Suburb=Abbotsford  Suburb=Aberfeldie  Suburb=Airport West  \\\n",
       "0                1.0                0.0                  0.0   \n",
       "1                1.0                0.0                  0.0   \n",
       "2                1.0                0.0                  0.0   \n",
       "3                1.0                0.0                  0.0   \n",
       "4                1.0                0.0                  0.0   \n",
       "\n",
       "   Suburb=Albanvale  Suburb=Albert Park  Suburb=Albion  Suburb=Alphington  \\\n",
       "0               0.0                 0.0            0.0                0.0   \n",
       "1               0.0                 0.0            0.0                0.0   \n",
       "2               0.0                 0.0            0.0                0.0   \n",
       "3               0.0                 0.0            0.0                0.0   \n",
       "4               0.0                 0.0            0.0                0.0   \n",
       "\n",
       "   Suburb=Altona  Suburb=Altona Meadows  Suburb=Altona North  ...  \\\n",
       "0            0.0                    0.0                  0.0  ...   \n",
       "1            0.0                    0.0                  0.0  ...   \n",
       "2            0.0                    0.0                  0.0  ...   \n",
       "3            0.0                    0.0                  0.0  ...   \n",
       "4            0.0                    0.0                  0.0  ...   \n",
       "\n",
       "   AgeRange=[>70)     Rooms  Distance  Bathroom       Car  Landsize  \\\n",
       "0             0.0 -0.953310 -1.302287 -0.761066 -0.613287 -0.210337   \n",
       "1             1.0 -0.953310 -1.302287 -0.761066 -1.672578 -0.241041   \n",
       "2             1.0  0.124540 -1.302287  0.803824 -1.672578 -0.255726   \n",
       "3             0.0  0.124540 -1.302287  0.803824 -0.613287 -0.282426   \n",
       "4             0.0  1.202391 -1.302287 -0.761066  0.446005 -0.265071   \n",
       "\n",
       "   price_mean_city     Price  YearBuilt  BuildingArea  \n",
       "0         1.191846  1.100977   0.159575      0.074169  \n",
       "1         1.191846  0.118436  -1.799241     -0.119382  \n",
       "2         1.191846  1.067857  -1.799241      0.009049  \n",
       "3         1.191846 -0.290035   0.159575      0.074169  \n",
       "4         1.191846  1.365931   1.319544     -0.005422  \n",
       "\n",
       "[5 rows x 585 columns]"
      ]
     },
     "execution_count": 31,
     "metadata": {},
     "output_type": "execute_result"
    }
   ],
   "source": [
    "melb_data_mice_f = pd.concat([melb_df_knn_f.drop(columns=cols), melb_data_mice], axis=1)\n",
    "melb_data_mice_f.head()"
   ]
  },
  {
   "cell_type": "markdown",
   "metadata": {},
   "source": [
    "---"
   ]
  },
  {
   "cell_type": "markdown",
   "metadata": {
    "id": "NBN7-5OIxjJW"
   },
   "source": [
    "## Ejercicio 3: Reducción de dimensionalidad.\n",
    "\n",
    "Utilizando la matriz obtenida en el ejercicio anterior:\n",
    "1. Aplique `PCA` para obtener $n$ componentes principales de la matriz, donde `n = min(20, X.shape[0])`. ¿Es necesario estandarizar o escalar los datos?\n",
    "2. Grafique la varianza capturada por los primeros $n$ componentes principales, para cada $n$.\n",
    "3. En base al gráfico, seleccione las primeras $m$ columnas de la matriz transformada para agregar como nuevas características al conjunto de datos."
   ]
  },
  {
   "cell_type": "markdown",
   "metadata": {},
   "source": [
    "Para la aplicación de PCA (Análisis de las Componentes Principales) es altamente recomendado aplicar una estandarización (o escalamiento) en los datos, ya que PCA mide la varianza entre las variables del datasets, y no sería correcto que esta medición se haga mezclando (conceptualmente) los datos.\n",
    "\n",
    "Fuente: [Link](https://scikit-learn.org/stable/auto_examples/preprocessing/plot_scaling_importance.html)"
   ]
  },
  {
   "cell_type": "code",
   "execution_count": 32,
   "metadata": {},
   "outputs": [
    {
     "data": {
      "text/plain": [
       "(12956, 585)"
      ]
     },
     "execution_count": 32,
     "metadata": {},
     "output_type": "execute_result"
    }
   ],
   "source": [
    "melb_data_mice_f.shape"
   ]
  },
  {
   "cell_type": "code",
   "execution_count": 85,
   "metadata": {},
   "outputs": [
    {
     "data": {
      "text/plain": [
       "array([0.17004327, 0.11108739, 0.09109122, 0.06846976, 0.05950626,\n",
       "       0.04904078, 0.04704575, 0.02977322, 0.02673457, 0.0225151 ,\n",
       "       0.0174728 , 0.01533271, 0.01276488, 0.0117692 , 0.01096891,\n",
       "       0.01015935, 0.00922798, 0.00863768, 0.00824524, 0.00783229])"
      ]
     },
     "execution_count": 85,
     "metadata": {},
     "output_type": "execute_result"
    }
   ],
   "source": [
    "# Los datos vienen escalados desde el ejercicio anterior\n",
    "from sklearn.decomposition import PCA\n",
    "n = min(20, melb_data_mice_f.shape[1])\n",
    "pca = PCA(n_components=n)\n",
    "melb_data_pca = pca.fit_transform(melb_data_mice_f)\n",
    "exp_var = pca.explained_variance_ratio_\n",
    "exp_var"
   ]
  },
  {
   "cell_type": "code",
   "execution_count": 86,
   "metadata": {},
   "outputs": [
    {
     "data": {
      "text/plain": [
       "array([17.004, 28.113, 37.222, 44.069, 50.02 , 54.924, 59.629, 62.606,\n",
       "       65.279, 67.531, 69.278, 70.811, 72.087, 73.264, 74.361, 75.377,\n",
       "       76.3  , 77.164, 77.989, 78.772])"
      ]
     },
     "execution_count": 86,
     "metadata": {},
     "output_type": "execute_result"
    }
   ],
   "source": [
    "variance=np.cumsum(np.round(pca.explained_variance_ratio_, 5)*100)\n",
    "variance"
   ]
  },
  {
   "cell_type": "code",
   "execution_count": 87,
   "metadata": {},
   "outputs": [
    {
     "data": {
      "image/png": "[encoded data removed]",
      "text/plain": [
       "<Figure size 864x432 with 1 Axes>"
      ]
     },
     "metadata": {
      "needs_background": "light"
     },
     "output_type": "display_data"
    }
   ],
   "source": [
    "plt.figure(figsize=(12,6))\n",
    "sns.lineplot(x=range(pca.n_components), y=variance, marker='o', color='orange')\n",
    "plt.axhline(max(variance), linestyle = '--', color = 'orange', mew = 5)\n",
    "plt.ylabel('% de Varianza Explicada')\n",
    "plt.xlabel('Componentes Principales')\n",
    "plt.title('PCA')\n",
    "\n",
    "plt.xticks(range(pca.n_components))\n",
    "plt.show()"
   ]
  },
  {
   "cell_type": "markdown",
   "metadata": {},
   "source": [
    "Elegimos elegir las primeras 20 componentes del resultado arrojado por PCA. Estas explican un 78.77% de nuestro dataset, lo cual, creemos que es un número bastante alto."
   ]
  },
  {
   "cell_type": "code",
   "execution_count": 89,
   "metadata": {},
   "outputs": [
    {
     "data": {
      "text/html": [
       "<div>\n",
       "<style scoped>\n",
       "    .dataframe tbody tr th:only-of-type {\n",
       "        vertical-align: middle;\n",
       "    }\n",
       "\n",
       "    .dataframe tbody tr th {\n",
       "        vertical-align: top;\n",
       "    }\n",
       "\n",
       "    .dataframe thead th {\n",
       "        text-align: right;\n",
       "    }\n",
       "</style>\n",
       "<table border=\"1\" class=\"dataframe\">\n",
       "  <thead>\n",
       "    <tr style=\"text-align: right;\">\n",
       "      <th></th>\n",
       "      <th>pca_0</th>\n",
       "      <th>pca_1</th>\n",
       "      <th>pca_2</th>\n",
       "      <th>pca_3</th>\n",
       "      <th>pca_4</th>\n",
       "      <th>pca_5</th>\n",
       "      <th>pca_6</th>\n",
       "      <th>pca_7</th>\n",
       "      <th>pca_8</th>\n",
       "      <th>pca_9</th>\n",
       "      <th>pca_10</th>\n",
       "      <th>pca_11</th>\n",
       "      <th>pca_12</th>\n",
       "      <th>pca_13</th>\n",
       "      <th>pca_14</th>\n",
       "      <th>pca_15</th>\n",
       "      <th>pca_16</th>\n",
       "      <th>pca_17</th>\n",
       "      <th>pca_18</th>\n",
       "      <th>pca_19</th>\n",
       "    </tr>\n",
       "  </thead>\n",
       "  <tbody>\n",
       "    <tr>\n",
       "      <th>0</th>\n",
       "      <td>-1.314192</td>\n",
       "      <td>1.782201</td>\n",
       "      <td>0.041559</td>\n",
       "      <td>-0.185371</td>\n",
       "      <td>0.130311</td>\n",
       "      <td>0.118109</td>\n",
       "      <td>0.358294</td>\n",
       "      <td>-0.873668</td>\n",
       "      <td>-0.988150</td>\n",
       "      <td>-0.315298</td>\n",
       "      <td>-0.821706</td>\n",
       "      <td>-0.370417</td>\n",
       "      <td>-0.080868</td>\n",
       "      <td>-0.120653</td>\n",
       "      <td>0.003592</td>\n",
       "      <td>0.110823</td>\n",
       "      <td>-0.022919</td>\n",
       "      <td>0.058335</td>\n",
       "      <td>0.007709</td>\n",
       "      <td>0.042009</td>\n",
       "    </tr>\n",
       "    <tr>\n",
       "      <th>1</th>\n",
       "      <td>-2.158732</td>\n",
       "      <td>2.016057</td>\n",
       "      <td>0.007147</td>\n",
       "      <td>-1.144087</td>\n",
       "      <td>0.686659</td>\n",
       "      <td>-0.429770</td>\n",
       "      <td>-0.696072</td>\n",
       "      <td>1.136631</td>\n",
       "      <td>-0.555495</td>\n",
       "      <td>-0.306271</td>\n",
       "      <td>-0.280593</td>\n",
       "      <td>-0.262476</td>\n",
       "      <td>-0.028546</td>\n",
       "      <td>-0.072195</td>\n",
       "      <td>-0.062789</td>\n",
       "      <td>0.593085</td>\n",
       "      <td>-0.604729</td>\n",
       "      <td>0.235926</td>\n",
       "      <td>-0.059574</td>\n",
       "      <td>-0.205773</td>\n",
       "    </tr>\n",
       "    <tr>\n",
       "      <th>2</th>\n",
       "      <td>-0.496598</td>\n",
       "      <td>2.825618</td>\n",
       "      <td>-0.204234</td>\n",
       "      <td>-0.999836</td>\n",
       "      <td>0.329184</td>\n",
       "      <td>0.152994</td>\n",
       "      <td>-1.334698</td>\n",
       "      <td>1.185607</td>\n",
       "      <td>-0.464490</td>\n",
       "      <td>-0.455466</td>\n",
       "      <td>-0.440738</td>\n",
       "      <td>-0.068266</td>\n",
       "      <td>0.769495</td>\n",
       "      <td>0.172348</td>\n",
       "      <td>-0.420083</td>\n",
       "      <td>-0.278079</td>\n",
       "      <td>-0.053504</td>\n",
       "      <td>-0.038908</td>\n",
       "      <td>-0.109597</td>\n",
       "      <td>0.053909</td>\n",
       "    </tr>\n",
       "    <tr>\n",
       "      <th>3</th>\n",
       "      <td>-0.503248</td>\n",
       "      <td>1.298930</td>\n",
       "      <td>-0.144550</td>\n",
       "      <td>0.301240</td>\n",
       "      <td>-0.513439</td>\n",
       "      <td>0.912626</td>\n",
       "      <td>-0.307320</td>\n",
       "      <td>0.320779</td>\n",
       "      <td>-1.229697</td>\n",
       "      <td>-0.136878</td>\n",
       "      <td>-0.651302</td>\n",
       "      <td>0.620192</td>\n",
       "      <td>0.512940</td>\n",
       "      <td>0.036129</td>\n",
       "      <td>-0.401293</td>\n",
       "      <td>-0.173425</td>\n",
       "      <td>-0.232671</td>\n",
       "      <td>-0.469109</td>\n",
       "      <td>-0.261184</td>\n",
       "      <td>0.153339</td>\n",
       "    </tr>\n",
       "    <tr>\n",
       "      <th>4</th>\n",
       "      <td>0.380038</td>\n",
       "      <td>1.612978</td>\n",
       "      <td>-0.373544</td>\n",
       "      <td>0.167665</td>\n",
       "      <td>-0.192576</td>\n",
       "      <td>0.542490</td>\n",
       "      <td>0.801776</td>\n",
       "      <td>-1.134388</td>\n",
       "      <td>-1.788970</td>\n",
       "      <td>0.103009</td>\n",
       "      <td>1.082140</td>\n",
       "      <td>-0.724758</td>\n",
       "      <td>-0.053700</td>\n",
       "      <td>-0.055642</td>\n",
       "      <td>-0.033875</td>\n",
       "      <td>0.559731</td>\n",
       "      <td>-0.572111</td>\n",
       "      <td>0.341720</td>\n",
       "      <td>-0.167529</td>\n",
       "      <td>-0.181609</td>\n",
       "    </tr>\n",
       "  </tbody>\n",
       "</table>\n",
       "</div>"
      ],
      "text/plain": [
       "      pca_0     pca_1     pca_2     pca_3     pca_4     pca_5     pca_6  \\\n",
       "0 -1.314192  1.782201  0.041559 -0.185371  0.130311  0.118109  0.358294   \n",
       "1 -2.158732  2.016057  0.007147 -1.144087  0.686659 -0.429770 -0.696072   \n",
       "2 -0.496598  2.825618 -0.204234 -0.999836  0.329184  0.152994 -1.334698   \n",
       "3 -0.503248  1.298930 -0.144550  0.301240 -0.513439  0.912626 -0.307320   \n",
       "4  0.380038  1.612978 -0.373544  0.167665 -0.192576  0.542490  0.801776   \n",
       "\n",
       "      pca_7     pca_8     pca_9    pca_10    pca_11    pca_12    pca_13  \\\n",
       "0 -0.873668 -0.988150 -0.315298 -0.821706 -0.370417 -0.080868 -0.120653   \n",
       "1  1.136631 -0.555495 -0.306271 -0.280593 -0.262476 -0.028546 -0.072195   \n",
       "2  1.185607 -0.464490 -0.455466 -0.440738 -0.068266  0.769495  0.172348   \n",
       "3  0.320779 -1.229697 -0.136878 -0.651302  0.620192  0.512940  0.036129   \n",
       "4 -1.134388 -1.788970  0.103009  1.082140 -0.724758 -0.053700 -0.055642   \n",
       "\n",
       "     pca_14    pca_15    pca_16    pca_17    pca_18    pca_19  \n",
       "0  0.003592  0.110823 -0.022919  0.058335  0.007709  0.042009  \n",
       "1 -0.062789  0.593085 -0.604729  0.235926 -0.059574 -0.205773  \n",
       "2 -0.420083 -0.278079 -0.053504 -0.038908 -0.109597  0.053909  \n",
       "3 -0.401293 -0.173425 -0.232671 -0.469109 -0.261184  0.153339  \n",
       "4 -0.033875  0.559731 -0.572111  0.341720 -0.167529 -0.181609  "
      ]
     },
     "execution_count": 89,
     "metadata": {},
     "output_type": "execute_result"
    }
   ],
   "source": [
    "pca_cols = [f'pca_{x}' for x in range(pca.n_components)]\n",
    "melb_df_pca = pd.DataFrame(data=melb_data_pca,columns=pca_cols)\n",
    "melb_df_pca.head()"
   ]
  },
  {
   "cell_type": "code",
   "execution_count": 90,
   "metadata": {},
   "outputs": [
    {
     "data": {
      "text/html": [
       "<div>\n",
       "<style scoped>\n",
       "    .dataframe tbody tr th:only-of-type {\n",
       "        vertical-align: middle;\n",
       "    }\n",
       "\n",
       "    .dataframe tbody tr th {\n",
       "        vertical-align: top;\n",
       "    }\n",
       "\n",
       "    .dataframe thead th {\n",
       "        text-align: right;\n",
       "    }\n",
       "</style>\n",
       "<table border=\"1\" class=\"dataframe\">\n",
       "  <thead>\n",
       "    <tr style=\"text-align: right;\">\n",
       "      <th></th>\n",
       "      <th>Suburb=Abbotsford</th>\n",
       "      <th>Suburb=Aberfeldie</th>\n",
       "      <th>Suburb=Airport West</th>\n",
       "      <th>Suburb=Albanvale</th>\n",
       "      <th>Suburb=Albert Park</th>\n",
       "      <th>Suburb=Albion</th>\n",
       "      <th>Suburb=Alphington</th>\n",
       "      <th>Suburb=Altona</th>\n",
       "      <th>Suburb=Altona Meadows</th>\n",
       "      <th>Suburb=Altona North</th>\n",
       "      <th>...</th>\n",
       "      <th>pca_10</th>\n",
       "      <th>pca_11</th>\n",
       "      <th>pca_12</th>\n",
       "      <th>pca_13</th>\n",
       "      <th>pca_14</th>\n",
       "      <th>pca_15</th>\n",
       "      <th>pca_16</th>\n",
       "      <th>pca_17</th>\n",
       "      <th>pca_18</th>\n",
       "      <th>pca_19</th>\n",
       "    </tr>\n",
       "  </thead>\n",
       "  <tbody>\n",
       "    <tr>\n",
       "      <th>0</th>\n",
       "      <td>1.0</td>\n",
       "      <td>0.0</td>\n",
       "      <td>0.0</td>\n",
       "      <td>0.0</td>\n",
       "      <td>0.0</td>\n",
       "      <td>0.0</td>\n",
       "      <td>0.0</td>\n",
       "      <td>0.0</td>\n",
       "      <td>0.0</td>\n",
       "      <td>0.0</td>\n",
       "      <td>...</td>\n",
       "      <td>-0.821706</td>\n",
       "      <td>-0.370417</td>\n",
       "      <td>-0.080868</td>\n",
       "      <td>-0.120653</td>\n",
       "      <td>0.003592</td>\n",
       "      <td>0.110823</td>\n",
       "      <td>-0.022919</td>\n",
       "      <td>0.058335</td>\n",
       "      <td>0.007709</td>\n",
       "      <td>0.042009</td>\n",
       "    </tr>\n",
       "    <tr>\n",
       "      <th>1</th>\n",
       "      <td>1.0</td>\n",
       "      <td>0.0</td>\n",
       "      <td>0.0</td>\n",
       "      <td>0.0</td>\n",
       "      <td>0.0</td>\n",
       "      <td>0.0</td>\n",
       "      <td>0.0</td>\n",
       "      <td>0.0</td>\n",
       "      <td>0.0</td>\n",
       "      <td>0.0</td>\n",
       "      <td>...</td>\n",
       "      <td>-0.280593</td>\n",
       "      <td>-0.262476</td>\n",
       "      <td>-0.028546</td>\n",
       "      <td>-0.072195</td>\n",
       "      <td>-0.062789</td>\n",
       "      <td>0.593085</td>\n",
       "      <td>-0.604729</td>\n",
       "      <td>0.235926</td>\n",
       "      <td>-0.059574</td>\n",
       "      <td>-0.205773</td>\n",
       "    </tr>\n",
       "    <tr>\n",
       "      <th>2</th>\n",
       "      <td>1.0</td>\n",
       "      <td>0.0</td>\n",
       "      <td>0.0</td>\n",
       "      <td>0.0</td>\n",
       "      <td>0.0</td>\n",
       "      <td>0.0</td>\n",
       "      <td>0.0</td>\n",
       "      <td>0.0</td>\n",
       "      <td>0.0</td>\n",
       "      <td>0.0</td>\n",
       "      <td>...</td>\n",
       "      <td>-0.440738</td>\n",
       "      <td>-0.068266</td>\n",
       "      <td>0.769495</td>\n",
       "      <td>0.172348</td>\n",
       "      <td>-0.420083</td>\n",
       "      <td>-0.278079</td>\n",
       "      <td>-0.053504</td>\n",
       "      <td>-0.038908</td>\n",
       "      <td>-0.109597</td>\n",
       "      <td>0.053909</td>\n",
       "    </tr>\n",
       "    <tr>\n",
       "      <th>3</th>\n",
       "      <td>1.0</td>\n",
       "      <td>0.0</td>\n",
       "      <td>0.0</td>\n",
       "      <td>0.0</td>\n",
       "      <td>0.0</td>\n",
       "      <td>0.0</td>\n",
       "      <td>0.0</td>\n",
       "      <td>0.0</td>\n",
       "      <td>0.0</td>\n",
       "      <td>0.0</td>\n",
       "      <td>...</td>\n",
       "      <td>-0.651302</td>\n",
       "      <td>0.620192</td>\n",
       "      <td>0.512940</td>\n",
       "      <td>0.036129</td>\n",
       "      <td>-0.401293</td>\n",
       "      <td>-0.173425</td>\n",
       "      <td>-0.232671</td>\n",
       "      <td>-0.469109</td>\n",
       "      <td>-0.261184</td>\n",
       "      <td>0.153339</td>\n",
       "    </tr>\n",
       "    <tr>\n",
       "      <th>4</th>\n",
       "      <td>1.0</td>\n",
       "      <td>0.0</td>\n",
       "      <td>0.0</td>\n",
       "      <td>0.0</td>\n",
       "      <td>0.0</td>\n",
       "      <td>0.0</td>\n",
       "      <td>0.0</td>\n",
       "      <td>0.0</td>\n",
       "      <td>0.0</td>\n",
       "      <td>0.0</td>\n",
       "      <td>...</td>\n",
       "      <td>1.082140</td>\n",
       "      <td>-0.724758</td>\n",
       "      <td>-0.053700</td>\n",
       "      <td>-0.055642</td>\n",
       "      <td>-0.033875</td>\n",
       "      <td>0.559731</td>\n",
       "      <td>-0.572111</td>\n",
       "      <td>0.341720</td>\n",
       "      <td>-0.167529</td>\n",
       "      <td>-0.181609</td>\n",
       "    </tr>\n",
       "  </tbody>\n",
       "</table>\n",
       "<p>5 rows × 605 columns</p>\n",
       "</div>"
      ],
      "text/plain": [
       "   Suburb=Abbotsford  Suburb=Aberfeldie  Suburb=Airport West  \\\n",
       "0                1.0                0.0                  0.0   \n",
       "1                1.0                0.0                  0.0   \n",
       "2                1.0                0.0                  0.0   \n",
       "3                1.0                0.0                  0.0   \n",
       "4                1.0                0.0                  0.0   \n",
       "\n",
       "   Suburb=Albanvale  Suburb=Albert Park  Suburb=Albion  Suburb=Alphington  \\\n",
       "0               0.0                 0.0            0.0                0.0   \n",
       "1               0.0                 0.0            0.0                0.0   \n",
       "2               0.0                 0.0            0.0                0.0   \n",
       "3               0.0                 0.0            0.0                0.0   \n",
       "4               0.0                 0.0            0.0                0.0   \n",
       "\n",
       "   Suburb=Altona  Suburb=Altona Meadows  Suburb=Altona North  ...    pca_10  \\\n",
       "0            0.0                    0.0                  0.0  ... -0.821706   \n",
       "1            0.0                    0.0                  0.0  ... -0.280593   \n",
       "2            0.0                    0.0                  0.0  ... -0.440738   \n",
       "3            0.0                    0.0                  0.0  ... -0.651302   \n",
       "4            0.0                    0.0                  0.0  ...  1.082140   \n",
       "\n",
       "     pca_11    pca_12    pca_13    pca_14    pca_15    pca_16    pca_17  \\\n",
       "0 -0.370417 -0.080868 -0.120653  0.003592  0.110823 -0.022919  0.058335   \n",
       "1 -0.262476 -0.028546 -0.072195 -0.062789  0.593085 -0.604729  0.235926   \n",
       "2 -0.068266  0.769495  0.172348 -0.420083 -0.278079 -0.053504 -0.038908   \n",
       "3  0.620192  0.512940  0.036129 -0.401293 -0.173425 -0.232671 -0.469109   \n",
       "4 -0.724758 -0.053700 -0.055642 -0.033875  0.559731 -0.572111  0.341720   \n",
       "\n",
       "     pca_18    pca_19  \n",
       "0  0.007709  0.042009  \n",
       "1 -0.059574 -0.205773  \n",
       "2 -0.109597  0.053909  \n",
       "3 -0.261184  0.153339  \n",
       "4 -0.167529 -0.181609  \n",
       "\n",
       "[5 rows x 605 columns]"
      ]
     },
     "execution_count": 90,
     "metadata": {},
     "output_type": "execute_result"
    }
   ],
   "source": [
    "melb_df_pca_f = pd.concat([melb_data_mice_f, melb_df_pca], axis=1)\n",
    "melb_df_pca_f.head()"
   ]
  },
  {
   "cell_type": "markdown",
   "metadata": {},
   "source": [
    "---"
   ]
  },
  {
   "cell_type": "markdown",
   "metadata": {
    "id": "WrZTYmG_ZyDy"
   },
   "source": [
    "## Ejercicio 4: Composición del resultado\n",
    "\n",
    "Transformar nuevamente el conjunto de datos procesado en un `pandas.DataFrame` y guardarlo en un archivo.\n",
    "\n",
    "Para eso, será necesario recordar el nombre original de cada columna de la matriz, en el orden correcto. Tener en cuenta:\n",
    "1. El método `OneHotEncoder.get_feature_names` o el atributo `OneHotEncoder.categories_` permiten obtener una lista con los valores de la categoría que le corresponde a cada índice de la matriz.\n",
    "2. Ninguno de los métodos aplicados intercambia de lugar las columnas o las filas de la matriz."
   ]
  },
  {
   "cell_type": "code",
   "execution_count": null,
   "metadata": {
    "colab": {
     "base_uri": "https://localhost:8080/",
     "height": 291
    },
    "executionInfo": {
     "elapsed": 20,
     "status": "ok",
     "timestamp": 1626999958289,
     "user": {
      "displayName": "María Belén Acotto",
      "photoUrl": "https://lh3.googleusercontent.com/a-/AOh14GgxTl0geb_R3SIr4AA6LSVxhUsOjZdbmESuiHF-wOs=s64",
      "userId": "02753886766132213766"
     },
     "user_tz": 180
    },
    "id": "DfchYPgTxvQ4",
    "outputId": "470c10ff-6884-4f7b-f5f0-69d0c409b5ad"
   },
   "outputs": [],
   "source": [
    "## Small example\n",
    "from sklearn.decomposition import PCA\n",
    "from sklearn.preprocessing import OneHotEncoder\n",
    "\n",
    "## If we process our data with the following steps:\n",
    "categorical_cols = ['Type', 'Regionname']\n",
    "numerical_cols = ['Rooms', 'Distance']\n",
    "new_columns = []\n",
    "\n",
    "# Step 1: encode categorical columns\n",
    "encoder = OneHotEncoder(handle_unknown='ignore', sparse=False)\n",
    "X_cat = encoder.fit_transform(melb_df[categorical_cols])\n",
    "for col, col_values in zip(categorical_cols, encoder.categories_):\n",
    "  for col_value in col_values:\n",
    "    new_columns.append('{}={}'.format(col, col_value))\n",
    "print(\"Matrix has shape {}, with columns: {}\".format(X_cat.shape, new_columns))\n",
    "\n",
    "# Step 2: Append the numerical columns\n",
    "X = numpy.hstack([X_cat, melb_df[numerical_cols].values])\n",
    "new_columns.extend(numerical_cols)\n",
    "print(\"Matrix has shape {}, with columns: {}\".format(X_cat.shape, new_columns))\n",
    "\n",
    "# Step 3: Append some new features, like PCA\n",
    "pca = PCA(n_components=2)\n",
    "pca_dummy_features = pca.fit_transform(X)\n",
    "X_pca = numpy.hstack([X, pca_dummy_features])\n",
    "new_columns.extend(['pca1', 'pca2'])\n",
    "\n",
    "## Re-build dataframe\n",
    "processed_melb_df = pandas.DataFrame(data=X_pca, columns=new_columns)\n",
    "processed_melb_df.head()"
   ]
  },
  {
   "cell_type": "markdown",
   "metadata": {
    "id": "mVBLFc8PhRtW"
   },
   "source": [
    "## Ejercicio 5: Documentación\n",
    "\n",
    "En un documento `.pdf` o `.md` realizar un reporte de las operaciones que realizaron para obtener el conjunto de datos final. Se debe incluir:\n",
    "  1. Criterios de exclusión (o inclusión) de filas\n",
    "  2. Interpretación de las columnas presentes\n",
    "  2. Todas las transofrmaciones realizadas\n",
    "\n",
    "Este documento es de uso técnico exclusivamente, y su objetivo es permitir que otres desarrolladores puedan reproducir los mismos pasos y obtener el mismo resultado. Debe ser detallado pero consiso. Por ejemplo:\n",
    "\n",
    "```\n",
    "  ## Criterios de exclusión de ejemplos\n",
    "  1. Se eliminan ejemplos donde el año de construcción es previo a 1900\n",
    "\n",
    "  ## Características seleccionadas\n",
    "  ### Características categóricas\n",
    "  1. Type: tipo de propiedad. 3 valores posibles\n",
    "  2. ...\n",
    "  Todas las características categóricas fueron codificadas con un\n",
    "  método OneHotEncoding utilizando como máximo sus 30 valores más \n",
    "  frecuentes.\n",
    "  \n",
    "  ### Características numéricas\n",
    "  1. Rooms: Cantidad de habitaciones\n",
    "  2. Distance: Distancia al centro de la ciudad.\n",
    "  3. airbnb_mean_price: Se agrega el precio promedio diario de \n",
    "     publicaciones de la plataforma AirBnB en el mismo código \n",
    "     postal. [Link al repositorio con datos externos].\n",
    "\n",
    "  ### Transformaciones:\n",
    "  1. Todas las características numéricas fueron estandarizadas.\n",
    "  2. La columna `Suburb` fue imputada utilizando el método ...\n",
    "  3. Las columnas `YearBuilt` y ... fueron imputadas utilizando el \n",
    "     algoritmo ...\n",
    "  4. ...\n",
    "\n",
    "  ### Datos aumentados\n",
    "  1. Se agregan las 5 primeras columnas obtenidas a través del\n",
    "     método de PCA, aplicado sobre el conjunto de datos\n",
    "     totalmente procesado.\n",
    "```\n"
   ]
  },
  {
   "cell_type": "markdown",
   "metadata": {
    "id": "Bq7nuPg2HIYx"
   },
   "source": []
  }
 ],
 "metadata": {
  "colab": {
   "collapsed_sections": [],
   "name": "Entregable_Parte_2.ipynb",
   "provenance": [
    {
     "file_id": "https://github.com/DiploDatos/AnalisisYCuracion/blob/master/Entregable_Parte_2.ipynb",
     "timestamp": 1624573037242
    }
   ]
  },
  "kernelspec": {
   "display_name": "Python 3",
   "language": "python",
   "name": "python3"
  },
  "language_info": {
   "codemirror_mode": {
    "name": "ipython",
    "version": 3
   },
   "file_extension": ".py",
   "mimetype": "text/x-python",
   "name": "python",
   "nbconvert_exporter": "python",
   "pygments_lexer": "ipython3",
   "version": "3.8.8"
  }
 },
 "nbformat": 4,
 "nbformat_minor": 4
}
