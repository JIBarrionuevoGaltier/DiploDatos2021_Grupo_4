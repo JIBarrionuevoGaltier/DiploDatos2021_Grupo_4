{
 "cells": [
  {
   "cell_type": "markdown",
   "id": "1ca6f1f0-71ac-47f1-bbc8-bb0a7cd77dff",
   "metadata": {
    "id": "zO4bRoxr2Apy"
   },
   "source": [
    "**Diplomatura en Ciencia de Datos, Aprendizaje Automático y sus Aplicaciones**\n",
    "\n",
    "**Aprendizaje Supervisado**\n",
    "\n",
    "*Edición 2021*\n",
    "\n",
    "---"
   ]
  },
  {
   "cell_type": "markdown",
   "id": "3e3aabae-a432-4237-a401-530b5e47b341",
   "metadata": {
    "id": "zO4bRoxr2Apy",
    "tags": []
   },
   "source": [
    "# TRABAJO PRÁCTICO ENTREGABLE - PARTE I\n",
    "\n",
    "## INTEGRANTES DEL GRUPO IV:\n",
    "*   María Belén Acotto\n",
    "*   Juan Ignacio Barrionuevo Galtier\n",
    "*   Gonzalo Heredia Edelstein\n",
    "\n",
    "---"
   ]
  },
  {
   "cell_type": "markdown",
   "id": "3ce63c08-3d6d-4205-87ea-a11cd674aaf6",
   "metadata": {},
   "source": [
    "## Importación de Librerías"
   ]
  },
  {
   "cell_type": "code",
   "execution_count": 1,
   "id": "bc967b09-6c9c-4fd3-9420-6f6e9a36b420",
   "metadata": {},
   "outputs": [],
   "source": [
    "import pandas as pd\n",
    "import numpy as np\n",
    "import matplotlib.pyplot as plt\n",
    "import seaborn as sns\n",
    "import os\n",
    "from tabulate import tabulate\n",
    "import math\n",
    "\n",
    "from sklearn.preprocessing import LabelEncoder\n",
    "from sklearn.ensemble import BaggingClassifier, RandomForestClassifier\n",
    "from sklearn.model_selection import GridSearchCV, RepeatedStratifiedKFold\n",
    "from sklearn.metrics import confusion_matrix, classification_report, ConfusionMatrixDisplay\n",
    "from imblearn.over_sampling import SMOTE\n",
    "from sklearn.tree import DecisionTreeClassifier\n",
    "from xgboost import XGBClassifier"
   ]
  },
  {
   "cell_type": "markdown",
   "id": "9474a006-c167-415a-bedb-7461d401cb50",
   "metadata": {},
   "source": [
    "## Análisis y Pre-Proceso"
   ]
  },
  {
   "cell_type": "markdown",
   "id": "f0809592-15ea-4299-9c5c-cf1675fefc7c",
   "metadata": {},
   "source": [
    "### Lectura del Dataset"
   ]
  },
  {
   "cell_type": "code",
   "execution_count": 2,
   "id": "6dd8778b-0ec3-4ae1-8489-f0c6c4f4f5dd",
   "metadata": {},
   "outputs": [
    {
     "data": {
      "text/html": [
       "<div>\n",
       "<style scoped>\n",
       "    .dataframe tbody tr th:only-of-type {\n",
       "        vertical-align: middle;\n",
       "    }\n",
       "\n",
       "    .dataframe tbody tr th {\n",
       "        vertical-align: top;\n",
       "    }\n",
       "\n",
       "    .dataframe thead th {\n",
       "        text-align: right;\n",
       "    }\n",
       "</style>\n",
       "<table border=\"1\" class=\"dataframe\">\n",
       "  <thead>\n",
       "    <tr style=\"text-align: right;\">\n",
       "      <th></th>\n",
       "      <th>Customer</th>\n",
       "      <th>Age</th>\n",
       "      <th>Employment Type</th>\n",
       "      <th>GraduateOrNot</th>\n",
       "      <th>AnnualIncome</th>\n",
       "      <th>FamilyMembers</th>\n",
       "      <th>ChronicDiseases</th>\n",
       "      <th>FrequentFlyer</th>\n",
       "      <th>EverTravelledAbroad</th>\n",
       "      <th>TravelInsurance</th>\n",
       "    </tr>\n",
       "  </thead>\n",
       "  <tbody>\n",
       "    <tr>\n",
       "      <th>0</th>\n",
       "      <td>1</td>\n",
       "      <td>33</td>\n",
       "      <td>Private Sector/Self Employed</td>\n",
       "      <td>Yes</td>\n",
       "      <td>550000</td>\n",
       "      <td>6</td>\n",
       "      <td>0</td>\n",
       "      <td>No</td>\n",
       "      <td>No</td>\n",
       "      <td>1</td>\n",
       "    </tr>\n",
       "    <tr>\n",
       "      <th>1</th>\n",
       "      <td>2</td>\n",
       "      <td>28</td>\n",
       "      <td>Private Sector/Self Employed</td>\n",
       "      <td>Yes</td>\n",
       "      <td>800000</td>\n",
       "      <td>7</td>\n",
       "      <td>0</td>\n",
       "      <td>Yes</td>\n",
       "      <td>No</td>\n",
       "      <td>0</td>\n",
       "    </tr>\n",
       "    <tr>\n",
       "      <th>2</th>\n",
       "      <td>3</td>\n",
       "      <td>31</td>\n",
       "      <td>Private Sector/Self Employed</td>\n",
       "      <td>Yes</td>\n",
       "      <td>1250000</td>\n",
       "      <td>4</td>\n",
       "      <td>0</td>\n",
       "      <td>No</td>\n",
       "      <td>No</td>\n",
       "      <td>0</td>\n",
       "    </tr>\n",
       "    <tr>\n",
       "      <th>3</th>\n",
       "      <td>4</td>\n",
       "      <td>31</td>\n",
       "      <td>Government Sector</td>\n",
       "      <td>No</td>\n",
       "      <td>300000</td>\n",
       "      <td>7</td>\n",
       "      <td>0</td>\n",
       "      <td>No</td>\n",
       "      <td>No</td>\n",
       "      <td>0</td>\n",
       "    </tr>\n",
       "    <tr>\n",
       "      <th>4</th>\n",
       "      <td>5</td>\n",
       "      <td>28</td>\n",
       "      <td>Private Sector/Self Employed</td>\n",
       "      <td>Yes</td>\n",
       "      <td>1250000</td>\n",
       "      <td>3</td>\n",
       "      <td>0</td>\n",
       "      <td>No</td>\n",
       "      <td>No</td>\n",
       "      <td>0</td>\n",
       "    </tr>\n",
       "  </tbody>\n",
       "</table>\n",
       "</div>"
      ],
      "text/plain": [
       "   Customer  Age               Employment Type GraduateOrNot  AnnualIncome  \\\n",
       "0         1   33  Private Sector/Self Employed           Yes        550000   \n",
       "1         2   28  Private Sector/Self Employed           Yes        800000   \n",
       "2         3   31  Private Sector/Self Employed           Yes       1250000   \n",
       "3         4   31             Government Sector            No        300000   \n",
       "4         5   28  Private Sector/Self Employed           Yes       1250000   \n",
       "\n",
       "   FamilyMembers  ChronicDiseases FrequentFlyer EverTravelledAbroad  \\\n",
       "0              6                0            No                  No   \n",
       "1              7                0           Yes                  No   \n",
       "2              4                0            No                  No   \n",
       "3              7                0            No                  No   \n",
       "4              3                0            No                  No   \n",
       "\n",
       "   TravelInsurance  \n",
       "0                1  \n",
       "1                0  \n",
       "2                0  \n",
       "3                0  \n",
       "4                0  "
      ]
     },
     "execution_count": 2,
     "metadata": {},
     "output_type": "execute_result"
    }
   ],
   "source": [
    "df = pd.read_csv('./data/travel_insurance_prediction_train.csv')\n",
    "df.head()"
   ]
  },
  {
   "cell_type": "code",
   "execution_count": 3,
   "id": "e39d679d-c25d-474d-bc37-3bb5b53b8204",
   "metadata": {},
   "outputs": [
    {
     "data": {
      "text/html": [
       "<div>\n",
       "<style scoped>\n",
       "    .dataframe tbody tr th:only-of-type {\n",
       "        vertical-align: middle;\n",
       "    }\n",
       "\n",
       "    .dataframe tbody tr th {\n",
       "        vertical-align: top;\n",
       "    }\n",
       "\n",
       "    .dataframe thead th {\n",
       "        text-align: right;\n",
       "    }\n",
       "</style>\n",
       "<table border=\"1\" class=\"dataframe\">\n",
       "  <thead>\n",
       "    <tr style=\"text-align: right;\">\n",
       "      <th></th>\n",
       "      <th>Customer</th>\n",
       "      <th>Age</th>\n",
       "      <th>Employment Type</th>\n",
       "      <th>GraduateOrNot</th>\n",
       "      <th>AnnualIncome</th>\n",
       "      <th>FamilyMembers</th>\n",
       "      <th>ChronicDiseases</th>\n",
       "      <th>FrequentFlyer</th>\n",
       "      <th>EverTravelledAbroad</th>\n",
       "    </tr>\n",
       "  </thead>\n",
       "  <tbody>\n",
       "    <tr>\n",
       "      <th>0</th>\n",
       "      <td>1491</td>\n",
       "      <td>29</td>\n",
       "      <td>Private Sector/Self Employed</td>\n",
       "      <td>Yes</td>\n",
       "      <td>1100000</td>\n",
       "      <td>4</td>\n",
       "      <td>0</td>\n",
       "      <td>No</td>\n",
       "      <td>No</td>\n",
       "    </tr>\n",
       "    <tr>\n",
       "      <th>1</th>\n",
       "      <td>1492</td>\n",
       "      <td>28</td>\n",
       "      <td>Private Sector/Self Employed</td>\n",
       "      <td>Yes</td>\n",
       "      <td>750000</td>\n",
       "      <td>5</td>\n",
       "      <td>1</td>\n",
       "      <td>Yes</td>\n",
       "      <td>No</td>\n",
       "    </tr>\n",
       "    <tr>\n",
       "      <th>2</th>\n",
       "      <td>1493</td>\n",
       "      <td>31</td>\n",
       "      <td>Government Sector</td>\n",
       "      <td>Yes</td>\n",
       "      <td>1500000</td>\n",
       "      <td>4</td>\n",
       "      <td>0</td>\n",
       "      <td>Yes</td>\n",
       "      <td>Yes</td>\n",
       "    </tr>\n",
       "    <tr>\n",
       "      <th>3</th>\n",
       "      <td>1494</td>\n",
       "      <td>28</td>\n",
       "      <td>Private Sector/Self Employed</td>\n",
       "      <td>Yes</td>\n",
       "      <td>1400000</td>\n",
       "      <td>3</td>\n",
       "      <td>0</td>\n",
       "      <td>No</td>\n",
       "      <td>Yes</td>\n",
       "    </tr>\n",
       "    <tr>\n",
       "      <th>4</th>\n",
       "      <td>1495</td>\n",
       "      <td>33</td>\n",
       "      <td>Private Sector/Self Employed</td>\n",
       "      <td>Yes</td>\n",
       "      <td>1500000</td>\n",
       "      <td>4</td>\n",
       "      <td>0</td>\n",
       "      <td>Yes</td>\n",
       "      <td>Yes</td>\n",
       "    </tr>\n",
       "  </tbody>\n",
       "</table>\n",
       "</div>"
      ],
      "text/plain": [
       "   Customer  Age               Employment Type GraduateOrNot  AnnualIncome  \\\n",
       "0      1491   29  Private Sector/Self Employed           Yes       1100000   \n",
       "1      1492   28  Private Sector/Self Employed           Yes        750000   \n",
       "2      1493   31             Government Sector           Yes       1500000   \n",
       "3      1494   28  Private Sector/Self Employed           Yes       1400000   \n",
       "4      1495   33  Private Sector/Self Employed           Yes       1500000   \n",
       "\n",
       "   FamilyMembers  ChronicDiseases FrequentFlyer EverTravelledAbroad  \n",
       "0              4                0            No                  No  \n",
       "1              5                1           Yes                  No  \n",
       "2              4                0           Yes                 Yes  \n",
       "3              3                0            No                 Yes  \n",
       "4              4                0           Yes                 Yes  "
      ]
     },
     "execution_count": 3,
     "metadata": {},
     "output_type": "execute_result"
    }
   ],
   "source": [
    "test_df_ori = pd.read_csv('./data/travel_insurance_prediction_test.csv')\n",
    "test_df = test_df_ori.copy(deep=False)\n",
    "test_df.head()"
   ]
  },
  {
   "cell_type": "markdown",
   "id": "cba33dc6-dc10-4f3e-b4f5-086ae6c2fcc3",
   "metadata": {},
   "source": [
    "### Análisis del Dataset"
   ]
  },
  {
   "cell_type": "code",
   "execution_count": 4,
   "id": "1ffc7d70-41ba-4c3f-a433-04b3b5da6229",
   "metadata": {
    "tags": []
   },
   "outputs": [
    {
     "name": "stdout",
     "output_type": "stream",
     "text": [
      "Dimensionalidad Train:\n",
      "| Rows | 1490 |\n",
      "| Cols |   10 |\n"
     ]
    }
   ],
   "source": [
    "print('Dimensionalidad Train:')\n",
    "print(tabulate([['Rows', df.shape[0]], ['Cols', df.shape[1]]], tablefmt='orgtbl'))"
   ]
  },
  {
   "cell_type": "code",
   "execution_count": 5,
   "id": "7df0a09f-b47f-47c2-86b4-2a2859103dfb",
   "metadata": {
    "tags": []
   },
   "outputs": [
    {
     "name": "stdout",
     "output_type": "stream",
     "text": [
      "<class 'pandas.core.frame.DataFrame'>\n",
      "RangeIndex: 1490 entries, 0 to 1489\n",
      "Data columns (total 10 columns):\n",
      " #   Column               Non-Null Count  Dtype \n",
      "---  ------               --------------  ----- \n",
      " 0   Customer             1490 non-null   int64 \n",
      " 1   Age                  1490 non-null   int64 \n",
      " 2   Employment Type      1490 non-null   object\n",
      " 3   GraduateOrNot        1490 non-null   object\n",
      " 4   AnnualIncome         1490 non-null   int64 \n",
      " 5   FamilyMembers        1490 non-null   int64 \n",
      " 6   ChronicDiseases      1490 non-null   int64 \n",
      " 7   FrequentFlyer        1490 non-null   object\n",
      " 8   EverTravelledAbroad  1490 non-null   object\n",
      " 9   TravelInsurance      1490 non-null   int64 \n",
      "dtypes: int64(6), object(4)\n",
      "memory usage: 116.5+ KB\n"
     ]
    }
   ],
   "source": [
    "df.info()"
   ]
  },
  {
   "cell_type": "code",
   "execution_count": 6,
   "id": "9096d488-17ea-4055-8778-f3d7a65e489d",
   "metadata": {
    "tags": []
   },
   "outputs": [
    {
     "name": "stdout",
     "output_type": "stream",
     "text": [
      "<class 'pandas.core.frame.DataFrame'>\n",
      "RangeIndex: 497 entries, 0 to 496\n",
      "Data columns (total 9 columns):\n",
      " #   Column               Non-Null Count  Dtype \n",
      "---  ------               --------------  ----- \n",
      " 0   Customer             497 non-null    int64 \n",
      " 1   Age                  497 non-null    int64 \n",
      " 2   Employment Type      497 non-null    object\n",
      " 3   GraduateOrNot        497 non-null    object\n",
      " 4   AnnualIncome         497 non-null    int64 \n",
      " 5   FamilyMembers        497 non-null    int64 \n",
      " 6   ChronicDiseases      497 non-null    int64 \n",
      " 7   FrequentFlyer        497 non-null    object\n",
      " 8   EverTravelledAbroad  497 non-null    object\n",
      "dtypes: int64(5), object(4)\n",
      "memory usage: 35.1+ KB\n"
     ]
    }
   ],
   "source": [
    "test_df.info()"
   ]
  },
  {
   "cell_type": "code",
   "execution_count": 7,
   "id": "88506838-dd78-440b-9797-5fa70f08fe87",
   "metadata": {},
   "outputs": [
    {
     "data": {
      "text/html": [
       "<div>\n",
       "<style scoped>\n",
       "    .dataframe tbody tr th:only-of-type {\n",
       "        vertical-align: middle;\n",
       "    }\n",
       "\n",
       "    .dataframe tbody tr th {\n",
       "        vertical-align: top;\n",
       "    }\n",
       "\n",
       "    .dataframe thead th {\n",
       "        text-align: right;\n",
       "    }\n",
       "</style>\n",
       "<table border=\"1\" class=\"dataframe\">\n",
       "  <thead>\n",
       "    <tr style=\"text-align: right;\">\n",
       "      <th></th>\n",
       "      <th>Customer</th>\n",
       "      <th>Age</th>\n",
       "      <th>AnnualIncome</th>\n",
       "      <th>FamilyMembers</th>\n",
       "      <th>ChronicDiseases</th>\n",
       "      <th>TravelInsurance</th>\n",
       "    </tr>\n",
       "  </thead>\n",
       "  <tbody>\n",
       "    <tr>\n",
       "      <th>count</th>\n",
       "      <td>1490.000000</td>\n",
       "      <td>1490.000000</td>\n",
       "      <td>1.490000e+03</td>\n",
       "      <td>1490.000000</td>\n",
       "      <td>1490.000000</td>\n",
       "      <td>1490.000000</td>\n",
       "    </tr>\n",
       "    <tr>\n",
       "      <th>mean</th>\n",
       "      <td>745.500000</td>\n",
       "      <td>29.667114</td>\n",
       "      <td>9.278188e+05</td>\n",
       "      <td>4.777181</td>\n",
       "      <td>0.275839</td>\n",
       "      <td>0.357047</td>\n",
       "    </tr>\n",
       "    <tr>\n",
       "      <th>std</th>\n",
       "      <td>430.270264</td>\n",
       "      <td>2.880994</td>\n",
       "      <td>3.811715e+05</td>\n",
       "      <td>1.640248</td>\n",
       "      <td>0.447086</td>\n",
       "      <td>0.479290</td>\n",
       "    </tr>\n",
       "    <tr>\n",
       "      <th>min</th>\n",
       "      <td>1.000000</td>\n",
       "      <td>25.000000</td>\n",
       "      <td>3.000000e+05</td>\n",
       "      <td>2.000000</td>\n",
       "      <td>0.000000</td>\n",
       "      <td>0.000000</td>\n",
       "    </tr>\n",
       "    <tr>\n",
       "      <th>25%</th>\n",
       "      <td>373.250000</td>\n",
       "      <td>28.000000</td>\n",
       "      <td>6.000000e+05</td>\n",
       "      <td>4.000000</td>\n",
       "      <td>0.000000</td>\n",
       "      <td>0.000000</td>\n",
       "    </tr>\n",
       "    <tr>\n",
       "      <th>50%</th>\n",
       "      <td>745.500000</td>\n",
       "      <td>29.000000</td>\n",
       "      <td>9.000000e+05</td>\n",
       "      <td>5.000000</td>\n",
       "      <td>0.000000</td>\n",
       "      <td>0.000000</td>\n",
       "    </tr>\n",
       "    <tr>\n",
       "      <th>75%</th>\n",
       "      <td>1117.750000</td>\n",
       "      <td>32.000000</td>\n",
       "      <td>1.250000e+06</td>\n",
       "      <td>6.000000</td>\n",
       "      <td>1.000000</td>\n",
       "      <td>1.000000</td>\n",
       "    </tr>\n",
       "    <tr>\n",
       "      <th>max</th>\n",
       "      <td>1490.000000</td>\n",
       "      <td>35.000000</td>\n",
       "      <td>1.800000e+06</td>\n",
       "      <td>9.000000</td>\n",
       "      <td>1.000000</td>\n",
       "      <td>1.000000</td>\n",
       "    </tr>\n",
       "  </tbody>\n",
       "</table>\n",
       "</div>"
      ],
      "text/plain": [
       "          Customer          Age  AnnualIncome  FamilyMembers  ChronicDiseases  \\\n",
       "count  1490.000000  1490.000000  1.490000e+03    1490.000000      1490.000000   \n",
       "mean    745.500000    29.667114  9.278188e+05       4.777181         0.275839   \n",
       "std     430.270264     2.880994  3.811715e+05       1.640248         0.447086   \n",
       "min       1.000000    25.000000  3.000000e+05       2.000000         0.000000   \n",
       "25%     373.250000    28.000000  6.000000e+05       4.000000         0.000000   \n",
       "50%     745.500000    29.000000  9.000000e+05       5.000000         0.000000   \n",
       "75%    1117.750000    32.000000  1.250000e+06       6.000000         1.000000   \n",
       "max    1490.000000    35.000000  1.800000e+06       9.000000         1.000000   \n",
       "\n",
       "       TravelInsurance  \n",
       "count      1490.000000  \n",
       "mean          0.357047  \n",
       "std           0.479290  \n",
       "min           0.000000  \n",
       "25%           0.000000  \n",
       "50%           0.000000  \n",
       "75%           1.000000  \n",
       "max           1.000000  "
      ]
     },
     "execution_count": 7,
     "metadata": {},
     "output_type": "execute_result"
    }
   ],
   "source": [
    "df.describe()"
   ]
  },
  {
   "cell_type": "code",
   "execution_count": 8,
   "id": "94a56c76-4903-4001-bb65-0e0fc48c5f5e",
   "metadata": {},
   "outputs": [
    {
     "data": {
      "text/html": [
       "<div>\n",
       "<style scoped>\n",
       "    .dataframe tbody tr th:only-of-type {\n",
       "        vertical-align: middle;\n",
       "    }\n",
       "\n",
       "    .dataframe tbody tr th {\n",
       "        vertical-align: top;\n",
       "    }\n",
       "\n",
       "    .dataframe thead th {\n",
       "        text-align: right;\n",
       "    }\n",
       "</style>\n",
       "<table border=\"1\" class=\"dataframe\">\n",
       "  <thead>\n",
       "    <tr style=\"text-align: right;\">\n",
       "      <th></th>\n",
       "      <th>Customer</th>\n",
       "      <th>Age</th>\n",
       "      <th>AnnualIncome</th>\n",
       "      <th>FamilyMembers</th>\n",
       "      <th>ChronicDiseases</th>\n",
       "    </tr>\n",
       "  </thead>\n",
       "  <tbody>\n",
       "    <tr>\n",
       "      <th>count</th>\n",
       "      <td>497.000000</td>\n",
       "      <td>497.000000</td>\n",
       "      <td>4.970000e+02</td>\n",
       "      <td>497.00000</td>\n",
       "      <td>497.000000</td>\n",
       "    </tr>\n",
       "    <tr>\n",
       "      <th>mean</th>\n",
       "      <td>1739.000000</td>\n",
       "      <td>29.599598</td>\n",
       "      <td>9.475855e+05</td>\n",
       "      <td>4.68008</td>\n",
       "      <td>0.283702</td>\n",
       "    </tr>\n",
       "    <tr>\n",
       "      <th>std</th>\n",
       "      <td>143.615807</td>\n",
       "      <td>3.010506</td>\n",
       "      <td>3.635818e+05</td>\n",
       "      <td>1.51347</td>\n",
       "      <td>0.451248</td>\n",
       "    </tr>\n",
       "    <tr>\n",
       "      <th>min</th>\n",
       "      <td>1491.000000</td>\n",
       "      <td>25.000000</td>\n",
       "      <td>3.000000e+05</td>\n",
       "      <td>2.00000</td>\n",
       "      <td>0.000000</td>\n",
       "    </tr>\n",
       "    <tr>\n",
       "      <th>25%</th>\n",
       "      <td>1615.000000</td>\n",
       "      <td>28.000000</td>\n",
       "      <td>6.500000e+05</td>\n",
       "      <td>4.00000</td>\n",
       "      <td>0.000000</td>\n",
       "    </tr>\n",
       "    <tr>\n",
       "      <th>50%</th>\n",
       "      <td>1739.000000</td>\n",
       "      <td>29.000000</td>\n",
       "      <td>9.500000e+05</td>\n",
       "      <td>4.00000</td>\n",
       "      <td>0.000000</td>\n",
       "    </tr>\n",
       "    <tr>\n",
       "      <th>75%</th>\n",
       "      <td>1863.000000</td>\n",
       "      <td>32.000000</td>\n",
       "      <td>1.250000e+06</td>\n",
       "      <td>6.00000</td>\n",
       "      <td>1.000000</td>\n",
       "    </tr>\n",
       "    <tr>\n",
       "      <th>max</th>\n",
       "      <td>1987.000000</td>\n",
       "      <td>35.000000</td>\n",
       "      <td>1.750000e+06</td>\n",
       "      <td>9.00000</td>\n",
       "      <td>1.000000</td>\n",
       "    </tr>\n",
       "  </tbody>\n",
       "</table>\n",
       "</div>"
      ],
      "text/plain": [
       "          Customer         Age  AnnualIncome  FamilyMembers  ChronicDiseases\n",
       "count   497.000000  497.000000  4.970000e+02      497.00000       497.000000\n",
       "mean   1739.000000   29.599598  9.475855e+05        4.68008         0.283702\n",
       "std     143.615807    3.010506  3.635818e+05        1.51347         0.451248\n",
       "min    1491.000000   25.000000  3.000000e+05        2.00000         0.000000\n",
       "25%    1615.000000   28.000000  6.500000e+05        4.00000         0.000000\n",
       "50%    1739.000000   29.000000  9.500000e+05        4.00000         0.000000\n",
       "75%    1863.000000   32.000000  1.250000e+06        6.00000         1.000000\n",
       "max    1987.000000   35.000000  1.750000e+06        9.00000         1.000000"
      ]
     },
     "execution_count": 8,
     "metadata": {},
     "output_type": "execute_result"
    }
   ],
   "source": [
    "test_df.describe()"
   ]
  },
  {
   "cell_type": "code",
   "execution_count": 9,
   "id": "9288210a-bad7-4fd2-b20f-8cf647bc7815",
   "metadata": {},
   "outputs": [],
   "source": [
    "df = df.rename(columns={'Employment Type': 'EmploymentType'})\n",
    "test_df = test_df.rename(columns={'Employment Type': 'EmploymentType'})"
   ]
  },
  {
   "cell_type": "code",
   "execution_count": 10,
   "id": "9f884878-1b6b-49ce-be2a-84c26715b874",
   "metadata": {},
   "outputs": [
    {
     "name": "stdout",
     "output_type": "stream",
     "text": [
      "EmploymentType: ['Private Sector/Self Employed' 'Government Sector']\n",
      "GraduateOrNot: ['Yes' 'No']\n",
      "FrequentFlyer: ['No' 'Yes']\n",
      "EverTravelledAbroad: ['No' 'Yes']\n"
     ]
    }
   ],
   "source": [
    "cat_ftrs = df.select_dtypes(include = \"object\").columns.values #Tomamos aquellas columnas categóricas\n",
    "num_ftrs = df.iloc[:, 1:-1].columns.values[~np.isin(df.iloc[:, 1:-1].columns.values, cat_ftrs)] #Tomamos aquellas columnas numéricas sin el Id y el Target\n",
    "\n",
    "for col in cat_ftrs:\n",
    "    print(f'{col}: {df[col].unique()}')"
   ]
  },
  {
   "cell_type": "markdown",
   "id": "edcf8068-5b43-4f96-8e67-ee6e5b506f00",
   "metadata": {},
   "source": [
    "---\n",
    "El dataset es proporcionado por una empresa de turismo que desea saber si un cliente estará interesado en comprar el paquete de seguro de viaje.\n",
    "\n",
    "Features:\n",
    "* **Customer**: Id del cliente. _Variable Categórica_.\n",
    "* **Age**: Edad del cliente en cuestión. De entre los 25 a los 35 años en nuestro conjunto de Train. _Variable Numérica_.\n",
    "* **EmploymentType**: El tipo de empleo. Dos tipos: Sector privado o autónomo y sector público. _Variable Categórica Discreta_.\n",
    "* **GraduateOrNot**: Si son graduados universitarios o no. _Variable Categórica Discreta_.\n",
    "* **AnnualIncome**: Ingleso anual en rupias indias. _Variable Numérica_.\n",
    "* **FamilyMembers**: Cantidad de miembros en la familia. _Variable Numérica_.\n",
    "* **ChronicDiseases**: Si el cliente padece alguna enfermedad o condición importante como diabetes/alta presión arterial o asma, etc. _Variable Numérica_.\n",
    "* **FrequentFlyer**: Datos derivados basados en el historial del cliente. Indica si un cliente hizo una reserva de pasaje de avión en al menos 4 instancias diferentes en los últimos 2 años (2017-2019). _Variable Categórica Discreta_.\n",
    "* **EverTravelledAbroad**: Indica si el cliente viajó o no al extranjero. _Variable Categórica Discreta_.\n",
    "\n",
    "Target:\n",
    "* **TravelInsurance**: Variable binaria que indica 1 (uno), si el cliente compró el paquete de seguro de viaje, o 0 (cero), si no lo hizo. Esto se basa en el año 2019.\n",
    "---"
   ]
  },
  {
   "cell_type": "markdown",
   "id": "9e149db1-3f26-46ba-b4ae-0c1e400d72dd",
   "metadata": {},
   "source": [
    "### Features"
   ]
  },
  {
   "cell_type": "markdown",
   "id": "189b22d2-f542-49f8-bc0a-2bcf331bcb42",
   "metadata": {},
   "source": [
    "Como primera instancia, tenemos la variable **Customer**, la cual es un id, por lo que directamente sacaremos del análisis."
   ]
  },
  {
   "cell_type": "code",
   "execution_count": 11,
   "id": "c9df5b65-f0ae-4d5c-9726-e7ed1551db69",
   "metadata": {},
   "outputs": [],
   "source": [
    "df_ti = df.drop(columns=['Customer'])\n",
    "test_df.drop(columns=['Customer'], inplace=True)"
   ]
  },
  {
   "cell_type": "markdown",
   "id": "6b11f041-784c-4024-aeb5-2988c39b0e58",
   "metadata": {},
   "source": [
    "#### Features Categóricas"
   ]
  },
  {
   "cell_type": "markdown",
   "id": "5af99c4b-da0d-46d8-9a80-1542a7698bbf",
   "metadata": {},
   "source": [
    "Como analizamos, las variables categóricas tienen valores que se los puede considerar binarias, por lo que trataremos las mismas con una codificación aplicando LabelEncoder. Esto hará que se conserve una sola columna de dos valores: 0 y 1. Al aplicar esta técnica, disminuímos el riesgo de agregar ruido a nuestros datos."
   ]
  },
  {
   "cell_type": "code",
   "execution_count": 12,
   "id": "8de12484-8d51-4326-9315-1e3809041992",
   "metadata": {},
   "outputs": [
    {
     "name": "stdout",
     "output_type": "stream",
     "text": [
      "<class 'pandas.core.frame.DataFrame'>\n",
      "RangeIndex: 1490 entries, 0 to 1489\n",
      "Data columns (total 9 columns):\n",
      " #   Column               Non-Null Count  Dtype\n",
      "---  ------               --------------  -----\n",
      " 0   Age                  1490 non-null   int64\n",
      " 1   EmploymentType       1490 non-null   int32\n",
      " 2   GraduateOrNot        1490 non-null   int32\n",
      " 3   AnnualIncome         1490 non-null   int64\n",
      " 4   FamilyMembers        1490 non-null   int64\n",
      " 5   ChronicDiseases      1490 non-null   int64\n",
      " 6   FrequentFlyer        1490 non-null   int32\n",
      " 7   EverTravelledAbroad  1490 non-null   int32\n",
      " 8   TravelInsurance      1490 non-null   int64\n",
      "dtypes: int32(4), int64(5)\n",
      "memory usage: 81.6 KB\n",
      "None\n"
     ]
    }
   ],
   "source": [
    "for feat in cat_ftrs:\n",
    "    df_ti[feat] = LabelEncoder().fit_transform(df_ti[feat].astype(str))\n",
    "\n",
    "print (df_ti.info())"
   ]
  },
  {
   "cell_type": "markdown",
   "id": "57c9516f-751f-476a-9596-61d6dc6c5288",
   "metadata": {},
   "source": [
    "Antes"
   ]
  },
  {
   "cell_type": "code",
   "execution_count": 13,
   "id": "c617d047-9115-465e-b7a7-3f2286c61123",
   "metadata": {},
   "outputs": [
    {
     "data": {
      "text/html": [
       "<div>\n",
       "<style scoped>\n",
       "    .dataframe tbody tr th:only-of-type {\n",
       "        vertical-align: middle;\n",
       "    }\n",
       "\n",
       "    .dataframe tbody tr th {\n",
       "        vertical-align: top;\n",
       "    }\n",
       "\n",
       "    .dataframe thead th {\n",
       "        text-align: right;\n",
       "    }\n",
       "</style>\n",
       "<table border=\"1\" class=\"dataframe\">\n",
       "  <thead>\n",
       "    <tr style=\"text-align: right;\">\n",
       "      <th></th>\n",
       "      <th>Customer</th>\n",
       "      <th>Age</th>\n",
       "      <th>EmploymentType</th>\n",
       "      <th>GraduateOrNot</th>\n",
       "      <th>AnnualIncome</th>\n",
       "      <th>FamilyMembers</th>\n",
       "      <th>ChronicDiseases</th>\n",
       "      <th>FrequentFlyer</th>\n",
       "      <th>EverTravelledAbroad</th>\n",
       "      <th>TravelInsurance</th>\n",
       "    </tr>\n",
       "  </thead>\n",
       "  <tbody>\n",
       "    <tr>\n",
       "      <th>0</th>\n",
       "      <td>1</td>\n",
       "      <td>33</td>\n",
       "      <td>Private Sector/Self Employed</td>\n",
       "      <td>Yes</td>\n",
       "      <td>550000</td>\n",
       "      <td>6</td>\n",
       "      <td>0</td>\n",
       "      <td>No</td>\n",
       "      <td>No</td>\n",
       "      <td>1</td>\n",
       "    </tr>\n",
       "    <tr>\n",
       "      <th>1</th>\n",
       "      <td>2</td>\n",
       "      <td>28</td>\n",
       "      <td>Private Sector/Self Employed</td>\n",
       "      <td>Yes</td>\n",
       "      <td>800000</td>\n",
       "      <td>7</td>\n",
       "      <td>0</td>\n",
       "      <td>Yes</td>\n",
       "      <td>No</td>\n",
       "      <td>0</td>\n",
       "    </tr>\n",
       "    <tr>\n",
       "      <th>2</th>\n",
       "      <td>3</td>\n",
       "      <td>31</td>\n",
       "      <td>Private Sector/Self Employed</td>\n",
       "      <td>Yes</td>\n",
       "      <td>1250000</td>\n",
       "      <td>4</td>\n",
       "      <td>0</td>\n",
       "      <td>No</td>\n",
       "      <td>No</td>\n",
       "      <td>0</td>\n",
       "    </tr>\n",
       "    <tr>\n",
       "      <th>3</th>\n",
       "      <td>4</td>\n",
       "      <td>31</td>\n",
       "      <td>Government Sector</td>\n",
       "      <td>No</td>\n",
       "      <td>300000</td>\n",
       "      <td>7</td>\n",
       "      <td>0</td>\n",
       "      <td>No</td>\n",
       "      <td>No</td>\n",
       "      <td>0</td>\n",
       "    </tr>\n",
       "    <tr>\n",
       "      <th>4</th>\n",
       "      <td>5</td>\n",
       "      <td>28</td>\n",
       "      <td>Private Sector/Self Employed</td>\n",
       "      <td>Yes</td>\n",
       "      <td>1250000</td>\n",
       "      <td>3</td>\n",
       "      <td>0</td>\n",
       "      <td>No</td>\n",
       "      <td>No</td>\n",
       "      <td>0</td>\n",
       "    </tr>\n",
       "  </tbody>\n",
       "</table>\n",
       "</div>"
      ],
      "text/plain": [
       "   Customer  Age                EmploymentType GraduateOrNot  AnnualIncome  \\\n",
       "0         1   33  Private Sector/Self Employed           Yes        550000   \n",
       "1         2   28  Private Sector/Self Employed           Yes        800000   \n",
       "2         3   31  Private Sector/Self Employed           Yes       1250000   \n",
       "3         4   31             Government Sector            No        300000   \n",
       "4         5   28  Private Sector/Self Employed           Yes       1250000   \n",
       "\n",
       "   FamilyMembers  ChronicDiseases FrequentFlyer EverTravelledAbroad  \\\n",
       "0              6                0            No                  No   \n",
       "1              7                0           Yes                  No   \n",
       "2              4                0            No                  No   \n",
       "3              7                0            No                  No   \n",
       "4              3                0            No                  No   \n",
       "\n",
       "   TravelInsurance  \n",
       "0                1  \n",
       "1                0  \n",
       "2                0  \n",
       "3                0  \n",
       "4                0  "
      ]
     },
     "execution_count": 13,
     "metadata": {},
     "output_type": "execute_result"
    }
   ],
   "source": [
    "df.head()"
   ]
  },
  {
   "cell_type": "markdown",
   "id": "1c29e5a0-c959-4a53-9f1b-9c057099bd49",
   "metadata": {},
   "source": [
    "Ahora"
   ]
  },
  {
   "cell_type": "code",
   "execution_count": 14,
   "id": "d0057f7d-5b46-4938-bd26-8854ca14648a",
   "metadata": {},
   "outputs": [
    {
     "data": {
      "text/html": [
       "<div>\n",
       "<style scoped>\n",
       "    .dataframe tbody tr th:only-of-type {\n",
       "        vertical-align: middle;\n",
       "    }\n",
       "\n",
       "    .dataframe tbody tr th {\n",
       "        vertical-align: top;\n",
       "    }\n",
       "\n",
       "    .dataframe thead th {\n",
       "        text-align: right;\n",
       "    }\n",
       "</style>\n",
       "<table border=\"1\" class=\"dataframe\">\n",
       "  <thead>\n",
       "    <tr style=\"text-align: right;\">\n",
       "      <th></th>\n",
       "      <th>Age</th>\n",
       "      <th>EmploymentType</th>\n",
       "      <th>GraduateOrNot</th>\n",
       "      <th>AnnualIncome</th>\n",
       "      <th>FamilyMembers</th>\n",
       "      <th>ChronicDiseases</th>\n",
       "      <th>FrequentFlyer</th>\n",
       "      <th>EverTravelledAbroad</th>\n",
       "      <th>TravelInsurance</th>\n",
       "    </tr>\n",
       "  </thead>\n",
       "  <tbody>\n",
       "    <tr>\n",
       "      <th>0</th>\n",
       "      <td>33</td>\n",
       "      <td>1</td>\n",
       "      <td>1</td>\n",
       "      <td>550000</td>\n",
       "      <td>6</td>\n",
       "      <td>0</td>\n",
       "      <td>0</td>\n",
       "      <td>0</td>\n",
       "      <td>1</td>\n",
       "    </tr>\n",
       "    <tr>\n",
       "      <th>1</th>\n",
       "      <td>28</td>\n",
       "      <td>1</td>\n",
       "      <td>1</td>\n",
       "      <td>800000</td>\n",
       "      <td>7</td>\n",
       "      <td>0</td>\n",
       "      <td>1</td>\n",
       "      <td>0</td>\n",
       "      <td>0</td>\n",
       "    </tr>\n",
       "    <tr>\n",
       "      <th>2</th>\n",
       "      <td>31</td>\n",
       "      <td>1</td>\n",
       "      <td>1</td>\n",
       "      <td>1250000</td>\n",
       "      <td>4</td>\n",
       "      <td>0</td>\n",
       "      <td>0</td>\n",
       "      <td>0</td>\n",
       "      <td>0</td>\n",
       "    </tr>\n",
       "    <tr>\n",
       "      <th>3</th>\n",
       "      <td>31</td>\n",
       "      <td>0</td>\n",
       "      <td>0</td>\n",
       "      <td>300000</td>\n",
       "      <td>7</td>\n",
       "      <td>0</td>\n",
       "      <td>0</td>\n",
       "      <td>0</td>\n",
       "      <td>0</td>\n",
       "    </tr>\n",
       "    <tr>\n",
       "      <th>4</th>\n",
       "      <td>28</td>\n",
       "      <td>1</td>\n",
       "      <td>1</td>\n",
       "      <td>1250000</td>\n",
       "      <td>3</td>\n",
       "      <td>0</td>\n",
       "      <td>0</td>\n",
       "      <td>0</td>\n",
       "      <td>0</td>\n",
       "    </tr>\n",
       "  </tbody>\n",
       "</table>\n",
       "</div>"
      ],
      "text/plain": [
       "   Age  EmploymentType  GraduateOrNot  AnnualIncome  FamilyMembers  \\\n",
       "0   33               1              1        550000              6   \n",
       "1   28               1              1        800000              7   \n",
       "2   31               1              1       1250000              4   \n",
       "3   31               0              0        300000              7   \n",
       "4   28               1              1       1250000              3   \n",
       "\n",
       "   ChronicDiseases  FrequentFlyer  EverTravelledAbroad  TravelInsurance  \n",
       "0                0              0                    0                1  \n",
       "1                0              1                    0                0  \n",
       "2                0              0                    0                0  \n",
       "3                0              0                    0                0  \n",
       "4                0              0                    0                0  "
      ]
     },
     "execution_count": 14,
     "metadata": {},
     "output_type": "execute_result"
    }
   ],
   "source": [
    "df_ti.head()"
   ]
  },
  {
   "cell_type": "code",
   "execution_count": 15,
   "id": "1f806cf2-68f8-4b69-b07d-716f502630fb",
   "metadata": {},
   "outputs": [
    {
     "data": {
      "text/html": [
       "<div>\n",
       "<style scoped>\n",
       "    .dataframe tbody tr th:only-of-type {\n",
       "        vertical-align: middle;\n",
       "    }\n",
       "\n",
       "    .dataframe tbody tr th {\n",
       "        vertical-align: top;\n",
       "    }\n",
       "\n",
       "    .dataframe thead th {\n",
       "        text-align: right;\n",
       "    }\n",
       "</style>\n",
       "<table border=\"1\" class=\"dataframe\">\n",
       "  <thead>\n",
       "    <tr style=\"text-align: right;\">\n",
       "      <th></th>\n",
       "      <th>Age</th>\n",
       "      <th>EmploymentType</th>\n",
       "      <th>GraduateOrNot</th>\n",
       "      <th>AnnualIncome</th>\n",
       "      <th>FamilyMembers</th>\n",
       "      <th>ChronicDiseases</th>\n",
       "      <th>FrequentFlyer</th>\n",
       "      <th>EverTravelledAbroad</th>\n",
       "      <th>TravelInsurance</th>\n",
       "    </tr>\n",
       "  </thead>\n",
       "  <tbody>\n",
       "    <tr>\n",
       "      <th>count</th>\n",
       "      <td>1490.000000</td>\n",
       "      <td>1490.000000</td>\n",
       "      <td>1490.000000</td>\n",
       "      <td>1.490000e+03</td>\n",
       "      <td>1490.000000</td>\n",
       "      <td>1490.000000</td>\n",
       "      <td>1490.000000</td>\n",
       "      <td>1490.000000</td>\n",
       "      <td>1490.000000</td>\n",
       "    </tr>\n",
       "    <tr>\n",
       "      <th>mean</th>\n",
       "      <td>29.667114</td>\n",
       "      <td>0.709396</td>\n",
       "      <td>0.851007</td>\n",
       "      <td>9.278188e+05</td>\n",
       "      <td>4.777181</td>\n",
       "      <td>0.275839</td>\n",
       "      <td>0.212752</td>\n",
       "      <td>0.193289</td>\n",
       "      <td>0.357047</td>\n",
       "    </tr>\n",
       "    <tr>\n",
       "      <th>std</th>\n",
       "      <td>2.880994</td>\n",
       "      <td>0.454194</td>\n",
       "      <td>0.356201</td>\n",
       "      <td>3.811715e+05</td>\n",
       "      <td>1.640248</td>\n",
       "      <td>0.447086</td>\n",
       "      <td>0.409391</td>\n",
       "      <td>0.395010</td>\n",
       "      <td>0.479290</td>\n",
       "    </tr>\n",
       "    <tr>\n",
       "      <th>min</th>\n",
       "      <td>25.000000</td>\n",
       "      <td>0.000000</td>\n",
       "      <td>0.000000</td>\n",
       "      <td>3.000000e+05</td>\n",
       "      <td>2.000000</td>\n",
       "      <td>0.000000</td>\n",
       "      <td>0.000000</td>\n",
       "      <td>0.000000</td>\n",
       "      <td>0.000000</td>\n",
       "    </tr>\n",
       "    <tr>\n",
       "      <th>25%</th>\n",
       "      <td>28.000000</td>\n",
       "      <td>0.000000</td>\n",
       "      <td>1.000000</td>\n",
       "      <td>6.000000e+05</td>\n",
       "      <td>4.000000</td>\n",
       "      <td>0.000000</td>\n",
       "      <td>0.000000</td>\n",
       "      <td>0.000000</td>\n",
       "      <td>0.000000</td>\n",
       "    </tr>\n",
       "    <tr>\n",
       "      <th>50%</th>\n",
       "      <td>29.000000</td>\n",
       "      <td>1.000000</td>\n",
       "      <td>1.000000</td>\n",
       "      <td>9.000000e+05</td>\n",
       "      <td>5.000000</td>\n",
       "      <td>0.000000</td>\n",
       "      <td>0.000000</td>\n",
       "      <td>0.000000</td>\n",
       "      <td>0.000000</td>\n",
       "    </tr>\n",
       "    <tr>\n",
       "      <th>75%</th>\n",
       "      <td>32.000000</td>\n",
       "      <td>1.000000</td>\n",
       "      <td>1.000000</td>\n",
       "      <td>1.250000e+06</td>\n",
       "      <td>6.000000</td>\n",
       "      <td>1.000000</td>\n",
       "      <td>0.000000</td>\n",
       "      <td>0.000000</td>\n",
       "      <td>1.000000</td>\n",
       "    </tr>\n",
       "    <tr>\n",
       "      <th>max</th>\n",
       "      <td>35.000000</td>\n",
       "      <td>1.000000</td>\n",
       "      <td>1.000000</td>\n",
       "      <td>1.800000e+06</td>\n",
       "      <td>9.000000</td>\n",
       "      <td>1.000000</td>\n",
       "      <td>1.000000</td>\n",
       "      <td>1.000000</td>\n",
       "      <td>1.000000</td>\n",
       "    </tr>\n",
       "  </tbody>\n",
       "</table>\n",
       "</div>"
      ],
      "text/plain": [
       "               Age  EmploymentType  GraduateOrNot  AnnualIncome  \\\n",
       "count  1490.000000     1490.000000    1490.000000  1.490000e+03   \n",
       "mean     29.667114        0.709396       0.851007  9.278188e+05   \n",
       "std       2.880994        0.454194       0.356201  3.811715e+05   \n",
       "min      25.000000        0.000000       0.000000  3.000000e+05   \n",
       "25%      28.000000        0.000000       1.000000  6.000000e+05   \n",
       "50%      29.000000        1.000000       1.000000  9.000000e+05   \n",
       "75%      32.000000        1.000000       1.000000  1.250000e+06   \n",
       "max      35.000000        1.000000       1.000000  1.800000e+06   \n",
       "\n",
       "       FamilyMembers  ChronicDiseases  FrequentFlyer  EverTravelledAbroad  \\\n",
       "count    1490.000000      1490.000000    1490.000000          1490.000000   \n",
       "mean        4.777181         0.275839       0.212752             0.193289   \n",
       "std         1.640248         0.447086       0.409391             0.395010   \n",
       "min         2.000000         0.000000       0.000000             0.000000   \n",
       "25%         4.000000         0.000000       0.000000             0.000000   \n",
       "50%         5.000000         0.000000       0.000000             0.000000   \n",
       "75%         6.000000         1.000000       0.000000             0.000000   \n",
       "max         9.000000         1.000000       1.000000             1.000000   \n",
       "\n",
       "       TravelInsurance  \n",
       "count      1490.000000  \n",
       "mean          0.357047  \n",
       "std           0.479290  \n",
       "min           0.000000  \n",
       "25%           0.000000  \n",
       "50%           0.000000  \n",
       "75%           1.000000  \n",
       "max           1.000000  "
      ]
     },
     "execution_count": 15,
     "metadata": {},
     "output_type": "execute_result"
    }
   ],
   "source": [
    "df_ti.describe()"
   ]
  },
  {
   "cell_type": "markdown",
   "id": "c5fe3f36-77f6-4ad4-8c9e-15477c6cf357",
   "metadata": {},
   "source": [
    "Conclusión de Encoder:\n",
    "* **EmploymentType**: {1: Private Sector/Self Employed, 0: Government Sector}\n",
    "* **GraduateOrNot**: {1: Yes, 0: No}\n",
    "* **FrequentFlyer**: {1: Yes, 0: No}\n",
    "* **EverTravelledAbroad**: {1: Yes, 0: No}"
   ]
  },
  {
   "cell_type": "code",
   "execution_count": 16,
   "id": "09ddeadb-0c31-48a0-b101-39ac35bd4a46",
   "metadata": {},
   "outputs": [
    {
     "name": "stdout",
     "output_type": "stream",
     "text": [
      "EmploymentType\n",
      "1    70.939597\n",
      "0    29.060403\n",
      "Name: EmploymentType, dtype: float64\n",
      "---\n",
      "GraduateOrNot\n",
      "1    85.100671\n",
      "0    14.899329\n",
      "Name: GraduateOrNot, dtype: float64\n",
      "---\n",
      "FrequentFlyer\n",
      "0    78.724832\n",
      "1    21.275168\n",
      "Name: FrequentFlyer, dtype: float64\n",
      "---\n",
      "EverTravelledAbroad\n",
      "0    80.671141\n",
      "1    19.328859\n",
      "Name: EverTravelledAbroad, dtype: float64\n",
      "---\n"
     ]
    }
   ],
   "source": [
    "for col in cat_ftrs:\n",
    "    print(col)\n",
    "    print(df_ti[col].value_counts(normalize=True)*100)\n",
    "    print('---')"
   ]
  },
  {
   "cell_type": "markdown",
   "id": "918adddb-a397-4f39-97c3-75afc835e956",
   "metadata": {},
   "source": [
    "Conclusión de estas variables:\n",
    "* **EmploymentType**: Tenemos un 70% de clientes que trabajan en el sector privado.\n",
    "* **GraduateOrNot**: Son en su mayoría universitarios los clientes de esta empresa, considerando un 85% de ellos.\n",
    "* **FrequentFlyer**: Podemos observar que la gran mayoría son viajantes frecuentes.\n",
    "* **EverTravelledAbroad**: El 80% de los clientes han viajado al extranjero."
   ]
  },
  {
   "cell_type": "markdown",
   "id": "65bac220-3a35-419d-8085-81a14d9e90ff",
   "metadata": {},
   "source": [
    "Aplicamos LabelEncoder a Test"
   ]
  },
  {
   "cell_type": "code",
   "execution_count": 17,
   "id": "23dae791-7a71-4ae4-8d7b-1aa78e05aa44",
   "metadata": {},
   "outputs": [
    {
     "name": "stdout",
     "output_type": "stream",
     "text": [
      "<class 'pandas.core.frame.DataFrame'>\n",
      "RangeIndex: 497 entries, 0 to 496\n",
      "Data columns (total 8 columns):\n",
      " #   Column               Non-Null Count  Dtype\n",
      "---  ------               --------------  -----\n",
      " 0   Age                  497 non-null    int64\n",
      " 1   EmploymentType       497 non-null    int32\n",
      " 2   GraduateOrNot        497 non-null    int32\n",
      " 3   AnnualIncome         497 non-null    int64\n",
      " 4   FamilyMembers        497 non-null    int64\n",
      " 5   ChronicDiseases      497 non-null    int64\n",
      " 6   FrequentFlyer        497 non-null    int32\n",
      " 7   EverTravelledAbroad  497 non-null    int32\n",
      "dtypes: int32(4), int64(4)\n",
      "memory usage: 23.4 KB\n",
      "None\n"
     ]
    }
   ],
   "source": [
    "for feat in cat_ftrs:\n",
    "    test_df[feat] = LabelEncoder().fit_transform(test_df[feat].astype(str))\n",
    "\n",
    "print (test_df.info())"
   ]
  },
  {
   "cell_type": "code",
   "execution_count": 18,
   "id": "698bbdd6-f197-4631-9bdd-69988dbf2bca",
   "metadata": {},
   "outputs": [
    {
     "data": {
      "text/html": [
       "<div>\n",
       "<style scoped>\n",
       "    .dataframe tbody tr th:only-of-type {\n",
       "        vertical-align: middle;\n",
       "    }\n",
       "\n",
       "    .dataframe tbody tr th {\n",
       "        vertical-align: top;\n",
       "    }\n",
       "\n",
       "    .dataframe thead th {\n",
       "        text-align: right;\n",
       "    }\n",
       "</style>\n",
       "<table border=\"1\" class=\"dataframe\">\n",
       "  <thead>\n",
       "    <tr style=\"text-align: right;\">\n",
       "      <th></th>\n",
       "      <th>Age</th>\n",
       "      <th>EmploymentType</th>\n",
       "      <th>GraduateOrNot</th>\n",
       "      <th>AnnualIncome</th>\n",
       "      <th>FamilyMembers</th>\n",
       "      <th>ChronicDiseases</th>\n",
       "      <th>FrequentFlyer</th>\n",
       "      <th>EverTravelledAbroad</th>\n",
       "    </tr>\n",
       "  </thead>\n",
       "  <tbody>\n",
       "    <tr>\n",
       "      <th>0</th>\n",
       "      <td>29</td>\n",
       "      <td>1</td>\n",
       "      <td>1</td>\n",
       "      <td>1100000</td>\n",
       "      <td>4</td>\n",
       "      <td>0</td>\n",
       "      <td>0</td>\n",
       "      <td>0</td>\n",
       "    </tr>\n",
       "    <tr>\n",
       "      <th>1</th>\n",
       "      <td>28</td>\n",
       "      <td>1</td>\n",
       "      <td>1</td>\n",
       "      <td>750000</td>\n",
       "      <td>5</td>\n",
       "      <td>1</td>\n",
       "      <td>1</td>\n",
       "      <td>0</td>\n",
       "    </tr>\n",
       "    <tr>\n",
       "      <th>2</th>\n",
       "      <td>31</td>\n",
       "      <td>0</td>\n",
       "      <td>1</td>\n",
       "      <td>1500000</td>\n",
       "      <td>4</td>\n",
       "      <td>0</td>\n",
       "      <td>1</td>\n",
       "      <td>1</td>\n",
       "    </tr>\n",
       "    <tr>\n",
       "      <th>3</th>\n",
       "      <td>28</td>\n",
       "      <td>1</td>\n",
       "      <td>1</td>\n",
       "      <td>1400000</td>\n",
       "      <td>3</td>\n",
       "      <td>0</td>\n",
       "      <td>0</td>\n",
       "      <td>1</td>\n",
       "    </tr>\n",
       "    <tr>\n",
       "      <th>4</th>\n",
       "      <td>33</td>\n",
       "      <td>1</td>\n",
       "      <td>1</td>\n",
       "      <td>1500000</td>\n",
       "      <td>4</td>\n",
       "      <td>0</td>\n",
       "      <td>1</td>\n",
       "      <td>1</td>\n",
       "    </tr>\n",
       "  </tbody>\n",
       "</table>\n",
       "</div>"
      ],
      "text/plain": [
       "   Age  EmploymentType  GraduateOrNot  AnnualIncome  FamilyMembers  \\\n",
       "0   29               1              1       1100000              4   \n",
       "1   28               1              1        750000              5   \n",
       "2   31               0              1       1500000              4   \n",
       "3   28               1              1       1400000              3   \n",
       "4   33               1              1       1500000              4   \n",
       "\n",
       "   ChronicDiseases  FrequentFlyer  EverTravelledAbroad  \n",
       "0                0              0                    0  \n",
       "1                1              1                    0  \n",
       "2                0              1                    1  \n",
       "3                0              0                    1  \n",
       "4                0              1                    1  "
      ]
     },
     "execution_count": 18,
     "metadata": {},
     "output_type": "execute_result"
    }
   ],
   "source": [
    "test_df.head()"
   ]
  },
  {
   "cell_type": "markdown",
   "id": "60235e2c-573d-4b26-a3bc-a36d179d928c",
   "metadata": {},
   "source": [
    "#### Features Numéricas"
   ]
  },
  {
   "cell_type": "code",
   "execution_count": 19,
   "id": "9344235c-857b-475f-b618-f73b81709fef",
   "metadata": {},
   "outputs": [
    {
     "data": {
      "image/png": "[encoded data removed]",
      "text/plain": [
       "<Figure size 1728x720 with 4 Axes>"
      ]
     },
     "metadata": {
      "needs_background": "light"
     },
     "output_type": "display_data"
    }
   ],
   "source": [
    "n_rows = 2\n",
    "n_cols = 2\n",
    "count = 0\n",
    "fig, ax = plt.subplots(n_rows, n_cols, figsize=(24,10))\n",
    "for i in num_ftrs:\n",
    "    row = math.floor(count / n_cols)\n",
    "    col = count % n_cols\n",
    "    axes = ax[row, col]\n",
    "    sns.boxenplot(data=df_ti, x=i, color='green', ax=axes)\n",
    "    axes.set_title(f'Distribución de {i}', fontsize=14)\n",
    "    count += 1\n",
    "fig.suptitle('Distribuciones de Features Numéricas', fontsize=18)\n",
    "plt.show()"
   ]
  },
  {
   "cell_type": "markdown",
   "id": "62bf030f-8100-4b90-b1ae-df01aeb419c6",
   "metadata": {},
   "source": [
    "• Age"
   ]
  },
  {
   "cell_type": "code",
   "execution_count": 20,
   "id": "705467ec-cfda-4ce8-9630-0f0d5922059b",
   "metadata": {},
   "outputs": [
    {
     "data": {
      "text/plain": [
       "28    371\n",
       "34    194\n",
       "31    177\n",
       "29    148\n",
       "33    119\n",
       "26    108\n",
       "27    105\n",
       "25    103\n",
       "32     73\n",
       "30     52\n",
       "35     40\n",
       "Name: Age, dtype: int64"
      ]
     },
     "execution_count": 20,
     "metadata": {},
     "output_type": "execute_result"
    }
   ],
   "source": [
    "df_ti.Age.value_counts()"
   ]
  },
  {
   "cell_type": "markdown",
   "id": "1a99b213-4901-4817-853f-094da020d6de",
   "metadata": {},
   "source": [
    "• FamilyMembers"
   ]
  },
  {
   "cell_type": "code",
   "execution_count": 21,
   "id": "9e37df16-c883-43ea-b83a-8b1ecf5ad6da",
   "metadata": {},
   "outputs": [
    {
     "data": {
      "text/plain": [
       "4    361\n",
       "5    322\n",
       "3    291\n",
       "6    216\n",
       "7    138\n",
       "2     69\n",
       "9     47\n",
       "8     46\n",
       "Name: FamilyMembers, dtype: int64"
      ]
     },
     "execution_count": 21,
     "metadata": {},
     "output_type": "execute_result"
    }
   ],
   "source": [
    "df_ti.FamilyMembers.value_counts()"
   ]
  },
  {
   "cell_type": "markdown",
   "id": "754f8bfd-e630-4682-8423-7b087d6e45d4",
   "metadata": {},
   "source": [
    "• AnnualIncome"
   ]
  },
  {
   "cell_type": "code",
   "execution_count": 22,
   "id": "9214c706-ca16-4323-ac9e-9ad11430923f",
   "metadata": {},
   "outputs": [
    {
     "data": {
      "text/plain": [
       "500000    106\n",
       "600000     76\n",
       "300000     68\n",
       "550000     60\n",
       "400000     53\n",
       "350000     48\n",
       "450000     11\n",
       "Name: AnnualIncome, dtype: int64"
      ]
     },
     "execution_count": 22,
     "metadata": {},
     "output_type": "execute_result"
    }
   ],
   "source": [
    "df_ti[df_ti.AnnualIncome<650000].AnnualIncome.value_counts()"
   ]
  },
  {
   "cell_type": "code",
   "execution_count": 23,
   "id": "3b0b2a13-af82-47a0-95d2-57330f2d9ccc",
   "metadata": {},
   "outputs": [
    {
     "data": {
      "text/plain": [
       "1400000    96\n",
       "1500000    64\n",
       "1350000    33\n",
       "1700000    27\n",
       "1450000    25\n",
       "1750000    12\n",
       "1550000     5\n",
       "1800000     4\n",
       "1650000     1\n",
       "Name: AnnualIncome, dtype: int64"
      ]
     },
     "execution_count": 23,
     "metadata": {},
     "output_type": "execute_result"
    }
   ],
   "source": [
    "df_ti[df_ti.AnnualIncome>1300000].AnnualIncome.value_counts()"
   ]
  },
  {
   "cell_type": "code",
   "execution_count": 24,
   "id": "2cec61ea-19e7-4ea0-b23a-0bcb7d67a4e1",
   "metadata": {},
   "outputs": [
    {
     "data": {
      "text/html": [
       "<div>\n",
       "<style scoped>\n",
       "    .dataframe tbody tr th:only-of-type {\n",
       "        vertical-align: middle;\n",
       "    }\n",
       "\n",
       "    .dataframe tbody tr th {\n",
       "        vertical-align: top;\n",
       "    }\n",
       "\n",
       "    .dataframe thead th {\n",
       "        text-align: right;\n",
       "    }\n",
       "</style>\n",
       "<table border=\"1\" class=\"dataframe\">\n",
       "  <thead>\n",
       "    <tr style=\"text-align: right;\">\n",
       "      <th></th>\n",
       "      <th>Age</th>\n",
       "      <th>EmploymentType</th>\n",
       "      <th>GraduateOrNot</th>\n",
       "      <th>AnnualIncome</th>\n",
       "      <th>FamilyMembers</th>\n",
       "      <th>ChronicDiseases</th>\n",
       "      <th>FrequentFlyer</th>\n",
       "      <th>EverTravelledAbroad</th>\n",
       "      <th>TravelInsurance</th>\n",
       "    </tr>\n",
       "  </thead>\n",
       "  <tbody>\n",
       "    <tr>\n",
       "      <th>611</th>\n",
       "      <td>25</td>\n",
       "      <td>1</td>\n",
       "      <td>1</td>\n",
       "      <td>1800000</td>\n",
       "      <td>6</td>\n",
       "      <td>1</td>\n",
       "      <td>1</td>\n",
       "      <td>0</td>\n",
       "      <td>1</td>\n",
       "    </tr>\n",
       "    <tr>\n",
       "      <th>902</th>\n",
       "      <td>25</td>\n",
       "      <td>1</td>\n",
       "      <td>1</td>\n",
       "      <td>1800000</td>\n",
       "      <td>4</td>\n",
       "      <td>1</td>\n",
       "      <td>1</td>\n",
       "      <td>0</td>\n",
       "      <td>1</td>\n",
       "    </tr>\n",
       "    <tr>\n",
       "      <th>1132</th>\n",
       "      <td>25</td>\n",
       "      <td>1</td>\n",
       "      <td>1</td>\n",
       "      <td>1800000</td>\n",
       "      <td>7</td>\n",
       "      <td>1</td>\n",
       "      <td>1</td>\n",
       "      <td>0</td>\n",
       "      <td>1</td>\n",
       "    </tr>\n",
       "    <tr>\n",
       "      <th>1258</th>\n",
       "      <td>25</td>\n",
       "      <td>1</td>\n",
       "      <td>1</td>\n",
       "      <td>1800000</td>\n",
       "      <td>6</td>\n",
       "      <td>0</td>\n",
       "      <td>1</td>\n",
       "      <td>0</td>\n",
       "      <td>1</td>\n",
       "    </tr>\n",
       "  </tbody>\n",
       "</table>\n",
       "</div>"
      ],
      "text/plain": [
       "      Age  EmploymentType  GraduateOrNot  AnnualIncome  FamilyMembers  \\\n",
       "611    25               1              1       1800000              6   \n",
       "902    25               1              1       1800000              4   \n",
       "1132   25               1              1       1800000              7   \n",
       "1258   25               1              1       1800000              6   \n",
       "\n",
       "      ChronicDiseases  FrequentFlyer  EverTravelledAbroad  TravelInsurance  \n",
       "611                 1              1                    0                1  \n",
       "902                 1              1                    0                1  \n",
       "1132                1              1                    0                1  \n",
       "1258                0              1                    0                1  "
      ]
     },
     "execution_count": 24,
     "metadata": {},
     "output_type": "execute_result"
    }
   ],
   "source": [
    "df_ti[df_ti.AnnualIncome==1800000]"
   ]
  },
  {
   "cell_type": "markdown",
   "id": "8111b452-f3b0-4676-8a75-c4f136e18d5b",
   "metadata": {},
   "source": [
    "• ChronicDiseases"
   ]
  },
  {
   "cell_type": "code",
   "execution_count": 25,
   "id": "b2902c11-5d00-43ec-9878-b19c540d7ab3",
   "metadata": {},
   "outputs": [
    {
     "data": {
      "text/plain": [
       "0    72.416107\n",
       "1    27.583893\n",
       "Name: ChronicDiseases, dtype: float64"
      ]
     },
     "execution_count": 25,
     "metadata": {},
     "output_type": "execute_result"
    }
   ],
   "source": [
    "df_ti.ChronicDiseases.value_counts(normalize=True)*100"
   ]
  },
  {
   "cell_type": "code",
   "execution_count": 26,
   "id": "f2fda325-e0ec-43f0-8af0-cb9c202eb53f",
   "metadata": {},
   "outputs": [
    {
     "data": {
      "text/html": [
       "<div>\n",
       "<style scoped>\n",
       "    .dataframe tbody tr th:only-of-type {\n",
       "        vertical-align: middle;\n",
       "    }\n",
       "\n",
       "    .dataframe tbody tr th {\n",
       "        vertical-align: top;\n",
       "    }\n",
       "\n",
       "    .dataframe thead th {\n",
       "        text-align: right;\n",
       "    }\n",
       "</style>\n",
       "<table border=\"1\" class=\"dataframe\">\n",
       "  <thead>\n",
       "    <tr style=\"text-align: right;\">\n",
       "      <th></th>\n",
       "      <th>Age</th>\n",
       "      <th>EmploymentType</th>\n",
       "      <th>GraduateOrNot</th>\n",
       "      <th>AnnualIncome</th>\n",
       "      <th>FamilyMembers</th>\n",
       "      <th>ChronicDiseases</th>\n",
       "      <th>FrequentFlyer</th>\n",
       "      <th>EverTravelledAbroad</th>\n",
       "      <th>TravelInsurance</th>\n",
       "    </tr>\n",
       "  </thead>\n",
       "  <tbody>\n",
       "    <tr>\n",
       "      <th>count</th>\n",
       "      <td>411.000000</td>\n",
       "      <td>411.000000</td>\n",
       "      <td>411.000000</td>\n",
       "      <td>4.110000e+02</td>\n",
       "      <td>411.000000</td>\n",
       "      <td>411.0</td>\n",
       "      <td>411.000000</td>\n",
       "      <td>411.000000</td>\n",
       "      <td>411.000000</td>\n",
       "    </tr>\n",
       "    <tr>\n",
       "      <th>mean</th>\n",
       "      <td>29.705596</td>\n",
       "      <td>0.712895</td>\n",
       "      <td>0.858881</td>\n",
       "      <td>9.300487e+05</td>\n",
       "      <td>4.829684</td>\n",
       "      <td>1.0</td>\n",
       "      <td>0.187348</td>\n",
       "      <td>0.209246</td>\n",
       "      <td>0.372263</td>\n",
       "    </tr>\n",
       "    <tr>\n",
       "      <th>std</th>\n",
       "      <td>2.887051</td>\n",
       "      <td>0.452962</td>\n",
       "      <td>0.348569</td>\n",
       "      <td>3.824867e+05</td>\n",
       "      <td>1.654320</td>\n",
       "      <td>0.0</td>\n",
       "      <td>0.390666</td>\n",
       "      <td>0.407266</td>\n",
       "      <td>0.483997</td>\n",
       "    </tr>\n",
       "    <tr>\n",
       "      <th>min</th>\n",
       "      <td>25.000000</td>\n",
       "      <td>0.000000</td>\n",
       "      <td>0.000000</td>\n",
       "      <td>3.000000e+05</td>\n",
       "      <td>2.000000</td>\n",
       "      <td>1.0</td>\n",
       "      <td>0.000000</td>\n",
       "      <td>0.000000</td>\n",
       "      <td>0.000000</td>\n",
       "    </tr>\n",
       "    <tr>\n",
       "      <th>25%</th>\n",
       "      <td>28.000000</td>\n",
       "      <td>0.000000</td>\n",
       "      <td>1.000000</td>\n",
       "      <td>6.000000e+05</td>\n",
       "      <td>4.000000</td>\n",
       "      <td>1.0</td>\n",
       "      <td>0.000000</td>\n",
       "      <td>0.000000</td>\n",
       "      <td>0.000000</td>\n",
       "    </tr>\n",
       "    <tr>\n",
       "      <th>50%</th>\n",
       "      <td>29.000000</td>\n",
       "      <td>1.000000</td>\n",
       "      <td>1.000000</td>\n",
       "      <td>9.000000e+05</td>\n",
       "      <td>5.000000</td>\n",
       "      <td>1.0</td>\n",
       "      <td>0.000000</td>\n",
       "      <td>0.000000</td>\n",
       "      <td>0.000000</td>\n",
       "    </tr>\n",
       "    <tr>\n",
       "      <th>75%</th>\n",
       "      <td>32.000000</td>\n",
       "      <td>1.000000</td>\n",
       "      <td>1.000000</td>\n",
       "      <td>1.200000e+06</td>\n",
       "      <td>6.000000</td>\n",
       "      <td>1.0</td>\n",
       "      <td>0.000000</td>\n",
       "      <td>0.000000</td>\n",
       "      <td>1.000000</td>\n",
       "    </tr>\n",
       "    <tr>\n",
       "      <th>max</th>\n",
       "      <td>35.000000</td>\n",
       "      <td>1.000000</td>\n",
       "      <td>1.000000</td>\n",
       "      <td>1.800000e+06</td>\n",
       "      <td>9.000000</td>\n",
       "      <td>1.0</td>\n",
       "      <td>1.000000</td>\n",
       "      <td>1.000000</td>\n",
       "      <td>1.000000</td>\n",
       "    </tr>\n",
       "  </tbody>\n",
       "</table>\n",
       "</div>"
      ],
      "text/plain": [
       "              Age  EmploymentType  GraduateOrNot  AnnualIncome  FamilyMembers  \\\n",
       "count  411.000000      411.000000     411.000000  4.110000e+02     411.000000   \n",
       "mean    29.705596        0.712895       0.858881  9.300487e+05       4.829684   \n",
       "std      2.887051        0.452962       0.348569  3.824867e+05       1.654320   \n",
       "min     25.000000        0.000000       0.000000  3.000000e+05       2.000000   \n",
       "25%     28.000000        0.000000       1.000000  6.000000e+05       4.000000   \n",
       "50%     29.000000        1.000000       1.000000  9.000000e+05       5.000000   \n",
       "75%     32.000000        1.000000       1.000000  1.200000e+06       6.000000   \n",
       "max     35.000000        1.000000       1.000000  1.800000e+06       9.000000   \n",
       "\n",
       "       ChronicDiseases  FrequentFlyer  EverTravelledAbroad  TravelInsurance  \n",
       "count            411.0     411.000000           411.000000       411.000000  \n",
       "mean               1.0       0.187348             0.209246         0.372263  \n",
       "std                0.0       0.390666             0.407266         0.483997  \n",
       "min                1.0       0.000000             0.000000         0.000000  \n",
       "25%                1.0       0.000000             0.000000         0.000000  \n",
       "50%                1.0       0.000000             0.000000         0.000000  \n",
       "75%                1.0       0.000000             0.000000         1.000000  \n",
       "max                1.0       1.000000             1.000000         1.000000  "
      ]
     },
     "execution_count": 26,
     "metadata": {},
     "output_type": "execute_result"
    }
   ],
   "source": [
    "df_ti[df_ti.ChronicDiseases==1].describe()"
   ]
  },
  {
   "cell_type": "code",
   "execution_count": 27,
   "id": "5b43add7-8879-4743-bd43-4055033dcc0f",
   "metadata": {},
   "outputs": [
    {
     "data": {
      "text/plain": [
       "0    62.773723\n",
       "1    37.226277\n",
       "Name: TravelInsurance, dtype: float64"
      ]
     },
     "execution_count": 27,
     "metadata": {},
     "output_type": "execute_result"
    }
   ],
   "source": [
    "df_ti[df_ti.ChronicDiseases==1].TravelInsurance.value_counts(normalize=True)*100"
   ]
  },
  {
   "cell_type": "markdown",
   "id": "9b7bca10-be66-48f3-9040-75d63a5430b8",
   "metadata": {},
   "source": [
    "---\n",
    "* Es llamativo que, entre las personas que padecen enfermedades, menos del 40% compró un seguro de viaje. Aquí podemos suponer muchas cosas, como sesgo a la hora de tomar los datos, ya que esas personas pueden tener seguro externo contratado.\n",
    "\n",
    "* Se planteó agrupar los montos anuales y hacer una variable categórica por rangos, pero se prefirió usarla del modo en como venía para conservar cierta diversidad en los datos.\n",
    "\n",
    "* Se tomó la decisión de no sacar los outliers por:\n",
    "    * La cantidad de datos es reducida, por lo que sacar datos podría crear sesgos.\n",
    "    * Los modelos basados en algorítmos de árboles no se ven muy influenciados por outliers.\n",
    "---"
   ]
  },
  {
   "cell_type": "markdown",
   "id": "747f61e0-3d92-486c-acc4-e391d01ab0a0",
   "metadata": {},
   "source": [
    "### Target"
   ]
  },
  {
   "cell_type": "code",
   "execution_count": 28,
   "id": "ab863d6a-a0aa-4458-a2ad-e0a905f91f83",
   "metadata": {},
   "outputs": [
    {
     "data": {
      "image/png": "[encoded data removed]",
      "text/plain": [
       "<Figure size 576x432 with 1 Axes>"
      ]
     },
     "metadata": {
      "needs_background": "light"
     },
     "output_type": "display_data"
    }
   ],
   "source": [
    "plt.figure(figsize=(8,6))\n",
    "ax = sns.countplot(x='TravelInsurance', data=df_ti)\n",
    "label_values = df_ti.TravelInsurance.value_counts().values\n",
    "nor_label_values = df_ti.TravelInsurance.value_counts(normalize=True).values\n",
    "lbls = [f'{p[0]} ({round(p[1]*100, 2)}%)' for p in zip(label_values, nor_label_values)]\n",
    "\n",
    "ax.bar_label(container=ax.containers[0], labels=lbls)\n",
    "plt.title('Distribución de TravelInsurance', fontsize=16)\n",
    "plt.show()"
   ]
  },
  {
   "cell_type": "markdown",
   "id": "0bc1e95d-8b4a-4586-a205-bca21f954992",
   "metadata": {},
   "source": [
    "Tenemos un 35.7% de clientes que no han adquirido el seguro de viajes de esta empresa."
   ]
  },
  {
   "cell_type": "markdown",
   "id": "5558d213-c0aa-434c-ad80-f671973cdb83",
   "metadata": {},
   "source": [
    "---"
   ]
  },
  {
   "cell_type": "markdown",
   "id": "babb0067-30de-43f9-8689-4120c3f7e856",
   "metadata": {},
   "source": [
    "### Correlación"
   ]
  },
  {
   "cell_type": "code",
   "execution_count": 29,
   "id": "898ccad1-0df7-48c0-b0ae-27942727f04a",
   "metadata": {},
   "outputs": [
    {
     "data": {
      "image/png": "[encoded data removed]",
      "text/plain": [
       "<Figure size 1008x720 with 2 Axes>"
      ]
     },
     "metadata": {},
     "output_type": "display_data"
    }
   ],
   "source": [
    "corr = df_ti.corr()\n",
    "mask = np.zeros_like(corr)\n",
    "mask[np.triu_indices_from(mask)] = True\n",
    "with sns.axes_style(\"white\"):\n",
    "    f, ax = plt.subplots(figsize=(14, 10))\n",
    "    ax = sns.heatmap(corr, annot=True, mask=mask, square=True, cmap='viridis')"
   ]
  },
  {
   "cell_type": "code",
   "execution_count": 30,
   "id": "a070c2c7-599a-4815-a4c5-637f7f7b6666",
   "metadata": {},
   "outputs": [
    {
     "data": {
      "image/png": "[encoded data removed]",
      "text/plain": [
       "<Figure size 1440x1440 with 8 Axes>"
      ]
     },
     "metadata": {
      "needs_background": "light"
     },
     "output_type": "display_data"
    }
   ],
   "source": [
    "cols = df_ti.drop(columns=['AnnualIncome']).columns.values\n",
    "\n",
    "n_rows = math.ceil(len(cols)/2)\n",
    "n_cols = 2\n",
    "count = 0\n",
    "fig, ax = plt.subplots(n_rows, n_cols, figsize=(20,20))\n",
    "for i in cols:\n",
    "    row = math.floor(count / n_cols)\n",
    "    col = count % n_cols\n",
    "    axes = ax[row, col]\n",
    "    sns.boxenplot(data=df_ti, x=i, y='AnnualIncome', color='green', ax=axes)\n",
    "    axes.set_title(f'Distribución de {i}', fontsize=14)\n",
    "    count += 1\n",
    "fig.suptitle('Distribuciones vs Ingreso Anual', fontsize=18, y=0.92)\n",
    "plt.show()"
   ]
  },
  {
   "cell_type": "markdown",
   "id": "4d7d9d09-bf64-460d-baa8-d19f2e326185",
   "metadata": {},
   "source": [
    "Con el gráfico de correlatividad podemos deducir que:\n",
    "* El grado de correlatividad entre las variables no superan el 50%.\n",
    "* Podemos remarcar que el ingreso anual influye bastante en variables como \"Viajero Frecuente\", que el cliente tome viajes al exterior, y que pueda pagarse el seguro de viaje. Para reforzar nuestra intuición, realizamos el bokenplot y efectivamente. Podemos notar que cuanto mayor es el ingreso, más posibilidades de que estas variables tomen el valor 1, es decir, si son frecuentes, si pueden viajar al exterior y si tienen más posibilidades de pagarse un seguro de viajes.\n",
    "* También remarcamos que aquellos con mayor ingreso anual tienden a ser de sectores privados o ser autónomos.\n",
    "* La última variable que vamos a tomar en consideración, es la variable de viajes al exterior, la cual resalta entre las demás correlacionarse con la variable de seguro de vida. Podemos intuir que aquellas personas con más posibilidades de viajar al exterior, son las que tienden a sacar un seguro de vida."
   ]
  },
  {
   "cell_type": "markdown",
   "id": "a22a596d-b785-47f7-ae04-d03394299e09",
   "metadata": {},
   "source": [
    "---"
   ]
  },
  {
   "cell_type": "markdown",
   "id": "bf5d50d5-2132-4dec-82b2-7f77528d2a9a",
   "metadata": {},
   "source": [
    "### Separación de X e Y"
   ]
  },
  {
   "cell_type": "code",
   "execution_count": 31,
   "id": "fff8e0fb-fb67-4d4d-bf35-12a95d3c4c5e",
   "metadata": {},
   "outputs": [
    {
     "name": "stdout",
     "output_type": "stream",
     "text": [
      "(1490, 8) (1490, 1)\n",
      "(497, 8)\n"
     ]
    }
   ],
   "source": [
    "X_train = df_ti.iloc[:,:-1].values\n",
    "y_train = df_ti.iloc[:,-1].values.reshape(-1,1)\n",
    "\n",
    "X_test = test_df.values\n",
    "\n",
    "print(X_train.shape, y_train.shape)\n",
    "print(X_test.shape)"
   ]
  },
  {
   "cell_type": "markdown",
   "id": "7fb309c4-2538-4159-9c05-155be4428eeb",
   "metadata": {},
   "source": [
    "---"
   ]
  },
  {
   "cell_type": "markdown",
   "id": "e03d8e05-9a22-4995-8077-7f57556b6898",
   "metadata": {},
   "source": [
    "### Balanceo de datos"
   ]
  },
  {
   "cell_type": "markdown",
   "id": "ba0b2d2a-57f0-4788-9d51-5c569009e998",
   "metadata": {},
   "source": [
    "Las técnicas de aprendizaje automático suelen fallar o dar un rendimiento engañoso en conjuntos de datos de clasificación con una distribución de clases desequilibrada.\n",
    "\n",
    "La razón es que muchos algoritmos de aprendizaje automático están diseñados para operar en datos de clasificación con un número igual de observaciones para cada clase. Cuando este no es el caso, los algoritmos pueden aprender que muy pocos ejemplos no son importantes y pueden ser ignorados para conseguir un buen rendimiento.\n",
    "\n",
    "El muestreo de datos ofrece un conjunto de técnicas que transforman un conjunto de datos de entrenamiento para equilibrar o mejorar la distribución de las clases. Una vez equilibrada, los algoritmos estándar de aprendizaje automático pueden entrenarse directamente en el conjunto de datos transformado sin ninguna modificación. Esto permite abordar el reto de la clasificación desequilibrada, incluso con distribuciones de clase muy desequilibradas, con un método de preparación de datos.\n",
    "\n",
    "* Fuente: [link](https://machinelearningmastery.com/data-sampling-methods-for-imbalanced-classification/)\n",
    "* Fuente SMOTE: [link](https://machinelearningmastery.com/smote-oversampling-for-imbalanced-classification/)"
   ]
  },
  {
   "cell_type": "code",
   "execution_count": 32,
   "id": "6bf679ce-761b-48bf-b65e-2b58f56c071a",
   "metadata": {},
   "outputs": [
    {
     "name": "stdout",
     "output_type": "stream",
     "text": [
      "(1916, 8) (1916,)\n"
     ]
    }
   ],
   "source": [
    "smote = SMOTE()\n",
    "X_train_resampled, y_train_resampled = smote.fit_resample(X_train, y_train)\n",
    "print(X_train_resampled.shape, y_train_resampled.shape)"
   ]
  },
  {
   "cell_type": "code",
   "execution_count": 33,
   "id": "b82fa3af-7aab-4f16-99ec-267fb7adaf47",
   "metadata": {},
   "outputs": [
    {
     "name": "stdout",
     "output_type": "stream",
     "text": [
      "[0 1] [958 958]\n"
     ]
    }
   ],
   "source": [
    "unique, counts = np.unique(y_train_resampled, return_counts=True)\n",
    "print(unique, counts)"
   ]
  },
  {
   "cell_type": "markdown",
   "id": "745d27e8-f77a-4d31-a3f7-9347eee0b3c4",
   "metadata": {},
   "source": [
    "---"
   ]
  },
  {
   "cell_type": "markdown",
   "id": "cd902415-cda5-43a2-b989-7bf1c6dbc0c1",
   "metadata": {},
   "source": [
    "## Aplicación de Algorítmos basados en Árboles"
   ]
  },
  {
   "cell_type": "markdown",
   "id": "680e224c-90d9-4b2f-8a6c-7a73a9203681",
   "metadata": {},
   "source": [
    "### BaggingClassifier"
   ]
  },
  {
   "cell_type": "markdown",
   "id": "dcc63610-2df5-48c6-b2e2-2d91fd6be416",
   "metadata": {},
   "source": [
    "El clasificador \"Bagging\" es un meta-estimador que ajusta clasificadores base a cada subconjunto (aleatorios) del conjunto de datos original, y luego agrega sus predicciones individuales (ya sea por votación o por promedio) para formar una predicción final.\n",
    "\n",
    "* Fuente Sklearn: [BaggingClassifier](https://imbalanced-learn.org/stable/references/generated/imblearn.ensemble.BalancedBaggingClassifier.html)\n",
    "* Fuente: [Video Tutorial](https://youtu.be/53uUM_5rRtA)\n",
    "* Fuente: [What is Bagging?](https://www.analyticsvidhya.com/blog/2016/04/tree-based-algorithms-complete-tutorial-scratch-in-python/#:~:text=8.%20What%20is,make%20it%20clearer%3A)"
   ]
  },
  {
   "cell_type": "markdown",
   "id": "32dbfdbb-f751-4f50-a6e2-b9a62f4934ff",
   "metadata": {},
   "source": [
    "#### Hiperparámetros y Entrenamiento"
   ]
  },
  {
   "cell_type": "code",
   "execution_count": 34,
   "id": "a6f42636-11ab-4566-ade9-06c0aaca45bb",
   "metadata": {},
   "outputs": [
    {
     "data": {
      "text/plain": [
       "GridSearchCV(cv=RepeatedStratifiedKFold(n_repeats=5, n_splits=10, random_state=1),\n",
       "             estimator=BaggingClassifier(base_estimator=DecisionTreeClassifier(),\n",
       "                                         random_state=15),\n",
       "             n_jobs=-1,\n",
       "             param_grid={'base_estimator__criterion': ['gini', 'entropy'],\n",
       "                         'base_estimator__max_depth': array([10, 11, 12, 13, 14, 15, 16, 17, 18, 19]),\n",
       "                         'base_estimator__splitter': ['best'],\n",
       "                         'bootstrap': [True],\n",
       "                         'max_samples': [0.05, 0.1, 0.2, 0.5],\n",
       "                         'n_estimators': array([10, 15, 20, 25, 30])},\n",
       "             scoring='f1')"
      ]
     },
     "execution_count": 34,
     "metadata": {},
     "output_type": "execute_result"
    }
   ],
   "source": [
    "bc_pameter_grid = {\n",
    "    'base_estimator__criterion': ['gini', 'entropy'],\n",
    "    'base_estimator__max_depth': np.arange(10,20),\n",
    "    'base_estimator__splitter': ['best'],\n",
    "    'max_samples' : [0.05, 0.1, 0.2, 0.5],\n",
    "    'n_estimators': np.arange(10,31,5),\n",
    "    'bootstrap': [True]\n",
    "}\n",
    "\n",
    "bc_model = BaggingClassifier(DecisionTreeClassifier(), random_state=15)\n",
    "\n",
    "cv = RepeatedStratifiedKFold(n_splits=10, n_repeats=5, random_state=1)\n",
    "\n",
    "bc_grid = GridSearchCV(estimator=bc_model, param_grid=bc_pameter_grid, scoring='f1', cv=cv, n_jobs=-1)\n",
    "\n",
    "bc_grid.fit(X_train_resampled, y_train_resampled)"
   ]
  },
  {
   "cell_type": "code",
   "execution_count": 35,
   "id": "737649a5-c20e-4a5f-b6a8-8bbbcc5133a0",
   "metadata": {},
   "outputs": [
    {
     "data": {
      "text/plain": [
       "0.8961377870563675"
      ]
     },
     "execution_count": 35,
     "metadata": {},
     "output_type": "execute_result"
    }
   ],
   "source": [
    "bc_grid.best_estimator_.score(X_train_resampled, y_train_resampled)"
   ]
  },
  {
   "cell_type": "code",
   "execution_count": 36,
   "id": "682db325-f54d-4dcd-9bcc-2ebefdf0f187",
   "metadata": {},
   "outputs": [
    {
     "data": {
      "text/plain": [
       "BaggingClassifier(base_estimator=DecisionTreeClassifier(criterion='entropy',\n",
       "                                                        max_depth=19),\n",
       "                  max_samples=0.5, n_estimators=25, random_state=15)"
      ]
     },
     "execution_count": 36,
     "metadata": {},
     "output_type": "execute_result"
    }
   ],
   "source": [
    "bc_grid.best_estimator_"
   ]
  },
  {
   "cell_type": "code",
   "execution_count": 37,
   "id": "5376cc97-49a0-4303-a50c-48ddc5b217c2",
   "metadata": {},
   "outputs": [
    {
     "data": {
      "text/plain": [
       "{'cv': RepeatedStratifiedKFold(n_repeats=5, n_splits=10, random_state=1),\n",
       " 'error_score': nan,\n",
       " 'estimator__base_estimator__ccp_alpha': 0.0,\n",
       " 'estimator__base_estimator__class_weight': None,\n",
       " 'estimator__base_estimator__criterion': 'gini',\n",
       " 'estimator__base_estimator__max_depth': None,\n",
       " 'estimator__base_estimator__max_features': None,\n",
       " 'estimator__base_estimator__max_leaf_nodes': None,\n",
       " 'estimator__base_estimator__min_impurity_decrease': 0.0,\n",
       " 'estimator__base_estimator__min_samples_leaf': 1,\n",
       " 'estimator__base_estimator__min_samples_split': 2,\n",
       " 'estimator__base_estimator__min_weight_fraction_leaf': 0.0,\n",
       " 'estimator__base_estimator__random_state': None,\n",
       " 'estimator__base_estimator__splitter': 'best',\n",
       " 'estimator__base_estimator': DecisionTreeClassifier(),\n",
       " 'estimator__bootstrap': True,\n",
       " 'estimator__bootstrap_features': False,\n",
       " 'estimator__max_features': 1.0,\n",
       " 'estimator__max_samples': 1.0,\n",
       " 'estimator__n_estimators': 10,\n",
       " 'estimator__n_jobs': None,\n",
       " 'estimator__oob_score': False,\n",
       " 'estimator__random_state': 15,\n",
       " 'estimator__verbose': 0,\n",
       " 'estimator__warm_start': False,\n",
       " 'estimator': BaggingClassifier(base_estimator=DecisionTreeClassifier(), random_state=15),\n",
       " 'n_jobs': -1,\n",
       " 'param_grid': {'base_estimator__criterion': ['gini', 'entropy'],\n",
       "  'base_estimator__max_depth': array([10, 11, 12, 13, 14, 15, 16, 17, 18, 19]),\n",
       "  'base_estimator__splitter': ['best'],\n",
       "  'max_samples': [0.05, 0.1, 0.2, 0.5],\n",
       "  'n_estimators': array([10, 15, 20, 25, 30]),\n",
       "  'bootstrap': [True]},\n",
       " 'pre_dispatch': '2*n_jobs',\n",
       " 'refit': True,\n",
       " 'return_train_score': False,\n",
       " 'scoring': 'f1',\n",
       " 'verbose': 0}"
      ]
     },
     "execution_count": 37,
     "metadata": {},
     "output_type": "execute_result"
    }
   ],
   "source": [
    "bc_grid.get_params()"
   ]
  },
  {
   "cell_type": "markdown",
   "id": "1b15dff9-37a7-44d1-987f-e83e5e41f579",
   "metadata": {},
   "source": [
    "#### Predicción"
   ]
  },
  {
   "cell_type": "code",
   "execution_count": 38,
   "id": "bdd9029b-f8c2-4f63-b4d8-dcfa78acb819",
   "metadata": {
    "colab": {
     "base_uri": "https://localhost:8080/"
    },
    "id": "OLCLnMTir_u5",
    "outputId": "a39f09c7-873b-45d1-e5a0-3593bedab615"
   },
   "outputs": [],
   "source": [
    "y_train_pred_bc = bc_grid.predict(X_train)"
   ]
  },
  {
   "cell_type": "code",
   "execution_count": 39,
   "id": "eeb68338-984f-4517-865e-0b2a8f24a66b",
   "metadata": {
    "colab": {
     "base_uri": "https://localhost:8080/"
    },
    "id": "OLCLnMTir_u5",
    "outputId": "a39f09c7-873b-45d1-e5a0-3593bedab615"
   },
   "outputs": [
    {
     "data": {
      "image/png": "[encoded data removed]",
      "text/plain": [
       "<Figure size 864x432 with 2 Axes>"
      ]
     },
     "metadata": {
      "needs_background": "light"
     },
     "output_type": "display_data"
    }
   ],
   "source": [
    "cm_train = confusion_matrix(y_train, y_train_pred_bc)\n",
    "\n",
    "disp = ConfusionMatrixDisplay(confusion_matrix=cm_train, display_labels=bc_grid.classes_)\n",
    "fig, ax = plt.subplots(figsize=(12,6))\n",
    "ax.set_title('Matriz de Confusión: BaggingClassifier - Train', fontsize=18)\n",
    "disp.plot(cmap='GnBu', ax=ax)\n",
    "plt.show()"
   ]
  },
  {
   "cell_type": "code",
   "execution_count": 40,
   "id": "a80516c5-094d-4481-aa9a-7b5e4bfeabf0",
   "metadata": {
    "colab": {
     "base_uri": "https://localhost:8080/"
    },
    "id": "FCyjzElLsN_J",
    "outputId": "c17bf21d-9a3d-467b-b0fe-22e4ddc0b594"
   },
   "outputs": [
    {
     "name": "stdout",
     "output_type": "stream",
     "text": [
      "==========================================================================\n",
      "BaggingClassifier - Reporte de clasificación del conjunto de entrenamiento\n",
      "==========================================================================\n",
      "              precision    recall  f1-score   support\n",
      "\n",
      "           0       0.92      0.92      0.92       958\n",
      "           1       0.86      0.85      0.85       532\n",
      "\n",
      "    accuracy                           0.90      1490\n",
      "   macro avg       0.89      0.89      0.89      1490\n",
      "weighted avg       0.90      0.90      0.90      1490\n",
      "\n"
     ]
    }
   ],
   "source": [
    "# Evaluate val\n",
    "text = \"BaggingClassifier - Reporte de clasificación del conjunto de entrenamiento\" \n",
    "print(len(text)*\"=\")\n",
    "print(text)\n",
    "print(len(text)*\"=\")\n",
    "\n",
    "cr = classification_report(y_train, y_train_pred_bc)\n",
    "print(cr)"
   ]
  },
  {
   "cell_type": "markdown",
   "id": "d3e972ad-4265-40ae-a8a0-23962c88ed54",
   "metadata": {},
   "source": [
    "---"
   ]
  },
  {
   "cell_type": "markdown",
   "id": "e0d163fa-0ec3-4e43-b7c7-83646feb19d3",
   "metadata": {},
   "source": [
    "### XGBClassifier"
   ]
  },
  {
   "cell_type": "markdown",
   "id": "3f502de7-fa1a-4d20-94a0-55a5bf34f425",
   "metadata": {},
   "source": [
    "XGBoost Classifier\n",
    "* Permite que las observaciones incluyan valores missing.\n",
    "* Permite el uso de GPUs.\n",
    "* Entrenamiento paralelizado (paraleliza algunas partes del algoritmo).\n",
    "* Permite restricciones monotónicas.\n",
    "* Permite trabajar sobre matrices sparse.\n",
    "* Necesario one-hot-encoding de variables categóricas.\n",
    "\n",
    "* Fuente XgBoost: [XGBClassifier](https://xgboost.readthedocs.io/en/latest/python/python_api.html)"
   ]
  },
  {
   "cell_type": "markdown",
   "id": "22cae44d-291d-477a-9820-77d80483b06b",
   "metadata": {},
   "source": [
    "#### Hiperparámetros y Entrenamiento"
   ]
  },
  {
   "cell_type": "code",
   "execution_count": 41,
   "id": "3e055baa-afb6-48c6-828e-a60ec128deaf",
   "metadata": {},
   "outputs": [
    {
     "data": {
      "text/plain": [
       "GridSearchCV(cv=RepeatedStratifiedKFold(n_repeats=5, n_splits=10, random_state=1),\n",
       "             estimator=XGBClassifier(base_score=None, booster=None,\n",
       "                                     colsample_bylevel=None,\n",
       "                                     colsample_bynode=None,\n",
       "                                     colsample_bytree=None,\n",
       "                                     enable_categorical=False, gamma=None,\n",
       "                                     gpu_id=None, importance_type=None,\n",
       "                                     interaction_constraints=None,\n",
       "                                     learning_rate=None, max_delta_step=None,\n",
       "                                     max_depth=Non...\n",
       "                                     num_parallel_tree=None, predictor=None,\n",
       "                                     random_state=15, reg_alpha=None,\n",
       "                                     reg_lambda=None, scale_pos_weight=None,\n",
       "                                     subsample=None, tree_method=None,\n",
       "                                     use_label_encoder=False,\n",
       "                                     validate_parameters=None, verbosity=None),\n",
       "             n_jobs=-1,\n",
       "             param_grid={'booster': ['gbtree'], 'eval_metric': ['rmse'],\n",
       "                         'learning_rate': [0.1, 0.01, 0.05],\n",
       "                         'max_depth': [8, 16],\n",
       "                         'n_estimators': array([ 80,  85,  90,  95, 100, 105, 110, 115])},\n",
       "             scoring='f1')"
      ]
     },
     "execution_count": 41,
     "metadata": {},
     "output_type": "execute_result"
    }
   ],
   "source": [
    "xgbc_param_grid = {\n",
    "    'max_depth': [8, 16],\n",
    "    'n_estimators': np.arange(80,120,5),\n",
    "    'booster':['gbtree'],\n",
    "    'learning_rate': [0.1, 0.01, 0.05],\n",
    "    'eval_metric': ['rmse']\n",
    "}\n",
    "\n",
    "xgbc_model = XGBClassifier(random_state=15, use_label_encoder =False)\n",
    "\n",
    "cv = RepeatedStratifiedKFold(n_splits=10, n_repeats=5, random_state=1)\n",
    "\n",
    "xgbc_grid = GridSearchCV(estimator=xgbc_model, param_grid=xgbc_param_grid, scoring='f1', cv=cv, n_jobs=-1)\n",
    "\n",
    "xgbc_grid.fit(X_train_resampled, y_train_resampled)"
   ]
  },
  {
   "cell_type": "code",
   "execution_count": 42,
   "id": "d5c0bb98-f255-46df-8ffd-e56049350a26",
   "metadata": {},
   "outputs": [
    {
     "data": {
      "text/plain": [
       "0.8977035490605428"
      ]
     },
     "execution_count": 42,
     "metadata": {},
     "output_type": "execute_result"
    }
   ],
   "source": [
    "xgbc_grid.best_estimator_.score(X_train_resampled, y_train_resampled)"
   ]
  },
  {
   "cell_type": "code",
   "execution_count": 43,
   "id": "31971eee-faf7-441b-8bfe-5016c3a11100",
   "metadata": {},
   "outputs": [
    {
     "data": {
      "text/plain": [
       "XGBClassifier(base_score=0.5, booster='gbtree', colsample_bylevel=1,\n",
       "              colsample_bynode=1, colsample_bytree=1, enable_categorical=False,\n",
       "              eval_metric='rmse', gamma=0, gpu_id=-1, importance_type=None,\n",
       "              interaction_constraints='', learning_rate=0.05, max_delta_step=0,\n",
       "              max_depth=16, min_child_weight=1, missing=nan,\n",
       "              monotone_constraints='()', n_estimators=115, n_jobs=8,\n",
       "              num_parallel_tree=1, predictor='auto', random_state=15,\n",
       "              reg_alpha=0, reg_lambda=1, scale_pos_weight=1, subsample=1,\n",
       "              tree_method='exact', use_label_encoder=False,\n",
       "              validate_parameters=1, verbosity=None)"
      ]
     },
     "execution_count": 43,
     "metadata": {},
     "output_type": "execute_result"
    }
   ],
   "source": [
    "xgbc_grid.best_estimator_"
   ]
  },
  {
   "cell_type": "code",
   "execution_count": 44,
   "id": "da16868f-898a-4204-8c3b-75c36bdbe3cd",
   "metadata": {},
   "outputs": [
    {
     "data": {
      "text/plain": [
       "{'cv': RepeatedStratifiedKFold(n_repeats=5, n_splits=10, random_state=1),\n",
       " 'error_score': nan,\n",
       " 'estimator__objective': 'binary:logistic',\n",
       " 'estimator__use_label_encoder': False,\n",
       " 'estimator__base_score': None,\n",
       " 'estimator__booster': None,\n",
       " 'estimator__colsample_bylevel': None,\n",
       " 'estimator__colsample_bynode': None,\n",
       " 'estimator__colsample_bytree': None,\n",
       " 'estimator__enable_categorical': False,\n",
       " 'estimator__gamma': None,\n",
       " 'estimator__gpu_id': None,\n",
       " 'estimator__importance_type': None,\n",
       " 'estimator__interaction_constraints': None,\n",
       " 'estimator__learning_rate': None,\n",
       " 'estimator__max_delta_step': None,\n",
       " 'estimator__max_depth': None,\n",
       " 'estimator__min_child_weight': None,\n",
       " 'estimator__missing': nan,\n",
       " 'estimator__monotone_constraints': None,\n",
       " 'estimator__n_estimators': 100,\n",
       " 'estimator__n_jobs': None,\n",
       " 'estimator__num_parallel_tree': None,\n",
       " 'estimator__predictor': None,\n",
       " 'estimator__random_state': 15,\n",
       " 'estimator__reg_alpha': None,\n",
       " 'estimator__reg_lambda': None,\n",
       " 'estimator__scale_pos_weight': None,\n",
       " 'estimator__subsample': None,\n",
       " 'estimator__tree_method': None,\n",
       " 'estimator__validate_parameters': None,\n",
       " 'estimator__verbosity': None,\n",
       " 'estimator': XGBClassifier(base_score=None, booster=None, colsample_bylevel=None,\n",
       "               colsample_bynode=None, colsample_bytree=None,\n",
       "               enable_categorical=False, gamma=None, gpu_id=None,\n",
       "               importance_type=None, interaction_constraints=None,\n",
       "               learning_rate=None, max_delta_step=None, max_depth=None,\n",
       "               min_child_weight=None, missing=nan, monotone_constraints=None,\n",
       "               n_estimators=100, n_jobs=None, num_parallel_tree=None,\n",
       "               predictor=None, random_state=15, reg_alpha=None, reg_lambda=None,\n",
       "               scale_pos_weight=None, subsample=None, tree_method=None,\n",
       "               use_label_encoder=False, validate_parameters=None,\n",
       "               verbosity=None),\n",
       " 'n_jobs': -1,\n",
       " 'param_grid': {'max_depth': [8, 16],\n",
       "  'n_estimators': array([ 80,  85,  90,  95, 100, 105, 110, 115]),\n",
       "  'booster': ['gbtree'],\n",
       "  'learning_rate': [0.1, 0.01, 0.05],\n",
       "  'eval_metric': ['rmse']},\n",
       " 'pre_dispatch': '2*n_jobs',\n",
       " 'refit': True,\n",
       " 'return_train_score': False,\n",
       " 'scoring': 'f1',\n",
       " 'verbose': 0}"
      ]
     },
     "execution_count": 44,
     "metadata": {},
     "output_type": "execute_result"
    }
   ],
   "source": [
    "xgbc_grid.get_params()"
   ]
  },
  {
   "cell_type": "markdown",
   "id": "db4768b4-30a1-4efc-8bb8-8fe21c6faa5c",
   "metadata": {
    "tags": []
   },
   "source": [
    "#### Predicción"
   ]
  },
  {
   "cell_type": "code",
   "execution_count": 45,
   "id": "a2e1bb26-5b54-47c9-b1cd-4022a551feaa",
   "metadata": {
    "colab": {
     "base_uri": "https://localhost:8080/"
    },
    "id": "OLCLnMTir_u5",
    "outputId": "a39f09c7-873b-45d1-e5a0-3593bedab615"
   },
   "outputs": [],
   "source": [
    "y_train_pred_xgbc = xgbc_grid.predict(X_train)"
   ]
  },
  {
   "cell_type": "code",
   "execution_count": 46,
   "id": "c249bb50-fa90-4494-bbc2-fc09fc66844f",
   "metadata": {
    "colab": {
     "base_uri": "https://localhost:8080/"
    },
    "id": "OLCLnMTir_u5",
    "outputId": "a39f09c7-873b-45d1-e5a0-3593bedab615"
   },
   "outputs": [
    {
     "data": {
      "image/png": "[encoded data removed]",
      "text/plain": [
       "<Figure size 864x432 with 2 Axes>"
      ]
     },
     "metadata": {
      "needs_background": "light"
     },
     "output_type": "display_data"
    }
   ],
   "source": [
    "cm_train = confusion_matrix(y_train, y_train_pred_xgbc)\n",
    "\n",
    "disp = ConfusionMatrixDisplay(confusion_matrix=cm_train, display_labels=xgbc_grid.classes_)\n",
    "fig, ax = plt.subplots(figsize=(12,6))\n",
    "ax.set_title('Matriz de Confusión: XGBoost Classifier - Train', fontsize=18)\n",
    "disp.plot(cmap='GnBu', ax=ax)\n",
    "plt.show()"
   ]
  },
  {
   "cell_type": "code",
   "execution_count": 47,
   "id": "026ca5ec-c80e-4272-be61-e7dffa1da5ae",
   "metadata": {
    "colab": {
     "base_uri": "https://localhost:8080/"
    },
    "id": "FCyjzElLsN_J",
    "outputId": "c17bf21d-9a3d-467b-b0fe-22e4ddc0b594"
   },
   "outputs": [
    {
     "name": "stdout",
     "output_type": "stream",
     "text": [
      "===========================================================================\n",
      "XGBoost Classifier - Reporte de clasificación del conjunto de entrenamiento\n",
      "===========================================================================\n",
      "              precision    recall  f1-score   support\n",
      "\n",
      "           0       0.92      0.92      0.92       958\n",
      "           1       0.85      0.85      0.85       532\n",
      "\n",
      "    accuracy                           0.90      1490\n",
      "   macro avg       0.89      0.89      0.89      1490\n",
      "weighted avg       0.90      0.90      0.90      1490\n",
      "\n"
     ]
    }
   ],
   "source": [
    "# Evaluate val\n",
    "text = \"XGBoost Classifier - Reporte de clasificación del conjunto de entrenamiento\" \n",
    "print(len(text)*\"=\")\n",
    "print(text)\n",
    "print(len(text)*\"=\")\n",
    "\n",
    "cr = classification_report(y_train, y_train_pred_xgbc)\n",
    "print(cr)"
   ]
  },
  {
   "cell_type": "markdown",
   "id": "6b57bcd9-3043-4227-9bcc-a91802f670b2",
   "metadata": {},
   "source": [
    "---"
   ]
  },
  {
   "cell_type": "markdown",
   "id": "55c40b13-5fad-493a-88c5-03c86a3b1ed8",
   "metadata": {},
   "source": [
    "### RandomForestClassifier"
   ]
  },
  {
   "cell_type": "markdown",
   "id": "85e1b2cf-e349-4c68-a5cd-ba9e2e0079fb",
   "metadata": {},
   "source": [
    "Creación de un \"bosque de árboles\" aleatorio que combina la salida de muchos árboles predictores.\n",
    "\n",
    "* Fuente Sklearn: [RandomForestClassifier](https://scikit-learn.org/stable/modules/generated/sklearn.ensemble.RandomForestClassifier.html)\n",
    "* Fuente Wikipedia: [Wikipedia](https://es.wikipedia.org/wiki/Random_forest)"
   ]
  },
  {
   "cell_type": "markdown",
   "id": "da52ea7f-0728-4243-906f-8a0b646fed62",
   "metadata": {},
   "source": [
    "#### Hiperparámetros y Entrenamiento"
   ]
  },
  {
   "cell_type": "code",
   "execution_count": 48,
   "id": "f71a03f8-48a5-43f6-9689-7a833e32d107",
   "metadata": {},
   "outputs": [
    {
     "data": {
      "text/plain": [
       "GridSearchCV(cv=RepeatedStratifiedKFold(n_repeats=5, n_splits=10, random_state=1),\n",
       "             estimator=RandomForestClassifier(random_state=15), n_jobs=-1,\n",
       "             param_grid={'criterion': ['gini', 'entropy'],\n",
       "                         'max_depth': array([14, 16, 18, 20, 22]),\n",
       "                         'max_features': ['auto', 'sqrt', 'log2'],\n",
       "                         'n_estimators': array([ 80,  85,  90,  95, 100, 105, 110, 115])},\n",
       "             scoring='f1')"
      ]
     },
     "execution_count": 48,
     "metadata": {},
     "output_type": "execute_result"
    }
   ],
   "source": [
    "rfc_param_grid = {\n",
    "    'criterion': ['gini', 'entropy'],\n",
    "    'max_depth': np.arange(14,23,2),\n",
    "    'n_estimators': np.arange(80,120,5),\n",
    "    'max_features': ['auto', 'sqrt', 'log2']\n",
    "}\n",
    "\n",
    "rfc_model = RandomForestClassifier(random_state=15)\n",
    "\n",
    "cv = RepeatedStratifiedKFold(n_splits=10, n_repeats=5, random_state=1)\n",
    "\n",
    "rfc_grid = GridSearchCV(estimator=rfc_model, param_grid=rfc_param_grid, scoring='f1', cv=cv, n_jobs=-1)\n",
    "\n",
    "rfc_grid.fit(X_train_resampled, y_train_resampled)"
   ]
  },
  {
   "cell_type": "code",
   "execution_count": 49,
   "id": "450dbe26-f38b-42db-b37c-0f661fb2182b",
   "metadata": {},
   "outputs": [
    {
     "data": {
      "text/plain": [
       "0.9175365344467641"
      ]
     },
     "execution_count": 49,
     "metadata": {},
     "output_type": "execute_result"
    }
   ],
   "source": [
    "rfc_grid.best_estimator_.score(X_train_resampled, y_train_resampled)"
   ]
  },
  {
   "cell_type": "code",
   "execution_count": 50,
   "id": "c3658a30-65e1-4245-80c1-5bd3bc179679",
   "metadata": {},
   "outputs": [
    {
     "data": {
      "text/plain": [
       "RandomForestClassifier(criterion='entropy', max_depth=16, max_features='log2',\n",
       "                       n_estimators=80, random_state=15)"
      ]
     },
     "execution_count": 50,
     "metadata": {},
     "output_type": "execute_result"
    }
   ],
   "source": [
    "rfc_grid.best_estimator_"
   ]
  },
  {
   "cell_type": "code",
   "execution_count": 51,
   "id": "4bf10a7c-fd73-412c-8a67-34306620d0c1",
   "metadata": {},
   "outputs": [
    {
     "data": {
      "text/plain": [
       "{'cv': RepeatedStratifiedKFold(n_repeats=5, n_splits=10, random_state=1),\n",
       " 'error_score': nan,\n",
       " 'estimator__bootstrap': True,\n",
       " 'estimator__ccp_alpha': 0.0,\n",
       " 'estimator__class_weight': None,\n",
       " 'estimator__criterion': 'gini',\n",
       " 'estimator__max_depth': None,\n",
       " 'estimator__max_features': 'auto',\n",
       " 'estimator__max_leaf_nodes': None,\n",
       " 'estimator__max_samples': None,\n",
       " 'estimator__min_impurity_decrease': 0.0,\n",
       " 'estimator__min_samples_leaf': 1,\n",
       " 'estimator__min_samples_split': 2,\n",
       " 'estimator__min_weight_fraction_leaf': 0.0,\n",
       " 'estimator__n_estimators': 100,\n",
       " 'estimator__n_jobs': None,\n",
       " 'estimator__oob_score': False,\n",
       " 'estimator__random_state': 15,\n",
       " 'estimator__verbose': 0,\n",
       " 'estimator__warm_start': False,\n",
       " 'estimator': RandomForestClassifier(random_state=15),\n",
       " 'n_jobs': -1,\n",
       " 'param_grid': {'criterion': ['gini', 'entropy'],\n",
       "  'max_depth': array([14, 16, 18, 20, 22]),\n",
       "  'n_estimators': array([ 80,  85,  90,  95, 100, 105, 110, 115]),\n",
       "  'max_features': ['auto', 'sqrt', 'log2']},\n",
       " 'pre_dispatch': '2*n_jobs',\n",
       " 'refit': True,\n",
       " 'return_train_score': False,\n",
       " 'scoring': 'f1',\n",
       " 'verbose': 0}"
      ]
     },
     "execution_count": 51,
     "metadata": {},
     "output_type": "execute_result"
    }
   ],
   "source": [
    "rfc_grid.get_params()"
   ]
  },
  {
   "cell_type": "markdown",
   "id": "841d3241-6570-49dc-8a69-ff5ba4bf445f",
   "metadata": {
    "tags": []
   },
   "source": [
    "#### Predicción"
   ]
  },
  {
   "cell_type": "code",
   "execution_count": 52,
   "id": "d6ed87cf-2c5f-4041-9b30-31a51e231a70",
   "metadata": {
    "colab": {
     "base_uri": "https://localhost:8080/"
    },
    "id": "OLCLnMTir_u5",
    "outputId": "a39f09c7-873b-45d1-e5a0-3593bedab615"
   },
   "outputs": [],
   "source": [
    "y_train_pred_rfc = rfc_grid.predict(X_train)"
   ]
  },
  {
   "cell_type": "code",
   "execution_count": 53,
   "id": "5fc3271c-e6fb-4bd7-995d-324d6b2ff923",
   "metadata": {
    "colab": {
     "base_uri": "https://localhost:8080/"
    },
    "id": "OLCLnMTir_u5",
    "outputId": "a39f09c7-873b-45d1-e5a0-3593bedab615"
   },
   "outputs": [
    {
     "data": {
      "image/png": "[encoded data removed]",
      "text/plain": [
       "<Figure size 864x432 with 2 Axes>"
      ]
     },
     "metadata": {
      "needs_background": "light"
     },
     "output_type": "display_data"
    }
   ],
   "source": [
    "cm_train = confusion_matrix(y_train, y_train_pred_rfc)\n",
    "\n",
    "disp = ConfusionMatrixDisplay(confusion_matrix=cm_train, display_labels=rfc_grid.classes_)\n",
    "fig, ax = plt.subplots(figsize=(12,6))\n",
    "ax.set_title('Matriz de Confusión: RandomForestClassifier - Train', fontsize=18)\n",
    "disp.plot(cmap='GnBu', ax=ax)\n",
    "plt.show()"
   ]
  },
  {
   "cell_type": "code",
   "execution_count": 54,
   "id": "b1729fca-6d98-4498-8cdd-16d5b3d7da55",
   "metadata": {
    "colab": {
     "base_uri": "https://localhost:8080/"
    },
    "id": "FCyjzElLsN_J",
    "outputId": "c17bf21d-9a3d-467b-b0fe-22e4ddc0b594"
   },
   "outputs": [
    {
     "name": "stdout",
     "output_type": "stream",
     "text": [
      "===============================================================================\n",
      "RandomForestClassifier - Reporte de clasificación del conjunto de entrenamiento\n",
      "===============================================================================\n",
      "              precision    recall  f1-score   support\n",
      "\n",
      "           0       0.93      0.95      0.94       958\n",
      "           1       0.90      0.87      0.89       532\n",
      "\n",
      "    accuracy                           0.92      1490\n",
      "   macro avg       0.92      0.91      0.91      1490\n",
      "weighted avg       0.92      0.92      0.92      1490\n",
      "\n"
     ]
    }
   ],
   "source": [
    "# Evaluate val\n",
    "text = \"RandomForestClassifier - Reporte de clasificación del conjunto de entrenamiento\" \n",
    "print(len(text)*\"=\")\n",
    "print(text)\n",
    "print(len(text)*\"=\")\n",
    "\n",
    "cr = classification_report(y_train, y_train_pred_rfc)\n",
    "print(cr)"
   ]
  },
  {
   "cell_type": "markdown",
   "id": "32464e2f-a75b-436c-a22d-f05c2a9d8991",
   "metadata": {},
   "source": [
    "---"
   ]
  },
  {
   "cell_type": "markdown",
   "id": "dfd7d453-d4d6-424d-ac03-35cfc04103df",
   "metadata": {},
   "source": [
    "## Conclusión y Predicción sobre Test"
   ]
  },
  {
   "cell_type": "markdown",
   "id": "9174ae8e-51a6-46c2-848c-ddaa585295c5",
   "metadata": {},
   "source": [
    "Los modelos aplicados fueron **BaggingClassifier**, **XGBClassifier** y **RandomForestClassifier**, y la métrica a priorizar fue el F1-Score sobre la clase positiva 1, es decir, que un cliente compre el seguro de viaje de la empresa.\n",
    "\n",
    "Para esto, se balancearon los datos de train, se entrenó con los mismos y al momento de evaluar el modelo, se usaron los conjuntos sin balancear, como si fuera un conjunto de validación.\n",
    "\n",
    "* BaggingClassifier : 0.85 (F1-Score para clase positiva)\n",
    "* XGBClassifier : 0.83 (F1-Score para clase positiva)\n",
    "* RandomForestClassifier : 0.89 (F1-Score para clase positiva)\n",
    "\n",
    "Tomamos la decisión de hacer la predicción sobre test con el modelo de **RandomForestClassifier**, ya que arrojó el mejor resultado."
   ]
  },
  {
   "cell_type": "code",
   "execution_count": 55,
   "id": "03311c41-9f0b-49e2-8cc5-9417804be74a",
   "metadata": {},
   "outputs": [],
   "source": [
    "y_test_pred_final = rfc_grid.predict(X_test)"
   ]
  },
  {
   "cell_type": "code",
   "execution_count": 57,
   "id": "be929dc5-751d-4def-812c-fd5f6f5e450e",
   "metadata": {},
   "outputs": [],
   "source": [
    "test_id = test_df_ori[\"Customer\"]\n",
    "test_pred = y_test_pred_final\n",
    "\n",
    "submission = pd.DataFrame(list(zip(test_id, test_pred)), columns=[\"Customer\", \"TravelInsurance\"])\n",
    "submission.to_csv(\"./data/travel_insurance_submission.csv\", header=True, index=False)"
   ]
  },
  {
   "cell_type": "code",
   "execution_count": null,
   "id": "5e842cf1-8fd5-4563-96e5-6dbe102fa36d",
   "metadata": {},
   "outputs": [],
   "source": []
  }
 ],
 "metadata": {
  "kernelspec": {
   "display_name": "Python 3 (ipykernel)",
   "language": "python",
   "name": "python3"
  },
  "language_info": {
   "codemirror_mode": {
    "name": "ipython",
    "version": 3
   },
   "file_extension": ".py",
   "mimetype": "text/x-python",
   "name": "python",
   "nbconvert_exporter": "python",
   "pygments_lexer": "ipython3",
   "version": "3.8.12"
  }
 },
 "nbformat": 4,
 "nbformat_minor": 5
}
