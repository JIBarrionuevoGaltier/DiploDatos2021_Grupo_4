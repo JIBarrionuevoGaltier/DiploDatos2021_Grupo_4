{
 "cells": [
  {
   "cell_type": "markdown",
   "metadata": {
    "id": "78CaWDWTZCm3"
   },
   "source": [
    "# Laboratorio 2: Armado de un esquema de aprendizaje automático\n",
    "\n",
    "En el laboratorio final se espera que puedan poner en práctica los conocimientos adquiridos en el curso, trabajando con un conjunto de datos de clasificación.\n",
    "\n",
    "El objetivo es que se introduzcan en el desarrollo de un esquema para hacer tareas de aprendizaje automático: selección de un modelo, ajuste de hiperparámetros y evaluación.\n",
    "\n",
    "El conjunto de datos a utilizar está en `./data/loan_data.csv`. Si abren el archivo verán que al principio (las líneas que empiezan con `#`) describen el conjunto de datos y sus atributos (incluyendo el atributo de etiqueta o clase).\n",
    "\n",
    "Se espera que hagan uso de las herramientas vistas en el curso. Se espera que hagan uso especialmente de las herramientas brindadas por `scikit-learn`."
   ]
  },
  {
   "cell_type": "markdown",
   "metadata": {
    "id": "zO4bRoxr2Apy",
    "tags": []
   },
   "source": [
    "---\n",
    "# TRABAJO PRÁCTICO ENTREGABLE - PARTE 2\n",
    "\n",
    "## INTEGRANTES DEL GRUPO IV:\n",
    "*   María Belén Acotto\n",
    "*   Juan Ignacio Barrionuevo Galtier\n",
    "*   Gonzalo Heredia Edelstein\n",
    "\n",
    "---"
   ]
  },
  {
   "cell_type": "markdown",
   "metadata": {},
   "source": [
    "## Importación de Librerías"
   ]
  },
  {
   "cell_type": "code",
   "execution_count": 1,
   "metadata": {
    "id": "7_dzIykCZCm7"
   },
   "outputs": [],
   "source": [
    "import numpy as np\n",
    "import pandas as pd\n",
    "\n",
    "# TODO: Agregar las librerías que hagan falta\n",
    "from sklearn.model_selection import train_test_split, GridSearchCV\n",
    "from sklearn.linear_model import SGDClassifier\n",
    "from sklearn.preprocessing import StandardScaler\n",
    "from sklearn.pipeline import make_pipeline\n",
    "from sklearn.metrics import confusion_matrix, classification_report, ConfusionMatrixDisplay\n",
    "import matplotlib.pyplot as plt"
   ]
  },
  {
   "cell_type": "markdown",
   "metadata": {
    "id": "OXJoYE5pZCm9"
   },
   "source": [
    "## Carga de datos y división en entrenamiento y evaluación\n",
    "\n",
    "La celda siguiente se encarga de la carga de datos (haciendo uso de pandas). Estos serán los que se trabajarán en el resto del laboratorio."
   ]
  },
  {
   "cell_type": "code",
   "execution_count": 2,
   "metadata": {
    "id": "VzoFyEUwZCm9"
   },
   "outputs": [],
   "source": [
    "dataset = pd.read_csv(\"./data/loan_data.csv\", comment=\"#\")\n",
    "\n",
    "# División entre instancias y etiquetas\n",
    "X, y = dataset.iloc[:, 1:], dataset.TARGET\n",
    "\n",
    "# división entre entrenamiento y evaluación\n",
    "X_train, X_test, y_train, y_test = train_test_split(X, y, test_size=0.2, random_state=0)"
   ]
  },
  {
   "cell_type": "code",
   "execution_count": 3,
   "metadata": {},
   "outputs": [
    {
     "name": "stdout",
     "output_type": "stream",
     "text": [
      "<class 'pandas.core.frame.DataFrame'>\n",
      "RangeIndex: 1854 entries, 0 to 1853\n",
      "Data columns (total 11 columns):\n",
      " #   Column   Non-Null Count  Dtype  \n",
      "---  ------   --------------  -----  \n",
      " 0   TARGET   1854 non-null   int64  \n",
      " 1   LOAN     1854 non-null   int64  \n",
      " 2   MORTDUE  1854 non-null   float64\n",
      " 3   VALUE    1854 non-null   float64\n",
      " 4   YOJ      1854 non-null   float64\n",
      " 5   DEROG    1854 non-null   float64\n",
      " 6   DELINQ   1854 non-null   float64\n",
      " 7   CLAGE    1854 non-null   float64\n",
      " 8   NINQ     1854 non-null   float64\n",
      " 9   CLNO     1854 non-null   float64\n",
      " 10  DEBTINC  1854 non-null   float64\n",
      "dtypes: float64(9), int64(2)\n",
      "memory usage: 159.5 KB\n"
     ]
    }
   ],
   "source": [
    "dataset.info()"
   ]
  },
  {
   "cell_type": "code",
   "execution_count": 4,
   "metadata": {},
   "outputs": [
    {
     "data": {
      "text/html": [
       "<div>\n",
       "<style scoped>\n",
       "    .dataframe tbody tr th:only-of-type {\n",
       "        vertical-align: middle;\n",
       "    }\n",
       "\n",
       "    .dataframe tbody tr th {\n",
       "        vertical-align: top;\n",
       "    }\n",
       "\n",
       "    .dataframe thead th {\n",
       "        text-align: right;\n",
       "    }\n",
       "</style>\n",
       "<table border=\"1\" class=\"dataframe\">\n",
       "  <thead>\n",
       "    <tr style=\"text-align: right;\">\n",
       "      <th></th>\n",
       "      <th>TARGET</th>\n",
       "      <th>LOAN</th>\n",
       "      <th>MORTDUE</th>\n",
       "      <th>VALUE</th>\n",
       "      <th>YOJ</th>\n",
       "      <th>DEROG</th>\n",
       "      <th>DELINQ</th>\n",
       "      <th>CLAGE</th>\n",
       "      <th>NINQ</th>\n",
       "      <th>CLNO</th>\n",
       "      <th>DEBTINC</th>\n",
       "    </tr>\n",
       "  </thead>\n",
       "  <tbody>\n",
       "    <tr>\n",
       "      <th>0</th>\n",
       "      <td>0</td>\n",
       "      <td>4700</td>\n",
       "      <td>88026.0</td>\n",
       "      <td>115506.0</td>\n",
       "      <td>6.0</td>\n",
       "      <td>0.0</td>\n",
       "      <td>0.0</td>\n",
       "      <td>182.248332</td>\n",
       "      <td>0.0</td>\n",
       "      <td>27.0</td>\n",
       "      <td>29.209023</td>\n",
       "    </tr>\n",
       "    <tr>\n",
       "      <th>1</th>\n",
       "      <td>0</td>\n",
       "      <td>19300</td>\n",
       "      <td>39926.0</td>\n",
       "      <td>101208.0</td>\n",
       "      <td>4.0</td>\n",
       "      <td>0.0</td>\n",
       "      <td>0.0</td>\n",
       "      <td>140.051638</td>\n",
       "      <td>0.0</td>\n",
       "      <td>14.0</td>\n",
       "      <td>31.545694</td>\n",
       "    </tr>\n",
       "    <tr>\n",
       "      <th>2</th>\n",
       "      <td>0</td>\n",
       "      <td>5700</td>\n",
       "      <td>71556.0</td>\n",
       "      <td>79538.0</td>\n",
       "      <td>2.0</td>\n",
       "      <td>0.0</td>\n",
       "      <td>0.0</td>\n",
       "      <td>92.643085</td>\n",
       "      <td>0.0</td>\n",
       "      <td>15.0</td>\n",
       "      <td>41.210012</td>\n",
       "    </tr>\n",
       "    <tr>\n",
       "      <th>3</th>\n",
       "      <td>0</td>\n",
       "      <td>13000</td>\n",
       "      <td>44875.0</td>\n",
       "      <td>57713.0</td>\n",
       "      <td>0.0</td>\n",
       "      <td>1.0</td>\n",
       "      <td>0.0</td>\n",
       "      <td>184.990324</td>\n",
       "      <td>1.0</td>\n",
       "      <td>12.0</td>\n",
       "      <td>28.602076</td>\n",
       "    </tr>\n",
       "    <tr>\n",
       "      <th>4</th>\n",
       "      <td>0</td>\n",
       "      <td>19300</td>\n",
       "      <td>72752.0</td>\n",
       "      <td>106084.0</td>\n",
       "      <td>11.0</td>\n",
       "      <td>0.0</td>\n",
       "      <td>0.0</td>\n",
       "      <td>193.707100</td>\n",
       "      <td>1.0</td>\n",
       "      <td>13.0</td>\n",
       "      <td>30.686106</td>\n",
       "    </tr>\n",
       "  </tbody>\n",
       "</table>\n",
       "</div>"
      ],
      "text/plain": [
       "   TARGET   LOAN  MORTDUE     VALUE   YOJ  DEROG  DELINQ       CLAGE  NINQ  \\\n",
       "0       0   4700  88026.0  115506.0   6.0    0.0     0.0  182.248332   0.0   \n",
       "1       0  19300  39926.0  101208.0   4.0    0.0     0.0  140.051638   0.0   \n",
       "2       0   5700  71556.0   79538.0   2.0    0.0     0.0   92.643085   0.0   \n",
       "3       0  13000  44875.0   57713.0   0.0    1.0     0.0  184.990324   1.0   \n",
       "4       0  19300  72752.0  106084.0  11.0    0.0     0.0  193.707100   1.0   \n",
       "\n",
       "   CLNO    DEBTINC  \n",
       "0  27.0  29.209023  \n",
       "1  14.0  31.545694  \n",
       "2  15.0  41.210012  \n",
       "3  12.0  28.602076  \n",
       "4  13.0  30.686106  "
      ]
     },
     "execution_count": 4,
     "metadata": {},
     "output_type": "execute_result"
    }
   ],
   "source": [
    "dataset.head()"
   ]
  },
  {
   "cell_type": "code",
   "execution_count": 5,
   "metadata": {},
   "outputs": [
    {
     "data": {
      "text/plain": [
       "0    1545\n",
       "1     309\n",
       "Name: TARGET, dtype: int64"
      ]
     },
     "execution_count": 5,
     "metadata": {},
     "output_type": "execute_result"
    }
   ],
   "source": [
    "dataset.TARGET.value_counts()"
   ]
  },
  {
   "cell_type": "markdown",
   "metadata": {
    "id": "MUMha-3OZCm-"
   },
   "source": [
    "Documentación:\n",
    "\n",
    "- https://scikit-learn.org/stable/modules/generated/sklearn.model_selection.train_test_split.html"
   ]
  },
  {
   "cell_type": "markdown",
   "metadata": {},
   "source": [
    "---"
   ]
  },
  {
   "cell_type": "markdown",
   "metadata": {
    "id": "1mwx3uRgZCm-"
   },
   "source": [
    "## Ejercicio 1: Descripción de los Datos y la Tarea\n",
    "\n",
    "Responder las siguientes preguntas:\n",
    "\n",
    "1. ¿De qué se trata el conjunto de datos?\n",
    "2. ¿Cuál es la variable objetivo que hay que predecir? ¿Qué significado tiene?\n",
    "3. ¿Qué información (atributos) hay disponible para hacer la predicción?\n",
    "4. ¿Qué atributos imagina ud. que son los más determinantes para la predicción?\n",
    "\n",
    "**No hace falta escribir código para responder estas preguntas.**"
   ]
  },
  {
   "cell_type": "markdown",
   "metadata": {
    "id": "D769p9WSV-wo"
   },
   "source": [
    "1. El conjunto de datos **loan_data**, fue realizado con un departamento crediticio de un banco que quería automatizar el proceso de toma de decisiones para aprobar o no, un crédito hipotecario. Este dataset contiene información de referencia y rendimiento del préstamos de 5960 personas, siendo reducido a un total de 1854 filas con 11 variables de entrada. Entre las mismas, existe una variable binaria objetivo (TARGET), que indica si una persona terminó incumpliendo o siendo morosa.\n",
    "\n",
    "2. La variable objetivo a predecir es TARGET. Esta variable es una variable binaria con 0 y 1 que significa:\n",
    "    * 0: El cliente pagó el crédito.\n",
    "    * 1: El cliente no pagó el crédito.\n",
    "\n",
    "\n",
    "3. Para la predicción de la columna TARGET, contamos con 10 variables. A continuación, procedemos a la explicación de cada uno de ellas:\n",
    "    * **LOAN**: Importe de la solicitud de préstamo\n",
    "    * **MORTDUE**: Importe de la hipoteca actual\n",
    "    * **VALUE**: Valor de la propiedad actual\n",
    "    * **YOJ**: Años en el trabajo actual\n",
    "    * **DEROG**: Número de informes derogatorios importantes\n",
    "    * **DELINQ**: Número de líneas de crédito morosas\n",
    "    * **CLAGE**: Antigüedad de la línea comercial más antigua en meses\n",
    "    * **NINQ**: Número de líneas de crédito recientes\n",
    "    * **CLNO**: Número de líneas de crédito\n",
    "    * **DEBTINC**: Ratio de las deudas/ingresos\n",
    "\n",
    "\n",
    "4. Los atributos que mas determinen la prediccion desde nuestro punto de vista, sin previo analisis, serian:\n",
    "    * LOAN\n",
    "    * MORTDUE\n",
    "    * YOJ\n",
    "    * CLNO\n",
    "    * NINQ\n",
    "    * DELINQ\n",
    "    * DEBTINC"
   ]
  },
  {
   "cell_type": "markdown",
   "metadata": {},
   "source": [
    "---"
   ]
  },
  {
   "cell_type": "markdown",
   "metadata": {
    "id": "hMd-MXkNZCm_"
   },
   "source": [
    "## Ejercicio 2: Predicción con Modelos Lineales\n",
    "\n",
    "En este ejercicio se entrenarán modelos lineales de clasificación para predecir la variable objetivo.\n",
    "\n",
    "Para ello, deberán utilizar la clase SGDClassifier de scikit-learn.\n",
    "\n",
    "Documentación:\n",
    "- https://scikit-learn.org/stable/modules/sgd.html\n",
    "- https://scikit-learn.org/stable/modules/generated/sklearn.linear_model.SGDClassifier.html\n"
   ]
  },
  {
   "cell_type": "markdown",
   "metadata": {
    "id": "Xgaa9p9XZCnA"
   },
   "source": [
    "### Ejercicio 2.1: SGDClassifier con hiperparámetros por defecto\n",
    "\n",
    "Entrenar y evaluar el clasificador SGDClassifier usando los valores por omisión de scikit-learn para todos los parámetros. Únicamente **fijar la semilla aleatoria** para hacer repetible el experimento.\n",
    "\n",
    "Evaluar sobre el conjunto de **entrenamiento** y sobre el conjunto de **evaluación**, reportando:\n",
    "- Accuracy\n",
    "- Precision\n",
    "- Recall\n",
    "- F1\n",
    "- matriz de confusión"
   ]
  },
  {
   "cell_type": "code",
   "execution_count": 6,
   "metadata": {
    "colab": {
     "base_uri": "https://localhost:8080/"
    },
    "id": "c_moW77Wkope",
    "outputId": "b5391ca1-59e5-4ddb-96b5-b4d0501491b8"
   },
   "outputs": [
    {
     "data": {
      "text/plain": [
       "{'memory': None,\n",
       " 'steps': [('standardscaler', StandardScaler()),\n",
       "  ('sgdclassifier', SGDClassifier(random_state=15))],\n",
       " 'verbose': False,\n",
       " 'standardscaler': StandardScaler(),\n",
       " 'sgdclassifier': SGDClassifier(random_state=15),\n",
       " 'standardscaler__copy': True,\n",
       " 'standardscaler__with_mean': True,\n",
       " 'standardscaler__with_std': True,\n",
       " 'sgdclassifier__alpha': 0.0001,\n",
       " 'sgdclassifier__average': False,\n",
       " 'sgdclassifier__class_weight': None,\n",
       " 'sgdclassifier__early_stopping': False,\n",
       " 'sgdclassifier__epsilon': 0.1,\n",
       " 'sgdclassifier__eta0': 0.0,\n",
       " 'sgdclassifier__fit_intercept': True,\n",
       " 'sgdclassifier__l1_ratio': 0.15,\n",
       " 'sgdclassifier__learning_rate': 'optimal',\n",
       " 'sgdclassifier__loss': 'hinge',\n",
       " 'sgdclassifier__max_iter': 1000,\n",
       " 'sgdclassifier__n_iter_no_change': 5,\n",
       " 'sgdclassifier__n_jobs': None,\n",
       " 'sgdclassifier__penalty': 'l2',\n",
       " 'sgdclassifier__power_t': 0.5,\n",
       " 'sgdclassifier__random_state': 15,\n",
       " 'sgdclassifier__shuffle': True,\n",
       " 'sgdclassifier__tol': 0.001,\n",
       " 'sgdclassifier__validation_fraction': 0.1,\n",
       " 'sgdclassifier__verbose': 0,\n",
       " 'sgdclassifier__warm_start': False}"
      ]
     },
     "execution_count": 6,
     "metadata": {},
     "output_type": "execute_result"
    }
   ],
   "source": [
    "clf = make_pipeline(StandardScaler(), SGDClassifier(max_iter=1000, tol=1e-3, random_state=15))\n",
    "clf.fit(X_train, y_train)\n",
    "clf.get_params(deep = True) "
   ]
  },
  {
   "cell_type": "code",
   "execution_count": 7,
   "metadata": {
    "colab": {
     "base_uri": "https://localhost:8080/"
    },
    "id": "rZoaUPm3lXdH",
    "outputId": "b8b3d454-4cce-4ce3-a8d7-ab675f0b9c74"
   },
   "outputs": [
    {
     "name": "stdout",
     "output_type": "stream",
     "text": [
      "Precisión en los datos de entrenamiento (score): 0.851652056641942\n"
     ]
    }
   ],
   "source": [
    "score = clf.score(X_train, y_train)\n",
    "print(f'Precisión en los datos de entrenamiento (score): {score}')"
   ]
  },
  {
   "cell_type": "code",
   "execution_count": 8,
   "metadata": {
    "colab": {
     "base_uri": "https://localhost:8080/"
    },
    "id": "OLCLnMTir_u5",
    "outputId": "a39f09c7-873b-45d1-e5a0-3593bedab615"
   },
   "outputs": [],
   "source": [
    "y_train_pred = clf.predict(X_train)"
   ]
  },
  {
   "cell_type": "code",
   "execution_count": 9,
   "metadata": {
    "colab": {
     "base_uri": "https://localhost:8080/"
    },
    "id": "OLCLnMTir_u5",
    "outputId": "a39f09c7-873b-45d1-e5a0-3593bedab615"
   },
   "outputs": [
    {
     "data": {
      "image/png": "[encoded data removed]",
      "text/plain": [
       "<Figure size 432x288 with 2 Axes>"
      ]
     },
     "metadata": {
      "needs_background": "light"
     },
     "output_type": "display_data"
    }
   ],
   "source": [
    "cm_train = confusion_matrix(y_train, y_train_pred)\n",
    "\n",
    "disp = ConfusionMatrixDisplay(confusion_matrix=cm_train, display_labels=clf.classes_)\n",
    "disp.plot(cmap='YlOrBr')\n",
    "plt.show()"
   ]
  },
  {
   "cell_type": "code",
   "execution_count": 10,
   "metadata": {
    "colab": {
     "base_uri": "https://localhost:8080/"
    },
    "id": "FCyjzElLsN_J",
    "outputId": "c17bf21d-9a3d-467b-b0fe-22e4ddc0b594"
   },
   "outputs": [
    {
     "name": "stdout",
     "output_type": "stream",
     "text": [
      "================================================================================\n",
      "SGDClassifier (Default) - Reporte de clasificación del conjunto de entrenamiento\n",
      "================================================================================\n",
      "              precision    recall  f1-score   support\n",
      "\n",
      "           0       0.89      0.93      0.91      1232\n",
      "           1       0.58      0.45      0.51       251\n",
      "\n",
      "    accuracy                           0.85      1483\n",
      "   macro avg       0.74      0.69      0.71      1483\n",
      "weighted avg       0.84      0.85      0.84      1483\n",
      "\n"
     ]
    }
   ],
   "source": [
    "# Evaluate val\n",
    "text = \"SGDClassifier (Default) - Reporte de clasificación del conjunto de entrenamiento\" \n",
    "print(len(text)*\"=\")\n",
    "print(text)\n",
    "print(len(text)*\"=\")\n",
    "\n",
    "cr = classification_report(y_train, y_train_pred)\n",
    "print(cr)"
   ]
  },
  {
   "cell_type": "code",
   "execution_count": 11,
   "metadata": {
    "colab": {
     "base_uri": "https://localhost:8080/"
    },
    "id": "OLCLnMTir_u5",
    "outputId": "a39f09c7-873b-45d1-e5a0-3593bedab615"
   },
   "outputs": [
    {
     "data": {
      "image/png": "[encoded data removed]",
      "text/plain": [
       "<Figure size 432x288 with 2 Axes>"
      ]
     },
     "metadata": {
      "needs_background": "light"
     },
     "output_type": "display_data"
    }
   ],
   "source": [
    "y_test_pred = clf.predict(X_test)\n",
    "\n",
    "cm_test = confusion_matrix(y_test, y_test_pred)\n",
    "\n",
    "disp = ConfusionMatrixDisplay(confusion_matrix=cm_test, display_labels=clf.classes_)\n",
    "disp.plot(cmap='YlOrBr')\n",
    "plt.show()"
   ]
  },
  {
   "cell_type": "code",
   "execution_count": 12,
   "metadata": {
    "colab": {
     "base_uri": "https://localhost:8080/"
    },
    "id": "FCyjzElLsN_J",
    "outputId": "c17bf21d-9a3d-467b-b0fe-22e4ddc0b594"
   },
   "outputs": [
    {
     "name": "stdout",
     "output_type": "stream",
     "text": [
      "=============================================================================\n",
      "SGDClassifier (Default) - Reporte de clasificación del conjunto de evaluación\n",
      "=============================================================================\n",
      "              precision    recall  f1-score   support\n",
      "\n",
      "           0       0.88      0.92      0.90       313\n",
      "           1       0.44      0.34      0.39        58\n",
      "\n",
      "    accuracy                           0.83       371\n",
      "   macro avg       0.66      0.63      0.64       371\n",
      "weighted avg       0.81      0.83      0.82       371\n",
      "\n"
     ]
    }
   ],
   "source": [
    "# Evaluate val\n",
    "text = \"SGDClassifier (Default) - Reporte de clasificación del conjunto de evaluación\" \n",
    "print(len(text)*\"=\")\n",
    "print(text)\n",
    "print(len(text)*\"=\")\n",
    "\n",
    "cr = classification_report(y_test, y_test_pred)\n",
    "print(cr)"
   ]
  },
  {
   "cell_type": "markdown",
   "metadata": {
    "id": "w6mXk7_PZCnA"
   },
   "source": [
    "### Ejercicio 2.2: Ajuste de Hiperparámetros\n",
    "\n",
    "Seleccionar valores para los hiperparámetros principales del SGDClassifier. Como mínimo, probar diferentes funciones de loss, tasas de entrenamiento y tasas de regularización.\n",
    "\n",
    "Para ello, usar grid-search y 5-fold cross-validation sobre el conjunto de entrenamiento para explorar muchas combinaciones posibles de valores.\n",
    "\n",
    "Reportar accuracy promedio y varianza para todas las configuraciones.\n",
    "\n",
    "Para la mejor configuración encontrada, evaluar sobre el conjunto de **entrenamiento** y sobre el conjunto de **evaluación**, reportando:\n",
    "- Accuracy\n",
    "- Precision\n",
    "- Recall\n",
    "- F1\n",
    "- matriz de confusión\n",
    "\n",
    "Documentación:\n",
    "- https://scikit-learn.org/stable/modules/grid_search.html\n",
    "- https://scikit-learn.org/stable/modules/generated/sklearn.model_selection.GridSearchCV.html"
   ]
  },
  {
   "cell_type": "code",
   "execution_count": 13,
   "metadata": {
    "colab": {
     "base_uri": "https://localhost:8080/"
    },
    "id": "qGwUY5tQ8SPo",
    "outputId": "04db66f2-36e2-4e34-f2b9-0d6ab84f6893"
   },
   "outputs": [
    {
     "name": "stdout",
     "output_type": "stream",
     "text": [
      "Fitting 5 folds for each of 576 candidates, totalling 2880 fits\n"
     ]
    },
    {
     "data": {
      "text/plain": [
       "GridSearchCV(estimator=Pipeline(steps=[('standardscaler', StandardScaler()),\n",
       "                                       ('sgdclassifier',\n",
       "                                        SGDClassifier(random_state=15))]),\n",
       "             n_jobs=4,\n",
       "             param_grid={'sgdclassifier__alpha': [0.1, 0.01, 0.001, 0.0001],\n",
       "                         'sgdclassifier__epsilon': [0.1, 0.01, 0.001],\n",
       "                         'sgdclassifier__loss': ['hinge', 'log',\n",
       "                                                 'squared_hinge',\n",
       "                                                 'modified_huber'],\n",
       "                         'sgdclassifier__max_iter': [1000, 1500],\n",
       "                         'sgdclassifier__penalty': ['l2', 'l1'],\n",
       "                         'sgdclassifier__tol': [0.01, 0.001, 0.0001]},\n",
       "             verbose=2)"
      ]
     },
     "execution_count": 13,
     "metadata": {},
     "output_type": "execute_result"
    }
   ],
   "source": [
    "param_grid = {\n",
    "    'sgdclassifier__loss': ['hinge', 'log', 'squared_hinge', 'modified_huber'],\n",
    "    'sgdclassifier__penalty': ['l2', 'l1'],\n",
    "    'sgdclassifier__alpha': [0.1, 0.01, 0.001, 0.0001],\n",
    "    'sgdclassifier__epsilon': [0.1, 0.01, 0.001],\n",
    "    'sgdclassifier__tol': [1e-2,1e-3, 1e-4],\n",
    "    'sgdclassifier__max_iter': [1000, 1500]\n",
    "}\n",
    "\n",
    "scaler = StandardScaler()\n",
    "sgdc = SGDClassifier(random_state=15)\n",
    "pipe = make_pipeline(scaler, sgdc)\n",
    "\n",
    "grid = GridSearchCV(pipe, param_grid, cv = None, refit = True, verbose = 2, n_jobs = 4)\n",
    "\n",
    "grid.fit(X_train, y_train) "
   ]
  },
  {
   "cell_type": "code",
   "execution_count": 14,
   "metadata": {
    "colab": {
     "base_uri": "https://localhost:8080/"
    },
    "id": "qGwUY5tQ8SPo",
    "outputId": "04db66f2-36e2-4e34-f2b9-0d6ab84f6893"
   },
   "outputs": [
    {
     "name": "stdout",
     "output_type": "stream",
     "text": [
      "{'sgdclassifier__alpha': 0.001, 'sgdclassifier__epsilon': 0.1, 'sgdclassifier__loss': 'log', 'sgdclassifier__max_iter': 1000, 'sgdclassifier__penalty': 'l2', 'sgdclassifier__tol': 0.01}\n"
     ]
    }
   ],
   "source": [
    "print(grid.best_params_) "
   ]
  },
  {
   "cell_type": "code",
   "execution_count": 15,
   "metadata": {
    "colab": {
     "base_uri": "https://localhost:8080/"
    },
    "id": "rZoaUPm3lXdH",
    "outputId": "b8b3d454-4cce-4ce3-a8d7-ab675f0b9c74"
   },
   "outputs": [
    {
     "name": "stdout",
     "output_type": "stream",
     "text": [
      "Precisión en los datos de entrenamiento (score): 0.8745785569790965\n"
     ]
    }
   ],
   "source": [
    "score = grid.score(X_train, y_train)\n",
    "print(f'Precisión en los datos de entrenamiento (score): {score}')"
   ]
  },
  {
   "cell_type": "code",
   "execution_count": 16,
   "metadata": {},
   "outputs": [],
   "source": [
    "y_train_pred = grid.predict(X_train)"
   ]
  },
  {
   "cell_type": "code",
   "execution_count": 21,
   "metadata": {
    "colab": {
     "base_uri": "https://localhost:8080/"
    },
    "id": "OLCLnMTir_u5",
    "outputId": "a39f09c7-873b-45d1-e5a0-3593bedab615"
   },
   "outputs": [
    {
     "data": {
      "image/png": "[encoded data removed]",
      "text/plain": [
       "<Figure size 432x288 with 2 Axes>"
      ]
     },
     "metadata": {
      "needs_background": "light"
     },
     "output_type": "display_data"
    }
   ],
   "source": [
    "cm_train = confusion_matrix(y_train, y_train_pred)\n",
    "\n",
    "disp = ConfusionMatrixDisplay(confusion_matrix=cm_train, display_labels=grid.classes_)\n",
    "disp.plot(cmap='YlOrBr')\n",
    "plt.show()"
   ]
  },
  {
   "cell_type": "code",
   "execution_count": 18,
   "metadata": {
    "colab": {
     "base_uri": "https://localhost:8080/"
    },
    "id": "FCyjzElLsN_J",
    "outputId": "c17bf21d-9a3d-467b-b0fe-22e4ddc0b594"
   },
   "outputs": [
    {
     "name": "stdout",
     "output_type": "stream",
     "text": [
      "================================================================================\n",
      "SGDClassifier (Default) - Reporte de clasificación del conjunto de entrenamiento\n",
      "================================================================================\n",
      "              precision    recall  f1-score   support\n",
      "\n",
      "           0       0.89      0.97      0.93      1232\n",
      "           1       0.72      0.42      0.53       251\n",
      "\n",
      "    accuracy                           0.87      1483\n",
      "   macro avg       0.81      0.69      0.73      1483\n",
      "weighted avg       0.86      0.87      0.86      1483\n",
      "\n"
     ]
    }
   ],
   "source": [
    "# Evaluate val\n",
    "text = \"SGDClassifier (Default) - Reporte de clasificación del conjunto de entrenamiento\" \n",
    "print(len(text)*\"=\")\n",
    "print(text)\n",
    "print(len(text)*\"=\")\n",
    "\n",
    "cr = classification_report(y_train, y_train_pred)\n",
    "print(cr)"
   ]
  },
  {
   "cell_type": "code",
   "execution_count": 22,
   "metadata": {
    "colab": {
     "base_uri": "https://localhost:8080/"
    },
    "id": "OLCLnMTir_u5",
    "outputId": "a39f09c7-873b-45d1-e5a0-3593bedab615"
   },
   "outputs": [
    {
     "data": {
      "image/png": "[encoded data removed]",
      "text/plain": [
       "<Figure size 432x288 with 2 Axes>"
      ]
     },
     "metadata": {
      "needs_background": "light"
     },
     "output_type": "display_data"
    }
   ],
   "source": [
    "y_test_pred = grid.predict(X_test)\n",
    "\n",
    "cm_test = confusion_matrix(y_test, y_test_pred)\n",
    "\n",
    "disp = ConfusionMatrixDisplay(confusion_matrix=cm_test, display_labels=grid.classes_)\n",
    "disp.plot(cmap='YlOrBr')\n",
    "plt.show()"
   ]
  },
  {
   "cell_type": "code",
   "execution_count": 23,
   "metadata": {
    "colab": {
     "base_uri": "https://localhost:8080/"
    },
    "id": "FCyjzElLsN_J",
    "outputId": "c17bf21d-9a3d-467b-b0fe-22e4ddc0b594"
   },
   "outputs": [
    {
     "name": "stdout",
     "output_type": "stream",
     "text": [
      "=============================================================================\n",
      "SGDClassifier (Default) - Reporte de clasificación del conjunto de evaluación\n",
      "=============================================================================\n",
      "              precision    recall  f1-score   support\n",
      "\n",
      "           0       0.89      0.97      0.93       313\n",
      "           1       0.67      0.34      0.45        58\n",
      "\n",
      "    accuracy                           0.87       371\n",
      "   macro avg       0.78      0.66      0.69       371\n",
      "weighted avg       0.85      0.87      0.85       371\n",
      "\n"
     ]
    }
   ],
   "source": [
    "# Evaluate val\n",
    "text = \"SGDClassifier (Default) - Reporte de clasificación del conjunto de evaluación\" \n",
    "print(len(text)*\"=\")\n",
    "print(text)\n",
    "print(len(text)*\"=\")\n",
    "\n",
    "cr = classification_report(y_test, y_test_pred)\n",
    "print(cr)"
   ]
  },
  {
   "cell_type": "code",
   "execution_count": null,
   "metadata": {
    "colab": {
     "base_uri": "https://localhost:8080/"
    },
    "id": "_x2kFi-B-gM4",
    "outputId": "8e62d563-dcfd-4172-f2e9-6d525204b0b8"
   },
   "outputs": [],
   "source": [
    "grid_predictions = grid.predict(X_test) \n",
    "\n",
    "print(classification_report(y_test, grid_predictions)) "
   ]
  },
  {
   "cell_type": "markdown",
   "metadata": {
    "id": "4OUVQ8hnZCnB"
   },
   "source": [
    "## Ejercicio 3: Árboles de Decisión\n",
    "\n",
    "En este ejercicio se entrenarán árboles de decisión para predecir la variable objetivo.\n",
    "\n",
    "Para ello, deberán utilizar la clase DecisionTreeClassifier de scikit-learn.\n",
    "\n",
    "Documentación:\n",
    "- https://scikit-learn.org/stable/modules/tree.html\n",
    "  - https://scikit-learn.org/stable/modules/tree.html#tips-on-practical-use\n",
    "- https://scikit-learn.org/stable/modules/generated/sklearn.tree.DecisionTreeClassifier.html\n",
    "- https://scikit-learn.org/stable/auto_examples/tree/plot_unveil_tree_structure.html"
   ]
  },
  {
   "cell_type": "markdown",
   "metadata": {
    "id": "AKc7BqwDZCnC"
   },
   "source": [
    "### Ejercicio 3.1: DecisionTreeClassifier con hiperparámetros por defecto\n",
    "\n",
    "Entrenar y evaluar el clasificador DecisionTreeClassifier usando los valores por omisión de scikit-learn para todos los parámetros. Únicamente **fijar la semilla aleatoria** para hacer repetible el experimento.\n",
    "\n",
    "Evaluar sobre el conjunto de **entrenamiento** y sobre el conjunto de **evaluación**, reportando:\n",
    "- Accuracy\n",
    "- Precision\n",
    "- Recall\n",
    "- F1\n",
    "- matriz de confusión\n"
   ]
  },
  {
   "cell_type": "code",
   "execution_count": null,
   "metadata": {
    "id": "PkfOoSGBheZY"
   },
   "outputs": [],
   "source": [
    "from sklearn import tree\n",
    "\n",
    "clf = tree.DecisionTreeClassifier()\n",
    "clf = clf.fit(X_train, y_train)"
   ]
  },
  {
   "cell_type": "code",
   "execution_count": null,
   "metadata": {
    "colab": {
     "base_uri": "https://localhost:8080/",
     "height": 247
    },
    "id": "pS0vR0P-h7SQ",
    "outputId": "687c43f7-4e83-4c1a-90d4-6a5bb47845e9"
   },
   "outputs": [],
   "source": [
    "import numpy as np\n",
    "from matplotlib import pyplot as plt\n",
    "\n",
    "tree.plot_tree(clf)\n",
    "plt.show()"
   ]
  },
  {
   "cell_type": "code",
   "execution_count": null,
   "metadata": {
    "colab": {
     "base_uri": "https://localhost:8080/"
    },
    "id": "E4OOeM6BlS3b",
    "outputId": "b55c3c53-f17a-4885-f43b-f92875cd45bc"
   },
   "outputs": [],
   "source": [
    "from sklearn.metrics import classification_report \n",
    "\n",
    "clf_predictions = clf.predict(X_test) \n",
    "\n",
    "print(classification_report(y_test, clf_predictions)) "
   ]
  },
  {
   "cell_type": "code",
   "execution_count": null,
   "metadata": {
    "id": "KQ040gEVpe-X"
   },
   "outputs": [],
   "source": []
  },
  {
   "cell_type": "markdown",
   "metadata": {
    "id": "0Yey09g7ZCnC"
   },
   "source": [
    "### Ejercicio 3.2: Ajuste de Hiperparámetros\n",
    "\n",
    "Seleccionar valores para los hiperparámetros principales del DecisionTreeClassifier. Como mínimo, probar diferentes criterios de partición (criterion), profundidad máxima del árbol (max_depth), y cantidad mínima de samples por hoja (min_samples_leaf).\n",
    "\n",
    "Para ello, usar grid-search y 5-fold cross-validation sobre el conjunto de entrenamiento para explorar muchas combinaciones posibles de valores.\n",
    "\n",
    "Reportar accuracy promedio y varianza para todas las configuraciones.\n",
    "\n",
    "Para la mejor configuración encontrada, evaluar sobre el conjunto de **entrenamiento** y sobre el conjunto de **evaluación**, reportando:\n",
    "- Accuracy\n",
    "- Precision\n",
    "- Recall\n",
    "- F1\n",
    "- matriz de confusión\n",
    "\n",
    "\n",
    "Documentación:\n",
    "- https://scikit-learn.org/stable/modules/grid_search.html\n",
    "- https://scikit-learn.org/stable/modules/generated/sklearn.model_selection.GridSearchCV.html"
   ]
  },
  {
   "cell_type": "code",
   "execution_count": null,
   "metadata": {
    "id": "7Ca5TMXrmFrt"
   },
   "outputs": [],
   "source": [
    "import matplotlib.pyplot as plt\n",
    " \n",
    "\n",
    "from sklearn.tree import DecisionTreeClassifier\n",
    "from sklearn.tree import plot_tree\n",
    "from sklearn.tree import export_graphviz\n",
    "from sklearn.tree import export_text\n",
    "from sklearn.model_selection import GridSearchCV\n",
    "from sklearn.metrics import mean_squared_error\n",
    "\n",
    "import warnings"
   ]
  },
  {
   "cell_type": "code",
   "execution_count": null,
   "metadata": {
    "colab": {
     "base_uri": "https://localhost:8080/",
     "height": 340
    },
    "id": "7kOv_x_ZoeST",
    "outputId": "fb9ee244-b0cd-4d6b-d91c-984011783537"
   },
   "outputs": [],
   "source": [
    "\n",
    "modelo = DecisionTreeClassifier( max_depth = 4, random_state = 123 ) # Creación del modelo con: profundidad max de 4 y la aleatoriedad del estimador en 123\n",
    "\n",
    "modelo.fit(X_train, y_train) \n",
    "\n",
    "fig, ax = plt.subplots(figsize=(12, 5))\n",
    "\n",
    "print(f\"Profundidad del árbol: {modelo.get_depth()}\")\n",
    "print(f\"Número de nodos terminales: {modelo.get_n_leaves()}\")\n",
    "\n",
    "\n",
    "tree.plot_tree(modelo)\n",
    "plt.show()"
   ]
  },
  {
   "cell_type": "code",
   "execution_count": null,
   "metadata": {
    "colab": {
     "base_uri": "https://localhost:8080/",
     "height": 363
    },
    "id": "nH6dAlxhpf_A",
    "outputId": "75d8072e-d0f4-43fe-be7a-8bde50ce0348"
   },
   "outputs": [],
   "source": [
    "importancia_predictores = pd.DataFrame(\n",
    "                            {'predictor':X_test.columns,\n",
    "                             'Importancia': modelo.feature_importances_}\n",
    "                            )\n",
    "importancia_predictores.sort_values('Importancia', ascending=False)"
   ]
  },
  {
   "cell_type": "markdown",
   "metadata": {
    "id": "7ci-eSt-qZcg"
   },
   "source": [
    "La importancia de cada predictor en modelo se calcula como la reducción total (normalizada) en el criterio de división, en este caso el mse, que consigue el predictor en las divisiones en las que participa. Si un predictor no ha sido seleccionado en ninguna divisón, no se ha incluido en el modelo y por lo tanto su importancia es 0."
   ]
  },
  {
   "cell_type": "code",
   "execution_count": null,
   "metadata": {
    "colab": {
     "base_uri": "https://localhost:8080/"
    },
    "id": "8rKUAjqI2-eX",
    "outputId": "c876025a-4849-49fd-b3d2-cfc0209f069c"
   },
   "outputs": [],
   "source": [
    "predicciones = modelo.predict(X = X_test,)\n",
    "\n",
    "print(\"Matriz de confusión\")\n",
    "confusion_matrix(\n",
    "    y_true    = y_test,\n",
    "    y_pred    = predicciones\n",
    ")"
   ]
  },
  {
   "cell_type": "code",
   "execution_count": null,
   "metadata": {
    "colab": {
     "base_uri": "https://localhost:8080/"
    },
    "id": "dWkqk8D206Q_",
    "outputId": "2cb0c331-6e7f-4be4-806e-d86d94950c4e"
   },
   "outputs": [],
   "source": [
    "from sklearn.metrics import  classification_report, confusion_matrix, accuracy_score\n",
    "\n",
    "print(classification_report(y_test,predicciones))\n"
   ]
  },
  {
   "cell_type": "code",
   "execution_count": null,
   "metadata": {
    "id": "_aYGBjK4-fPE"
   },
   "outputs": [],
   "source": []
  },
  {
   "cell_type": "code",
   "execution_count": null,
   "metadata": {
    "id": "lFBUAJmE-fXa"
   },
   "outputs": [],
   "source": []
  },
  {
   "cell_type": "markdown",
   "metadata": {
    "id": "pRNxScwL9Yu7"
   },
   "source": [
    "ÁRBOL MAS SENCILLO\n"
   ]
  },
  {
   "cell_type": "code",
   "execution_count": null,
   "metadata": {
    "colab": {
     "base_uri": "https://localhost:8080/",
     "height": 287
    },
    "id": "hDtaVf549YbE",
    "outputId": "f7806c6c-936b-4773-d0ff-4cc45b844cb4"
   },
   "outputs": [],
   "source": [
    "param_grid = {'ccp_alpha':np.linspace(0, 80, 20)}\n",
    "\n",
    "# Búsqueda por validación cruzada\n",
    "grid = GridSearchCV(\n",
    "        # El árbol se crece al máximo posible \n",
    "        estimator = DecisionTreeRegressor(\n",
    "                            max_depth         = None,\n",
    "                            min_samples_split = 2,\n",
    "                            min_samples_leaf  = 1,\n",
    "                            random_state      = 123\n",
    "                       ),\n",
    "        param_grid = param_grid,\n",
    "        cv         = 10,\n",
    "        refit      = True,\n",
    "        return_train_score = True\n",
    "      )\n",
    "\n",
    "grid.fit(X_train, y_train)\n",
    "\n",
    "fig, ax = plt.subplots(figsize=(6, 3.84))\n",
    "scores = pd.DataFrame(grid.cv_results_)\n",
    "scores.plot(x='param_ccp_alpha', y='mean_train_score', yerr='std_train_score', ax=ax)\n",
    "scores.plot(x='param_ccp_alpha', y='mean_test_score', yerr='std_test_score', ax=ax)\n",
    "ax.set_title(\"Error de validacion cruzada vs hiperparámetro ccp_alpha\");"
   ]
  },
  {
   "cell_type": "code",
   "execution_count": null,
   "metadata": {
    "colab": {
     "base_uri": "https://localhost:8080/"
    },
    "id": "gFknXQfz9viu",
    "outputId": "337b6bf5-9e55-4aa7-f828-df701a1493f2"
   },
   "outputs": [],
   "source": [
    "modelo_final = grid.best_estimator_\n",
    "print(f\"Profundidad del árbol: {modelo_final.get_depth()}\")\n",
    "print(f\"Número de nodos terminales: {modelo_final.get_n_leaves()}\")"
   ]
  },
  {
   "cell_type": "code",
   "execution_count": null,
   "metadata": {
    "colab": {
     "base_uri": "https://localhost:8080/",
     "height": 247
    },
    "id": "DErswLWP90ST",
    "outputId": "fa4e9f9b-a6b0-4d10-dc9d-d0752dd92185"
   },
   "outputs": [],
   "source": [
    "tree.plot_tree(modelo_final)\n",
    "plt.show()"
   ]
  },
  {
   "cell_type": "code",
   "execution_count": null,
   "metadata": {
    "colab": {
     "base_uri": "https://localhost:8080/"
    },
    "id": "s07k9KWn_NHw",
    "outputId": "d4cf437b-687d-4e0d-a018-3c6c2405c8ca"
   },
   "outputs": [],
   "source": [
    "from sklearn.metrics import  classification_report, confusion_matrix, accuracy_score\n",
    "\n",
    "predicciones = modelo_final.predict(X = X_test)\n",
    "print(classification_report(y_test,predicciones))\n",
    "\n",
    "print(\"Matriz de confusión\")\n",
    "confusion_matrix(\n",
    "    y_true    = y_test,\n",
    "    y_pred    = predicciones\n",
    ")"
   ]
  }
 ],
 "metadata": {
  "colab": {
   "collapsed_sections": [],
   "name": "Lab_2.ipynb",
   "provenance": []
  },
  "kernelspec": {
   "display_name": "Python 3 (ipykernel)",
   "language": "python",
   "name": "python3"
  },
  "language_info": {
   "codemirror_mode": {
    "name": "ipython",
    "version": 3
   },
   "file_extension": ".py",
   "mimetype": "text/x-python",
   "name": "python",
   "nbconvert_exporter": "python",
   "pygments_lexer": "ipython3",
   "version": "3.8.12"
  }
 },
 "nbformat": 4,
 "nbformat_minor": 4
}
